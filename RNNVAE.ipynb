{
 "cells": [
  {
   "cell_type": "code",
   "execution_count": 1,
   "metadata": {},
   "outputs": [],
   "source": [
    "import torch\n",
    "import torch.nn as nn\n",
    "import torch.optim as optim\n",
    "import os\n",
    "os.environ['CUDA_VISIBLE_DEVICES']='1'"
   ]
  },
  {
   "cell_type": "code",
   "execution_count": 2,
   "metadata": {},
   "outputs": [
    {
     "name": "stdout",
     "output_type": "stream",
     "text": [
      "{'x', '[', '}', 'X', 'Q', 'S', '?', 'b', ']', '<', 'E', 'o', 'B', '-', ';', '>', '{'}\n"
     ]
    }
   ],
   "source": [
    "mario_path_files = !ls TheVGLC/Super\\ Mario\\ Bros/Paths/*txt\n",
    "levels = []\n",
    "vocab = set([';','{','}'])\n",
    "for file in mario_path_files:\n",
    "    with open(file) as input_file:\n",
    "        level = []\n",
    "        for row in input_file:\n",
    "            level.append(list(row.rstrip()))\n",
    "            vocab |= set(row.rstrip())\n",
    "        levels.append(level)\n",
    "print(vocab)\n",
    "\n",
    "v2i = {v:i for i,v in enumerate(sorted(vocab))}\n",
    "i2v = {i:v for v,i in v2i.items()}\n",
    "\n",
    "t_levels = []\n",
    "for level in levels:\n",
    "    t_level = []\n",
    "    for row in range(len(level[0])):\n",
    "        column = []\n",
    "        for col in range(len(level)):\n",
    "            column.append(level[col][row])\n",
    "        t_level.append(column)\n",
    "    t_levels.append(t_level)\n",
    "            \n",
    "chunks = []\n",
    "chunk_size = 32\n",
    "for level in t_levels:\n",
    "    for x in range(len(level)-chunk_size):\n",
    "        chunk = level[x:x+chunk_size]\n",
    "        chunk = [''.join(c) for c in chunk]\n",
    "        chunks.append(';'.join(chunk)+'}')\n",
    "\n",
    "\n",
    "        "
   ]
  },
  {
   "cell_type": "code",
   "execution_count": 239,
   "metadata": {},
   "outputs": [],
   "source": [
    "class RNNVAE(nn.Module):\n",
    "    def __init__(self,e_layers,d_layers,\n",
    "                 dropout,vocab_size,\n",
    "                 enc_size,\n",
    "                 dec_size,latent_size,\n",
    "                 rnn_type):\n",
    "        super(RNNVAE, self).__init__()\n",
    "        self.latent_dim = latent_size\n",
    "        self.enc_size = enc_size\n",
    "        self.dec_size = dec_size\n",
    "        self.embed = nn.Embedding(vocab_size,enc_size)\n",
    "        self.encoder = rnn_type(enc_size,hidden_size=enc_size,\n",
    "                              num_layers=e_layers,batch_first=True,\n",
    "                                dropout=dropout, bidirectional=True)\n",
    "        \n",
    "        self.to_mu = nn.Linear(enc_size*2,latent_size)\n",
    "        self.to_logvar = nn.Linear(enc_size*2,latent_size)\n",
    "        self.latent_to_h = nn.Linear(latent_size,dec_size*d_layers)\n",
    "        self.latent_to_c = nn.Linear(latent_size,dec_size*d_layers)\n",
    "        \n",
    "        self.decoder = rnn_type(enc_size,hidden_size=dec_size,\n",
    "                              num_layers=d_layers,dropout=dropout,\n",
    "                                batch_first=True,)\n",
    "        self.hidden_to_vocab = nn.Linear(dec_size,vocab_size)\n",
    "        self.CE = nn.CrossEntropyLoss()\n",
    "    def forward(self,input_sequence,start_tok):\n",
    "        \n",
    "        batch_size, seq_length = input_sequence.size(0), input_sequence.size(1)\n",
    "        device = input_sequence.device\n",
    "        embedded = self.embed(input_sequence)\n",
    "        out , _= self.encoder(embedded)\n",
    "        \n",
    "        f_enc = out[:,0,:out.size()[-1]//2]\n",
    "        r_enc = out[:,-1,out.size()[-1]//2:]\n",
    "        enc = torch.cat((f_enc,r_enc),dim=-1)\n",
    "        mu,logvar = self.to_mu(enc), self.to_logvar(enc)\n",
    "        \n",
    "        std = torch.exp(0.5 * logvar)\n",
    "        z = torch.randn([batch_size,self.latent_dim],device=device)\n",
    "        z = z * std + mu        \n",
    "        dec_h = self.latent_to_h(z)\n",
    "        dec_h = dec_h.view(batch_size,-1, self.dec_size).permute(1,0,2).contiguous()\n",
    "        dec_c = self.latent_to_c(z)\n",
    "        dec_c = dec_c.view(batch_size,-1, self.dec_size).permute(1,0,2).contiguous()\n",
    "\n",
    "        dec_inp = torch.cat((\n",
    "             self.embed(torch.ones(batch_size,1,dtype=torch.long,device=device)*start_tok),\n",
    "            embedded[:,:-1,:]),dim=1)        \n",
    "        \n",
    "        dec_out, _ =self.decoder(dec_inp,(dec_h,dec_c))\n",
    "        dec_logit = self.hidden_to_vocab(dec_out)\n",
    "        \n",
    "        loss = self.CE(dec_logit.view(batch_size*seq_length,-1),input_sequence.view(-1))\n",
    "        KL_div =  -0.5 * torch.sum(1 + logvar - mu.pow(2) - logvar.exp())\n",
    "        return loss, KL_div, dec_logit\n",
    "    \n",
    "# class RNNVAE(nn.Module):\n",
    "#     def __init__(self,e_layers,d_layers,\n",
    "#                  dropout,vocab_size,\n",
    "#                  enc_size,\n",
    "#                  dec_size,latent_size,\n",
    "#                  rnn_type):\n",
    "#         super(RNNVAE, self).__init__()\n",
    "#         self.latent_dim = latent_size\n",
    "#         self.enc_size = enc_size\n",
    "#         self.dec_size = dec_size\n",
    "#         self.embed = nn.Embedding(vocab_size,enc_size)\n",
    "#         self.dec_embed = nn.Embedding(vocab_size,enc_size)\n",
    "#         self.encoder = rnn_type(enc_size,hidden_size=enc_size,\n",
    "#                               num_layers=e_layers,batch_first=True,\n",
    "#                                 dropout=dropout, bidirectional=True)\n",
    "        \n",
    "#         self.to_mu = nn.Linear(enc_size*2,latent_size)\n",
    "#         self.to_logvar = nn.Linear(enc_size*2,latent_size)\n",
    "#         self.latent_to_d = nn.Linear(latent_size,enc_size)\n",
    "        \n",
    "#         self.decoder = rnn_type(enc_size,hidden_size=dec_size,\n",
    "#                               num_layers=d_layers,dropout=dropout,\n",
    "#                                 batch_first=True,)\n",
    "#         self.hidden_to_vocab = nn.Linear(dec_size,vocab_size)\n",
    "#         self.CE = nn.CrossEntropyLoss()\n",
    "#     def forward(self,input_sequence,start_tok):\n",
    "        \n",
    "#         batch_size, seq_length = input_sequence.size(0), input_sequence.size(1)\n",
    "#         device = input_sequence.device\n",
    "#         embedded = self.embed(input_sequence)\n",
    "#         out , _= self.encoder(embedded)\n",
    "        \n",
    "#         f_enc = out[:,0,:out.size()[-1]//2]\n",
    "#         r_enc = out[:,-1,out.size()[-1]//2:]\n",
    "#         enc = torch.cat((f_enc,r_enc),dim=-1)\n",
    "#         mu,logvar = self.to_mu(enc), self.to_logvar(enc)\n",
    "        \n",
    "#         std = torch.exp(0.5 * logvar)\n",
    "#         z = torch.randn([batch_size,self.latent_dim],device=device)\n",
    "#         z = z * std + mu        \n",
    "#         dec_h = self.latent_to_d(z)\n",
    "#         dec_h = dec_h.unsqueeze(-1).expand((batch_size,self.enc_size,seq_length)).permute(0,2,1)\n",
    "        \n",
    "#         dec_embedded = self.dec_embed(input_sequence)\n",
    "#         dec_inp = torch.cat((\n",
    "#             self.dec_embed (torch.ones(batch_size,1,dtype=torch.long,device=device)*start_tok),\n",
    "#             dec_embedded[:,:-1,:]),dim=1) + dec_h \n",
    "        \n",
    "#         dec_out, _ =self.decoder(dec_inp)\n",
    "#         dec_logit = torch.tanh(self.hidden_to_vocab(dec_out))\n",
    "        \n",
    "#         loss = self.CE(dec_logit.view(batch_size*seq_length,-1),input_sequence.view(-1))\n",
    "#         KL_div =  -0.5 * torch.sum(1 + logvar - mu.pow(2) - logvar.exp())\n",
    "#         return loss, KL_div, dec_logit\n",
    "    \n",
    "#a = torch.tensor([[1,2],[2,3],[3,4]])\n",
    "#b = torch.zeros(3,7,2)\n",
    "#print(a,b)\n",
    "#print(a.unsqueeze(-1).expand((3,2,7)).permute(0,-1,1))\n",
    "\n",
    "#BEST SO FAR: rnn_vae = RNNVAE(2,1,0.3,len(vocab),512,128,128,nn.LSTM) \n",
    "#BEST SO FAR: rnn_vae = RNNVAE(2,1,0.3,len(vocab),512,128,64,nn.LSTM) \n",
    "rnn_vae = RNNVAE(4,2,0.4,len(vocab),512,128,128,nn.LSTM)   \n",
    "optimizer = optim.Adam(rnn_vae.parameters(),lr=1e-3)"
   ]
  },
  {
   "cell_type": "code",
   "execution_count": 263,
   "metadata": {
    "scrolled": true
   },
   "outputs": [
    {
     "data": {
      "application/vnd.jupyter.widget-view+json": {
       "model_id": "6b8c0d0629eb4f0bbe1af3b297dc1580",
       "version_major": 2,
       "version_minor": 0
      },
      "text/plain": [
       "HBox(children=(IntProgress(value=0), HTML(value='')))"
      ]
     },
     "metadata": {},
     "output_type": "display_data"
    },
    {
     "data": {
      "application/vnd.jupyter.widget-view+json": {
       "model_id": "2ee310507e764995bdded102c6cc142e",
       "version_major": 2,
       "version_minor": 0
      },
      "text/plain": [
       "HBox(children=(IntProgress(value=0, max=77), HTML(value='')))"
      ]
     },
     "metadata": {},
     "output_type": "display_data"
    },
    {
     "name": "stdout",
     "output_type": "stream",
     "text": [
      "0 0.02192357589956373 0.02192357589956373 0.04550126567482948\n",
      "0 0.0223123092437163 0.0223123092437163 0.20175848994404078\n",
      "0 0.02299940591910854 0.02299940591910854 0.7382310228422284\n",
      "0 0.023402490187436342 0.023402490187436342 1.8258758317679167\n",
      "\n"
     ]
    },
    {
     "data": {
      "application/vnd.jupyter.widget-view+json": {
       "model_id": "20c803d6c8bb4904baffcccf89e4c8f1",
       "version_major": 2,
       "version_minor": 0
      },
      "text/plain": [
       "HBox(children=(IntProgress(value=0, max=77), HTML(value='')))"
      ]
     },
     "metadata": {},
     "output_type": "display_data"
    },
    {
     "name": "stdout",
     "output_type": "stream",
     "text": [
      "1 0.02263636770658195 0.02263636770658195 3.852382503449917\n",
      "1 0.021795182838104665 0.021795182838104665 6.715537503361702\n",
      "1 0.021813949046190828 0.021813949046190828 9.467474892735481\n",
      "1 0.021825937263201922 0.021825937263201922 11.78766542673111\n",
      "1 0.02177251852117479 0.02177251852117479 13.912623316049576\n",
      "\n"
     ]
    },
    {
     "data": {
      "application/vnd.jupyter.widget-view+json": {
       "model_id": "6c8cead3dfa64ad8b036c330174e9861",
       "version_major": 2,
       "version_minor": 0
      },
      "text/plain": [
       "HBox(children=(IntProgress(value=0, max=77), HTML(value='')))"
      ]
     },
     "metadata": {},
     "output_type": "display_data"
    },
    {
     "name": "stdout",
     "output_type": "stream",
     "text": [
      "2 0.021566760377027094 0.021566760377027094 15.52105975151062\n",
      "2 0.021409267093986273 0.021409267093986273 17.222414821386337\n",
      "2 0.021543522889260203 0.021543522889260203 19.241355180740356\n",
      "2 0.021481378586031497 0.021481378586031497 20.868059873580933\n",
      "2 0.02139008231461048 0.02139008231461048 22.39669442176819\n",
      "\n"
     ]
    },
    {
     "data": {
      "application/vnd.jupyter.widget-view+json": {
       "model_id": "6f4623ea3f544c82a7bf6f0dece716ea",
       "version_major": 2,
       "version_minor": 0
      },
      "text/plain": [
       "HBox(children=(IntProgress(value=0, max=77), HTML(value='')))"
      ]
     },
     "metadata": {},
     "output_type": "display_data"
    },
    {
     "name": "stdout",
     "output_type": "stream",
     "text": [
      "3 0.021451984415762126 0.021451984415762126 23.476331919431686\n",
      "3 0.02118468820117414 0.02118468820117414 25.080781251192093\n",
      "3 0.021117884200066328 0.021117884200066328 27.269959628582\n",
      "3 0.02160801540594548 0.02160801540594548 29.03676664829254\n",
      "3 0.022428255062550306 0.022428255062550306 30.81424778699875\n",
      "\n"
     ]
    },
    {
     "data": {
      "application/vnd.jupyter.widget-view+json": {
       "model_id": "ca39e6360d3d4796a11c4bfaa8d17d90",
       "version_major": 2,
       "version_minor": 0
      },
      "text/plain": [
       "HBox(children=(IntProgress(value=0, max=77), HTML(value='')))"
      ]
     },
     "metadata": {},
     "output_type": "display_data"
    },
    {
     "name": "stdout",
     "output_type": "stream",
     "text": [
      "4 0.02228120295330882 0.02228120295330882 32.716631561517715\n",
      "4 0.021553426864556968 0.021553426864556968 36.798328667879105\n",
      "4 0.02170836104778573 0.02170836104778573 41.768447279930115\n",
      "4 0.02215149934636429 0.02215149934636429 45.74900233745575\n",
      "4 0.021993761823978275 0.021993761823978275 50.0510938167572\n",
      "\n"
     ]
    },
    {
     "data": {
      "application/vnd.jupyter.widget-view+json": {
       "model_id": "9c1d208c9e2f4935903b4c10f3bf8ee6",
       "version_major": 2,
       "version_minor": 0
      },
      "text/plain": [
       "HBox(children=(IntProgress(value=0, max=77), HTML(value='')))"
      ]
     },
     "metadata": {},
     "output_type": "display_data"
    },
    {
     "name": "stdout",
     "output_type": "stream",
     "text": [
      "5 0.021451291802804917 0.021451291802804917 53.294377863407135\n",
      "5 0.0213759602047503 0.0213759602047503 57.217736542224884\n",
      "5 0.021470409468747675 0.021470409468747675 61.92756628990173\n",
      "5 0.02152546588331461 0.02152546588331461 65.22524094581604\n",
      "\n"
     ]
    },
    {
     "data": {
      "application/vnd.jupyter.widget-view+json": {
       "model_id": "e4d244bf823b4e47b61f2d1b41699647",
       "version_major": 2,
       "version_minor": 0
      },
      "text/plain": [
       "HBox(children=(IntProgress(value=0, max=77), HTML(value='')))"
      ]
     },
     "metadata": {},
     "output_type": "display_data"
    },
    {
     "name": "stdout",
     "output_type": "stream",
     "text": [
      "6 0.021840295987203717 0.021840295987203717 66.56620967388153\n",
      "6 0.02172932372195646 0.02172932372195646 69.32927405834198\n",
      "6 0.021683610568288714 0.021683610568288714 74.1604859828949\n",
      "6 0.02196255134185776 0.02196255134185776 78.64677405357361\n",
      "6 0.02174871030729264 0.02174871030729264 84.7464702129364\n",
      "\n"
     ]
    },
    {
     "data": {
      "application/vnd.jupyter.widget-view+json": {
       "model_id": "f0af769daad0421d82da164254a33260",
       "version_major": 2,
       "version_minor": 0
      },
      "text/plain": [
       "HBox(children=(IntProgress(value=0, max=77), HTML(value='')))"
      ]
     },
     "metadata": {},
     "output_type": "display_data"
    },
    {
     "name": "stdout",
     "output_type": "stream",
     "text": [
      "7 0.021587705297861248 0.021587705297861248 90.64248013496399\n",
      "7 0.021998046315275133 0.021998046315275133 99.87868976593018\n",
      "7 0.02209606021642685 0.02209606021642685 114.13248133659363\n",
      "7 0.02195758355082944 0.02195758355082944 129.32200384140015\n",
      "7 0.022195860918145627 0.022195860918145627 145.21955633163452\n",
      "\n"
     ]
    },
    {
     "data": {
      "application/vnd.jupyter.widget-view+json": {
       "model_id": "62366b2dd9774fc7a3825057006945ba",
       "version_major": 2,
       "version_minor": 0
      },
      "text/plain": [
       "HBox(children=(IntProgress(value=0, max=77), HTML(value='')))"
      ]
     },
     "metadata": {},
     "output_type": "display_data"
    },
    {
     "name": "stdout",
     "output_type": "stream",
     "text": [
      "8 0.022011724824551493 0.022011724824551493 159.26304137706757\n",
      "8 0.02153330628061667 0.02153330628061667 177.69607150554657\n",
      "8 0.021478839160408825 0.021478839160408825 199.42410135269165\n",
      "8 0.021575326449237764 0.021575326449237764 217.92657041549683\n",
      "8 0.021630544681102037 0.021630544681102037 235.3865466117859\n",
      "\n"
     ]
    },
    {
     "data": {
      "application/vnd.jupyter.widget-view+json": {
       "model_id": "792e9f25c1e540efb2ad8610e8437f78",
       "version_major": 2,
       "version_minor": 0
      },
      "text/plain": [
       "HBox(children=(IntProgress(value=0, max=77), HTML(value='')))"
      ]
     },
     "metadata": {},
     "output_type": "display_data"
    },
    {
     "name": "stdout",
     "output_type": "stream",
     "text": [
      "9 0.02163152425782755 0.02163152425782755 245.84321355819702\n",
      "9 0.02158428553957492 0.02158428553957492 265.4132356643677\n",
      "9 0.021734060952439904 0.021734060952439904 297.94344329833984\n",
      "9 0.021701991034206003 0.021701991034206003 329.90030670166016\n",
      "9 0.021739124786108732 0.021739124786108732 368.937686920166\n",
      "\n"
     ]
    },
    {
     "data": {
      "application/vnd.jupyter.widget-view+json": {
       "model_id": "dfba72334bb244e5a0e35888b072a91e",
       "version_major": 2,
       "version_minor": 0
      },
      "text/plain": [
       "HBox(children=(IntProgress(value=0, max=77), HTML(value='')))"
      ]
     },
     "metadata": {},
     "output_type": "display_data"
    },
    {
     "name": "stdout",
     "output_type": "stream",
     "text": [
      "10 0.021846070187166333 0.021846070187166333 407.9860329627991\n",
      "10 0.0217764075496234 0.0217764075496234 466.21927213668823\n",
      "10 0.02169768838211894 0.02169768838211894 548.1904277801514\n",
      "10 0.021478455630131066 0.021478455630131066 627.9028358459473\n",
      "\n"
     ]
    },
    {
     "data": {
      "application/vnd.jupyter.widget-view+json": {
       "model_id": "4ff7cd399ae14ce48e1888788ba8b8ab",
       "version_major": 2,
       "version_minor": 0
      },
      "text/plain": [
       "HBox(children=(IntProgress(value=0, max=77), HTML(value='')))"
      ]
     },
     "metadata": {},
     "output_type": "display_data"
    },
    {
     "name": "stdout",
     "output_type": "stream",
     "text": [
      "11 0.02136295277159661 0.02136295277159661 690.2058906555176\n",
      "11 0.021210280247032642 0.021210280247032642 761.2796688079834\n",
      "11 0.021212349412962794 0.021212349412962794 841.4502410888672\n",
      "11 0.021302656969055533 0.021302656969055533 909.1989765167236\n",
      "11 0.02131288981763646 0.02131288981763646 983.8928966522217\n",
      "\n"
     ]
    },
    {
     "data": {
      "application/vnd.jupyter.widget-view+json": {
       "model_id": "a12f8c06466947aeaffc28daa2928f95",
       "version_major": 2,
       "version_minor": 0
      },
      "text/plain": [
       "HBox(children=(IntProgress(value=0, max=77), HTML(value='')))"
      ]
     },
     "metadata": {},
     "output_type": "display_data"
    },
    {
     "name": "stdout",
     "output_type": "stream",
     "text": [
      "12 0.02147877326933667 0.02147877326933667 1040.472897529602\n",
      "12 0.021244595118332654 0.021244595118332654 1125.2336721420288\n",
      "12 0.02098213677527383 0.02098213677527383 1234.8119201660156\n",
      "12 0.021391250484157354 0.021391250484157354 1308.0822868347168\n",
      "12 0.021667317196261138 0.021667317196261138 1367.0647277832031\n",
      "\n"
     ]
    },
    {
     "data": {
      "application/vnd.jupyter.widget-view+json": {
       "model_id": "743d80b07055495cb63fc37b04a67872",
       "version_major": 2,
       "version_minor": 0
      },
      "text/plain": [
       "HBox(children=(IntProgress(value=0, max=77), HTML(value='')))"
      ]
     },
     "metadata": {},
     "output_type": "display_data"
    },
    {
     "name": "stdout",
     "output_type": "stream",
     "text": [
      "13 0.021485807723365724 0.021485807723365724 1396.1527843475342\n",
      "13 0.021338678488973528 0.021338678488973528 1457.028371810913\n",
      "13 0.02132346498547122 0.02132346498547122 1555.4890403747559\n",
      "13 0.021120639867149293 0.021120639867149293 1633.4384536743164\n",
      "13 0.02113426267169416 0.02113426267169416 1700.9303894042969\n",
      "\n"
     ]
    },
    {
     "data": {
      "application/vnd.jupyter.widget-view+json": {
       "model_id": "06dafecf2d83442b8e0a8f520c2925a0",
       "version_major": 2,
       "version_minor": 0
      },
      "text/plain": [
       "HBox(children=(IntProgress(value=0, max=77), HTML(value='')))"
      ]
     },
     "metadata": {},
     "output_type": "display_data"
    },
    {
     "name": "stdout",
     "output_type": "stream",
     "text": [
      "14 0.021275741863064468 0.021275741863064468 1713.7839469909668\n",
      "14 0.021272360114380717 0.021272360114380717 1757.648265838623\n",
      "14 0.0214081714511849 0.0214081714511849 1853.2114067077637\n",
      "14 0.021787567355204374 0.021787567355204374 1913.0076332092285\n",
      "14 0.02183910785242915 0.02183910785242915 1983.4219131469727\n",
      "\n"
     ]
    },
    {
     "data": {
      "application/vnd.jupyter.widget-view+json": {
       "model_id": "1876c59ecf184c68a02c1f412920bfae",
       "version_major": 2,
       "version_minor": 0
      },
      "text/plain": [
       "HBox(children=(IntProgress(value=0, max=77), HTML(value='')))"
      ]
     },
     "metadata": {},
     "output_type": "display_data"
    },
    {
     "name": "stdout",
     "output_type": "stream",
     "text": [
      "15 0.02138358261436224 0.02138358261436224 2058.4228553771973\n",
      "15 0.021148817730136216 0.021148817730136216 2195.5472373962402\n",
      "15 0.021153289242647588 0.021153289242647588 2346.353805541992\n",
      "15 0.02130138745997101 0.02130138745997101 2417.4377670288086\n",
      "15 0.021452700602822006 0.021452700602822006 2429.7479362487793\n",
      "\n"
     ]
    },
    {
     "data": {
      "application/vnd.jupyter.widget-view+json": {
       "model_id": "10debdcedfe546f1ac2af69e365718b7",
       "version_major": 2,
       "version_minor": 0
      },
      "text/plain": [
       "HBox(children=(IntProgress(value=0, max=77), HTML(value='')))"
      ]
     },
     "metadata": {},
     "output_type": "display_data"
    },
    {
     "name": "stdout",
     "output_type": "stream",
     "text": [
      "16 0.021297015657182783 0.021297015657182783 2483.881130218506\n",
      "16 0.020970150944776833 0.020970150944776833 2571.5199584960938\n",
      "16 0.021073206386063248 0.021073206386063248 2615.054298400879\n",
      "16 0.02143063716357574 0.02143063716357574 2667.686019897461\n",
      "\n"
     ]
    },
    {
     "data": {
      "application/vnd.jupyter.widget-view+json": {
       "model_id": "46596f0326524bd5bac3b00ea56b4d06",
       "version_major": 2,
       "version_minor": 0
      },
      "text/plain": [
       "HBox(children=(IntProgress(value=0, max=77), HTML(value='')))"
      ]
     },
     "metadata": {},
     "output_type": "display_data"
    },
    {
     "name": "stdout",
     "output_type": "stream",
     "text": [
      "17 0.02146939403610304 0.02146939403610304 2669.544593811035\n",
      "17 0.02161909337155521 0.02161909337155521 2735.445167541504\n",
      "17 0.02189607371110469 0.02189607371110469 2841.9328079223633\n",
      "17 0.021970897214487195 0.021970897214487195 2888.7063064575195\n",
      "17 0.02186004410032183 0.02186004410032183 2968.630989074707\n",
      "\n"
     ]
    },
    {
     "data": {
      "application/vnd.jupyter.widget-view+json": {
       "model_id": "e8d497826fdc4554b1c4f07fecc982df",
       "version_major": 2,
       "version_minor": 0
      },
      "text/plain": [
       "HBox(children=(IntProgress(value=0, max=77), HTML(value='')))"
      ]
     },
     "metadata": {},
     "output_type": "display_data"
    },
    {
     "name": "stdout",
     "output_type": "stream",
     "text": [
      "18 0.021428942622151226 0.021428942622151226 3006.6056213378906\n",
      "18 0.02110572182573378 0.02110572182573378 3095.969024658203\n",
      "18 0.021266551222652197 0.021266551222652197 3238.117561340332\n",
      "18 0.021528452285565436 0.021528452285565436 3323.7382736206055\n",
      "18 0.021624621527735144 0.021624621527735144 3397.0446243286133\n",
      "\n"
     ]
    },
    {
     "data": {
      "application/vnd.jupyter.widget-view+json": {
       "model_id": "33fb9d570ffe4ebe946f0a8e068289b0",
       "version_major": 2,
       "version_minor": 0
      },
      "text/plain": [
       "HBox(children=(IntProgress(value=0, max=77), HTML(value='')))"
      ]
     },
     "metadata": {},
     "output_type": "display_data"
    },
    {
     "name": "stdout",
     "output_type": "stream",
     "text": [
      "19 0.021549125900492072 0.021549125900492072 3384.161838531494\n",
      "19 0.021212664374615997 0.021212664374615997 3438.0632286071777\n",
      "19 0.0209609740995802 0.0209609740995802 3582.241409301758\n",
      "19 0.021157469833269715 0.021157469833269715 3692.0938720703125\n",
      "19 0.021413912414573133 0.021413912414573133 3807.624740600586\n",
      "\n"
     ]
    },
    {
     "data": {
      "application/vnd.jupyter.widget-view+json": {
       "model_id": "e6221c4d52e54487b9ba6c222d9b6d8c",
       "version_major": 2,
       "version_minor": 0
      },
      "text/plain": [
       "HBox(children=(IntProgress(value=0, max=77), HTML(value='')))"
      ]
     },
     "metadata": {},
     "output_type": "display_data"
    },
    {
     "name": "stdout",
     "output_type": "stream",
     "text": [
      "20 0.02123420056886971 0.02123420056886971 3817.7866973876953\n",
      "20 0.020846919098403305 0.020846919098403305 3893.6099700927734\n",
      "20 0.020700506516732275 0.020700506516732275 4053.9933319091797\n",
      "20 0.020960351859685034 0.020960351859685034 4121.210800170898\n",
      "20 0.021416375355329365 0.021416375355329365 4172.844711303711\n",
      "\n"
     ]
    },
    {
     "data": {
      "application/vnd.jupyter.widget-view+json": {
       "model_id": "a94905ff8c4a47a9a77db3e71d464900",
       "version_major": 2,
       "version_minor": 0
      },
      "text/plain": [
       "HBox(children=(IntProgress(value=0, max=77), HTML(value='')))"
      ]
     },
     "metadata": {},
     "output_type": "display_data"
    },
    {
     "name": "stdout",
     "output_type": "stream",
     "text": [
      "21 0.02129770233295858 0.02129770233295858 4189.159893035889\n",
      "21 0.020912792475428432 0.020912792475428432 4305.008327484131\n",
      "21 0.02119495568331331 0.02119495568331331 4431.974273681641\n",
      "21 0.02136620628880337 0.02136620628880337 4424.4072265625\n",
      "\n"
     ]
    },
    {
     "data": {
      "application/vnd.jupyter.widget-view+json": {
       "model_id": "38c604de1d5a4b118b24ca23f3111e09",
       "version_major": 2,
       "version_minor": 0
      },
      "text/plain": [
       "HBox(children=(IntProgress(value=0, max=77), HTML(value='')))"
      ]
     },
     "metadata": {},
     "output_type": "display_data"
    },
    {
     "name": "stdout",
     "output_type": "stream",
     "text": [
      "22 0.021523138042539358 0.021523138042539358 4358.032363891602\n",
      "22 0.022242999693844467 0.022242999693844467 4388.412536621094\n",
      "22 0.02205567801138386 0.02205567801138386 4473.7813720703125\n",
      "22 0.02154183597303927 0.02154183597303927 4450.570892333984\n",
      "22 0.02152303559705615 0.02152303559705615 4496.831268310547\n",
      "\n"
     ]
    },
    {
     "data": {
      "application/vnd.jupyter.widget-view+json": {
       "model_id": "a55ec09d8ebd472f91a892773e0e99b1",
       "version_major": 2,
       "version_minor": 0
      },
      "text/plain": [
       "HBox(children=(IntProgress(value=0, max=77), HTML(value='')))"
      ]
     },
     "metadata": {},
     "output_type": "display_data"
    },
    {
     "name": "stdout",
     "output_type": "stream",
     "text": [
      "23 0.02148006873903796 0.02148006873903796 4530.096755981445\n",
      "23 0.021646625420544297 0.021646625420544297 4649.417236328125\n",
      "23 0.021458945237100124 0.021458945237100124 4822.901412963867\n",
      "23 0.021216768363956362 0.021216768363956362 4826.507263183594\n",
      "23 0.021288114599883556 0.021288114599883556 4880.527984619141\n",
      "\n"
     ]
    },
    {
     "data": {
      "application/vnd.jupyter.widget-view+json": {
       "model_id": "17e33443a613486bb61115e1e0b969b2",
       "version_major": 2,
       "version_minor": 0
      },
      "text/plain": [
       "HBox(children=(IntProgress(value=0, max=77), HTML(value='')))"
      ]
     },
     "metadata": {},
     "output_type": "display_data"
    },
    {
     "name": "stdout",
     "output_type": "stream",
     "text": [
      "24 0.021357512683607638 0.021357512683607638 4853.616703033447\n",
      "24 0.021393405040726066 0.021393405040726066 4869.554615020752\n",
      "24 0.02105110394768417 0.02105110394768417 5035.246978759766\n",
      "24 0.020830650290008634 0.020830650290008634 5102.68489074707\n",
      "24 0.021052512747701257 0.021052512747701257 5140.383453369141\n",
      "\n"
     ]
    },
    {
     "data": {
      "application/vnd.jupyter.widget-view+json": {
       "model_id": "f30e1710026541aeadadd6854ff47dfa",
       "version_major": 2,
       "version_minor": 0
      },
      "text/plain": [
       "HBox(children=(IntProgress(value=0, max=77), HTML(value='')))"
      ]
     },
     "metadata": {},
     "output_type": "display_data"
    },
    {
     "name": "stdout",
     "output_type": "stream",
     "text": [
      "25 0.020709483418613672 0.020709483418613672 5040.331115722656\n",
      "25 0.02046231896383688 0.02046231896383688 4975.56916809082\n",
      "25 0.021043357905000448 0.021043357905000448 5117.601745605469\n",
      "25 0.02132519200677052 0.02132519200677052 5260.702529907227\n",
      "25 0.021453378372825682 0.021453378372825682 5259.819976806641\n",
      "\n"
     ]
    },
    {
     "data": {
      "application/vnd.jupyter.widget-view+json": {
       "model_id": "b7eda05224f34d7ca16b9d7bf687f671",
       "version_major": 2,
       "version_minor": 0
      },
      "text/plain": [
       "HBox(children=(IntProgress(value=0, max=77), HTML(value='')))"
      ]
     },
     "metadata": {},
     "output_type": "display_data"
    },
    {
     "name": "stdout",
     "output_type": "stream",
     "text": [
      "26 0.021121012046933174 0.021121012046933174 5137.457630157471\n",
      "26 0.020635185996070504 0.020635185996070504 5267.640216827393\n",
      "26 0.0209406113717705 0.0209406113717705 5471.609954833984\n",
      "26 0.021086110966280103 0.021086110966280103 5435.038925170898\n",
      "\n"
     ]
    },
    {
     "data": {
      "application/vnd.jupyter.widget-view+json": {
       "model_id": "565c9ea837a448319f37f24df9213954",
       "version_major": 2,
       "version_minor": 0
      },
      "text/plain": [
       "HBox(children=(IntProgress(value=0, max=77), HTML(value='')))"
      ]
     },
     "metadata": {},
     "output_type": "display_data"
    },
    {
     "name": "stdout",
     "output_type": "stream",
     "text": [
      "27 0.020947355718817562 0.020947355718817562 5304.909934997559\n",
      "27 0.020548036554828286 0.020548036554828286 5358.227836608887\n",
      "27 0.0204142919392325 0.0204142919392325 5498.9930419921875\n",
      "27 0.021330053743440658 0.021330053743440658 5616.649826049805\n",
      "27 0.02148391935043037 0.02148391935043037 5706.94873046875\n",
      "\n"
     ]
    },
    {
     "data": {
      "application/vnd.jupyter.widget-view+json": {
       "model_id": "928550b6f6214ad6a1fd77b8668aa277",
       "version_major": 2,
       "version_minor": 0
      },
      "text/plain": [
       "HBox(children=(IntProgress(value=0, max=77), HTML(value='')))"
      ]
     },
     "metadata": {},
     "output_type": "display_data"
    },
    {
     "name": "stdout",
     "output_type": "stream",
     "text": [
      "28 0.021882607717998326 0.021882607717998326 5611.470726013184\n",
      "28 0.022551166592165828 0.022551166592165828 5619.194984436035\n",
      "28 0.021803302748594433 0.021803302748594433 5721.561950683594\n",
      "28 0.021377898927312344 0.021377898927312344 5848.39860534668\n",
      "28 0.02173322148155421 0.02173322148155421 5909.753555297852\n",
      "\n"
     ]
    },
    {
     "data": {
      "application/vnd.jupyter.widget-view+json": {
       "model_id": "76a7f77e1d95484ba72aa17c7d2e985a",
       "version_major": 2,
       "version_minor": 0
      },
      "text/plain": [
       "HBox(children=(IntProgress(value=0, max=77), HTML(value='')))"
      ]
     },
     "metadata": {},
     "output_type": "display_data"
    },
    {
     "name": "stdout",
     "output_type": "stream",
     "text": [
      "29 0.021547958080191165 0.021547958080191165 5764.25528717041\n",
      "29 0.020703577378299087 0.020703577378299087 5845.7370529174805\n",
      "29 0.02053512795828283 0.02053512795828283 6072.487945556641\n",
      "29 0.020545306208077818 0.020545306208077818 6221.528274536133\n",
      "29 0.02039929904276505 0.02039929904276505 6337.608795166016\n",
      "\n"
     ]
    },
    {
     "data": {
      "application/vnd.jupyter.widget-view+json": {
       "model_id": "5e1da7d16cff4e2e90f2044363d2bf82",
       "version_major": 2,
       "version_minor": 0
      },
      "text/plain": [
       "HBox(children=(IntProgress(value=0, max=77), HTML(value='')))"
      ]
     },
     "metadata": {},
     "output_type": "display_data"
    },
    {
     "name": "stdout",
     "output_type": "stream",
     "text": [
      "30 0.02038300974527374 0.02038300974527374 6287.139083862305\n",
      "30 0.020477560232393444 0.020477560232393444 6137.391891479492\n",
      "30 0.02069327811477706 0.02069327811477706 6129.807510375977\n",
      "30 0.02079845074331388 0.02079845074331388 6043.791000366211\n",
      "30 0.02135709597496316 0.02135709597496316 6133.456039428711\n",
      "\n"
     ]
    },
    {
     "data": {
      "application/vnd.jupyter.widget-view+json": {
       "model_id": "9605d82d2b324bc7a8d3fc196377d14e",
       "version_major": 2,
       "version_minor": 0
      },
      "text/plain": [
       "HBox(children=(IntProgress(value=0, max=77), HTML(value='')))"
      ]
     },
     "metadata": {},
     "output_type": "display_data"
    },
    {
     "name": "stdout",
     "output_type": "stream",
     "text": [
      "31 0.021769375016447157 0.021769375016447157 5795.967315673828\n",
      "31 0.02143886429257691 0.02143886429257691 5428.788238525391\n",
      "31 0.020851797657087445 0.020851797657087445 5647.832992553711\n",
      "31 0.02032243990106508 0.02032243990106508 6075.009201049805\n",
      "31 0.02028365375008434 0.02028365375008434 6555.661392211914\n",
      "\n"
     ]
    },
    {
     "data": {
      "application/vnd.jupyter.widget-view+json": {
       "model_id": "f26528a5e4644328831fc207e73a887d",
       "version_major": 2,
       "version_minor": 0
      },
      "text/plain": [
       "HBox(children=(IntProgress(value=0, max=77), HTML(value='')))"
      ]
     },
     "metadata": {},
     "output_type": "display_data"
    },
    {
     "name": "stdout",
     "output_type": "stream",
     "text": [
      "32 0.02025516564026475 0.02025516564026475 6734.840972900391\n",
      "32 0.019960808975156397 0.019960808975156397 6939.620788574219\n",
      "32 0.01985437871189788 0.01985437871189788 7269.393218994141\n",
      "32 0.01999988273018971 0.01999988273018971 7449.46760559082\n",
      "\n"
     ]
    },
    {
     "data": {
      "application/vnd.jupyter.widget-view+json": {
       "model_id": "039ac81120cf467a9be93399c9c5acf0",
       "version_major": 2,
       "version_minor": 0
      },
      "text/plain": [
       "HBox(children=(IntProgress(value=0, max=77), HTML(value='')))"
      ]
     },
     "metadata": {},
     "output_type": "display_data"
    },
    {
     "name": "stdout",
     "output_type": "stream",
     "text": [
      "33 0.02007235144264996 0.02007235144264996 7369.015533447266\n",
      "33 0.01980735722463578 0.01980735722463578 7344.045486450195\n",
      "33 0.019840965571347624 0.019840965571347624 7257.119537353516\n",
      "33 0.02037258312338963 0.02037258312338963 7053.337783813477\n",
      "33 0.020325642137322575 0.020325642137322575 6976.866409301758\n",
      "\n"
     ]
    },
    {
     "data": {
      "application/vnd.jupyter.widget-view+json": {
       "model_id": "368b0a377f0b4f55ac35e4c8caf93287",
       "version_major": 2,
       "version_minor": 0
      },
      "text/plain": [
       "HBox(children=(IntProgress(value=0, max=77), HTML(value='')))"
      ]
     },
     "metadata": {},
     "output_type": "display_data"
    },
    {
     "name": "stdout",
     "output_type": "stream",
     "text": [
      "34 0.020213524636346847 0.020213524636346847 7213.925933837891\n",
      "34 0.019901977735571563 0.019901977735571563 7408.967788696289\n",
      "34 0.01964545767987147 0.01964545767987147 7586.99641418457\n",
      "34 0.019906913104932755 0.019906913104932755 7563.541412353516\n",
      "34 0.01983114454196766 0.01983114454196766 7495.442947387695\n",
      "\n"
     ]
    },
    {
     "data": {
      "application/vnd.jupyter.widget-view+json": {
       "model_id": "8ea3aa493260403fa9c0a9ad4654b5f9",
       "version_major": 2,
       "version_minor": 0
      },
      "text/plain": [
       "HBox(children=(IntProgress(value=0, max=77), HTML(value='')))"
      ]
     },
     "metadata": {},
     "output_type": "display_data"
    },
    {
     "name": "stdout",
     "output_type": "stream",
     "text": [
      "35 0.01963553501991555 0.01963553501991555 7263.272727966309\n",
      "35 0.019638470490463078 0.019638470490463078 6876.860008239746\n",
      "35 0.019957258307840675 0.019957258307840675 6954.322128295898\n",
      "35 0.02002089936286211 0.02002089936286211 7073.086181640625\n",
      "35 0.01975277956807986 0.01975277956807986 7298.169448852539\n",
      "\n"
     ]
    },
    {
     "data": {
      "application/vnd.jupyter.widget-view+json": {
       "model_id": "559d3ef4df9646499cfd414d8d25bedb",
       "version_major": 2,
       "version_minor": 0
      },
      "text/plain": [
       "HBox(children=(IntProgress(value=0, max=77), HTML(value='')))"
      ]
     },
     "metadata": {},
     "output_type": "display_data"
    },
    {
     "name": "stdout",
     "output_type": "stream",
     "text": [
      "36 0.019291400560177863 0.019291400560177863 7789.0991287231445\n",
      "36 0.019231178739573807 0.019231178739573807 7909.003776550293\n",
      "36 0.019311798445414752 0.019311798445414752 7896.301788330078\n",
      "36 0.019890372175723314 0.019890372175723314 8059.908386230469\n",
      "36 0.020405662653502077 0.020405662653502077 7874.752731323242\n",
      "\n"
     ]
    },
    {
     "data": {
      "application/vnd.jupyter.widget-view+json": {
       "model_id": "6ab574356c0b42e0abb40d2546a40eb0",
       "version_major": 2,
       "version_minor": 0
      },
      "text/plain": [
       "HBox(children=(IntProgress(value=0, max=77), HTML(value='')))"
      ]
     },
     "metadata": {},
     "output_type": "display_data"
    },
    {
     "name": "stdout",
     "output_type": "stream",
     "text": [
      "37 0.019758952141273767 0.019758952141273767 7476.330169677734\n",
      "37 0.019488805963192135 0.019488805963192135 7556.563735961914\n",
      "37 0.01909704611171037 0.01909704611171037 7832.540863037109\n",
      "37 0.018466829846147448 0.018466829846147448 7907.740188598633\n",
      "\n"
     ]
    },
    {
     "data": {
      "application/vnd.jupyter.widget-view+json": {
       "model_id": "5ab21b9cbb3f4748a0dbe550b3988fcc",
       "version_major": 2,
       "version_minor": 0
      },
      "text/plain": [
       "HBox(children=(IntProgress(value=0, max=77), HTML(value='')))"
      ]
     },
     "metadata": {},
     "output_type": "display_data"
    },
    {
     "name": "stdout",
     "output_type": "stream",
     "text": [
      "38 0.018187098728958517 0.018187098728958517 8042.581069946289\n",
      "38 0.017992288630921394 0.017992288630921394 8357.714172363281\n",
      "38 0.018046562327072024 0.018046562327072024 8515.846649169922\n",
      "38 0.01822929101763293 0.01822929101763293 8383.861328125\n",
      "38 0.018113032157998532 0.018113032157998532 8328.045608520508\n",
      "\n"
     ]
    },
    {
     "data": {
      "application/vnd.jupyter.widget-view+json": {
       "model_id": "337436c03d0e4a8e9706ecc5db2c5bee",
       "version_major": 2,
       "version_minor": 0
      },
      "text/plain": [
       "HBox(children=(IntProgress(value=0, max=77), HTML(value='')))"
      ]
     },
     "metadata": {},
     "output_type": "display_data"
    },
    {
     "name": "stdout",
     "output_type": "stream",
     "text": [
      "39 0.01802396003040485 0.01802396003040485 8340.466094970703\n",
      "39 0.018967974203405902 0.018967974203405902 8477.285385131836\n",
      "39 0.019334844255354255 0.019334844255354255 8501.303115844727\n",
      "39 0.018458522448781878 0.018458522448781878 8331.312057495117\n",
      "39 0.01771965919760987 0.01771965919760987 8349.287475585938\n",
      "\n"
     ]
    },
    {
     "data": {
      "application/vnd.jupyter.widget-view+json": {
       "model_id": "72b34b772ef7403db0a9300bd8e5ef90",
       "version_major": 2,
       "version_minor": 0
      },
      "text/plain": [
       "HBox(children=(IntProgress(value=0, max=77), HTML(value='')))"
      ]
     },
     "metadata": {},
     "output_type": "display_data"
    },
    {
     "name": "stdout",
     "output_type": "stream",
     "text": [
      "40 0.017333980242256075 0.017333980242256075 8482.14518737793\n",
      "40 0.017083545128116384 0.017083545128116384 8620.015365600586\n",
      "40 0.01684403352555819 0.01684403352555819 8804.86001586914\n",
      "40 0.01670974775333889 0.01670974775333889 8638.562423706055\n",
      "40 0.016650963021675125 0.016650963021675125 8387.645706176758\n",
      "\n"
     ]
    },
    {
     "data": {
      "application/vnd.jupyter.widget-view+json": {
       "model_id": "a64d960464994800acc092759fe521dd",
       "version_major": 2,
       "version_minor": 0
      },
      "text/plain": [
       "HBox(children=(IntProgress(value=0, max=77), HTML(value='')))"
      ]
     },
     "metadata": {},
     "output_type": "display_data"
    },
    {
     "name": "stdout",
     "output_type": "stream",
     "text": [
      "41 0.016490045440150425 0.016490045440150425 8433.115859985352\n",
      "41 0.016255593713140115 0.016255593713140115 8720.832962036133\n",
      "41 0.016263333178358153 0.016263333178358153 8968.130737304688\n",
      "41 0.01626967400079593 0.01626967400079593 8987.047546386719\n",
      "41 0.016216026211623102 0.016216026211623102 9092.947540283203\n",
      "\n"
     ]
    },
    {
     "data": {
      "application/vnd.jupyter.widget-view+json": {
       "model_id": "37ffbabfa738486b821b8341612832e4",
       "version_major": 2,
       "version_minor": 0
      },
      "text/plain": [
       "HBox(children=(IntProgress(value=0, max=77), HTML(value='')))"
      ]
     },
     "metadata": {},
     "output_type": "display_data"
    },
    {
     "name": "stdout",
     "output_type": "stream",
     "text": [
      "42 0.015859070554142818 0.015859070554142818 8903.253059387207\n",
      "42 0.015551538846921176 0.015551538846921176 8837.074867248535\n",
      "42 0.01569078632746823 0.01569078632746823 8900.425308227539\n",
      "42 0.015903763560345396 0.015903763560345396 8895.651473999023\n",
      "\n"
     ]
    },
    {
     "data": {
      "application/vnd.jupyter.widget-view+json": {
       "model_id": "d035a857de074713a5110f090c7b0913",
       "version_major": 2,
       "version_minor": 0
      },
      "text/plain": [
       "HBox(children=(IntProgress(value=0, max=77), HTML(value='')))"
      ]
     },
     "metadata": {},
     "output_type": "display_data"
    },
    {
     "name": "stdout",
     "output_type": "stream",
     "text": [
      "43 0.016370205412385985 0.016370205412385985 8792.855979919434\n",
      "43 0.01679537774180062 0.01679537774180062 8896.528434753418\n",
      "43 0.01676065885112621 0.01676065885112621 9200.751159667969\n",
      "43 0.016684811213053763 0.016684811213053763 9335.827331542969\n",
      "43 0.016560746531467885 0.016560746531467885 9376.22006225586\n",
      "\n"
     ]
    },
    {
     "data": {
      "application/vnd.jupyter.widget-view+json": {
       "model_id": "f79aee72cd794efab4064b829ec170d5",
       "version_major": 2,
       "version_minor": 0
      },
      "text/plain": [
       "HBox(children=(IntProgress(value=0, max=77), HTML(value='')))"
      ]
     },
     "metadata": {},
     "output_type": "display_data"
    },
    {
     "name": "stdout",
     "output_type": "stream",
     "text": [
      "44 0.016579710558289662 0.016579710558289662 9080.88956451416\n",
      "44 0.0162742848333437 0.0162742848333437 9153.187355041504\n",
      "44 0.015485428273677826 0.015485428273677826 9531.106872558594\n",
      "44 0.015197796426946297 0.015197796426946297 9847.73193359375\n",
      "44 0.015348659333540127 0.015348659333540127 9864.068756103516\n",
      "\n"
     ]
    },
    {
     "data": {
      "application/vnd.jupyter.widget-view+json": {
       "model_id": "9edf18b28eb943edbf09903a1be7b88a",
       "version_major": 2,
       "version_minor": 0
      },
      "text/plain": [
       "HBox(children=(IntProgress(value=0, max=77), HTML(value='')))"
      ]
     },
     "metadata": {},
     "output_type": "display_data"
    },
    {
     "name": "stdout",
     "output_type": "stream",
     "text": [
      "45 0.015431453648488969 0.015431453648488969 9575.551124572754\n",
      "45 0.015299165272153914 0.015299165272153914 9619.860328674316\n",
      "45 0.015135679335799068 0.015135679335799068 9919.399169921875\n",
      "45 0.014901013899361715 0.014901013899361715 10190.482543945312\n",
      "45 0.014935804647393525 0.014935804647393525 10221.082550048828\n",
      "\n"
     ]
    },
    {
     "data": {
      "application/vnd.jupyter.widget-view+json": {
       "model_id": "017c4f772e4d4a1685778511f74b71ee",
       "version_major": 2,
       "version_minor": 0
      },
      "text/plain": [
       "HBox(children=(IntProgress(value=0, max=77), HTML(value='')))"
      ]
     },
     "metadata": {},
     "output_type": "display_data"
    },
    {
     "name": "stdout",
     "output_type": "stream",
     "text": [
      "46 0.0149147016054485 0.0149147016054485 9810.775085449219\n",
      "46 0.014529015927109867 0.014529015927109867 9804.378509521484\n",
      "46 0.01458207966061309 0.01458207966061309 10221.825164794922\n",
      "46 0.014719262311700732 0.014719262311700732 10317.805572509766\n",
      "46 0.014562499796738848 0.014562499796738848 10377.327758789062\n",
      "\n"
     ]
    },
    {
     "data": {
      "application/vnd.jupyter.widget-view+json": {
       "model_id": "803eff98114142b0a85f382b49e1dff7",
       "version_major": 2,
       "version_minor": 0
      },
      "text/plain": [
       "HBox(children=(IntProgress(value=0, max=77), HTML(value='')))"
      ]
     },
     "metadata": {},
     "output_type": "display_data"
    },
    {
     "name": "stdout",
     "output_type": "stream",
     "text": [
      "47 0.014296597772045061 0.014296597772045061 10312.628120422363\n",
      "47 0.014357798354467377 0.014357798354467377 10318.468391418457\n",
      "47 0.014494689967250451 0.014494689967250451 10327.348388671875\n",
      "47 0.01429059769725427 0.01429059769725427 10307.079803466797\n",
      "47 0.014387350442120805 0.014387350442120805 10288.746101379395\n",
      "\n"
     ]
    },
    {
     "data": {
      "application/vnd.jupyter.widget-view+json": {
       "model_id": "5909b08ef0ad497f8ae153356454ffe8",
       "version_major": 2,
       "version_minor": 0
      },
      "text/plain": [
       "HBox(children=(IntProgress(value=0, max=77), HTML(value='')))"
      ]
     },
     "metadata": {},
     "output_type": "display_data"
    },
    {
     "name": "stdout",
     "output_type": "stream",
     "text": [
      "48 0.01473275467287749 0.01473275467287749 10196.127143859863\n",
      "48 0.014545749698299915 0.014545749698299915 10297.096557617188\n",
      "48 0.014153374009765685 0.014153374009765685 10330.723815917969\n",
      "48 0.01390729466220364 0.01390729466220364 10348.395782470703\n",
      "\n"
     ]
    },
    {
     "data": {
      "application/vnd.jupyter.widget-view+json": {
       "model_id": "2070c0e2be8146a8bc7ec129e5f6b180",
       "version_major": 2,
       "version_minor": 0
      },
      "text/plain": [
       "HBox(children=(IntProgress(value=0, max=77), HTML(value='')))"
      ]
     },
     "metadata": {},
     "output_type": "display_data"
    },
    {
     "name": "stdout",
     "output_type": "stream",
     "text": [
      "49 0.013780348584987223 0.013780348584987223 10201.558418273926\n",
      "49 0.014388156676432118 0.014388156676432118 10146.817573547363\n",
      "49 0.01431594553287141 0.01431594553287141 10155.825317382812\n",
      "49 0.014040314476005733 0.014040314476005733 10143.411712646484\n",
      "49 0.01450961799127981 0.01450961799127981 10202.10269165039\n",
      "\n"
     ]
    },
    {
     "data": {
      "application/vnd.jupyter.widget-view+json": {
       "model_id": "40b61e8a08e44f63bf7b7a5bd12c32a5",
       "version_major": 2,
       "version_minor": 0
      },
      "text/plain": [
       "HBox(children=(IntProgress(value=0, max=77), HTML(value='')))"
      ]
     },
     "metadata": {},
     "output_type": "display_data"
    },
    {
     "name": "stdout",
     "output_type": "stream",
     "text": [
      "50 0.014319272333523259 0.014319272333523259 10071.24430847168\n",
      "50 0.013889464637031779 0.013889464637031779 10205.921798706055\n",
      "50 0.01385035749990493 0.01385035749990493 10486.401092529297\n",
      "50 0.01385630082222633 0.01385630082222633 10514.580535888672\n",
      "50 0.013736042805248871 0.013736042805248871 10540.459838867188\n",
      "\n"
     ]
    },
    {
     "data": {
      "application/vnd.jupyter.widget-view+json": {
       "model_id": "498ef10741c241e7bcfdd059efeb24ad",
       "version_major": 2,
       "version_minor": 0
      },
      "text/plain": [
       "HBox(children=(IntProgress(value=0, max=77), HTML(value='')))"
      ]
     },
     "metadata": {},
     "output_type": "display_data"
    },
    {
     "name": "stdout",
     "output_type": "stream",
     "text": [
      "51 0.013511369412299246 0.013511369412299246 10357.003402709961\n",
      "51 0.013350937369978055 0.013350937369978055 10291.918716430664\n",
      "51 0.013385070575168356 0.013385070575168356 10430.929931640625\n",
      "51 0.01356407711864449 0.01356407711864449 10610.534912109375\n",
      "51 0.013771650614216924 0.013771650614216924 10675.297973632812\n",
      "\n"
     ]
    },
    {
     "data": {
      "application/vnd.jupyter.widget-view+json": {
       "model_id": "66e9e7d7008e47b7bacf1ab163170258",
       "version_major": 2,
       "version_minor": 0
      },
      "text/plain": [
       "HBox(children=(IntProgress(value=0, max=77), HTML(value='')))"
      ]
     },
     "metadata": {},
     "output_type": "display_data"
    },
    {
     "name": "stdout",
     "output_type": "stream",
     "text": [
      "52 0.01378908718470484 0.01378908718470484 10497.060531616211\n",
      "52 0.01348985338700004 0.01348985338700004 10590.647659301758\n",
      "52 0.013106234633596614 0.013106234633596614 10699.318450927734\n",
      "52 0.013029984082095325 0.013029984082095325 10740.333068847656\n",
      "52 0.013129625702276826 0.013129625702276826 10866.79736328125\n",
      "\n"
     ]
    },
    {
     "data": {
      "application/vnd.jupyter.widget-view+json": {
       "model_id": "44c1856a2e9c4960aa406f8e4b7e5f87",
       "version_major": 2,
       "version_minor": 0
      },
      "text/plain": [
       "HBox(children=(IntProgress(value=0, max=77), HTML(value='')))"
      ]
     },
     "metadata": {},
     "output_type": "display_data"
    },
    {
     "name": "stdout",
     "output_type": "stream",
     "text": [
      "53 0.01274302796809934 0.01274302796809934 10648.649803161621\n",
      "53 0.012620284978765994 0.012620284978765994 10369.15618133545\n",
      "53 0.013044723658822477 0.013044723658822477 10554.30435180664\n",
      "53 0.012961400352651253 0.012961400352651253 10865.662322998047\n",
      "\n"
     ]
    },
    {
     "data": {
      "application/vnd.jupyter.widget-view+json": {
       "model_id": "8a0458207bd843249dc782929bffc2b3",
       "version_major": 2,
       "version_minor": 0
      },
      "text/plain": [
       "HBox(children=(IntProgress(value=0, max=77), HTML(value='')))"
      ]
     },
     "metadata": {},
     "output_type": "display_data"
    },
    {
     "name": "stdout",
     "output_type": "stream",
     "text": [
      "54 0.012718348152702674 0.012718348152702674 10699.072998046875\n",
      "54 0.012602875125594437 0.012602875125594437 10683.573333740234\n",
      "54 0.013018394238315523 0.013018394238315523 11002.655181884766\n",
      "54 0.01336007216013968 0.01336007216013968 11029.356811523438\n",
      "54 0.013075956463580951 0.013075956463580951 10975.747497558594\n",
      "\n"
     ]
    },
    {
     "data": {
      "application/vnd.jupyter.widget-view+json": {
       "model_id": "3b533e89bf844f65bd8dae10b3aa3bc0",
       "version_major": 2,
       "version_minor": 0
      },
      "text/plain": [
       "HBox(children=(IntProgress(value=0, max=77), HTML(value='')))"
      ]
     },
     "metadata": {},
     "output_type": "display_data"
    },
    {
     "name": "stdout",
     "output_type": "stream",
     "text": [
      "55 0.012486017891205847 0.012486017891205847 10726.491500854492\n",
      "55 0.012242589553352445 0.012242589553352445 10775.263656616211\n",
      "55 0.012580638751387596 0.012580638751387596 11078.494873046875\n",
      "55 0.012616498832358047 0.012616498832358047 11038.354614257812\n",
      "55 0.012494552385760471 0.012494552385760471 10940.547943115234\n",
      "\n"
     ]
    },
    {
     "data": {
      "application/vnd.jupyter.widget-view+json": {
       "model_id": "35119ff000d444959a684321610f7ad8",
       "version_major": 2,
       "version_minor": 0
      },
      "text/plain": [
       "HBox(children=(IntProgress(value=0, max=77), HTML(value='')))"
      ]
     },
     "metadata": {},
     "output_type": "display_data"
    },
    {
     "name": "stdout",
     "output_type": "stream",
     "text": [
      "56 0.012260296411113814 0.012260296411113814 10811.117362976074\n",
      "56 0.012343211710685864 0.012343211710685864 10949.311668395996\n",
      "56 0.012618184962775558 0.012618184962775558 11265.504150390625\n",
      "56 0.012605151656316593 0.012605151656316593 11201.051239013672\n",
      "56 0.012697577476501465 0.012697577476501465 11023.33999633789\n",
      "\n"
     ]
    },
    {
     "data": {
      "application/vnd.jupyter.widget-view+json": {
       "model_id": "71295a72e966417383daf7f39ef3480b",
       "version_major": 2,
       "version_minor": 0
      },
      "text/plain": [
       "HBox(children=(IntProgress(value=0, max=77), HTML(value='')))"
      ]
     },
     "metadata": {},
     "output_type": "display_data"
    },
    {
     "name": "stdout",
     "output_type": "stream",
     "text": [
      "57 0.012398739636410028 0.012398739636410028 10811.126808166504\n",
      "57 0.012029226316371933 0.012029226316371933 10948.681983947754\n",
      "57 0.01205055438913405 0.01205055438913405 11210.840515136719\n",
      "57 0.012329930876148865 0.012329930876148865 11196.672637939453\n",
      "57 0.013160454254830256 0.013160454254830256 11311.84829711914\n",
      "\n"
     ]
    },
    {
     "data": {
      "application/vnd.jupyter.widget-view+json": {
       "model_id": "0665ec1cf1c845c1b02fbfbd79f11e60",
       "version_major": 2,
       "version_minor": 0
      },
      "text/plain": [
       "HBox(children=(IntProgress(value=0, max=77), HTML(value='')))"
      ]
     },
     "metadata": {},
     "output_type": "display_data"
    },
    {
     "name": "stdout",
     "output_type": "stream",
     "text": [
      "58 0.012978759099496529 0.012978759099496529 11154.316505432129\n",
      "58 0.012366404524073005 0.012366404524073005 11185.18073272705\n",
      "58 0.012208806991111487 0.012208806991111487 11469.390380859375\n",
      "58 0.011845223314594477 0.011845223314594477 11473.642883300781\n",
      "\n"
     ]
    },
    {
     "data": {
      "application/vnd.jupyter.widget-view+json": {
       "model_id": "c0b12664d35a47859dae6be642a326bf",
       "version_major": 2,
       "version_minor": 0
      },
      "text/plain": [
       "HBox(children=(IntProgress(value=0, max=77), HTML(value='')))"
      ]
     },
     "metadata": {},
     "output_type": "display_data"
    },
    {
     "name": "stdout",
     "output_type": "stream",
     "text": [
      "59 0.011679588409606367 0.011679588409606367 11228.808815002441\n",
      "59 0.01151460743858479 0.01151460743858479 11308.187446594238\n",
      "59 0.01195191073929891 0.01195191073929891 11554.499481201172\n",
      "59 0.012072565383277833 0.012072565383277833 11503.729125976562\n",
      "59 0.011983455624431372 0.011983455624431372 11426.060974121094\n",
      "\n"
     ]
    },
    {
     "data": {
      "application/vnd.jupyter.widget-view+json": {
       "model_id": "2f8f977704f04ea4ae5cf8a6406e7db6",
       "version_major": 2,
       "version_minor": 0
      },
      "text/plain": [
       "HBox(children=(IntProgress(value=0, max=77), HTML(value='')))"
      ]
     },
     "metadata": {},
     "output_type": "display_data"
    },
    {
     "name": "stdout",
     "output_type": "stream",
     "text": [
      "60 0.012210032728035003 0.012210032728035003 11182.258178710938\n",
      "60 0.012060111796017736 0.012060111796017736 11279.107452392578\n",
      "60 0.011958017130382359 0.011958017130382359 11531.98031616211\n",
      "60 0.012430102739017457 0.012430102739017457 11592.682678222656\n",
      "60 0.013040278165135533 0.013040278165135533 11684.36685180664\n",
      "\n"
     ]
    },
    {
     "data": {
      "application/vnd.jupyter.widget-view+json": {
       "model_id": "acca1a94328c4ac0bebd0a698ca6a94e",
       "version_major": 2,
       "version_minor": 0
      },
      "text/plain": [
       "HBox(children=(IntProgress(value=0, max=77), HTML(value='')))"
      ]
     },
     "metadata": {},
     "output_type": "display_data"
    },
    {
     "name": "stdout",
     "output_type": "stream",
     "text": [
      "61 0.01325702591566369 0.01325702591566369 11440.48568725586\n",
      "61 0.012595489271916449 0.012595489271916449 11378.11734008789\n",
      "61 0.01175656376290135 0.01175656376290135 11547.592803955078\n",
      "61 0.011527512513566762 0.011527512513566762 11629.69287109375\n",
      "61 0.011550360970431939 0.011550360970431939 11837.737915039062\n",
      "\n"
     ]
    },
    {
     "data": {
      "application/vnd.jupyter.widget-view+json": {
       "model_id": "7e5e6fd872bf4b0e92c30700d0c47447",
       "version_major": 2,
       "version_minor": 0
      },
      "text/plain": [
       "HBox(children=(IntProgress(value=0, max=77), HTML(value='')))"
      ]
     },
     "metadata": {},
     "output_type": "display_data"
    },
    {
     "name": "stdout",
     "output_type": "stream",
     "text": [
      "62 0.011483453825348988 0.011483453825348988 11563.758590698242\n",
      "62 0.011242624692386016 0.011242624692386016 11524.600723266602\n",
      "62 0.011502443900099024 0.011502443900099024 11639.28353881836\n",
      "62 0.011908100947039202 0.011908100947039202 11514.851348876953\n",
      "62 0.011787370458478108 0.011787370458478108 11601.260375976562\n",
      "\n"
     ]
    },
    {
     "data": {
      "application/vnd.jupyter.widget-view+json": {
       "model_id": "affe9048dff343c7a167ee08e3e417db",
       "version_major": 2,
       "version_minor": 0
      },
      "text/plain": [
       "HBox(children=(IntProgress(value=0, max=77), HTML(value='')))"
      ]
     },
     "metadata": {},
     "output_type": "display_data"
    },
    {
     "name": "stdout",
     "output_type": "stream",
     "text": [
      "63 0.012024029274471104 0.012024029274471104 11370.059219360352\n",
      "63 0.012611748359631747 0.012611748359631747 11214.040603637695\n",
      "63 0.012511938839452341 0.012511938839452341 11417.482177734375\n",
      "63 0.012434923875844106 0.012434923875844106 11580.51547241211\n",
      "63 0.012587538483785465 0.012587538483785465 11357.0234375\n",
      "\n"
     ]
    },
    {
     "data": {
      "application/vnd.jupyter.widget-view+json": {
       "model_id": "097f133f741d4ea284edb1f27d1731e7",
       "version_major": 2,
       "version_minor": 0
      },
      "text/plain": [
       "HBox(children=(IntProgress(value=0, max=77), HTML(value='')))"
      ]
     },
     "metadata": {},
     "output_type": "display_data"
    },
    {
     "name": "stdout",
     "output_type": "stream",
     "text": [
      "64 0.012418289785273373 0.012418289785273373 11224.161651611328\n",
      "64 0.012311328609939665 0.012311328609939665 11465.878692626953\n",
      "64 0.012192853726446629 0.012192853726446629 11608.19418334961\n",
      "64 0.011794855265179649 0.011794855265179649 11811.931335449219\n",
      "\n"
     ]
    },
    {
     "data": {
      "application/vnd.jupyter.widget-view+json": {
       "model_id": "c300b85318d64e729da78c42eded742c",
       "version_major": 2,
       "version_minor": 0
      },
      "text/plain": [
       "HBox(children=(IntProgress(value=0, max=77), HTML(value='')))"
      ]
     },
     "metadata": {},
     "output_type": "display_data"
    },
    {
     "name": "stdout",
     "output_type": "stream",
     "text": [
      "65 0.011452471953816712 0.011452471953816712 11654.41552734375\n",
      "65 0.011090923013398424 0.011090923013398424 11636.424591064453\n",
      "65 0.010838311049155891 0.010838311049155891 12021.51968383789\n",
      "65 0.010854230058612302 0.010854230058612302 12052.258605957031\n",
      "65 0.01143536958261393 0.01143536958261393 11949.876831054688\n",
      "\n"
     ]
    },
    {
     "data": {
      "application/vnd.jupyter.widget-view+json": {
       "model_id": "c47f4dc09b43420abd9dc92e53c2a690",
       "version_major": 2,
       "version_minor": 0
      },
      "text/plain": [
       "HBox(children=(IntProgress(value=0, max=77), HTML(value='')))"
      ]
     },
     "metadata": {},
     "output_type": "display_data"
    },
    {
     "name": "stdout",
     "output_type": "stream",
     "text": [
      "66 0.011326075851684436 0.011326075851684436 11693.57388305664\n",
      "66 0.010589014389552176 0.010589014389552176 11657.334075927734\n",
      "66 0.010727628279710189 0.010727628279710189 11886.969635009766\n",
      "66 0.010934693476883695 0.010934693476883695 12042.391326904297\n",
      "66 0.010801656433613971 0.010801656433613971 12105.064025878906\n",
      "\n"
     ]
    },
    {
     "data": {
      "application/vnd.jupyter.widget-view+json": {
       "model_id": "ba5f637fed76447199ba3593b4d97de0",
       "version_major": 2,
       "version_minor": 0
      },
      "text/plain": [
       "HBox(children=(IntProgress(value=0, max=77), HTML(value='')))"
      ]
     },
     "metadata": {},
     "output_type": "display_data"
    },
    {
     "name": "stdout",
     "output_type": "stream",
     "text": [
      "67 0.01083555244258605 0.01083555244258605 11862.882232666016\n",
      "67 0.01088444230845198 0.01088444230845198 11940.717254638672\n",
      "67 0.010880240093683824 0.010880240093683824 12198.94140625\n",
      "67 0.011336816591210663 0.011336816591210663 12131.416564941406\n",
      "67 0.011751734331483021 0.011751734331483021 12056.889953613281\n",
      "\n"
     ]
    },
    {
     "data": {
      "application/vnd.jupyter.widget-view+json": {
       "model_id": "39729efe05e4417da9e041ea907986aa",
       "version_major": 2,
       "version_minor": 0
      },
      "text/plain": [
       "HBox(children=(IntProgress(value=0, max=77), HTML(value='')))"
      ]
     },
     "metadata": {},
     "output_type": "display_data"
    },
    {
     "name": "stdout",
     "output_type": "stream",
     "text": [
      "68 0.011145045922603458 0.011145045922603458 11821.871139526367\n",
      "68 0.010573773150099441 0.010573773150099441 11958.35807800293\n",
      "68 0.010861960763577372 0.010861960763577372 12335.816192626953\n",
      "68 0.011009657813701779 0.011009657813701779 12360.385528564453\n",
      "68 0.011477736290544271 0.011477736290544271 12322.908111572266\n",
      "\n"
     ]
    },
    {
     "data": {
      "application/vnd.jupyter.widget-view+json": {
       "model_id": "d4400838aae944038e180aec44c10412",
       "version_major": 2,
       "version_minor": 0
      },
      "text/plain": [
       "HBox(children=(IntProgress(value=0, max=77), HTML(value='')))"
      ]
     },
     "metadata": {},
     "output_type": "display_data"
    },
    {
     "name": "stdout",
     "output_type": "stream",
     "text": [
      "69 0.011452162929344922 0.011452162929344922 12042.756103515625\n",
      "69 0.010737192642409354 0.010737192642409354 12134.730865478516\n",
      "69 0.010672855074517429 0.010672855074517429 12366.04721069336\n",
      "69 0.010497158684302121 0.010497158684302121 12240.712646484375\n",
      "\n"
     ]
    },
    {
     "data": {
      "application/vnd.jupyter.widget-view+json": {
       "model_id": "38212831f2274ea997d34c9d13f57508",
       "version_major": 2,
       "version_minor": 0
      },
      "text/plain": [
       "HBox(children=(IntProgress(value=0, max=77), HTML(value='')))"
      ]
     },
     "metadata": {},
     "output_type": "display_data"
    },
    {
     "name": "stdout",
     "output_type": "stream",
     "text": [
      "70 0.010420202976092696 0.010420202976092696 12051.371398925781\n",
      "70 0.010360651795053855 0.010360651795053855 12165.598510742188\n",
      "70 0.010138142242794856 0.010138142242794856 12496.679565429688\n",
      "70 0.010260797978844494 0.010260797978844494 12542.244873046875\n",
      "70 0.010631157318130136 0.010631157318130136 12574.09750366211\n",
      "\n"
     ]
    },
    {
     "data": {
      "application/vnd.jupyter.widget-view+json": {
       "model_id": "b82a7f9a59ce4a62adf2299318510ac4",
       "version_major": 2,
       "version_minor": 0
      },
      "text/plain": [
       "HBox(children=(IntProgress(value=0, max=77), HTML(value='')))"
      ]
     },
     "metadata": {},
     "output_type": "display_data"
    },
    {
     "name": "stdout",
     "output_type": "stream",
     "text": [
      "71 0.010862852301215753 0.010862852301215753 12298.990951538086\n",
      "71 0.010527154488954693 0.010527154488954693 12175.063339233398\n",
      "71 0.010288393503287807 0.010288393503287807 12299.27230834961\n",
      "71 0.010635365440975875 0.010635365440975875 12254.938690185547\n",
      "71 0.010751928930403665 0.010751928930403665 12327.659088134766\n",
      "\n"
     ]
    },
    {
     "data": {
      "application/vnd.jupyter.widget-view+json": {
       "model_id": "1770438e7bf84f36a0fb499fb9364bcd",
       "version_major": 2,
       "version_minor": 0
      },
      "text/plain": [
       "HBox(children=(IntProgress(value=0, max=77), HTML(value='')))"
      ]
     },
     "metadata": {},
     "output_type": "display_data"
    },
    {
     "name": "stdout",
     "output_type": "stream",
     "text": [
      "72 0.01081685972167179 0.01081685972167179 12170.504501342773\n",
      "72 0.01085221755784005 0.01085221755784005 12277.334335327148\n",
      "72 0.010517159709706903 0.010517159709706903 12582.700988769531\n",
      "72 0.011105459911050275 0.011105459911050275 12537.33706665039\n",
      "72 0.011380013544112444 0.011380013544112444 12589.311950683594\n",
      "\n"
     ]
    },
    {
     "data": {
      "application/vnd.jupyter.widget-view+json": {
       "model_id": "eabe0c38bd524d37a4603af7a871962e",
       "version_major": 2,
       "version_minor": 0
      },
      "text/plain": [
       "HBox(children=(IntProgress(value=0, max=77), HTML(value='')))"
      ]
     },
     "metadata": {},
     "output_type": "display_data"
    },
    {
     "name": "stdout",
     "output_type": "stream",
     "text": [
      "73 0.010815313464263454 0.010815313464263454 12446.166702270508\n",
      "73 0.010468377033248544 0.010468377033248544 12457.278610229492\n",
      "73 0.01096428683376871 0.01096428683376871 12613.794891357422\n",
      "73 0.01149649330182001 0.01149649330182001 12541.998565673828\n",
      "73 0.011172390019055456 0.011172390019055456 12583.131256103516\n",
      "\n"
     ]
    },
    {
     "data": {
      "application/vnd.jupyter.widget-view+json": {
       "model_id": "de45a331bc2f4d789215abf3059e6052",
       "version_major": 2,
       "version_minor": 0
      },
      "text/plain": [
       "HBox(children=(IntProgress(value=0, max=77), HTML(value='')))"
      ]
     },
     "metadata": {},
     "output_type": "display_data"
    },
    {
     "name": "stdout",
     "output_type": "stream",
     "text": [
      "74 0.010991318558808416 0.010991318558808416 12374.549987792969\n",
      "74 0.01064371204120107 0.01064371204120107 12362.594146728516\n",
      "74 0.010346859780838713 0.010346859780838713 12625.734649658203\n",
      "74 0.010310377285350114 0.010310377285350114 12671.995910644531\n",
      "\n"
     ]
    },
    {
     "data": {
      "application/vnd.jupyter.widget-view+json": {
       "model_id": "135304f00241433f807c6389ebbe6a2c",
       "version_major": 2,
       "version_minor": 0
      },
      "text/plain": [
       "HBox(children=(IntProgress(value=0, max=77), HTML(value='')))"
      ]
     },
     "metadata": {},
     "output_type": "display_data"
    },
    {
     "name": "stdout",
     "output_type": "stream",
     "text": [
      "75 0.010321059700800106 0.010321059700800106 12504.209167480469\n",
      "75 0.010147897090064362 0.010147897090064362 12516.972686767578\n",
      "75 0.011118093214463443 0.011118093214463443 12763.968658447266\n",
      "75 0.011442183225881308 0.011442183225881308 12757.217193603516\n",
      "75 0.010370885371230543 0.010370885371230543 12658.767364501953\n",
      "\n"
     ]
    },
    {
     "data": {
      "application/vnd.jupyter.widget-view+json": {
       "model_id": "5be1f19bdd91448a8773b61d84be022a",
       "version_major": 2,
       "version_minor": 0
      },
      "text/plain": [
       "HBox(children=(IntProgress(value=0, max=77), HTML(value='')))"
      ]
     },
     "metadata": {},
     "output_type": "display_data"
    },
    {
     "name": "stdout",
     "output_type": "stream",
     "text": [
      "76 0.0100794156169286 0.0100794156169286 12455.155044555664\n",
      "76 0.009867848319117911 0.009867848319117911 12627.641616821289\n",
      "76 0.009890877874568105 0.009890877874568105 12893.414520263672\n",
      "76 0.010075871687149629 0.010075871687149629 12848.384094238281\n",
      "76 0.010095447389176115 0.010095447389176115 12869.505798339844\n",
      "\n"
     ]
    },
    {
     "data": {
      "application/vnd.jupyter.widget-view+json": {
       "model_id": "31ae9441be2644d09e65b25ce9d0a525",
       "version_major": 2,
       "version_minor": 0
      },
      "text/plain": [
       "HBox(children=(IntProgress(value=0, max=77), HTML(value='')))"
      ]
     },
     "metadata": {},
     "output_type": "display_data"
    },
    {
     "name": "stdout",
     "output_type": "stream",
     "text": [
      "77 0.011106634337920696 0.011106634337920696 12603.985443115234\n",
      "77 0.011786080605816096 0.011786080605816096 12520.653137207031\n",
      "77 0.010678578866645694 0.010678578866645694 12746.253601074219\n",
      "77 0.010132604191312566 0.010132604191312566 12742.271575927734\n",
      "77 0.010601592861348763 0.010601592861348763 12786.870971679688\n",
      "\n"
     ]
    },
    {
     "data": {
      "application/vnd.jupyter.widget-view+json": {
       "model_id": "5dee027c838d45928c44c38c16d40e3e",
       "version_major": 2,
       "version_minor": 0
      },
      "text/plain": [
       "HBox(children=(IntProgress(value=0, max=77), HTML(value='')))"
      ]
     },
     "metadata": {},
     "output_type": "display_data"
    },
    {
     "name": "stdout",
     "output_type": "stream",
     "text": [
      "78 0.01024509608396329 0.01024509608396329 12615.563262939453\n",
      "78 0.009735317202284932 0.009735317202284932 12614.43081665039\n",
      "78 0.009792613331228495 0.009792613331228495 12834.173583984375\n",
      "78 0.009834002266870812 0.009834002266870812 12845.41128540039\n",
      "78 0.009869442379567772 0.009869442379567772 12894.36441040039\n",
      "\n"
     ]
    },
    {
     "data": {
      "application/vnd.jupyter.widget-view+json": {
       "model_id": "48e34150844c422a9dcd89d2c1b0e489",
       "version_major": 2,
       "version_minor": 0
      },
      "text/plain": [
       "HBox(children=(IntProgress(value=0, max=77), HTML(value='')))"
      ]
     },
     "metadata": {},
     "output_type": "display_data"
    },
    {
     "name": "stdout",
     "output_type": "stream",
     "text": [
      "79 0.00992332844180055 0.00992332844180055 12657.394012451172\n",
      "79 0.010151107591809705 0.010151107591809705 12709.562896728516\n",
      "79 0.010410199145553634 0.010410199145553634 13064.996795654297\n",
      "79 0.010474273934960365 0.010474273934960365 12980.138458251953\n",
      "79 0.010601170273730531 0.010601170273730531 12708.518615722656\n",
      "\n"
     ]
    },
    {
     "data": {
      "application/vnd.jupyter.widget-view+json": {
       "model_id": "673f2d061a944452917ae0d9f1d69527",
       "version_major": 2,
       "version_minor": 0
      },
      "text/plain": [
       "HBox(children=(IntProgress(value=0, max=77), HTML(value='')))"
      ]
     },
     "metadata": {},
     "output_type": "display_data"
    },
    {
     "name": "stdout",
     "output_type": "stream",
     "text": [
      "80 0.01055273093516007 0.01055273093516007 12868.44400024414\n",
      "80 0.010429014801047742 0.010429014801047742 13020.64340209961\n",
      "80 0.010042727226391435 0.010042727226391435 12973.867462158203\n",
      "80 0.009928655112162232 0.009928655112162232 13095.649322509766\n",
      "\n"
     ]
    },
    {
     "data": {
      "application/vnd.jupyter.widget-view+json": {
       "model_id": "83e8efb23f3f4fef8204af8f571691c5",
       "version_major": 2,
       "version_minor": 0
      },
      "text/plain": [
       "HBox(children=(IntProgress(value=0, max=77), HTML(value='')))"
      ]
     },
     "metadata": {},
     "output_type": "display_data"
    },
    {
     "name": "stdout",
     "output_type": "stream",
     "text": [
      "81 0.010076981474412605 0.010076981474412605 12860.67529296875\n",
      "81 0.009740193403558806 0.009740193403558806 12836.39111328125\n",
      "81 0.009580148762324825 0.009580148762324825 13119.961456298828\n",
      "81 0.009499990905169398 0.009499990905169398 13170.391540527344\n",
      "81 0.009645768092013896 0.009645768092013896 13196.123352050781\n",
      "\n"
     ]
    },
    {
     "data": {
      "application/vnd.jupyter.widget-view+json": {
       "model_id": "a6421ad667f04050a276723e6316f678",
       "version_major": 2,
       "version_minor": 0
      },
      "text/plain": [
       "HBox(children=(IntProgress(value=0, max=77), HTML(value='')))"
      ]
     },
     "metadata": {},
     "output_type": "display_data"
    },
    {
     "name": "stdout",
     "output_type": "stream",
     "text": [
      "82 0.009495042875641957 0.009495042875641957 12936.549942016602\n",
      "82 0.009379290393553674 0.009379290393553674 12922.782516479492\n",
      "82 0.009918438125168905 0.009918438125168905 13164.361114501953\n",
      "82 0.010210687789367512 0.010210687789367512 13170.312957763672\n",
      "82 0.010167131462367252 0.010167131462367252 13099.282897949219\n",
      "\n"
     ]
    },
    {
     "data": {
      "application/vnd.jupyter.widget-view+json": {
       "model_id": "5e456a351ebd4a5e960389d5c4907a2d",
       "version_major": 2,
       "version_minor": 0
      },
      "text/plain": [
       "HBox(children=(IntProgress(value=0, max=77), HTML(value='')))"
      ]
     },
     "metadata": {},
     "output_type": "display_data"
    },
    {
     "name": "stdout",
     "output_type": "stream",
     "text": [
      "83 0.010331361932912841 0.010331361932912841 12817.564224243164\n",
      "83 0.010739705205196515 0.010739705205196515 12906.367233276367\n",
      "83 0.010884279705351219 0.010884279705351219 13237.275115966797\n",
      "83 0.01040128493332304 0.01040128493332304 13228.472564697266\n",
      "83 0.009936018992448226 0.009936018992448226 13114.424011230469\n",
      "\n"
     ]
    },
    {
     "data": {
      "application/vnd.jupyter.widget-view+json": {
       "model_id": "0e6f7090688344e98c5d85ebc6dcccca",
       "version_major": 2,
       "version_minor": 0
      },
      "text/plain": [
       "HBox(children=(IntProgress(value=0, max=77), HTML(value='')))"
      ]
     },
     "metadata": {},
     "output_type": "display_data"
    },
    {
     "name": "stdout",
     "output_type": "stream",
     "text": [
      "84 0.009599017619621009 0.009599017619621009 12850.301559448242\n",
      "84 0.0092839899007231 0.0092839899007231 12783.747695922852\n",
      "84 0.009174986800644547 0.009174986800644547 13012.889587402344\n",
      "84 0.009221241198247299 0.009221241198247299 13043.58267211914\n",
      "84 0.009352091554319486 0.009352091554319486 12976.440399169922\n",
      "\n"
     ]
    },
    {
     "data": {
      "application/vnd.jupyter.widget-view+json": {
       "model_id": "a3d014b4378f4a3390ec911ce4c4964b",
       "version_major": 2,
       "version_minor": 0
      },
      "text/plain": [
       "HBox(children=(IntProgress(value=0, max=77), HTML(value='')))"
      ]
     },
     "metadata": {},
     "output_type": "display_data"
    },
    {
     "name": "stdout",
     "output_type": "stream",
     "text": [
      "85 0.009255164623027667 0.009255164623027667 12778.520141601562\n",
      "85 0.009002105463878252 0.009002105463878252 12842.461608886719\n",
      "85 0.00894663178769406 0.00894663178769406 13181.074340820312\n",
      "85 0.009355594098451547 0.009355594098451547 13172.425079345703\n",
      "\n"
     ]
    },
    {
     "data": {
      "application/vnd.jupyter.widget-view+json": {
       "model_id": "a5b3f1a2c16946568d3290dba884c5e3",
       "version_major": 2,
       "version_minor": 0
      },
      "text/plain": [
       "HBox(children=(IntProgress(value=0, max=77), HTML(value='')))"
      ]
     },
     "metadata": {},
     "output_type": "display_data"
    },
    {
     "name": "stdout",
     "output_type": "stream",
     "text": [
      "86 0.009754943239386193 0.009754943239386193 12843.757415771484\n",
      "86 0.009680918126832694 0.009680918126832694 12883.547485351562\n",
      "86 0.009350062784506008 0.009350062784506008 13162.644561767578\n",
      "86 0.00901709427125752 0.00901709427125752 13109.270874023438\n",
      "86 0.009088282648008317 0.009088282648008317 13121.043823242188\n",
      "\n"
     ]
    },
    {
     "data": {
      "application/vnd.jupyter.widget-view+json": {
       "model_id": "cb6d9b9c280d442cb85d7409eaf378c6",
       "version_major": 2,
       "version_minor": 0
      },
      "text/plain": [
       "HBox(children=(IntProgress(value=0, max=77), HTML(value='')))"
      ]
     },
     "metadata": {},
     "output_type": "display_data"
    },
    {
     "name": "stdout",
     "output_type": "stream",
     "text": [
      "87 0.00918154431565199 0.00918154431565199 12865.000122070312\n",
      "87 0.009069391133380122 0.009069391133380122 12866.278442382812\n",
      "87 0.009133356768870726 0.009133356768870726 13203.635284423828\n",
      "87 0.009466873772908002 0.009466873772908002 13250.730682373047\n",
      "87 0.009540019906125963 0.009540019906125963 13273.44564819336\n",
      "\n"
     ]
    },
    {
     "data": {
      "application/vnd.jupyter.widget-view+json": {
       "model_id": "42d0a5f8e67f41098146a862d159ad39",
       "version_major": 2,
       "version_minor": 0
      },
      "text/plain": [
       "HBox(children=(IntProgress(value=0, max=77), HTML(value='')))"
      ]
     },
     "metadata": {},
     "output_type": "display_data"
    },
    {
     "name": "stdout",
     "output_type": "stream",
     "text": [
      "88 0.009065813486813568 0.009065813486813568 13032.837615966797\n",
      "88 0.008724572864593938 0.008724572864593938 12977.986541748047\n",
      "88 0.008650156058138236 0.008650156058138236 13092.590515136719\n",
      "88 0.00887548534956295 0.00887548534956295 13120.817657470703\n",
      "88 0.009193631849484518 0.009193631849484518 13198.24038696289\n",
      "\n"
     ]
    },
    {
     "data": {
      "application/vnd.jupyter.widget-view+json": {
       "model_id": "c53bc03901694f83a55945e09aa6722c",
       "version_major": 2,
       "version_minor": 0
      },
      "text/plain": [
       "HBox(children=(IntProgress(value=0, max=77), HTML(value='')))"
      ]
     },
     "metadata": {},
     "output_type": "display_data"
    },
    {
     "name": "stdout",
     "output_type": "stream",
     "text": [
      "89 0.00925843438017182 0.00925843438017182 12920.493072509766\n",
      "89 0.009204481000779197 0.009204481000779197 12976.896789550781\n",
      "89 0.009215181868057698 0.009215181868057698 13366.330322265625\n",
      "89 0.009371811509481631 0.009371811509481631 13397.221893310547\n",
      "89 0.009294378905906342 0.009294378905906342 13434.272186279297\n",
      "\n"
     ]
    },
    {
     "data": {
      "application/vnd.jupyter.widget-view+json": {
       "model_id": "4b2415c595524ccb98590ca91f761902",
       "version_major": 2,
       "version_minor": 0
      },
      "text/plain": [
       "HBox(children=(IntProgress(value=0, max=77), HTML(value='')))"
      ]
     },
     "metadata": {},
     "output_type": "display_data"
    },
    {
     "name": "stdout",
     "output_type": "stream",
     "text": [
      "90 0.008947544323746115 0.008947544323746115 13111.60546875\n",
      "90 0.008719252437003888 0.008719252437003888 13050.000305175781\n",
      "90 0.008858588713337667 0.008858588713337667 13353.036010742188\n",
      "90 0.008903781461413018 0.008903781461413018 13388.754333496094\n",
      "\n"
     ]
    },
    {
     "data": {
      "application/vnd.jupyter.widget-view+json": {
       "model_id": "642890e68d4a43e1b568b1d0eb11da34",
       "version_major": 2,
       "version_minor": 0
      },
      "text/plain": [
       "HBox(children=(IntProgress(value=0, max=77), HTML(value='')))"
      ]
     },
     "metadata": {},
     "output_type": "display_data"
    },
    {
     "name": "stdout",
     "output_type": "stream",
     "text": [
      "91 0.008835330459987745 0.008835330459987745 13219.42153930664\n",
      "91 0.009479547952651046 0.009479547952651046 13230.512939453125\n",
      "91 0.009550793954986148 0.009550793954986148 13386.657165527344\n",
      "91 0.00894767401041463 0.00894767401041463 13247.049713134766\n",
      "91 0.008829068538034335 0.008829068538034335 13310.99575805664\n",
      "\n"
     ]
    },
    {
     "data": {
      "application/vnd.jupyter.widget-view+json": {
       "model_id": "32135f75f7ce4087b5563e3ef70e45d9",
       "version_major": 2,
       "version_minor": 0
      },
      "text/plain": [
       "HBox(children=(IntProgress(value=0, max=77), HTML(value='')))"
      ]
     },
     "metadata": {},
     "output_type": "display_data"
    },
    {
     "name": "stdout",
     "output_type": "stream",
     "text": [
      "92 0.00899814412696287 0.00899814412696287 13224.207305908203\n",
      "92 0.009078021990717389 0.009078021990717389 13240.657318115234\n",
      "92 0.00921871505852323 0.00921871505852323 13420.38247680664\n",
      "92 0.009736756401252933 0.009736756401252933 13377.19058227539\n",
      "92 0.009569340239977464 0.009569340239977464 13391.669250488281\n",
      "\n"
     ]
    },
    {
     "data": {
      "application/vnd.jupyter.widget-view+json": {
       "model_id": "5274ddaf181a4a2eb3c9c76330c8d002",
       "version_major": 2,
       "version_minor": 0
      },
      "text/plain": [
       "HBox(children=(IntProgress(value=0, max=77), HTML(value='')))"
      ]
     },
     "metadata": {},
     "output_type": "display_data"
    },
    {
     "name": "stdout",
     "output_type": "stream",
     "text": [
      "93 0.00869625766063109 0.00869625766063109 13192.795959472656\n",
      "93 0.008209926905692555 0.008209926905692555 13307.593963623047\n",
      "93 0.008474055313854478 0.008474055313854478 13671.161041259766\n",
      "93 0.008973874500952661 0.008973874500952661 13663.701904296875\n",
      "93 0.008970001494162716 0.008970001494162716 13668.304473876953\n",
      "\n"
     ]
    },
    {
     "data": {
      "application/vnd.jupyter.widget-view+json": {
       "model_id": "07a897f663ee4d538fe3bb0cadd479ad",
       "version_major": 2,
       "version_minor": 0
      },
      "text/plain": [
       "HBox(children=(IntProgress(value=0, max=77), HTML(value='')))"
      ]
     },
     "metadata": {},
     "output_type": "display_data"
    },
    {
     "name": "stdout",
     "output_type": "stream",
     "text": [
      "94 0.008742883292143233 0.008742883292143233 13466.702453613281\n",
      "94 0.008798590919468552 0.008798590919468552 13462.794464111328\n",
      "94 0.008754982976824977 0.008754982976824977 13728.522033691406\n",
      "94 0.008876432228134945 0.008876432228134945 13733.994049072266\n",
      "94 0.009025079853017814 0.009025079853017814 13710.625854492188\n",
      "\n"
     ]
    },
    {
     "data": {
      "application/vnd.jupyter.widget-view+json": {
       "model_id": "89f249dda1c543198af38fdfe1f9c3cd",
       "version_major": 2,
       "version_minor": 0
      },
      "text/plain": [
       "HBox(children=(IntProgress(value=0, max=77), HTML(value='')))"
      ]
     },
     "metadata": {},
     "output_type": "display_data"
    },
    {
     "name": "stdout",
     "output_type": "stream",
     "text": [
      "95 0.15472626916016452 0.15472626916016452 13562.396774291992\n",
      "95 2.9928466726269107 2.9928466726269107 14051.390762329102\n",
      "95 7.044499300420284 7.044499300420284 15661.445129394531\n",
      "95 9.244921311736107 9.244921311736107 19735.866424560547\n",
      "95 8.885334938764572 8.885334938764572 25285.848724365234\n",
      "\n"
     ]
    },
    {
     "data": {
      "application/vnd.jupyter.widget-view+json": {
       "model_id": "6d244c89128a4eacb8ab6e716effe090",
       "version_major": 2,
       "version_minor": 0
      },
      "text/plain": [
       "HBox(children=(IntProgress(value=0, max=77), HTML(value='')))"
      ]
     },
     "metadata": {},
     "output_type": "display_data"
    },
    {
     "name": "stdout",
     "output_type": "stream",
     "text": [
      "96 7.446585595607758 7.446585595607758 31339.93618774414\n",
      "96 6.447545655071735 6.447545655071735 35073.31652832031\n",
      "96 3.922690648585558 3.922690648585558 28952.28955078125\n",
      "96 1.4517041146755219 1.4517041146755219 20658.58673095703\n",
      "\n"
     ]
    },
    {
     "data": {
      "application/vnd.jupyter.widget-view+json": {
       "model_id": "283561db1ff0411881f9d3f4b6dc4768",
       "version_major": 2,
       "version_minor": 0
      },
      "text/plain": [
       "HBox(children=(IntProgress(value=0, max=77), HTML(value='')))"
      ]
     },
     "metadata": {},
     "output_type": "display_data"
    },
    {
     "name": "stdout",
     "output_type": "stream",
     "text": [
      "97 0.6604326907545328 0.6604326907545328 17619.475616455078\n",
      "97 0.5391182340681553 0.5391182340681553 16640.247100830078\n",
      "97 0.4775356939062476 0.4775356939062476 16818.526794433594\n",
      "97 0.43818582594394684 0.43818582594394684 16950.66680908203\n",
      "97 0.4148481208831072 0.4148481208831072 16961.0263671875\n",
      "\n"
     ]
    },
    {
     "data": {
      "application/vnd.jupyter.widget-view+json": {
       "model_id": "b767e420a61044c8acfe36a9951d2d8b",
       "version_major": 2,
       "version_minor": 0
      },
      "text/plain": [
       "HBox(children=(IntProgress(value=0, max=77), HTML(value='')))"
      ]
     },
     "metadata": {},
     "output_type": "display_data"
    },
    {
     "name": "stdout",
     "output_type": "stream",
     "text": [
      "98 0.4012836115434766 0.4012836115434766 16657.969039916992\n",
      "98 0.3817100254818797 0.3817100254818797 16661.644943237305\n",
      "98 0.3659159354865551 0.3659159354865551 16984.23388671875\n",
      "98 0.36203121952712536 0.36203121952712536 17002.33349609375\n",
      "98 0.35452036280184984 0.35452036280184984 17012.92169189453\n",
      "\n"
     ]
    },
    {
     "data": {
      "application/vnd.jupyter.widget-view+json": {
       "model_id": "99cbcc316fcc409a8c9f640f3cd0fd9f",
       "version_major": 2,
       "version_minor": 0
      },
      "text/plain": [
       "HBox(children=(IntProgress(value=0, max=77), HTML(value='')))"
      ]
     },
     "metadata": {},
     "output_type": "display_data"
    },
    {
     "name": "stdout",
     "output_type": "stream",
     "text": [
      "99 0.338326676748693 0.338326676748693 16588.850677490234\n",
      "99 0.3201065193861723 0.3201065193861723 16495.252471923828\n",
      "99 0.315989893861115 0.315989893861115 16828.46612548828\n",
      "99 0.31890926882624626 0.31890926882624626 16828.8974609375\n",
      "99 0.31099332962185144 0.31099332962185144 16753.36590576172\n",
      "\n",
      "\n"
     ]
    },
    {
     "data": {
      "application/vnd.jupyter.widget-view+json": {
       "model_id": "8fa2591bf6294b35b6d86cdf0f5de2e2",
       "version_major": 2,
       "version_minor": 0
      },
      "text/plain": [
       "HBox(children=(IntProgress(value=0), HTML(value='')))"
      ]
     },
     "metadata": {},
     "output_type": "display_data"
    },
    {
     "data": {
      "application/vnd.jupyter.widget-view+json": {
       "model_id": "87f95d8572cf4f47905e08a39fde42ff",
       "version_major": 2,
       "version_minor": 0
      },
      "text/plain": [
       "HBox(children=(IntProgress(value=0, max=77), HTML(value='')))"
      ]
     },
     "metadata": {},
     "output_type": "display_data"
    },
    {
     "name": "stdout",
     "output_type": "stream",
     "text": [
      "0 0.29462702572345734 0.29462702572345734 16731.394287109375\n",
      "0 0.28996439557522535 0.28996439557522535 16697.198669433594\n",
      "0 0.28566903341561556 0.28566903341561556 16616.01010131836\n",
      "0 0.2810251032933593 0.2810251032933593 16586.967407226562\n",
      "\n"
     ]
    },
    {
     "data": {
      "application/vnd.jupyter.widget-view+json": {
       "model_id": "0defb224cba446d2b465ffaf70cd565a",
       "version_major": 2,
       "version_minor": 0
      },
      "text/plain": [
       "HBox(children=(IntProgress(value=0, max=77), HTML(value='')))"
      ]
     },
     "metadata": {},
     "output_type": "display_data"
    },
    {
     "name": "stdout",
     "output_type": "stream",
     "text": [
      "1 0.2731085876002908 0.2731085876002908 16310.745559692383\n",
      "1 0.26699309376999736 0.26699309376999736 16311.15299987793\n",
      "1 0.2610793625935912 0.2610793625935912 16624.633178710938\n",
      "1 0.25658194394782186 0.25658194394782186 16626.31036376953\n",
      "1 0.25255522038787603 0.25255522038787603 16640.48974609375\n",
      "\n"
     ]
    },
    {
     "data": {
      "application/vnd.jupyter.widget-view+json": {
       "model_id": "cae1acb907c349b382b87e0d8e0b4534",
       "version_major": 2,
       "version_minor": 0
      },
      "text/plain": [
       "HBox(children=(IntProgress(value=0, max=77), HTML(value='')))"
      ]
     },
     "metadata": {},
     "output_type": "display_data"
    },
    {
     "name": "stdout",
     "output_type": "stream",
     "text": [
      "2 0.2434084308333695 0.2434084308333695 16407.88803100586\n",
      "2 0.2388831744901836 0.2388831744901836 16540.41390991211\n",
      "2 0.23895594803616405 0.23895594803616405 16905.815856933594\n",
      "2 0.2384712570346892 0.2384712570346892 16880.207641601562\n",
      "2 0.237756771966815 0.237756771966815 16906.500610351562\n",
      "\n"
     ]
    },
    {
     "data": {
      "application/vnd.jupyter.widget-view+json": {
       "model_id": "9455083e4d594c9cb6e77599ed6be865",
       "version_major": 2,
       "version_minor": 0
      },
      "text/plain": [
       "HBox(children=(IntProgress(value=0, max=77), HTML(value='')))"
      ]
     },
     "metadata": {},
     "output_type": "display_data"
    },
    {
     "name": "stdout",
     "output_type": "stream",
     "text": [
      "3 0.22608567588031292 0.22608567588031292 16555.219619750977\n",
      "3 0.22036980092525482 0.22036980092525482 16550.578018188477\n",
      "3 0.2232473767362535 0.2232473767362535 16948.8017578125\n",
      "3 0.21850954834371805 0.21850954834371805 17016.361206054688\n",
      "3 0.21423005871474743 0.21423005871474743 17046.090270996094\n",
      "\n"
     ]
    },
    {
     "data": {
      "application/vnd.jupyter.widget-view+json": {
       "model_id": "5ab023ade4eb452a839fb88b2879b101",
       "version_major": 2,
       "version_minor": 0
      },
      "text/plain": [
       "HBox(children=(IntProgress(value=0, max=77), HTML(value='')))"
      ]
     },
     "metadata": {},
     "output_type": "display_data"
    },
    {
     "name": "stdout",
     "output_type": "stream",
     "text": [
      "4 0.21202213829383254 0.21202213829383254 16681.051803588867\n",
      "4 0.2086499514989555 0.2086499514989555 16678.39744567871\n",
      "4 0.20821754727512598 0.20821754727512598 17041.1083984375\n",
      "4 0.20469704503193498 0.20469704503193498 17060.475158691406\n",
      "4 0.20058943750336766 0.20058943750336766 17095.027465820312\n",
      "\n"
     ]
    },
    {
     "data": {
      "application/vnd.jupyter.widget-view+json": {
       "model_id": "92d0524e9a4046b7beaab98ee90f46a9",
       "version_major": 2,
       "version_minor": 0
      },
      "text/plain": [
       "HBox(children=(IntProgress(value=0, max=77), HTML(value='')))"
      ]
     },
     "metadata": {},
     "output_type": "display_data"
    },
    {
     "name": "stdout",
     "output_type": "stream",
     "text": [
      "5 0.2015344058163464 0.2015344058163464 16785.027374267578\n",
      "5 0.19612614810466766 0.19612614810466766 16797.142547607422\n",
      "5 0.19464163621887565 0.19464163621887565 17156.328247070312\n",
      "5 0.19596932036802173 0.19596932036802173 17118.359130859375\n",
      "\n"
     ]
    },
    {
     "data": {
      "application/vnd.jupyter.widget-view+json": {
       "model_id": "b1934d526abb44b7a08fcce2c0d3dc07",
       "version_major": 2,
       "version_minor": 0
      },
      "text/plain": [
       "HBox(children=(IntProgress(value=0, max=77), HTML(value='')))"
      ]
     },
     "metadata": {},
     "output_type": "display_data"
    },
    {
     "name": "stdout",
     "output_type": "stream",
     "text": [
      "6 0.19053574558347464 0.19053574558347464 16760.607421875\n",
      "6 0.18910664599388838 0.18910664599388838 16779.32843017578\n",
      "6 0.19280380895361304 0.19280380895361304 17092.283935546875\n",
      "6 0.1893543265759945 0.1893543265759945 17110.605041503906\n",
      "6 0.1833588476292789 0.1833588476292789 17122.288696289062\n",
      "\n"
     ]
    },
    {
     "data": {
      "application/vnd.jupyter.widget-view+json": {
       "model_id": "4a2cc2b10c7244b4a7995210c0c0015a",
       "version_major": 2,
       "version_minor": 0
      },
      "text/plain": [
       "HBox(children=(IntProgress(value=0, max=77), HTML(value='')))"
      ]
     },
     "metadata": {},
     "output_type": "display_data"
    },
    {
     "name": "stdout",
     "output_type": "stream",
     "text": [
      "7 0.1825945833697915 0.1825945833697915 16769.699279785156\n",
      "7 0.1806172407232225 0.1806172407232225 16806.150634765625\n",
      "7 0.18002790911123157 0.18002790911123157 17181.112426757812\n",
      "7 0.1787201571278274 0.1787201571278274 17222.593811035156\n",
      "7 0.17868397245183587 0.17868397245183587 17258.981079101562\n",
      "\n"
     ]
    },
    {
     "data": {
      "application/vnd.jupyter.widget-view+json": {
       "model_id": "3f7c37b96d3a46408158fac63f92fe12",
       "version_major": 2,
       "version_minor": 0
      },
      "text/plain": [
       "HBox(children=(IntProgress(value=0, max=77), HTML(value='')))"
      ]
     },
     "metadata": {},
     "output_type": "display_data"
    },
    {
     "name": "stdout",
     "output_type": "stream",
     "text": [
      "8 0.18104844726622105 0.18104844726622105 16936.220794677734\n",
      "8 0.1782788597047329 0.1782788597047329 16950.925018310547\n",
      "8 0.17332564713433385 0.17332564713433385 17310.36846923828\n",
      "8 0.17064134404063225 0.17064134404063225 17326.538330078125\n",
      "8 0.16742643993347883 0.16742643993347883 17315.14190673828\n",
      "\n"
     ]
    },
    {
     "data": {
      "application/vnd.jupyter.widget-view+json": {
       "model_id": "ff1041112a1a486ea407590a3547c203",
       "version_major": 2,
       "version_minor": 0
      },
      "text/plain": [
       "HBox(children=(IntProgress(value=0, max=77), HTML(value='')))"
      ]
     },
     "metadata": {},
     "output_type": "display_data"
    },
    {
     "name": "stdout",
     "output_type": "stream",
     "text": [
      "9 0.16707391710951924 0.16707391710951924 16971.098358154297\n",
      "9 0.16854705568403006 0.16854705568403006 17008.594024658203\n",
      "9 0.1658915812149644 0.1658915812149644 17303.705139160156\n",
      "9 0.16523613082244992 0.16523613082244992 17250.333862304688\n",
      "9 0.16672112420201302 0.16672112420201302 17297.888610839844\n",
      "\n"
     ]
    },
    {
     "data": {
      "application/vnd.jupyter.widget-view+json": {
       "model_id": "8bee952d2e0b4a4fbf51bfb33200e2ed",
       "version_major": 2,
       "version_minor": 0
      },
      "text/plain": [
       "HBox(children=(IntProgress(value=0, max=77), HTML(value='')))"
      ]
     },
     "metadata": {},
     "output_type": "display_data"
    },
    {
     "name": "stdout",
     "output_type": "stream",
     "text": [
      "10 0.16420169826596975 0.16420169826596975 16977.79850769043\n",
      "10 0.16305902367457747 0.16305902367457747 16998.368209838867\n",
      "10 0.16349569847807288 0.16349569847807288 17409.596435546875\n",
      "10 0.1630546497181058 0.1630546497181058 17586.74462890625\n",
      "\n"
     ]
    },
    {
     "data": {
      "application/vnd.jupyter.widget-view+json": {
       "model_id": "09a5dd0889304077ba28ada5a0f4ace4",
       "version_major": 2,
       "version_minor": 0
      },
      "text/plain": [
       "HBox(children=(IntProgress(value=0, max=77), HTML(value='')))"
      ]
     },
     "metadata": {},
     "output_type": "display_data"
    },
    {
     "name": "stdout",
     "output_type": "stream",
     "text": [
      "11 0.15925170807167888 0.15925170807167888 17321.555389404297\n",
      "11 0.1568217328749597 0.1568217328749597 17249.098541259766\n",
      "11 0.15774031169712543 0.15774031169712543 17617.773498535156\n",
      "11 0.15670971758663654 0.15670971758663654 17682.903747558594\n",
      "11 0.15561473881825805 0.15561473881825805 17640.57635498047\n",
      "\n"
     ]
    },
    {
     "data": {
      "application/vnd.jupyter.widget-view+json": {
       "model_id": "1ab0dbdabbe44cce802886f77b4e08b6",
       "version_major": 2,
       "version_minor": 0
      },
      "text/plain": [
       "HBox(children=(IntProgress(value=0, max=77), HTML(value='')))"
      ]
     },
     "metadata": {},
     "output_type": "display_data"
    },
    {
     "name": "stdout",
     "output_type": "stream",
     "text": [
      "12 0.15550896106287837 0.15550896106287837 17207.143188476562\n",
      "12 0.155593138653785 0.155593138653785 17192.355102539062\n",
      "12 0.15416113706305623 0.15416113706305623 17533.521728515625\n",
      "12 0.15236069587990642 0.15236069587990642 17508.591552734375\n",
      "12 0.15207897406071424 0.15207897406071424 17474.822998046875\n",
      "\n"
     ]
    },
    {
     "data": {
      "application/vnd.jupyter.widget-view+json": {
       "model_id": "6a283a62057d430e86d5e8139ce435c3",
       "version_major": 2,
       "version_minor": 0
      },
      "text/plain": [
       "HBox(children=(IntProgress(value=0, max=77), HTML(value='')))"
      ]
     },
     "metadata": {},
     "output_type": "display_data"
    },
    {
     "name": "stdout",
     "output_type": "stream",
     "text": [
      "13 0.15102016646414995 0.15102016646414995 17115.563568115234\n",
      "13 0.14985718857496977 0.14985718857496977 17154.298126220703\n",
      "13 0.15175434201955795 0.15175434201955795 17538.30633544922\n",
      "13 0.14991050772368908 0.14991050772368908 17507.75341796875\n",
      "13 0.1462706751190126 0.1462706751190126 17490.97100830078\n",
      "\n"
     ]
    },
    {
     "data": {
      "application/vnd.jupyter.widget-view+json": {
       "model_id": "41ed286979c64a4f9d39cab83553ef9b",
       "version_major": 2,
       "version_minor": 0
      },
      "text/plain": [
       "HBox(children=(IntProgress(value=0, max=77), HTML(value='')))"
      ]
     },
     "metadata": {},
     "output_type": "display_data"
    },
    {
     "name": "stdout",
     "output_type": "stream",
     "text": [
      "14 0.14695622073486447 0.14695622073486447 17181.51351928711\n",
      "14 0.14739629067480564 0.14739629067480564 17183.013580322266\n",
      "14 0.1460832681041211 0.1460832681041211 17497.739318847656\n",
      "14 0.14310884359292686 0.14310884359292686 17447.182495117188\n",
      "14 0.141683975700289 0.141683975700289 17483.078491210938\n",
      "\n"
     ]
    },
    {
     "data": {
      "application/vnd.jupyter.widget-view+json": {
       "model_id": "d25c564ba845459080cc4601bd28cd51",
       "version_major": 2,
       "version_minor": 0
      },
      "text/plain": [
       "HBox(children=(IntProgress(value=0, max=77), HTML(value='')))"
      ]
     },
     "metadata": {},
     "output_type": "display_data"
    },
    {
     "name": "stdout",
     "output_type": "stream",
     "text": [
      "15 0.14568243268877268 0.14568243268877268 17218.747299194336\n",
      "15 0.1445570457726717 0.1445570457726717 17230.700485229492\n",
      "15 0.14138813549652696 0.14138813549652696 17564.39031982422\n",
      "15 0.14270874066278338 0.14270874066278338 17524.782348632812\n",
      "15 0.14038991811685264 0.14038991811685264 17131.662048339844\n",
      "\n"
     ]
    },
    {
     "data": {
      "application/vnd.jupyter.widget-view+json": {
       "model_id": "d9a26a2104c94b46a1d8f991037f8c9d",
       "version_major": 2,
       "version_minor": 0
      },
      "text/plain": [
       "HBox(children=(IntProgress(value=0, max=77), HTML(value='')))"
      ]
     },
     "metadata": {},
     "output_type": "display_data"
    },
    {
     "name": "stdout",
     "output_type": "stream",
     "text": [
      "16 0.13897586683742702 0.13897586683742702 17139.743408203125\n",
      "16 0.13846552651375532 0.13846552651375532 17498.8203125\n",
      "16 0.13778318976983428 0.13778318976983428 17479.41632080078\n",
      "16 0.13808143557980657 0.13808143557980657 17538.337829589844\n",
      "\n"
     ]
    },
    {
     "data": {
      "application/vnd.jupyter.widget-view+json": {
       "model_id": "39601b71e7f94afa9811fec99efeb259",
       "version_major": 2,
       "version_minor": 0
      },
      "text/plain": [
       "HBox(children=(IntProgress(value=0, max=77), HTML(value='')))"
      ]
     },
     "metadata": {},
     "output_type": "display_data"
    },
    {
     "name": "stdout",
     "output_type": "stream",
     "text": [
      "17 0.13752487394958735 0.13752487394958735 17298.859802246094\n",
      "17 0.13812309107743204 0.13812309107743204 17393.571533203125\n",
      "17 0.13421048619784415 0.13421048619784415 17759.801391601562\n",
      "17 0.13211964652873576 0.13211964652873576 17688.37176513672\n",
      "17 0.13445504009723663 0.13445504009723663 17653.582275390625\n",
      "\n"
     ]
    },
    {
     "data": {
      "application/vnd.jupyter.widget-view+json": {
       "model_id": "f98fd24a0da748f6a92754e2ef36e1dd",
       "version_major": 2,
       "version_minor": 0
      },
      "text/plain": [
       "HBox(children=(IntProgress(value=0, max=77), HTML(value='')))"
      ]
     },
     "metadata": {},
     "output_type": "display_data"
    },
    {
     "name": "stdout",
     "output_type": "stream",
     "text": [
      "18 0.1329162938054651 0.1329162938054651 17257.87483215332\n",
      "18 0.13280188688077033 0.13280188688077033 17291.189529418945\n",
      "18 0.13288403791375458 0.13288403791375458 17706.648681640625\n",
      "18 0.13303121784701943 0.13303121784701943 17660.698364257812\n",
      "18 0.1337463844101876 0.1337463844101876 17663.422424316406\n",
      "\n"
     ]
    },
    {
     "data": {
      "application/vnd.jupyter.widget-view+json": {
       "model_id": "0dc1876435604a66b44e3588ebb940c0",
       "version_major": 2,
       "version_minor": 0
      },
      "text/plain": [
       "HBox(children=(IntProgress(value=0, max=77), HTML(value='')))"
      ]
     },
     "metadata": {},
     "output_type": "display_data"
    },
    {
     "name": "stdout",
     "output_type": "stream",
     "text": [
      "19 0.13251817971467972 0.13251817971467972 17349.540924072266\n",
      "19 0.1297727667260915 0.1297727667260915 17319.091766357422\n",
      "19 0.12922109151259065 0.12922109151259065 17673.588439941406\n",
      "19 0.12937438720837235 0.12937438720837235 17664.588928222656\n",
      "19 0.12676375731825829 0.12676375731825829 17645.476928710938\n",
      "\n"
     ]
    },
    {
     "data": {
      "application/vnd.jupyter.widget-view+json": {
       "model_id": "8d571f2cc63840ff831c48e95c970a9b",
       "version_major": 2,
       "version_minor": 0
      },
      "text/plain": [
       "HBox(children=(IntProgress(value=0, max=77), HTML(value='')))"
      ]
     },
     "metadata": {},
     "output_type": "display_data"
    },
    {
     "name": "stdout",
     "output_type": "stream",
     "text": [
      "20 0.1267018944490701 0.1267018944490701 17314.79669189453\n",
      "20 0.1266925847157836 0.1266925847157836 17308.396606445312\n",
      "20 0.12549689412117004 0.12549689412117004 17656.080993652344\n",
      "20 0.1268716969061643 0.1268716969061643 17685.656188964844\n",
      "20 0.1275356977712363 0.1275356977712363 17686.622192382812\n",
      "\n"
     ]
    },
    {
     "data": {
      "application/vnd.jupyter.widget-view+json": {
       "model_id": "6c1b6747dff44a95b9aa17442bf45bee",
       "version_major": 2,
       "version_minor": 0
      },
      "text/plain": [
       "HBox(children=(IntProgress(value=0, max=77), HTML(value='')))"
      ]
     },
     "metadata": {},
     "output_type": "display_data"
    },
    {
     "name": "stdout",
     "output_type": "stream",
     "text": [
      "21 0.12414931622333825 0.12414931622333825 17339.08546447754\n",
      "21 0.12398057989776134 0.12398057989776134 17358.00178527832\n",
      "21 0.12540927901864052 0.12540927901864052 17692.619140625\n",
      "21 0.1225222919601947 0.1225222919601947 17648.35107421875\n",
      "\n"
     ]
    },
    {
     "data": {
      "application/vnd.jupyter.widget-view+json": {
       "model_id": "4f6bc7ec848044109f5ae230f3e95a28",
       "version_major": 2,
       "version_minor": 0
      },
      "text/plain": [
       "HBox(children=(IntProgress(value=0, max=77), HTML(value='')))"
      ]
     },
     "metadata": {},
     "output_type": "display_data"
    },
    {
     "name": "stdout",
     "output_type": "stream",
     "text": [
      "22 0.12086849706247449 0.12086849706247449 17291.86981201172\n",
      "22 0.12224260577932 0.12224260577932 17361.4970703125\n",
      "22 0.12319249170832336 0.12319249170832336 17706.959350585938\n",
      "22 0.121319436468184 0.121319436468184 17625.243896484375\n",
      "22 0.12011516327038407 0.12011516327038407 17607.37664794922\n",
      "\n"
     ]
    },
    {
     "data": {
      "application/vnd.jupyter.widget-view+json": {
       "model_id": "64e7d12a292e4c1fb0f47bf3aa467549",
       "version_major": 2,
       "version_minor": 0
      },
      "text/plain": [
       "HBox(children=(IntProgress(value=0, max=77), HTML(value='')))"
      ]
     },
     "metadata": {},
     "output_type": "display_data"
    },
    {
     "name": "stdout",
     "output_type": "stream",
     "text": [
      "23 0.12042423547245562 0.12042423547245562 17321.29148864746\n",
      "23 0.1207987058442086 0.1207987058442086 17356.609664916992\n",
      "23 0.1187758119776845 0.1187758119776845 17669.102172851562\n",
      "23 0.11863151635043323 0.11863151635043323 17641.3984375\n",
      "23 0.11917044362053275 0.11917044362053275 17631.674560546875\n",
      "\n"
     ]
    },
    {
     "data": {
      "application/vnd.jupyter.widget-view+json": {
       "model_id": "245537c9a0c24cc8ac9d24961163bf79",
       "version_major": 2,
       "version_minor": 0
      },
      "text/plain": [
       "HBox(children=(IntProgress(value=0, max=77), HTML(value='')))"
      ]
     },
     "metadata": {},
     "output_type": "display_data"
    },
    {
     "name": "stdout",
     "output_type": "stream",
     "text": [
      "24 0.11808700230903924 0.11808700230903924 17266.384796142578\n",
      "24 0.11787116876803339 0.11787116876803339 17273.631622314453\n",
      "24 0.11605580314062536 0.11605580314062536 17654.770263671875\n",
      "24 0.11552510550245643 0.11552510550245643 17643.658325195312\n",
      "24 0.1154440704267472 0.1154440704267472 17568.922302246094\n",
      "\n"
     ]
    },
    {
     "data": {
      "application/vnd.jupyter.widget-view+json": {
       "model_id": "abe18ffe10514b5782da2f14ed1e0103",
       "version_major": 2,
       "version_minor": 0
      },
      "text/plain": [
       "HBox(children=(IntProgress(value=0, max=77), HTML(value='')))"
      ]
     },
     "metadata": {},
     "output_type": "display_data"
    },
    {
     "name": "stdout",
     "output_type": "stream",
     "text": [
      "25 0.11526608793064952 0.11526608793064952 17170.398193359375\n",
      "25 0.11480035493150353 0.11480035493150353 17204.53387451172\n",
      "25 0.11412116326391697 0.11412116326391697 17596.461791992188\n",
      "25 0.11291432799771428 0.11291432799771428 17553.108459472656\n",
      "25 0.11126184393651783 0.11126184393651783 17501.24151611328\n",
      "\n"
     ]
    },
    {
     "data": {
      "application/vnd.jupyter.widget-view+json": {
       "model_id": "964c90470e1f42138c70803f65e0f656",
       "version_major": 2,
       "version_minor": 0
      },
      "text/plain": [
       "HBox(children=(IntProgress(value=0, max=77), HTML(value='')))"
      ]
     },
     "metadata": {},
     "output_type": "display_data"
    },
    {
     "name": "stdout",
     "output_type": "stream",
     "text": [
      "26 0.11059188237413764 0.11059188237413764 17149.3136138916\n",
      "26 0.11128596891649067 0.11128596891649067 17159.136611938477\n",
      "26 0.11210240214131773 0.11210240214131773 17567.624389648438\n",
      "26 0.11107815033756196 0.11107815033756196 17529.214111328125\n",
      "\n"
     ]
    },
    {
     "data": {
      "application/vnd.jupyter.widget-view+json": {
       "model_id": "753e9bb9ef4d4d33a1dc4e518fa1fc86",
       "version_major": 2,
       "version_minor": 0
      },
      "text/plain": [
       "HBox(children=(IntProgress(value=0, max=77), HTML(value='')))"
      ]
     },
     "metadata": {},
     "output_type": "display_data"
    },
    {
     "name": "stdout",
     "output_type": "stream",
     "text": [
      "27 0.10951495496556163 0.10951495496556163 17093.50747680664\n",
      "27 0.1092839976772666 0.1092839976772666 17135.90756225586\n",
      "27 0.10956615558825433 0.10956615558825433 17426.69512939453\n",
      "27 0.10923756542615592 0.10923756542615592 17352.642639160156\n",
      "27 0.10943211615085602 0.10943211615085602 17415.174072265625\n",
      "\n"
     ]
    },
    {
     "data": {
      "application/vnd.jupyter.widget-view+json": {
       "model_id": "9154b99618b8436aa2c57541e1b204ef",
       "version_major": 2,
       "version_minor": 0
      },
      "text/plain": [
       "HBox(children=(IntProgress(value=0, max=77), HTML(value='')))"
      ]
     },
     "metadata": {},
     "output_type": "display_data"
    },
    {
     "name": "stdout",
     "output_type": "stream",
     "text": [
      "28 0.1078609717078507 0.1078609717078507 17080.346710205078\n",
      "28 0.10703737428411841 0.10703737428411841 17088.39566040039\n",
      "28 0.10794498468749225 0.10794498468749225 17534.85186767578\n",
      "28 0.10676762950606644 0.10676762950606644 17506.493408203125\n",
      "28 0.10514023783616722 0.10514023783616722 17436.312866210938\n",
      "\n"
     ]
    },
    {
     "data": {
      "application/vnd.jupyter.widget-view+json": {
       "model_id": "e102c392e5ef404e8e9e301712aba8e0",
       "version_major": 2,
       "version_minor": 0
      },
      "text/plain": [
       "HBox(children=(IntProgress(value=0, max=77), HTML(value='')))"
      ]
     },
     "metadata": {},
     "output_type": "display_data"
    },
    {
     "name": "stdout",
     "output_type": "stream",
     "text": [
      "29 0.10529046808369458 0.10529046808369458 17098.83319091797\n",
      "29 0.10589283239096403 0.10589283239096403 17157.473266601562\n",
      "29 0.10547664971090853 0.10547664971090853 17538.081420898438\n",
      "29 0.10575604648329318 0.10575604648329318 17529.526000976562\n",
      "29 0.10570582607761025 0.10570582607761025 17506.064025878906\n",
      "\n"
     ]
    },
    {
     "data": {
      "application/vnd.jupyter.widget-view+json": {
       "model_id": "3b5f928bb95c4fb387b793bc6b60447e",
       "version_major": 2,
       "version_minor": 0
      },
      "text/plain": [
       "HBox(children=(IntProgress(value=0, max=77), HTML(value='')))"
      ]
     },
     "metadata": {},
     "output_type": "display_data"
    },
    {
     "name": "stdout",
     "output_type": "stream",
     "text": [
      "30 0.10505957272835076 0.10505957272835076 17096.25405883789\n",
      "30 0.10556925134733319 0.10556925134733319 17102.393829345703\n",
      "30 0.10620911070145667 0.10620911070145667 17451.346557617188\n",
      "30 0.10534155718050897 0.10534155718050897 17608.27606201172\n",
      "30 0.10356869734823704 0.10356869734823704 18144.17889404297\n",
      "\n"
     ]
    },
    {
     "data": {
      "application/vnd.jupyter.widget-view+json": {
       "model_id": "2a5e182ce9bb49668f272035ac699988",
       "version_major": 2,
       "version_minor": 0
      },
      "text/plain": [
       "HBox(children=(IntProgress(value=0, max=77), HTML(value='')))"
      ]
     },
     "metadata": {},
     "output_type": "display_data"
    },
    {
     "name": "stdout",
     "output_type": "stream",
     "text": [
      "31 0.10247790301218629 0.10247790301218629 18062.785369873047\n",
      "31 0.10222477209754288 0.10222477209754288 17952.240447998047\n",
      "31 0.10039511858485639 0.10039511858485639 18232.63348388672\n",
      "31 0.09911828790791333 0.09911828790791333 18173.903686523438\n",
      "31 0.09959762822836637 0.09959762822836637 17745.747940063477\n",
      "\n"
     ]
    },
    {
     "data": {
      "application/vnd.jupyter.widget-view+json": {
       "model_id": "dd78fc32c1974d10aadc1338637b56bf",
       "version_major": 2,
       "version_minor": 0
      },
      "text/plain": [
       "HBox(children=(IntProgress(value=0, max=77), HTML(value='')))"
      ]
     },
     "metadata": {},
     "output_type": "display_data"
    },
    {
     "name": "stdout",
     "output_type": "stream",
     "text": [
      "32 0.09982877224683762 0.09982877224683762 17679.87110900879\n",
      "32 0.1001101559959352 0.1001101559959352 18038.325317382812\n",
      "32 0.09987741452641785 0.09987741452641785 18012.43377685547\n",
      "32 0.09969952702522278 0.09969952702522278 17944.224243164062\n",
      "\n"
     ]
    },
    {
     "data": {
      "application/vnd.jupyter.widget-view+json": {
       "model_id": "2636c332b5684c8b9370609c17dba166",
       "version_major": 2,
       "version_minor": 0
      },
      "text/plain": [
       "HBox(children=(IntProgress(value=0, max=77), HTML(value='')))"
      ]
     },
     "metadata": {},
     "output_type": "display_data"
    },
    {
     "name": "stdout",
     "output_type": "stream",
     "text": [
      "33 0.09819866763427854 0.09819866763427854 17570.962951660156\n",
      "33 0.09679095819592476 0.09679095819592476 17644.265747070312\n",
      "33 0.09610978653654456 0.09610978653654456 18049.916076660156\n",
      "33 0.0963102551177144 0.0963102551177144 18028.86297607422\n",
      "33 0.09626299166120589 0.09626299166120589 17974.538024902344\n",
      "\n"
     ]
    },
    {
     "data": {
      "application/vnd.jupyter.widget-view+json": {
       "model_id": "4e64b488d3884d168c624e6f5c818b40",
       "version_major": 2,
       "version_minor": 0
      },
      "text/plain": [
       "HBox(children=(IntProgress(value=0, max=77), HTML(value='')))"
      ]
     },
     "metadata": {},
     "output_type": "display_data"
    },
    {
     "name": "stdout",
     "output_type": "stream",
     "text": [
      "34 0.09577091853134334 0.09577091853134334 17618.228790283203\n",
      "34 0.09507529600523412 0.09507529600523412 17663.642547607422\n",
      "34 0.09419009275734425 0.09419009275734425 17994.39080810547\n",
      "34 0.09519979637116194 0.09519979637116194 18011.458251953125\n",
      "34 0.0951722227036953 0.0951722227036953 18082.86541748047\n",
      "\n"
     ]
    },
    {
     "data": {
      "application/vnd.jupyter.widget-view+json": {
       "model_id": "10f09cb1c73243c98b948a8167d2d394",
       "version_major": 2,
       "version_minor": 0
      },
      "text/plain": [
       "HBox(children=(IntProgress(value=0, max=77), HTML(value='')))"
      ]
     },
     "metadata": {},
     "output_type": "display_data"
    },
    {
     "name": "stdout",
     "output_type": "stream",
     "text": [
      "35 0.09443683130666614 0.09443683130666614 17731.703018188477\n",
      "35 0.0948955409694463 0.0948955409694463 17732.411697387695\n",
      "35 0.09531469829380512 0.09531469829380512 18032.31756591797\n",
      "35 0.09476461634039879 0.09476461634039879 17881.65673828125\n",
      "35 0.09272728278301656 0.09272728278301656 17827.48016357422\n",
      "\n"
     ]
    },
    {
     "data": {
      "application/vnd.jupyter.widget-view+json": {
       "model_id": "7d88c47208a94ee6a203e9175ec5dfeb",
       "version_major": 2,
       "version_minor": 0
      },
      "text/plain": [
       "HBox(children=(IntProgress(value=0, max=77), HTML(value='')))"
      ]
     },
     "metadata": {},
     "output_type": "display_data"
    },
    {
     "name": "stdout",
     "output_type": "stream",
     "text": [
      "36 0.09238434629514813 0.09238434629514813 17482.50831604004\n",
      "36 0.09219794534146786 0.09219794534146786 17438.096572875977\n",
      "36 0.09153166483156383 0.09153166483156383 17735.771057128906\n",
      "36 0.09082939242944121 0.09082939242944121 17720.420959472656\n",
      "36 0.08956311433576047 0.08956311433576047 17749.562133789062\n",
      "\n"
     ]
    },
    {
     "data": {
      "application/vnd.jupyter.widget-view+json": {
       "model_id": "380a593632b84835a935c9dc97aabc0b",
       "version_major": 2,
       "version_minor": 0
      },
      "text/plain": [
       "HBox(children=(IntProgress(value=0, max=77), HTML(value='')))"
      ]
     },
     "metadata": {},
     "output_type": "display_data"
    },
    {
     "name": "stdout",
     "output_type": "stream",
     "text": [
      "37 0.08988201897591352 0.08988201897591352 17411.569107055664\n",
      "37 0.09029012639075518 0.09029012639075518 17411.469131469727\n",
      "37 0.09038025233894587 0.09038025233894587 17763.969299316406\n",
      "37 0.08867011731490493 0.08867011731490493 17757.50701904297\n",
      "\n"
     ]
    },
    {
     "data": {
      "application/vnd.jupyter.widget-view+json": {
       "model_id": "cd2056d80d6344c29ee367a8738b7340",
       "version_major": 2,
       "version_minor": 0
      },
      "text/plain": [
       "HBox(children=(IntProgress(value=0, max=77), HTML(value='')))"
      ]
     },
     "metadata": {},
     "output_type": "display_data"
    },
    {
     "name": "stdout",
     "output_type": "stream",
     "text": [
      "38 0.08851503441110253 0.08851503441110253 17333.403747558594\n",
      "38 0.08869987167418003 0.08869987167418003 17263.715209960938\n",
      "38 0.08890908816829324 0.08890908816829324 17594.536071777344\n",
      "38 0.09072076668962836 0.09072076668962836 17573.722412109375\n",
      "38 0.08872983953915536 0.08872983953915536 17616.728759765625\n",
      "\n"
     ]
    },
    {
     "data": {
      "application/vnd.jupyter.widget-view+json": {
       "model_id": "6372648f4f5f48df8f8dcfbef0526907",
       "version_major": 2,
       "version_minor": 0
      },
      "text/plain": [
       "HBox(children=(IntProgress(value=0, max=77), HTML(value='')))"
      ]
     },
     "metadata": {},
     "output_type": "display_data"
    },
    {
     "name": "stdout",
     "output_type": "stream",
     "text": [
      "39 0.08693041116930544 0.08693041116930544 17336.663818359375\n",
      "39 0.08723303908482194 0.08723303908482194 17375.788696289062\n",
      "39 0.08641576347872615 0.08641576347872615 17727.36181640625\n",
      "39 0.08639979711733758 0.08639979711733758 17677.078247070312\n",
      "39 0.0865523365791887 0.0865523365791887 17729.59161376953\n",
      "\n"
     ]
    },
    {
     "data": {
      "application/vnd.jupyter.widget-view+json": {
       "model_id": "9fc626ac2e7e4a22bc6dd18fd33af586",
       "version_major": 2,
       "version_minor": 0
      },
      "text/plain": [
       "HBox(children=(IntProgress(value=0, max=77), HTML(value='')))"
      ]
     },
     "metadata": {},
     "output_type": "display_data"
    },
    {
     "name": "stdout",
     "output_type": "stream",
     "text": [
      "40 0.08586603496223688 0.08586603496223688 17431.549865722656\n",
      "40 0.08527793153189123 0.08527793153189123 17395.935668945312\n",
      "40 0.08484415360726416 0.08484415360726416 17744.038818359375\n",
      "40 0.08437084057368338 0.08437084057368338 17711.983520507812\n",
      "40 0.08472086838446558 0.08472086838446558 17686.015563964844\n",
      "\n"
     ]
    },
    {
     "data": {
      "application/vnd.jupyter.widget-view+json": {
       "model_id": "fa6f152b771f4ea99b233b8da9ca1454",
       "version_major": 2,
       "version_minor": 0
      },
      "text/plain": [
       "HBox(children=(IntProgress(value=0, max=77), HTML(value='')))"
      ]
     },
     "metadata": {},
     "output_type": "display_data"
    },
    {
     "name": "stdout",
     "output_type": "stream",
     "text": [
      "41 0.08488018438220024 0.08488018438220024 17322.610244750977\n",
      "41 0.08448547124862671 0.08448547124862671 17340.495010375977\n",
      "41 0.08383105555549264 0.08383105555549264 17700.64239501953\n",
      "41 0.08281784132122993 0.08281784132122993 17609.90020751953\n",
      "41 0.08258390403352678 0.08258390403352678 17516.01971435547\n",
      "\n"
     ]
    },
    {
     "data": {
      "application/vnd.jupyter.widget-view+json": {
       "model_id": "1cc5f6faa69948fcab0f5382c2913da6",
       "version_major": 2,
       "version_minor": 0
      },
      "text/plain": [
       "HBox(children=(IntProgress(value=0, max=77), HTML(value='')))"
      ]
     },
     "metadata": {},
     "output_type": "display_data"
    },
    {
     "name": "stdout",
     "output_type": "stream",
     "text": [
      "42 0.08365962677635252 0.08365962677635252 17186.04312133789\n",
      "42 0.08287560124881566 0.08287560124881566 17222.76351928711\n",
      "42 0.08076301240362227 0.08076301240362227 17551.24737548828\n",
      "42 0.08186177327297628 0.08186177327297628 17544.372802734375\n",
      "\n"
     ]
    },
    {
     "data": {
      "application/vnd.jupyter.widget-view+json": {
       "model_id": "4b6c557ba8154ca48a76dd3fc03e1b39",
       "version_major": 2,
       "version_minor": 0
      },
      "text/plain": [
       "HBox(children=(IntProgress(value=0, max=77), HTML(value='')))"
      ]
     },
     "metadata": {},
     "output_type": "display_data"
    },
    {
     "name": "stdout",
     "output_type": "stream",
     "text": [
      "43 0.08164087822660804 0.08164087822660804 17202.861404418945\n",
      "43 0.0797065026126802 0.0797065026126802 17241.16065979004\n",
      "43 0.07846023980528116 0.07846023980528116 17605.59912109375\n",
      "43 0.07737315935082734 0.07737315935082734 17619.10968017578\n",
      "43 0.0775092002004385 0.0775092002004385 17603.400939941406\n",
      "\n"
     ]
    },
    {
     "data": {
      "application/vnd.jupyter.widget-view+json": {
       "model_id": "0f23c4756ea74d1a8b11856b5620a408",
       "version_major": 2,
       "version_minor": 0
      },
      "text/plain": [
       "HBox(children=(IntProgress(value=0, max=77), HTML(value='')))"
      ]
     },
     "metadata": {},
     "output_type": "display_data"
    },
    {
     "name": "stdout",
     "output_type": "stream",
     "text": [
      "44 0.07790888217277825 0.07790888217277825 17211.5040435791\n",
      "44 0.07877963106147945 0.07877963106147945 17222.388870239258\n",
      "44 0.07794226589612663 0.07794226589612663 17515.320190429688\n",
      "44 0.07790703885257244 0.07790703885257244 17496.275390625\n",
      "44 0.0773867224343121 0.0773867224343121 17559.061401367188\n",
      "\n"
     ]
    },
    {
     "data": {
      "application/vnd.jupyter.widget-view+json": {
       "model_id": "9b86dc92b56c400a9c6f48f9cdf3fc24",
       "version_major": 2,
       "version_minor": 0
      },
      "text/plain": [
       "HBox(children=(IntProgress(value=0, max=77), HTML(value='')))"
      ]
     },
     "metadata": {},
     "output_type": "display_data"
    },
    {
     "name": "stdout",
     "output_type": "stream",
     "text": [
      "45 0.07451726077124476 0.07451726077124476 17263.890563964844\n",
      "45 0.07503302791155875 0.07503302791155875 17293.451538085938\n",
      "45 0.07575136236846447 0.07575136236846447 17637.34716796875\n",
      "45 0.07503312430344522 0.07503312430344522 17629.804138183594\n",
      "45 0.07470931229181588 0.07470931229181588 17640.937927246094\n",
      "\n"
     ]
    },
    {
     "data": {
      "application/vnd.jupyter.widget-view+json": {
       "model_id": "99f5e932515f440697c27fde09a614d0",
       "version_major": 2,
       "version_minor": 0
      },
      "text/plain": [
       "HBox(children=(IntProgress(value=0, max=77), HTML(value='')))"
      ]
     },
     "metadata": {},
     "output_type": "display_data"
    },
    {
     "name": "stdout",
     "output_type": "stream",
     "text": [
      "46 0.07371893851086497 0.07371893851086497 17258.240631103516\n",
      "46 0.07354535534977913 0.07354535534977913 17254.719207763672\n",
      "46 0.0739283342845738 0.0739283342845738 17659.600524902344\n",
      "46 0.07370972842909396 0.07370972842909396 17731.625549316406\n",
      "46 0.07399331568740308 0.07399331568740308 17791.434204101562\n",
      "\n"
     ]
    },
    {
     "data": {
      "application/vnd.jupyter.widget-view+json": {
       "model_id": "d431b03418794d2dbfa2f630b4b33b9a",
       "version_major": 2,
       "version_minor": 0
      },
      "text/plain": [
       "HBox(children=(IntProgress(value=0, max=77), HTML(value='')))"
      ]
     },
     "metadata": {},
     "output_type": "display_data"
    },
    {
     "name": "stdout",
     "output_type": "stream",
     "text": [
      "47 0.07361145270988345 0.07361145270988345 17400.382446289062\n",
      "47 0.07220643479377031 0.07220643479377031 17362.199462890625\n",
      "47 0.07142867078073323 0.07142867078073323 17671.313354492188\n",
      "47 0.07111815852113068 0.07111815852113068 17644.599060058594\n",
      "47 0.07109948294237256 0.07109948294237256 17372.96174621582\n",
      "\n"
     ]
    },
    {
     "data": {
      "application/vnd.jupyter.widget-view+json": {
       "model_id": "006086af4ae44ffcbdb1134d63881fb3",
       "version_major": 2,
       "version_minor": 0
      },
      "text/plain": [
       "HBox(children=(IntProgress(value=0, max=77), HTML(value='')))"
      ]
     },
     "metadata": {},
     "output_type": "display_data"
    },
    {
     "name": "stdout",
     "output_type": "stream",
     "text": [
      "48 0.07119566085748374 0.07119566085748374 17390.27473449707\n",
      "48 0.07105237175710499 0.07105237175710499 17662.225158691406\n",
      "48 0.07099194801412523 0.07099194801412523 17686.952026367188\n",
      "48 0.07017395086586475 0.07017395086586475 17688.842651367188\n",
      "\n"
     ]
    },
    {
     "data": {
      "application/vnd.jupyter.widget-view+json": {
       "model_id": "8e0637ade1c24ecc9d4b9b0749e6e11e",
       "version_major": 2,
       "version_minor": 0
      },
      "text/plain": [
       "HBox(children=(IntProgress(value=0, max=77), HTML(value='')))"
      ]
     },
     "metadata": {},
     "output_type": "display_data"
    },
    {
     "name": "stdout",
     "output_type": "stream",
     "text": [
      "49 0.06936298008076847 0.06936298008076847 17297.39939880371\n",
      "49 0.06938965525478125 0.06938965525478125 17356.57731628418\n",
      "49 0.06893749861046672 0.06893749861046672 17747.37823486328\n",
      "49 0.06855777453165501 0.06855777453165501 17795.42120361328\n",
      "49 0.06847845704760402 0.06847845704760402 17801.847900390625\n",
      "\n"
     ]
    },
    {
     "data": {
      "application/vnd.jupyter.widget-view+json": {
       "model_id": "3d3204a25eee4b2598f0ef24650a8e9b",
       "version_major": 2,
       "version_minor": 0
      },
      "text/plain": [
       "HBox(children=(IntProgress(value=0, max=77), HTML(value='')))"
      ]
     },
     "metadata": {},
     "output_type": "display_data"
    },
    {
     "name": "stdout",
     "output_type": "stream",
     "text": [
      "50 0.06872620922513306 0.06872620922513306 17402.301055908203\n",
      "50 0.06932690320536494 0.06932690320536494 17409.52670288086\n",
      "50 0.06949547247495502 0.06949547247495502 17700.060791015625\n",
      "50 0.0679726906819269 0.0679726906819269 17643.43084716797\n",
      "50 0.06651279889047146 0.06651279889047146 17656.476135253906\n",
      "\n"
     ]
    },
    {
     "data": {
      "application/vnd.jupyter.widget-view+json": {
       "model_id": "9b17d490c56f47d58d4fb44aa487d164",
       "version_major": 2,
       "version_minor": 0
      },
      "text/plain": [
       "HBox(children=(IntProgress(value=0, max=77), HTML(value='')))"
      ]
     },
     "metadata": {},
     "output_type": "display_data"
    },
    {
     "name": "stdout",
     "output_type": "stream",
     "text": [
      "51 0.0665509074460715 0.0665509074460715 17285.700164794922\n",
      "51 0.06655836221762002 0.06655836221762002 17348.54360961914\n",
      "51 0.06551004096399993 0.06551004096399993 17701.53839111328\n",
      "51 0.06469405826646835 0.06469405826646835 17644.30303955078\n",
      "51 0.06504237954504788 0.06504237954504788 17688.21356201172\n",
      "\n"
     ]
    },
    {
     "data": {
      "application/vnd.jupyter.widget-view+json": {
       "model_id": "6e5fddf43de74891b38a9f04c6319c0b",
       "version_major": 2,
       "version_minor": 0
      },
      "text/plain": [
       "HBox(children=(IntProgress(value=0, max=77), HTML(value='')))"
      ]
     },
     "metadata": {},
     "output_type": "display_data"
    },
    {
     "name": "stdout",
     "output_type": "stream",
     "text": [
      "52 0.06494220555759966 0.06494220555759966 17401.26837158203\n",
      "52 0.06480060319881886 0.06480060319881886 17399.676391601562\n",
      "52 0.06587781372945756 0.06587781372945756 17735.687744140625\n",
      "52 0.06588292820379138 0.06588292820379138 17767.77490234375\n",
      "52 0.06432925770059228 0.06432925770059228 17739.22100830078\n",
      "\n"
     ]
    },
    {
     "data": {
      "application/vnd.jupyter.widget-view+json": {
       "model_id": "e2494d64ca39496b9aff6cbfb39c2f0f",
       "version_major": 2,
       "version_minor": 0
      },
      "text/plain": [
       "HBox(children=(IntProgress(value=0, max=77), HTML(value='')))"
      ]
     },
     "metadata": {},
     "output_type": "display_data"
    },
    {
     "name": "stdout",
     "output_type": "stream",
     "text": [
      "53 0.06321250298060477 0.06321250298060477 17380.083953857422\n",
      "53 0.063483074773103 0.063483074773103 17400.670989990234\n",
      "53 0.0648741991026327 0.0648741991026327 17777.758728027344\n",
      "53 0.06416218192316592 0.06416218192316592 17814.379943847656\n",
      "\n"
     ]
    },
    {
     "data": {
      "application/vnd.jupyter.widget-view+json": {
       "model_id": "32145973fa584a97b476fff595cdaef5",
       "version_major": 2,
       "version_minor": 0
      },
      "text/plain": [
       "HBox(children=(IntProgress(value=0, max=77), HTML(value='')))"
      ]
     },
     "metadata": {},
     "output_type": "display_data"
    },
    {
     "name": "stdout",
     "output_type": "stream",
     "text": [
      "54 0.0635528874117881 0.0635528874117881 17482.955657958984\n",
      "54 0.0649279453791678 0.0649279453791678 17471.928253173828\n",
      "54 0.06416742887813598 0.06416742887813598 17802.835327148438\n",
      "54 0.06222423259168863 0.06222423259168863 17833.657958984375\n",
      "54 0.06201103678904474 0.06201103678904474 17888.61602783203\n",
      "\n"
     ]
    },
    {
     "data": {
      "application/vnd.jupyter.widget-view+json": {
       "model_id": "e3d37cc825014b7880995b2b5f9cb648",
       "version_major": 2,
       "version_minor": 0
      },
      "text/plain": [
       "HBox(children=(IntProgress(value=0, max=77), HTML(value='')))"
      ]
     },
     "metadata": {},
     "output_type": "display_data"
    },
    {
     "name": "stdout",
     "output_type": "stream",
     "text": [
      "55 0.06242573959752917 0.06242573959752917 17583.747650146484\n",
      "55 0.06224524974822998 0.06224524974822998 17534.01919555664\n",
      "55 0.061337642604485154 0.061337642604485154 17773.87139892578\n",
      "55 0.060484868474304676 0.060484868474304676 17766.401916503906\n",
      "55 0.060651470674201846 0.060651470674201846 17813.802978515625\n",
      "\n"
     ]
    },
    {
     "data": {
      "application/vnd.jupyter.widget-view+json": {
       "model_id": "fd4f658c5f8348e3b3738c62d98ea209",
       "version_major": 2,
       "version_minor": 0
      },
      "text/plain": [
       "HBox(children=(IntProgress(value=0, max=77), HTML(value='')))"
      ]
     },
     "metadata": {},
     "output_type": "display_data"
    },
    {
     "name": "stdout",
     "output_type": "stream",
     "text": [
      "56 0.0614135836949572 0.0614135836949572 17474.329040527344\n",
      "56 0.06139485165476799 0.06139485165476799 17535.60723876953\n",
      "56 0.06126556405797601 0.06126556405797601 17935.07159423828\n",
      "56 0.06095855054445565 0.06095855054445565 17897.316162109375\n",
      "56 0.06043610896449536 0.06043610896449536 17859.920349121094\n",
      "\n"
     ]
    },
    {
     "data": {
      "application/vnd.jupyter.widget-view+json": {
       "model_id": "cc2567e05eae4428aaf543e7033f4adb",
       "version_major": 2,
       "version_minor": 0
      },
      "text/plain": [
       "HBox(children=(IntProgress(value=0, max=77), HTML(value='')))"
      ]
     },
     "metadata": {},
     "output_type": "display_data"
    },
    {
     "name": "stdout",
     "output_type": "stream",
     "text": [
      "57 0.059509665006771684 0.059509665006771684 17434.041961669922\n",
      "57 0.05874890717677772 0.05874890717677772 17402.207427978516\n",
      "57 0.05876244977116585 0.05876244977116585 17857.432495117188\n",
      "57 0.05899425863754004 0.05899425863754004 17861.450805664062\n",
      "57 0.05971158004831523 0.05971158004831523 17829.5361328125\n",
      "\n"
     ]
    },
    {
     "data": {
      "application/vnd.jupyter.widget-view+json": {
       "model_id": "662771ae15214bdf890b070421336cd5",
       "version_major": 2,
       "version_minor": 0
      },
      "text/plain": [
       "HBox(children=(IntProgress(value=0, max=77), HTML(value='')))"
      ]
     },
     "metadata": {},
     "output_type": "display_data"
    },
    {
     "name": "stdout",
     "output_type": "stream",
     "text": [
      "58 0.05891716340556741 0.05891716340556741 17543.538055419922\n",
      "58 0.05805913486983627 0.05805913486983627 17551.65982055664\n",
      "58 0.05862269061617553 0.05862269061617553 17996.24200439453\n",
      "58 0.05841887788847089 0.05841887788847089 18118.128295898438\n",
      "\n"
     ]
    },
    {
     "data": {
      "application/vnd.jupyter.widget-view+json": {
       "model_id": "aca03f0855b94a8ab40654f98d3c7ede",
       "version_major": 2,
       "version_minor": 0
      },
      "text/plain": [
       "HBox(children=(IntProgress(value=0, max=77), HTML(value='')))"
      ]
     },
     "metadata": {},
     "output_type": "display_data"
    },
    {
     "name": "stdout",
     "output_type": "stream",
     "text": [
      "59 0.05745798198040575 0.05745798198040575 17801.41098022461\n",
      "59 0.05727849155664444 0.05727849155664444 17802.725494384766\n",
      "59 0.05679077736567706 0.05679077736567706 18087.93731689453\n",
      "59 0.056633448344655335 0.056633448344655335 18085.089477539062\n",
      "59 0.05718903709203005 0.05718903709203005 18112.344604492188\n",
      "\n"
     ]
    },
    {
     "data": {
      "application/vnd.jupyter.widget-view+json": {
       "model_id": "2de9e5038d65409cb19a65ca8cecac3d",
       "version_major": 2,
       "version_minor": 0
      },
      "text/plain": [
       "HBox(children=(IntProgress(value=0, max=77), HTML(value='')))"
      ]
     },
     "metadata": {},
     "output_type": "display_data"
    },
    {
     "name": "stdout",
     "output_type": "stream",
     "text": [
      "60 0.05742183746770024 0.05742183746770024 17634.165954589844\n",
      "60 0.05717292136978358 0.05717292136978358 17623.924743652344\n",
      "60 0.0562625004677102 0.0562625004677102 18078.465454101562\n",
      "60 0.057808687328360975 0.057808687328360975 18041.553833007812\n",
      "60 0.05907155724707991 0.05907155724707991 17986.076232910156\n",
      "\n"
     ]
    },
    {
     "data": {
      "application/vnd.jupyter.widget-view+json": {
       "model_id": "0eac8d62bcc24cbd967de246790eed64",
       "version_major": 2,
       "version_minor": 0
      },
      "text/plain": [
       "HBox(children=(IntProgress(value=0, max=77), HTML(value='')))"
      ]
     },
     "metadata": {},
     "output_type": "display_data"
    },
    {
     "name": "stdout",
     "output_type": "stream",
     "text": [
      "61 0.05852524796500802 0.05852524796500802 17644.422134399414\n",
      "61 0.05770770146045834 0.05770770146045834 17707.967239379883\n",
      "61 0.05662667192518711 0.05662667192518711 18175.008056640625\n",
      "61 0.05590782640501857 0.05590782640501857 18234.82452392578\n",
      "61 0.05462006316520274 0.05462006316520274 18160.886840820312\n",
      "\n"
     ]
    },
    {
     "data": {
      "application/vnd.jupyter.widget-view+json": {
       "model_id": "1fcdbbb36c1d40d5a53de9a0d609ccd3",
       "version_major": 2,
       "version_minor": 0
      },
      "text/plain": [
       "HBox(children=(IntProgress(value=0, max=77), HTML(value='')))"
      ]
     },
     "metadata": {},
     "output_type": "display_data"
    },
    {
     "name": "stdout",
     "output_type": "stream",
     "text": [
      "62 0.054621834424324334 0.054621834424324334 17738.178436279297\n",
      "62 0.05527900927700102 0.05527900927700102 17717.237701416016\n",
      "62 0.05502856045495719 0.05502856045495719 18053.15008544922\n",
      "62 0.05458555824588984 0.05458555824588984 18037.461853027344\n",
      "62 0.05454424489289522 0.05454424489289522 18037.085571289062\n",
      "\n"
     ]
    },
    {
     "data": {
      "application/vnd.jupyter.widget-view+json": {
       "model_id": "e2658870e097470e8d061315311e02f4",
       "version_major": 2,
       "version_minor": 0
      },
      "text/plain": [
       "HBox(children=(IntProgress(value=0, max=77), HTML(value='')))"
      ]
     },
     "metadata": {},
     "output_type": "display_data"
    },
    {
     "name": "stdout",
     "output_type": "stream",
     "text": [
      "63 0.05522286833729595 0.05522286833729595 17649.58137512207\n",
      "63 0.05490476684644818 0.05490476684644818 17647.847366333008\n",
      "63 0.053829415468499064 0.053829415468499064 18116.95098876953\n",
      "63 0.05322723917197436 0.05322723917197436 18230.57696533203\n",
      "63 0.053102685837075114 0.053102685837075114 17866.400512695312\n",
      "\n"
     ]
    },
    {
     "data": {
      "application/vnd.jupyter.widget-view+json": {
       "model_id": "389c0a0114fb401ba9549cfefa7d6a38",
       "version_major": 2,
       "version_minor": 0
      },
      "text/plain": [
       "HBox(children=(IntProgress(value=0, max=77), HTML(value='')))"
      ]
     },
     "metadata": {},
     "output_type": "display_data"
    },
    {
     "name": "stdout",
     "output_type": "stream",
     "text": [
      "64 0.05360906256828457 0.05360906256828457 17860.484985351562\n",
      "64 0.05383746570441872 0.05383746570441872 18226.45196533203\n",
      "64 0.0531783695332706 0.0531783695332706 18156.312866210938\n",
      "64 0.05224543856456876 0.05224543856456876 18172.04376220703\n",
      "\n"
     ]
    },
    {
     "data": {
      "application/vnd.jupyter.widget-view+json": {
       "model_id": "7239210012434867a698c63bb31a2a2b",
       "version_major": 2,
       "version_minor": 0
      },
      "text/plain": [
       "HBox(children=(IntProgress(value=0, max=77), HTML(value='')))"
      ]
     },
     "metadata": {},
     "output_type": "display_data"
    },
    {
     "name": "stdout",
     "output_type": "stream",
     "text": [
      "65 0.05159948777873069 0.05159948777873069 17841.00375366211\n",
      "65 0.05209253146313131 0.05209253146313131 17785.030303955078\n",
      "65 0.052723508910275996 0.052723508910275996 18119.484924316406\n",
      "65 0.052322145784273744 0.052322145784273744 18181.39990234375\n",
      "65 0.05198808782733977 0.05198808782733977 18254.313598632812\n",
      "\n"
     ]
    },
    {
     "data": {
      "application/vnd.jupyter.widget-view+json": {
       "model_id": "8cc0893093d743c09435a79ebc7d0995",
       "version_major": 2,
       "version_minor": 0
      },
      "text/plain": [
       "HBox(children=(IntProgress(value=0, max=77), HTML(value='')))"
      ]
     },
     "metadata": {},
     "output_type": "display_data"
    },
    {
     "name": "stdout",
     "output_type": "stream",
     "text": [
      "66 0.05174908903427422 0.05174908903427422 17829.03645324707\n",
      "66 0.05228293128311634 0.05228293128311634 17697.672073364258\n",
      "66 0.05256453005131334 0.05256453005131334 18029.876708984375\n",
      "66 0.05202348041348159 0.05202348041348159 18056.34552001953\n",
      "66 0.0516610462218523 0.0516610462218523 18080.313049316406\n",
      "\n"
     ]
    },
    {
     "data": {
      "application/vnd.jupyter.widget-view+json": {
       "model_id": "73e9e8724a8c4bdcbcbfaf7962b9b1e9",
       "version_major": 2,
       "version_minor": 0
      },
      "text/plain": [
       "HBox(children=(IntProgress(value=0, max=77), HTML(value='')))"
      ]
     },
     "metadata": {},
     "output_type": "display_data"
    },
    {
     "name": "stdout",
     "output_type": "stream",
     "text": [
      "67 0.05044195312075317 0.05044195312075317 17691.83172607422\n",
      "67 0.04924889013636857 0.04924889013636857 17676.82080078125\n",
      "67 0.04967284214217216 0.04967284214217216 18005.212524414062\n",
      "67 0.05037398566491902 0.05037398566491902 17900.861450195312\n",
      "67 0.050807117484509945 0.050807117484509945 17944.452758789062\n",
      "\n"
     ]
    },
    {
     "data": {
      "application/vnd.jupyter.widget-view+json": {
       "model_id": "2db9f1a2dcfa448086ae5e880fc66748",
       "version_major": 2,
       "version_minor": 0
      },
      "text/plain": [
       "HBox(children=(IntProgress(value=0, max=77), HTML(value='')))"
      ]
     },
     "metadata": {},
     "output_type": "display_data"
    },
    {
     "name": "stdout",
     "output_type": "stream",
     "text": [
      "68 0.050842504017055035 0.050842504017055035 17654.039978027344\n",
      "68 0.0501204829197377 0.0501204829197377 17759.423583984375\n",
      "68 0.04986273939721286 0.04986273939721286 18279.904357910156\n",
      "68 0.04944883496500552 0.04944883496500552 18255.675170898438\n",
      "68 0.0500889802351594 0.0500889802351594 18184.37322998047\n",
      "\n"
     ]
    },
    {
     "data": {
      "application/vnd.jupyter.widget-view+json": {
       "model_id": "c10a66c34bce46889d8f80111e0b0ec4",
       "version_major": 2,
       "version_minor": 0
      },
      "text/plain": [
       "HBox(children=(IntProgress(value=0, max=77), HTML(value='')))"
      ]
     },
     "metadata": {},
     "output_type": "display_data"
    },
    {
     "name": "stdout",
     "output_type": "stream",
     "text": [
      "69 0.0508135249838233 0.0508135249838233 17761.383392333984\n",
      "69 0.05051628150977194 0.05051628150977194 17790.125579833984\n",
      "69 0.05119457410182804 0.05119457410182804 18233.595092773438\n",
      "69 0.051151472609490156 0.051151472609490156 18202.101135253906\n",
      "\n"
     ]
    },
    {
     "data": {
      "application/vnd.jupyter.widget-view+json": {
       "model_id": "1bc224f70bd74753b5460c3c46e3111d",
       "version_major": 2,
       "version_minor": 0
      },
      "text/plain": [
       "HBox(children=(IntProgress(value=0, max=77), HTML(value='')))"
      ]
     },
     "metadata": {},
     "output_type": "display_data"
    },
    {
     "name": "stdout",
     "output_type": "stream",
     "text": [
      "70 0.05040626984555274 0.05040626984555274 17809.607177734375\n",
      "70 0.05012065602932125 0.05012065602932125 17833.41717529297\n",
      "70 0.04936439904849976 0.04936439904849976 18268.101440429688\n",
      "70 0.04817501129582524 0.04817501129582524 18300.33233642578\n",
      "70 0.04799566639121622 0.04799566639121622 18316.23468017578\n",
      "\n"
     ]
    },
    {
     "data": {
      "application/vnd.jupyter.widget-view+json": {
       "model_id": "6826f84c4ce8449dbee95670d5a1e75a",
       "version_major": 2,
       "version_minor": 0
      },
      "text/plain": [
       "HBox(children=(IntProgress(value=0, max=77), HTML(value='')))"
      ]
     },
     "metadata": {},
     "output_type": "display_data"
    },
    {
     "name": "stdout",
     "output_type": "stream",
     "text": [
      "71 0.04810321389231831 0.04810321389231831 17963.031326293945\n",
      "71 0.047541399486362934 0.047541399486362934 17920.734634399414\n",
      "71 0.04714752861764282 0.04714752861764282 18285.30548095703\n",
      "71 0.047346127685159445 0.047346127685159445 18292.164916992188\n",
      "71 0.04832960793282837 0.04832960793282837 18273.01025390625\n",
      "\n"
     ]
    },
    {
     "data": {
      "application/vnd.jupyter.widget-view+json": {
       "model_id": "3c410f16391343529a28098d778e08d6",
       "version_major": 2,
       "version_minor": 0
      },
      "text/plain": [
       "HBox(children=(IntProgress(value=0, max=77), HTML(value='')))"
      ]
     },
     "metadata": {},
     "output_type": "display_data"
    },
    {
     "name": "stdout",
     "output_type": "stream",
     "text": [
      "72 0.04867320123594254 0.04867320123594254 17883.142532348633\n",
      "72 0.04794902412686497 0.04794902412686497 17948.0382232666\n",
      "72 0.04677731962874532 0.04677731962874532 18422.59161376953\n",
      "72 0.04625260177999735 0.04625260177999735 18415.575744628906\n",
      "72 0.04684520256705582 0.04684520256705582 18375.74725341797\n",
      "\n"
     ]
    },
    {
     "data": {
      "application/vnd.jupyter.widget-view+json": {
       "model_id": "2bde174d9c8b46b7b2b4368e74dabc68",
       "version_major": 2,
       "version_minor": 0
      },
      "text/plain": [
       "HBox(children=(IntProgress(value=0, max=77), HTML(value='')))"
      ]
     },
     "metadata": {},
     "output_type": "display_data"
    },
    {
     "name": "stdout",
     "output_type": "stream",
     "text": [
      "73 0.04677363624796271 0.04677363624796271 17964.8515625\n",
      "73 0.0464228605851531 0.0464228605851531 17905.343200683594\n",
      "73 0.046631697565317154 0.046631697565317154 18317.86700439453\n",
      "73 0.0468904844019562 0.0468904844019562 18382.300048828125\n",
      "73 0.04614618711639196 0.04614618711639196 18380.691162109375\n",
      "\n"
     ]
    },
    {
     "data": {
      "application/vnd.jupyter.widget-view+json": {
       "model_id": "3e83416e45844cf8be4670c3c970ce91",
       "version_major": 2,
       "version_minor": 0
      },
      "text/plain": [
       "HBox(children=(IntProgress(value=0, max=77), HTML(value='')))"
      ]
     },
     "metadata": {},
     "output_type": "display_data"
    },
    {
     "name": "stdout",
     "output_type": "stream",
     "text": [
      "74 0.04553201491944492 0.04553201491944492 17914.340225219727\n",
      "74 0.046940991189330816 0.046940991189330816 17827.097549438477\n",
      "74 0.04673074756283313 0.04673074756283313 18242.844787597656\n",
      "74 0.045338818803429604 0.045338818803429604 18306.379333496094\n",
      "\n"
     ]
    },
    {
     "data": {
      "application/vnd.jupyter.widget-view+json": {
       "model_id": "c90ee66b6a0b4ff0b8bf5b2d586f7d4f",
       "version_major": 2,
       "version_minor": 0
      },
      "text/plain": [
       "HBox(children=(IntProgress(value=0, max=77), HTML(value='')))"
      ]
     },
     "metadata": {},
     "output_type": "display_data"
    },
    {
     "name": "stdout",
     "output_type": "stream",
     "text": [
      "75 0.04559028765652329 0.04559028765652329 17991.435546875\n",
      "75 0.046616187202744186 0.046616187202744186 18003.470703125\n",
      "75 0.04669784533325583 0.04669784533325583 18334.478942871094\n",
      "75 0.045458305859938264 0.045458305859938264 18379.658325195312\n",
      "75 0.04540906578768045 0.04540906578768045 18428.480224609375\n",
      "\n"
     ]
    },
    {
     "data": {
      "application/vnd.jupyter.widget-view+json": {
       "model_id": "ff74fd8e2ed343668464c67b110b6107",
       "version_major": 2,
       "version_minor": 0
      },
      "text/plain": [
       "HBox(children=(IntProgress(value=0, max=77), HTML(value='')))"
      ]
     },
     "metadata": {},
     "output_type": "display_data"
    },
    {
     "name": "stdout",
     "output_type": "stream",
     "text": [
      "76 0.044472630601376295 0.044472630601376295 17982.306579589844\n",
      "76 0.04295842465944588 0.04295842465944588 17894.108337402344\n",
      "76 0.04314163757953793 0.04314163757953793 18208.984252929688\n",
      "76 0.0442793961847201 0.0442793961847201 18233.440307617188\n",
      "76 0.045898372773081064 0.045898372773081064 18255.341064453125\n",
      "\n"
     ]
    },
    {
     "data": {
      "application/vnd.jupyter.widget-view+json": {
       "model_id": "fa7b0726ba7c46729459ed7bd0e14ee5",
       "version_major": 2,
       "version_minor": 0
      },
      "text/plain": [
       "HBox(children=(IntProgress(value=0, max=77), HTML(value='')))"
      ]
     },
     "metadata": {},
     "output_type": "display_data"
    },
    {
     "name": "stdout",
     "output_type": "stream",
     "text": [
      "77 0.04572577029466629 0.04572577029466629 17893.667037963867\n",
      "77 0.044643216650001705 0.044643216650001705 17968.052291870117\n",
      "77 0.04349183454178274 0.04349183454178274 18418.345092773438\n",
      "77 0.04285215528216213 0.04285215528216213 18437.452209472656\n",
      "77 0.04373172181658447 0.04373172181658447 18410.244506835938\n",
      "\n"
     ]
    },
    {
     "data": {
      "application/vnd.jupyter.widget-view+json": {
       "model_id": "d958c1ee6e6e4df3944b3b342939ff12",
       "version_major": 2,
       "version_minor": 0
      },
      "text/plain": [
       "HBox(children=(IntProgress(value=0, max=77), HTML(value='')))"
      ]
     },
     "metadata": {},
     "output_type": "display_data"
    },
    {
     "name": "stdout",
     "output_type": "stream",
     "text": [
      "78 0.04414346511475742 0.04414346511475742 18043.621948242188\n",
      "78 0.0442611260805279 0.0442611260805279 18042.47918701172\n",
      "78 0.04351712786592543 0.04351712786592543 18455.128173828125\n",
      "78 0.04279855138156563 0.04279855138156563 18485.094360351562\n",
      "78 0.043865258689038455 0.043865258689038455 18456.242309570312\n",
      "\n"
     ]
    },
    {
     "data": {
      "application/vnd.jupyter.widget-view+json": {
       "model_id": "cfe10cd5c0e4416e8930ccec9803bea0",
       "version_major": 2,
       "version_minor": 0
      },
      "text/plain": [
       "HBox(children=(IntProgress(value=0, max=77), HTML(value='')))"
      ]
     },
     "metadata": {},
     "output_type": "display_data"
    },
    {
     "name": "stdout",
     "output_type": "stream",
     "text": [
      "79 0.043744077323935926 0.043744077323935926 18116.526748657227\n",
      "79 0.04223062831442803 0.04223062831442803 18177.825454711914\n",
      "79 0.04178186657372862 0.04178186657372862 18636.044555664062\n",
      "79 0.041153666097670794 0.041153666097670794 18641.02227783203\n",
      "79 0.042158409603871405 0.042158409603871405 18245.959106445312\n",
      "\n"
     ]
    },
    {
     "data": {
      "application/vnd.jupyter.widget-view+json": {
       "model_id": "486f58e2ba7645d5b3d56d1dd1ad19b0",
       "version_major": 2,
       "version_minor": 0
      },
      "text/plain": [
       "HBox(children=(IntProgress(value=0, max=77), HTML(value='')))"
      ]
     },
     "metadata": {},
     "output_type": "display_data"
    },
    {
     "name": "stdout",
     "output_type": "stream",
     "text": [
      "80 0.043209434021264315 0.043209434021264315 18353.453491210938\n",
      "80 0.04301994282286614 0.04301994282286614 18796.909301757812\n",
      "80 0.04386582237202674 0.04386582237202674 18677.438842773438\n",
      "80 0.04370297759305686 0.04370297759305686 18593.720947265625\n",
      "\n"
     ]
    },
    {
     "data": {
      "application/vnd.jupyter.widget-view+json": {
       "model_id": "43ac0591656b4035838b33519ee55ae8",
       "version_major": 2,
       "version_minor": 0
      },
      "text/plain": [
       "HBox(children=(IntProgress(value=0, max=77), HTML(value='')))"
      ]
     },
     "metadata": {},
     "output_type": "display_data"
    },
    {
     "name": "stdout",
     "output_type": "stream",
     "text": [
      "81 0.042544332914985716 0.042544332914985716 18236.270141601562\n",
      "81 0.04145810171030462 0.04145810171030462 18307.8828125\n",
      "81 0.04210169822908938 0.04210169822908938 18724.66278076172\n",
      "81 0.043435303843580186 0.043435303843580186 18695.67462158203\n",
      "81 0.04347954015247524 0.04347954015247524 18701.612426757812\n",
      "\n"
     ]
    },
    {
     "data": {
      "application/vnd.jupyter.widget-view+json": {
       "model_id": "a0b26a5f43c14e30b222b75fc714365c",
       "version_major": 2,
       "version_minor": 0
      },
      "text/plain": [
       "HBox(children=(IntProgress(value=0, max=77), HTML(value='')))"
      ]
     },
     "metadata": {},
     "output_type": "display_data"
    },
    {
     "name": "stdout",
     "output_type": "stream",
     "text": [
      "82 0.04309862689115107 0.04309862689115107 18395.104125976562\n",
      "82 0.04275691811926663 0.04275691811926663 18471.37060546875\n",
      "82 0.0420895415591076 0.0420895415591076 18779.77508544922\n",
      "82 0.04091391258407384 0.04091391258407384 18805.13397216797\n",
      "82 0.04035673674661666 0.04035673674661666 18836.32781982422\n",
      "\n"
     ]
    },
    {
     "data": {
      "application/vnd.jupyter.widget-view+json": {
       "model_id": "5ac8ce7e16444bc5abe9ad6307d78d06",
       "version_major": 2,
       "version_minor": 0
      },
      "text/plain": [
       "HBox(children=(IntProgress(value=0, max=77), HTML(value='')))"
      ]
     },
     "metadata": {},
     "output_type": "display_data"
    },
    {
     "name": "stdout",
     "output_type": "stream",
     "text": [
      "83 0.04120105761103332 0.04120105761103332 18350.215713500977\n",
      "83 0.0420082095079124 0.0420082095079124 18324.044815063477\n",
      "83 0.04148739227093756 0.04148739227093756 18709.48291015625\n",
      "83 0.04123304015956819 0.04123304015956819 18747.532104492188\n",
      "83 0.04144228028599173 0.04144228028599173 18790.043334960938\n",
      "\n"
     ]
    },
    {
     "data": {
      "application/vnd.jupyter.widget-view+json": {
       "model_id": "1c7b085ecea0405a96c13b35582e786c",
       "version_major": 2,
       "version_minor": 0
      },
      "text/plain": [
       "HBox(children=(IntProgress(value=0, max=77), HTML(value='')))"
      ]
     },
     "metadata": {},
     "output_type": "display_data"
    },
    {
     "name": "stdout",
     "output_type": "stream",
     "text": [
      "84 0.04066739557310939 0.04066739557310939 18385.73422241211\n",
      "84 0.03994730964768678 0.03994730964768678 18349.119171142578\n",
      "84 0.039966891752555966 0.039966891752555966 18739.260864257812\n",
      "84 0.03987978654913604 0.03987978654913604 18751.47119140625\n",
      "84 0.03951734071597457 0.03951734071597457 18669.21484375\n",
      "\n"
     ]
    },
    {
     "data": {
      "application/vnd.jupyter.widget-view+json": {
       "model_id": "209eaa10aac9492695f8a3e534180101",
       "version_major": 2,
       "version_minor": 0
      },
      "text/plain": [
       "HBox(children=(IntProgress(value=0, max=77), HTML(value='')))"
      ]
     },
     "metadata": {},
     "output_type": "display_data"
    },
    {
     "name": "stdout",
     "output_type": "stream",
     "text": [
      "85 0.04011309309862554 0.04011309309862554 18262.829833984375\n",
      "85 0.040421256446279585 0.040421256446279585 18295.004455566406\n",
      "85 0.039900284726172686 0.039900284726172686 18604.638732910156\n",
      "85 0.04018177627585828 0.04018177627585828 18614.86358642578\n",
      "\n"
     ]
    },
    {
     "data": {
      "application/vnd.jupyter.widget-view+json": {
       "model_id": "12c96a4deb104b268a7eb6b0049fe69d",
       "version_major": 2,
       "version_minor": 0
      },
      "text/plain": [
       "HBox(children=(IntProgress(value=0, max=77), HTML(value='')))"
      ]
     },
     "metadata": {},
     "output_type": "display_data"
    },
    {
     "name": "stdout",
     "output_type": "stream",
     "text": [
      "86 0.04026899870950729 0.04026899870950729 18351.32405090332\n",
      "86 0.04008555109612644 0.04008555109612644 18357.053604125977\n",
      "86 0.03980824910104275 0.03980824910104275 18652.50408935547\n",
      "86 0.039102764683775604 0.039102764683775604 18624.094848632812\n",
      "86 0.038942278479225934 0.038942278479225934 18625.479736328125\n",
      "\n"
     ]
    },
    {
     "data": {
      "application/vnd.jupyter.widget-view+json": {
       "model_id": "295a93f9fcd14d68b3fbec9c2997c8ae",
       "version_major": 2,
       "version_minor": 0
      },
      "text/plain": [
       "HBox(children=(IntProgress(value=0, max=77), HTML(value='')))"
      ]
     },
     "metadata": {},
     "output_type": "display_data"
    },
    {
     "name": "stdout",
     "output_type": "stream",
     "text": [
      "87 0.03876969823613763 0.03876969823613763 18178.13737487793\n",
      "87 0.03900487220380455 0.03900487220380455 18196.72984313965\n",
      "87 0.03910699696280062 0.03910699696280062 18601.816345214844\n",
      "87 0.038612377597019076 0.038612377597019076 18602.30340576172\n",
      "87 0.03855986660346389 0.03855986660346389 18610.178283691406\n",
      "\n"
     ]
    },
    {
     "data": {
      "application/vnd.jupyter.widget-view+json": {
       "model_id": "73cb51ef81524da0aa2fdf81fc2517d3",
       "version_major": 2,
       "version_minor": 0
      },
      "text/plain": [
       "HBox(children=(IntProgress(value=0, max=77), HTML(value='')))"
      ]
     },
     "metadata": {},
     "output_type": "display_data"
    },
    {
     "name": "stdout",
     "output_type": "stream",
     "text": [
      "88 0.039095169864594936 0.039095169864594936 18135.516815185547\n",
      "88 0.03909118857700378 0.03909118857700378 18175.458038330078\n",
      "88 0.0380356787936762 0.0380356787936762 18604.4873046875\n",
      "88 0.037875290028750896 0.037875290028750896 18603.95880126953\n",
      "88 0.037377614877186716 0.037377614877186716 18689.353942871094\n",
      "\n"
     ]
    },
    {
     "data": {
      "application/vnd.jupyter.widget-view+json": {
       "model_id": "8b652cc5c3284b24a713598aa58f2766",
       "version_major": 2,
       "version_minor": 0
      },
      "text/plain": [
       "HBox(children=(IntProgress(value=0, max=77), HTML(value='')))"
      ]
     },
     "metadata": {},
     "output_type": "display_data"
    },
    {
     "name": "stdout",
     "output_type": "stream",
     "text": [
      "89 0.03706540912389755 0.03706540912389755 18351.326736450195\n",
      "89 0.03931705828290433 0.03931705828290433 18301.18409729004\n",
      "89 0.04053888702765107 0.04053888702765107 18693.329956054688\n",
      "89 0.039158827741630375 0.039158827741630375 18717.5693359375\n",
      "89 0.03748803189955652 0.03748803189955652 18721.60333251953\n",
      "\n"
     ]
    },
    {
     "data": {
      "application/vnd.jupyter.widget-view+json": {
       "model_id": "3a2dba5b096040c3bc236a09f380bec4",
       "version_major": 2,
       "version_minor": 0
      },
      "text/plain": [
       "HBox(children=(IntProgress(value=0, max=77), HTML(value='')))"
      ]
     },
     "metadata": {},
     "output_type": "display_data"
    },
    {
     "name": "stdout",
     "output_type": "stream",
     "text": [
      "90 0.036801839247345924 0.036801839247345924 18363.03207397461\n",
      "90 0.03741057752631605 0.03741057752631605 18314.019012451172\n",
      "90 0.037253135931678116 0.037253135931678116 18700.331115722656\n",
      "90 0.03653271193616092 0.03653271193616092 18752.289672851562\n",
      "\n"
     ]
    },
    {
     "data": {
      "application/vnd.jupyter.widget-view+json": {
       "model_id": "b46b26eff94c4ee49266ff1f8dd9de51",
       "version_major": 2,
       "version_minor": 0
      },
      "text/plain": [
       "HBox(children=(IntProgress(value=0, max=77), HTML(value='')))"
      ]
     },
     "metadata": {},
     "output_type": "display_data"
    },
    {
     "name": "stdout",
     "output_type": "stream",
     "text": [
      "91 0.03661528683733195 0.03661528683733195 18455.75537109375\n",
      "91 0.03674954443704337 0.03674954443704337 18652.45782470703\n",
      "91 0.03697418898809701 0.03697418898809701 19183.305053710938\n",
      "91 0.03738787106703967 0.03738787106703967 19189.862426757812\n",
      "91 0.03760822885669768 0.03760822885669768 19151.17657470703\n",
      "\n"
     ]
    },
    {
     "data": {
      "application/vnd.jupyter.widget-view+json": {
       "model_id": "ccead5403be84820b949fe0c0e873cb1",
       "version_major": 2,
       "version_minor": 0
      },
      "text/plain": [
       "HBox(children=(IntProgress(value=0, max=77), HTML(value='')))"
      ]
     },
     "metadata": {},
     "output_type": "display_data"
    },
    {
     "name": "stdout",
     "output_type": "stream",
     "text": [
      "92 0.03788904519751668 0.03788904519751668 18695.4022064209\n",
      "92 0.03965685470029712 0.03965685470029712 18660.000228881836\n",
      "92 0.04032611823640764 0.04032611823640764 19017.088500976562\n",
      "92 0.03895693819504231 0.03895693819504231 19027.821716308594\n",
      "92 0.03721476503415033 0.03721476503415033 19034.211303710938\n",
      "\n"
     ]
    },
    {
     "data": {
      "application/vnd.jupyter.widget-view+json": {
       "model_id": "1be130bad6b44668aac879997aae82c5",
       "version_major": 2,
       "version_minor": 0
      },
      "text/plain": [
       "HBox(children=(IntProgress(value=0, max=77), HTML(value='')))"
      ]
     },
     "metadata": {},
     "output_type": "display_data"
    },
    {
     "name": "stdout",
     "output_type": "stream",
     "text": [
      "93 0.03612622799118981 0.03612622799118981 18546.906509399414\n",
      "93 0.037412647739984095 0.037412647739984095 18531.709671020508\n",
      "93 0.03877676650881767 0.03877676650881767 18957.465942382812\n",
      "93 0.038419549935497344 0.038419549935497344 18952.059509277344\n",
      "93 0.037247696658596396 0.037247696658596396 18899.763061523438\n",
      "\n"
     ]
    },
    {
     "data": {
      "application/vnd.jupyter.widget-view+json": {
       "model_id": "ee48fcb419aa48cd867f3107e8d11da3",
       "version_major": 2,
       "version_minor": 0
      },
      "text/plain": [
       "HBox(children=(IntProgress(value=0, max=77), HTML(value='')))"
      ]
     },
     "metadata": {},
     "output_type": "display_data"
    },
    {
     "name": "stdout",
     "output_type": "stream",
     "text": [
      "94 0.03615927672944963 0.03615927672944963 18470.161254882812\n",
      "94 0.035831283777952194 0.035831283777952194 18496.351013183594\n",
      "94 0.035630011989269406 0.035630011989269406 18866.60174560547\n",
      "94 0.035774513555224985 0.035774513555224985 18909.43048095703\n",
      "94 0.03583356796298176 0.03583356796298176 18966.073181152344\n",
      "\n"
     ]
    },
    {
     "data": {
      "application/vnd.jupyter.widget-view+json": {
       "model_id": "4fe0b67ebee344fb8f9e8326d8a0902a",
       "version_major": 2,
       "version_minor": 0
      },
      "text/plain": [
       "HBox(children=(IntProgress(value=0, max=77), HTML(value='')))"
      ]
     },
     "metadata": {},
     "output_type": "display_data"
    },
    {
     "name": "stdout",
     "output_type": "stream",
     "text": [
      "95 0.035676789353601635 0.035676789353601635 18524.53598022461\n",
      "95 0.036394216353073716 0.036394216353073716 18451.14419555664\n",
      "95 0.03646100882906467 0.03646100882906467 18816.280029296875\n",
      "95 0.03585629304870963 0.03585629304870963 18782.45867919922\n",
      "95 0.03546153742354363 0.03546153742354363 18326.17938232422\n",
      "\n"
     ]
    },
    {
     "data": {
      "application/vnd.jupyter.widget-view+json": {
       "model_id": "46912e8af6f94e2b90d6cdf8c20cca0d",
       "version_major": 2,
       "version_minor": 0
      },
      "text/plain": [
       "HBox(children=(IntProgress(value=0, max=77), HTML(value='')))"
      ]
     },
     "metadata": {},
     "output_type": "display_data"
    },
    {
     "name": "stdout",
     "output_type": "stream",
     "text": [
      "96 0.03572278917999938 0.03572278917999938 18390.021606445312\n",
      "96 0.03621000825660303 0.03621000825660303 18878.780639648438\n",
      "96 0.03656018222682178 0.03656018222682178 18929.04473876953\n",
      "96 0.03656020143534988 0.03656020143534988 18922.84307861328\n",
      "\n"
     ]
    },
    {
     "data": {
      "application/vnd.jupyter.widget-view+json": {
       "model_id": "a88d281d5af4433da8a23a27e127ad25",
       "version_major": 2,
       "version_minor": 0
      },
      "text/plain": [
       "HBox(children=(IntProgress(value=0, max=77), HTML(value='')))"
      ]
     },
     "metadata": {},
     "output_type": "display_data"
    },
    {
     "name": "stdout",
     "output_type": "stream",
     "text": [
      "97 0.035747299320064485 0.035747299320064485 18453.66259765625\n",
      "97 0.03487981273792684 0.03487981273792684 18446.299743652344\n",
      "97 0.034640975878573954 0.034640975878573954 18852.12969970703\n",
      "97 0.0347512123407796 0.0347512123407796 18798.09637451172\n",
      "97 0.03496786009054631 0.03496786009054631 18793.845947265625\n",
      "\n"
     ]
    },
    {
     "data": {
      "application/vnd.jupyter.widget-view+json": {
       "model_id": "1c7b0b1d7df14460823ac900483d2a7b",
       "version_major": 2,
       "version_minor": 0
      },
      "text/plain": [
       "HBox(children=(IntProgress(value=0, max=77), HTML(value='')))"
      ]
     },
     "metadata": {},
     "output_type": "display_data"
    },
    {
     "name": "stdout",
     "output_type": "stream",
     "text": [
      "98 0.03387622052105144 0.03387622052105144 18445.896591186523\n",
      "98 0.032905156433116645 0.032905156433116645 18472.345138549805\n",
      "98 0.03342861187411472 0.03342861187411472 18947.1943359375\n",
      "98 0.03393305995268747 0.03393305995268747 18992.593627929688\n",
      "98 0.03409413015469909 0.03409413015469909 18911.01885986328\n",
      "\n"
     ]
    },
    {
     "data": {
      "application/vnd.jupyter.widget-view+json": {
       "model_id": "c207b0159e7f4a8188cd4be76fc45996",
       "version_major": 2,
       "version_minor": 0
      },
      "text/plain": [
       "HBox(children=(IntProgress(value=0, max=77), HTML(value='')))"
      ]
     },
     "metadata": {},
     "output_type": "display_data"
    },
    {
     "name": "stdout",
     "output_type": "stream",
     "text": [
      "99 0.033539084950461984 0.033539084950461984 18458.276260375977\n",
      "99 0.034133005887269974 0.034133005887269974 18497.872817993164\n",
      "99 0.03514248947612941 0.03514248947612941 18914.398193359375\n",
      "99 0.034998556482605636 0.034998556482605636 18797.62664794922\n",
      "99 0.03434072423260659 0.03434072423260659 18755.58673095703\n",
      "\n",
      "\n"
     ]
    },
    {
     "data": {
      "application/vnd.jupyter.widget-view+json": {
       "model_id": "f98c5d62335d480da8edfbd81eb4e381",
       "version_major": 2,
       "version_minor": 0
      },
      "text/plain": [
       "HBox(children=(IntProgress(value=0), HTML(value='')))"
      ]
     },
     "metadata": {},
     "output_type": "display_data"
    },
    {
     "data": {
      "application/vnd.jupyter.widget-view+json": {
       "model_id": "fe26409c6c8a4611bfd862fd86444f26",
       "version_major": 2,
       "version_minor": 0
      },
      "text/plain": [
       "HBox(children=(IntProgress(value=0, max=77), HTML(value='')))"
      ]
     },
     "metadata": {},
     "output_type": "display_data"
    },
    {
     "name": "stdout",
     "output_type": "stream",
     "text": [
      "0 0.035521576879546046 0.035521576879546046 18787.126708984375\n",
      "0 0.03425220720237121 0.03425220720237121 18881.69219970703\n",
      "0 0.03281719662481919 0.03281719662481919 18954.762329101562\n",
      "0 0.03259183350019157 0.03259183350019157 18933.996704101562\n",
      "\n"
     ]
    },
    {
     "data": {
      "application/vnd.jupyter.widget-view+json": {
       "model_id": "6fbd65ab991149b3bee9dab222bf68ec",
       "version_major": 2,
       "version_minor": 0
      },
      "text/plain": [
       "HBox(children=(IntProgress(value=0, max=77), HTML(value='')))"
      ]
     },
     "metadata": {},
     "output_type": "display_data"
    },
    {
     "name": "stdout",
     "output_type": "stream",
     "text": [
      "1 0.0332661276916042 0.0332661276916042 18502.414581298828\n",
      "1 0.033424704684875906 0.033424704684875906 18422.697357177734\n",
      "1 0.033371598459780216 0.033371598459780216 18738.241638183594\n",
      "1 0.033263892226386815 0.033263892226386815 18783.219787597656\n",
      "1 0.03290928254136816 0.03290928254136816 18885.287963867188\n",
      "\n"
     ]
    },
    {
     "data": {
      "application/vnd.jupyter.widget-view+json": {
       "model_id": "e35d902bc2054073bca77dee5440c5fe",
       "version_major": 2,
       "version_minor": 0
      },
      "text/plain": [
       "HBox(children=(IntProgress(value=0, max=77), HTML(value='')))"
      ]
     },
     "metadata": {},
     "output_type": "display_data"
    },
    {
     "name": "stdout",
     "output_type": "stream",
     "text": [
      "2 0.032927714579273015 0.032927714579273015 18437.066497802734\n",
      "2 0.03339621133636683 0.03339621133636683 18384.115814208984\n",
      "2 0.03324490523664281 0.03324490523664281 18820.734008789062\n",
      "2 0.03280464862473309 0.03280464862473309 18878.32861328125\n",
      "2 0.03390225919429213 0.03390225919429213 18876.0693359375\n",
      "\n"
     ]
    },
    {
     "data": {
      "application/vnd.jupyter.widget-view+json": {
       "model_id": "e280f1139c864880a193cd03258c2fcf",
       "version_major": 2,
       "version_minor": 0
      },
      "text/plain": [
       "HBox(children=(IntProgress(value=0, max=77), HTML(value='')))"
      ]
     },
     "metadata": {},
     "output_type": "display_data"
    },
    {
     "name": "stdout",
     "output_type": "stream",
     "text": [
      "3 0.03354219737229869 0.03354219737229869 18471.128204345703\n",
      "3 0.033157796366140246 0.033157796366140246 18487.42758178711\n",
      "3 0.03330640064086765 0.03330640064086765 18912.707946777344\n",
      "3 0.032927694090176374 0.032927694090176374 18985.29705810547\n",
      "3 0.03217069699894637 0.03217069699894637 18970.316345214844\n",
      "\n"
     ]
    },
    {
     "data": {
      "application/vnd.jupyter.widget-view+json": {
       "model_id": "7d613d6ec984430fb14cb73cbba2cbe8",
       "version_major": 2,
       "version_minor": 0
      },
      "text/plain": [
       "HBox(children=(IntProgress(value=0, max=77), HTML(value='')))"
      ]
     },
     "metadata": {},
     "output_type": "display_data"
    },
    {
     "name": "stdout",
     "output_type": "stream",
     "text": [
      "4 0.031501119723543525 0.031501119723543525 18529.10723876953\n",
      "4 0.03151217754930258 0.03151217754930258 18561.37274169922\n",
      "4 0.03234563040314242 0.03234563040314242 18966.298278808594\n",
      "4 0.03304183349246159 0.03304183349246159 18935.009887695312\n",
      "4 0.03247212222777307 0.03247212222777307 18919.724487304688\n",
      "\n"
     ]
    },
    {
     "data": {
      "application/vnd.jupyter.widget-view+json": {
       "model_id": "87245ee724a74545abee02af36d97a19",
       "version_major": 2,
       "version_minor": 0
      },
      "text/plain": [
       "HBox(children=(IntProgress(value=0, max=77), HTML(value='')))"
      ]
     },
     "metadata": {},
     "output_type": "display_data"
    },
    {
     "name": "stdout",
     "output_type": "stream",
     "text": [
      "5 0.031853255117312074 0.031853255117312074 18494.819229125977\n",
      "5 0.03106630314141512 0.03106630314141512 18475.16700744629\n",
      "5 0.03105774463620037 0.03105774463620037 18849.252380371094\n",
      "5 0.0318948695785366 0.0318948695785366 18816.33380126953\n",
      "\n"
     ]
    },
    {
     "data": {
      "application/vnd.jupyter.widget-view+json": {
       "model_id": "b80197283c164201afa7c280ac10821b",
       "version_major": 2,
       "version_minor": 0
      },
      "text/plain": [
       "HBox(children=(IntProgress(value=0, max=77), HTML(value='')))"
      ]
     },
     "metadata": {},
     "output_type": "display_data"
    },
    {
     "name": "stdout",
     "output_type": "stream",
     "text": [
      "6 0.03171512798871845 0.03171512798871845 18406.693939208984\n",
      "6 0.031073668389581144 0.031073668389581144 18383.435821533203\n",
      "6 0.03175648528849706 0.03175648528849706 18714.270080566406\n",
      "6 0.032278334081638604 0.032278334081638604 18758.88397216797\n",
      "6 0.0329182663699612 0.0329182663699612 18887.79473876953\n",
      "\n"
     ]
    },
    {
     "data": {
      "application/vnd.jupyter.widget-view+json": {
       "model_id": "eacbc30d764945529954f8bd1cfed5fe",
       "version_major": 2,
       "version_minor": 0
      },
      "text/plain": [
       "HBox(children=(IntProgress(value=0, max=77), HTML(value='')))"
      ]
     },
     "metadata": {},
     "output_type": "display_data"
    },
    {
     "name": "stdout",
     "output_type": "stream",
     "text": [
      "7 0.03304296266287565 0.03304296266287565 18511.53303527832\n",
      "7 0.03229984239442274 0.03229984239442274 18471.658767700195\n",
      "7 0.03282833826960996 0.03282833826960996 18861.95751953125\n",
      "7 0.033239689422771335 0.033239689422771335 18877.853881835938\n",
      "7 0.03241341462126002 0.03241341462126002 18862.318420410156\n",
      "\n"
     ]
    },
    {
     "data": {
      "application/vnd.jupyter.widget-view+json": {
       "model_id": "33b3ae8b16a045b8acbce7d426cc748b",
       "version_major": 2,
       "version_minor": 0
      },
      "text/plain": [
       "HBox(children=(IntProgress(value=0, max=77), HTML(value='')))"
      ]
     },
     "metadata": {},
     "output_type": "display_data"
    },
    {
     "name": "stdout",
     "output_type": "stream",
     "text": [
      "8 0.03161614231066778 0.03161614231066778 18438.410552978516\n",
      "8 0.031114710436668247 0.031114710436668247 18392.895965576172\n",
      "8 0.030556918471120298 0.030556918471120298 18773.946044921875\n",
      "8 0.03144061443163082 0.03144061443163082 18829.555541992188\n",
      "8 0.031912415695842355 0.031912415695842355 18907.817016601562\n",
      "\n"
     ]
    },
    {
     "data": {
      "application/vnd.jupyter.widget-view+json": {
       "model_id": "ea3c7ce13aa944768409e1e835cf9abe",
       "version_major": 2,
       "version_minor": 0
      },
      "text/plain": [
       "HBox(children=(IntProgress(value=0, max=77), HTML(value='')))"
      ]
     },
     "metadata": {},
     "output_type": "display_data"
    },
    {
     "name": "stdout",
     "output_type": "stream",
     "text": [
      "9 0.03168988740071654 0.03168988740071654 18529.972076416016\n",
      "9 0.031790804699994624 0.031790804699994624 18520.561920166016\n",
      "9 0.030990072817075998 0.030990072817075998 18940.875854492188\n",
      "9 0.029834954533725977 0.029834954533725977 18911.757690429688\n",
      "9 0.02932222920935601 0.02932222920935601 18916.89727783203\n",
      "\n"
     ]
    },
    {
     "data": {
      "application/vnd.jupyter.widget-view+json": {
       "model_id": "9d887b3bdc554fcda63a9119e4fa64ae",
       "version_major": 2,
       "version_minor": 0
      },
      "text/plain": [
       "HBox(children=(IntProgress(value=0, max=77), HTML(value='')))"
      ]
     },
     "metadata": {},
     "output_type": "display_data"
    },
    {
     "name": "stdout",
     "output_type": "stream",
     "text": [
      "10 0.029765875486191362 0.029765875486191362 18576.137924194336\n",
      "10 0.030960044357925653 0.030960044357925653 18554.597457885742\n",
      "10 0.031879658985417336 0.031879658985417336 18995.15771484375\n",
      "10 0.032074766349978745 0.032074766349978745 19061.36834716797\n",
      "\n"
     ]
    },
    {
     "data": {
      "application/vnd.jupyter.widget-view+json": {
       "model_id": "5256efebe5e2441f95f3da28c8876f50",
       "version_major": 2,
       "version_minor": 0
      },
      "text/plain": [
       "HBox(children=(IntProgress(value=0, max=77), HTML(value='')))"
      ]
     },
     "metadata": {},
     "output_type": "display_data"
    },
    {
     "name": "stdout",
     "output_type": "stream",
     "text": [
      "11 0.03139364207163453 0.03139364207163453 18654.06024169922\n",
      "11 0.030422636307775974 0.030422636307775974 18668.27947998047\n",
      "11 0.03042138647288084 0.03042138647288084 19088.397888183594\n",
      "11 0.030575837998185307 0.030575837998185307 19080.52392578125\n",
      "11 0.030273791635408998 0.030273791635408998 19020.527709960938\n",
      "\n"
     ]
    },
    {
     "data": {
      "application/vnd.jupyter.widget-view+json": {
       "model_id": "78e842c381724578b3737da43834c961",
       "version_major": 2,
       "version_minor": 0
      },
      "text/plain": [
       "HBox(children=(IntProgress(value=0, max=77), HTML(value='')))"
      ]
     },
     "metadata": {},
     "output_type": "display_data"
    },
    {
     "name": "stdout",
     "output_type": "stream",
     "text": [
      "12 0.029721312748733908 0.029721312748733908 18623.973907470703\n",
      "12 0.02930767385987565 0.02930767385987565 18715.069915771484\n",
      "12 0.029067730880342424 0.029067730880342424 19155.449829101562\n",
      "12 0.02935970976250246 0.02935970976250246 19099.011169433594\n",
      "12 0.029318386979866773 0.029318386979866773 19070.09552001953\n",
      "\n"
     ]
    },
    {
     "data": {
      "application/vnd.jupyter.widget-view+json": {
       "model_id": "e09d5d23dc72415ea9babf7f07fd6e92",
       "version_major": 2,
       "version_minor": 0
      },
      "text/plain": [
       "HBox(children=(IntProgress(value=0, max=77), HTML(value='')))"
      ]
     },
     "metadata": {},
     "output_type": "display_data"
    },
    {
     "name": "stdout",
     "output_type": "stream",
     "text": [
      "13 0.029487865860573947 0.029487865860573947 18688.011260986328\n",
      "13 0.029958034225273877 0.029958034225273877 18700.377716064453\n",
      "13 0.029648952011484653 0.029648952011484653 19097.449462890625\n",
      "13 0.029882444359827787 0.029882444359827787 18984.314086914062\n",
      "13 0.030581971223000437 0.030581971223000437 18955.07586669922\n",
      "\n"
     ]
    },
    {
     "data": {
      "application/vnd.jupyter.widget-view+json": {
       "model_id": "c24a72e25e53493cb3c24bfbe0823307",
       "version_major": 2,
       "version_minor": 0
      },
      "text/plain": [
       "HBox(children=(IntProgress(value=0, max=77), HTML(value='')))"
      ]
     },
     "metadata": {},
     "output_type": "display_data"
    },
    {
     "name": "stdout",
     "output_type": "stream",
     "text": [
      "14 0.030573813302908093 0.030573813302908093 18606.142669677734\n",
      "14 0.02981682209065184 0.02981682209065184 18609.919830322266\n",
      "14 0.02942485426319763 0.02942485426319763 19044.995056152344\n",
      "14 0.029764571925625205 0.029764571925625205 19112.851684570312\n",
      "14 0.03016681206645444 0.03016681206645444 19153.654846191406\n",
      "\n"
     ]
    },
    {
     "data": {
      "application/vnd.jupyter.widget-view+json": {
       "model_id": "08f84fa0c2b0476baf68542713bf3df7",
       "version_major": 2,
       "version_minor": 0
      },
      "text/plain": [
       "HBox(children=(IntProgress(value=0, max=77), HTML(value='')))"
      ]
     },
     "metadata": {},
     "output_type": "display_data"
    },
    {
     "name": "stdout",
     "output_type": "stream",
     "text": [
      "15 0.030498998996336013 0.030498998996336013 18707.530151367188\n",
      "15 0.030100281117483974 0.030100281117483974 18748.856323242188\n",
      "15 0.02915022085653618 0.02915022085653618 19196.75555419922\n",
      "15 0.028791379183530807 0.028791379183530807 19198.6884765625\n",
      "15 0.028836330922786146 0.028836330922786146 18796.234329223633\n",
      "\n"
     ]
    },
    {
     "data": {
      "application/vnd.jupyter.widget-view+json": {
       "model_id": "74ae96edbd2a47f6920a21fcb62a3bc4",
       "version_major": 2,
       "version_minor": 0
      },
      "text/plain": [
       "HBox(children=(IntProgress(value=0, max=77), HTML(value='')))"
      ]
     },
     "metadata": {},
     "output_type": "display_data"
    },
    {
     "name": "stdout",
     "output_type": "stream",
     "text": [
      "16 0.029190520872361958 0.029190520872361958 18832.0636138916\n",
      "16 0.03016312315594405 0.03016312315594405 19350.077880859375\n",
      "16 0.03068394708679989 0.03068394708679989 19418.58917236328\n",
      "16 0.029915494145825505 0.029915494145825505 19458.74639892578\n",
      "\n"
     ]
    },
    {
     "data": {
      "application/vnd.jupyter.widget-view+json": {
       "model_id": "5147977371b24934afe0404ec0ddb1e3",
       "version_major": 2,
       "version_minor": 0
      },
      "text/plain": [
       "HBox(children=(IntProgress(value=0, max=77), HTML(value='')))"
      ]
     },
     "metadata": {},
     "output_type": "display_data"
    },
    {
     "name": "stdout",
     "output_type": "stream",
     "text": [
      "17 0.0292318700812757 0.0292318700812757 19068.17953491211\n",
      "17 0.028724814532324672 0.028724814532324672 19009.968780517578\n",
      "17 0.0288389086490497 0.0288389086490497 19385.36505126953\n",
      "17 0.02961722237523645 0.02961722237523645 19466.82745361328\n",
      "17 0.029244214645586908 0.029244214645586908 19485.10302734375\n",
      "\n"
     ]
    },
    {
     "data": {
      "application/vnd.jupyter.widget-view+json": {
       "model_id": "da997874a20a49eda6686053de5c27e9",
       "version_major": 2,
       "version_minor": 0
      },
      "text/plain": [
       "HBox(children=(IntProgress(value=0, max=77), HTML(value='')))"
      ]
     },
     "metadata": {},
     "output_type": "display_data"
    },
    {
     "name": "stdout",
     "output_type": "stream",
     "text": [
      "18 0.028604564489796758 0.028604564489796758 19055.707275390625\n",
      "18 0.029005202057305723 0.029005202057305723 19025.915405273438\n",
      "18 0.028645968064665794 0.028645968064665794 19392.737243652344\n",
      "18 0.028174184961244464 0.028174184961244464 19444.431884765625\n",
      "18 0.028290951973758638 0.028290951973758638 19432.08624267578\n",
      "\n"
     ]
    },
    {
     "data": {
      "application/vnd.jupyter.widget-view+json": {
       "model_id": "38e05211bef1498585663fe0ebdd2ff2",
       "version_major": 2,
       "version_minor": 0
      },
      "text/plain": [
       "HBox(children=(IntProgress(value=0, max=77), HTML(value='')))"
      ]
     },
     "metadata": {},
     "output_type": "display_data"
    },
    {
     "name": "stdout",
     "output_type": "stream",
     "text": [
      "19 0.028002157458104193 0.028002157458104193 19019.28045654297\n",
      "19 0.02801754983374849 0.02801754983374849 19065.727600097656\n",
      "19 0.028168931079562753 0.028168931079562753 19373.110961914062\n",
      "19 0.02807895530713722 0.02807895530713722 19303.632263183594\n",
      "19 0.027468995132949203 0.027468995132949203 19354.676147460938\n",
      "\n"
     ]
    },
    {
     "data": {
      "application/vnd.jupyter.widget-view+json": {
       "model_id": "2abf2430e15a48c398023fec56efcab5",
       "version_major": 2,
       "version_minor": 0
      },
      "text/plain": [
       "HBox(children=(IntProgress(value=0, max=77), HTML(value='')))"
      ]
     },
     "metadata": {},
     "output_type": "display_data"
    },
    {
     "name": "stdout",
     "output_type": "stream",
     "text": [
      "20 0.02727384999161586 0.02727384999161586 18986.57666015625\n",
      "20 0.026795279642101377 0.026795279642101377 18960.002868652344\n",
      "20 0.026651201187632978 0.026651201187632978 19368.46661376953\n",
      "20 0.027092930453363806 0.027092930453363806 19351.650390625\n",
      "20 0.02732094400562346 0.02732094400562346 19255.324951171875\n",
      "\n"
     ]
    },
    {
     "data": {
      "application/vnd.jupyter.widget-view+json": {
       "model_id": "cb43f1e46a0f4d40b5e4012bc254d0ff",
       "version_major": 2,
       "version_minor": 0
      },
      "text/plain": [
       "HBox(children=(IntProgress(value=0, max=77), HTML(value='')))"
      ]
     },
     "metadata": {},
     "output_type": "display_data"
    },
    {
     "name": "stdout",
     "output_type": "stream",
     "text": [
      "21 0.02814725216012448 0.02814725216012448 18858.400680541992\n",
      "21 0.028036497009452432 0.028036497009452432 18986.536849975586\n",
      "21 0.027803584118373692 0.027803584118373692 19348.68133544922\n",
      "21 0.02860064565902576 0.02860064565902576 19288.567443847656\n",
      "\n"
     ]
    },
    {
     "data": {
      "application/vnd.jupyter.widget-view+json": {
       "model_id": "c88d3044bd1143d18edbc7003e47e990",
       "version_major": 2,
       "version_minor": 0
      },
      "text/plain": [
       "HBox(children=(IntProgress(value=0, max=77), HTML(value='')))"
      ]
     },
     "metadata": {},
     "output_type": "display_data"
    },
    {
     "name": "stdout",
     "output_type": "stream",
     "text": [
      "22 0.028482103196438402 0.028482103196438402 18962.951263427734\n",
      "22 0.027575374813750386 0.027575374813750386 18966.103607177734\n",
      "22 0.026811235467903316 0.026811235467903316 19395.128967285156\n",
      "22 0.02668449835618958 0.02668449835618958 19426.90509033203\n",
      "22 0.02669369097566232 0.02669369097566232 19362.730346679688\n",
      "\n"
     ]
    },
    {
     "data": {
      "application/vnd.jupyter.widget-view+json": {
       "model_id": "5f7ee169511442198e4e940f0acad07c",
       "version_major": 2,
       "version_minor": 0
      },
      "text/plain": [
       "HBox(children=(IntProgress(value=0, max=77), HTML(value='')))"
      ]
     },
     "metadata": {},
     "output_type": "display_data"
    },
    {
     "name": "stdout",
     "output_type": "stream",
     "text": [
      "23 0.026384920405689627 0.026384920405689627 18889.125381469727\n",
      "23 0.026913107722066343 0.026913107722066343 18821.781631469727\n",
      "23 0.02709508064435795 0.02709508064435795 19216.49188232422\n",
      "23 0.02717366797151044 0.02717366797151044 19293.474365234375\n",
      "23 0.027467290055938065 0.027467290055938065 19330.486083984375\n",
      "\n"
     ]
    },
    {
     "data": {
      "application/vnd.jupyter.widget-view+json": {
       "model_id": "6bb4f9fec9c14a9b878aaa4dee2649b7",
       "version_major": 2,
       "version_minor": 0
      },
      "text/plain": [
       "HBox(children=(IntProgress(value=0, max=77), HTML(value='')))"
      ]
     },
     "metadata": {},
     "output_type": "display_data"
    },
    {
     "name": "stdout",
     "output_type": "stream",
     "text": [
      "24 0.027190831257030368 0.027190831257030368 18876.811614990234\n",
      "24 0.027493057015817612 0.027493057015817612 18847.969757080078\n",
      "24 0.027467221370898187 0.027467221370898187 19296.87451171875\n",
      "24 0.02729702234501019 0.02729702234501019 19355.53009033203\n",
      "24 0.027479301439598203 0.027479301439598203 19389.777893066406\n",
      "\n"
     ]
    },
    {
     "data": {
      "application/vnd.jupyter.widget-view+json": {
       "model_id": "9757ba41725c40a1bf74e9839018a1e3",
       "version_major": 2,
       "version_minor": 0
      },
      "text/plain": [
       "HBox(children=(IntProgress(value=0, max=77), HTML(value='')))"
      ]
     },
     "metadata": {},
     "output_type": "display_data"
    },
    {
     "name": "stdout",
     "output_type": "stream",
     "text": [
      "25 0.027317452360875905 0.027317452360875905 19041.34344482422\n",
      "25 0.027568631747271866 0.027568631747271866 19072.312744140625\n",
      "25 0.027242201496846974 0.027242201496846974 19458.53955078125\n",
      "25 0.026196773746050894 0.026196773746050894 19494.461669921875\n",
      "25 0.025140756566543132 0.025140756566543132 19516.18829345703\n",
      "\n"
     ]
    },
    {
     "data": {
      "application/vnd.jupyter.widget-view+json": {
       "model_id": "0ce4c0a960164e8aae4ff2036d185f46",
       "version_major": 2,
       "version_minor": 0
      },
      "text/plain": [
       "HBox(children=(IntProgress(value=0, max=77), HTML(value='')))"
      ]
     },
     "metadata": {},
     "output_type": "display_data"
    },
    {
     "name": "stdout",
     "output_type": "stream",
     "text": [
      "26 0.02512066753115505 0.02512066753115505 19076.698364257812\n",
      "26 0.026150662801228464 0.026150662801228464 19054.342407226562\n",
      "26 0.026753092708531767 0.026753092708531767 19461.38690185547\n",
      "26 0.026957815163768828 0.026957815163768828 19537.099487304688\n",
      "\n"
     ]
    },
    {
     "data": {
      "application/vnd.jupyter.widget-view+json": {
       "model_id": "a151bf05a2f74336a2ff88e62425bf7f",
       "version_major": 2,
       "version_minor": 0
      },
      "text/plain": [
       "HBox(children=(IntProgress(value=0, max=77), HTML(value='')))"
      ]
     },
     "metadata": {},
     "output_type": "display_data"
    },
    {
     "name": "stdout",
     "output_type": "stream",
     "text": [
      "27 0.02640411601169035 0.02640411601169035 19139.758590698242\n",
      "27 0.026097095804288983 0.026097095804288983 19097.178451538086\n",
      "27 0.02639746677596122 0.02639746677596122 19550.8134765625\n",
      "27 0.026304940576665103 0.026304940576665103 19565.275939941406\n",
      "27 0.025924201239831746 0.025924201239831746 19478.560668945312\n",
      "\n"
     ]
    },
    {
     "data": {
      "application/vnd.jupyter.widget-view+json": {
       "model_id": "c07dd798646c458ba2c143b100f37834",
       "version_major": 2,
       "version_minor": 0
      },
      "text/plain": [
       "HBox(children=(IntProgress(value=0, max=77), HTML(value='')))"
      ]
     },
     "metadata": {},
     "output_type": "display_data"
    },
    {
     "name": "stdout",
     "output_type": "stream",
     "text": [
      "28 0.025906017108354717 0.025906017108354717 19026.417083740234\n",
      "28 0.025933238677680492 0.025933238677680492 19076.318572998047\n",
      "28 0.02549097774317488 0.02549097774317488 19468.77325439453\n",
      "28 0.026958735776133835 0.026958735776133835 19494.6064453125\n",
      "28 0.027598343091085553 0.027598343091085553 19550.698791503906\n",
      "\n"
     ]
    },
    {
     "data": {
      "application/vnd.jupyter.widget-view+json": {
       "model_id": "3e3dafea4390425a8349d14f8dcaa7fc",
       "version_major": 2,
       "version_minor": 0
      },
      "text/plain": [
       "HBox(children=(IntProgress(value=0, max=77), HTML(value='')))"
      ]
     },
     "metadata": {},
     "output_type": "display_data"
    },
    {
     "name": "stdout",
     "output_type": "stream",
     "text": [
      "29 0.026807108020875603 0.026807108020875603 19127.182067871094\n",
      "29 0.026415082218591124 0.026415082218591124 19133.620483398438\n",
      "29 0.025103349471464753 0.025103349471464753 19592.586975097656\n",
      "29 0.024935283057857305 0.024935283057857305 19616.447265625\n",
      "29 0.02544584812130779 0.02544584812130779 19550.75701904297\n",
      "\n"
     ]
    },
    {
     "data": {
      "application/vnd.jupyter.widget-view+json": {
       "model_id": "21e323498c91481bbce813f5b12e0528",
       "version_major": 2,
       "version_minor": 0
      },
      "text/plain": [
       "HBox(children=(IntProgress(value=0, max=77), HTML(value='')))"
      ]
     },
     "metadata": {},
     "output_type": "display_data"
    },
    {
     "name": "stdout",
     "output_type": "stream",
     "text": [
      "30 0.024976036860607564 0.024976036860607564 19024.521270751953\n",
      "30 0.024649444967508316 0.024649444967508316 19022.236602783203\n",
      "30 0.024570254376158118 0.024570254376158118 19555.45587158203\n",
      "30 0.024995298648718745 0.024995298648718745 19597.517211914062\n",
      "30 0.025558078777976334 0.025558078777976334 19569.17791748047\n",
      "\n"
     ]
    },
    {
     "data": {
      "application/vnd.jupyter.widget-view+json": {
       "model_id": "f27bf84e998f44149c5bb6284048aaa3",
       "version_major": 2,
       "version_minor": 0
      },
      "text/plain": [
       "HBox(children=(IntProgress(value=0, max=77), HTML(value='')))"
      ]
     },
     "metadata": {},
     "output_type": "display_data"
    },
    {
     "name": "stdout",
     "output_type": "stream",
     "text": [
      "31 0.025179907504934818 0.025179907504934818 19203.240173339844\n",
      "31 0.02497723512351513 0.02497723512351513 19217.290893554688\n",
      "31 0.024705613788682967 0.024705613788682967 19638.10040283203\n",
      "31 0.02444579021539539 0.02444579021539539 19658.858032226562\n",
      "31 0.024733415280934423 0.024733415280934423 19183.277877807617\n",
      "\n"
     ]
    },
    {
     "data": {
      "application/vnd.jupyter.widget-view+json": {
       "model_id": "bc09fc136bb44d7e956cce993f720e13",
       "version_major": 2,
       "version_minor": 0
      },
      "text/plain": [
       "HBox(children=(IntProgress(value=0, max=77), HTML(value='')))"
      ]
     },
     "metadata": {},
     "output_type": "display_data"
    },
    {
     "name": "stdout",
     "output_type": "stream",
     "text": [
      "32 0.025270389043726027 0.025270389043726027 19129.382553100586\n",
      "32 0.02567171712871641 0.02567171712871641 19522.234252929688\n",
      "32 0.025413946656044573 0.025413946656044573 19479.64031982422\n",
      "32 0.02460419130511582 0.02460419130511582 19463.921142578125\n",
      "\n"
     ]
    },
    {
     "data": {
      "application/vnd.jupyter.widget-view+json": {
       "model_id": "5203597a6a494f239dab047a2ea7fde8",
       "version_major": 2,
       "version_minor": 0
      },
      "text/plain": [
       "HBox(children=(IntProgress(value=0, max=77), HTML(value='')))"
      ]
     },
     "metadata": {},
     "output_type": "display_data"
    },
    {
     "name": "stdout",
     "output_type": "stream",
     "text": [
      "33 0.025083828542847186 0.025083828542847186 19126.827423095703\n",
      "33 0.0262735128053464 0.0262735128053464 19157.45785522461\n",
      "33 0.026862496742978692 0.026862496742978692 19555.496948242188\n",
      "33 0.027080529544036835 0.027080529544036835 19587.781311035156\n",
      "33 0.026530313421972096 0.026530313421972096 19620.807189941406\n",
      "\n"
     ]
    },
    {
     "data": {
      "application/vnd.jupyter.widget-view+json": {
       "model_id": "5eccb3dc6c8741af9ec1dee7298fa295",
       "version_major": 2,
       "version_minor": 0
      },
      "text/plain": [
       "HBox(children=(IntProgress(value=0, max=77), HTML(value='')))"
      ]
     },
     "metadata": {},
     "output_type": "display_data"
    },
    {
     "name": "stdout",
     "output_type": "stream",
     "text": [
      "34 0.025726644438691437 0.025726644438691437 19214.642303466797\n",
      "34 0.02535566798178479 0.02535566798178479 19202.986724853516\n",
      "34 0.02564261667430401 0.02564261667430401 19649.921936035156\n",
      "34 0.02524611254921183 0.02524611254921183 19638.168395996094\n",
      "34 0.024553677183575928 0.024553677183575928 19578.728576660156\n",
      "\n"
     ]
    },
    {
     "data": {
      "application/vnd.jupyter.widget-view+json": {
       "model_id": "f1289ecade0d4bc7980efa0d5d781207",
       "version_major": 2,
       "version_minor": 0
      },
      "text/plain": [
       "HBox(children=(IntProgress(value=0, max=77), HTML(value='')))"
      ]
     },
     "metadata": {},
     "output_type": "display_data"
    },
    {
     "name": "stdout",
     "output_type": "stream",
     "text": [
      "35 0.024353544460609555 0.024353544460609555 19232.444595336914\n",
      "35 0.023868968070019037 0.023868968070019037 19270.51106262207\n",
      "35 0.02419091504998505 0.02419091504998505 19607.11932373047\n",
      "35 0.026586856984067708 0.026586856984067708 19585.262329101562\n",
      "35 0.03767799708293751 0.03767799708293751 19625.158142089844\n",
      "\n"
     ]
    },
    {
     "data": {
      "application/vnd.jupyter.widget-view+json": {
       "model_id": "3615646e53264952850a6ccdbf0f094a",
       "version_major": 2,
       "version_minor": 0
      },
      "text/plain": [
       "HBox(children=(IntProgress(value=0, max=77), HTML(value='')))"
      ]
     },
     "metadata": {},
     "output_type": "display_data"
    },
    {
     "name": "stdout",
     "output_type": "stream",
     "text": [
      "36 0.04153879126533866 0.04153879126533866 19167.812469482422\n",
      "36 0.03288252459606156 0.03288252459606156 19164.968292236328\n",
      "36 0.027842577022965997 0.027842577022965997 19615.807189941406\n",
      "36 0.026245635410305113 0.026245635410305113 19583.518676757812\n",
      "36 0.026307488966267556 0.026307488966267556 19621.09552001953\n",
      "\n"
     ]
    },
    {
     "data": {
      "application/vnd.jupyter.widget-view+json": {
       "model_id": "ca262211ed6a4dd8ad1dc294c37f9a72",
       "version_major": 2,
       "version_minor": 0
      },
      "text/plain": [
       "HBox(children=(IntProgress(value=0, max=77), HTML(value='')))"
      ]
     },
     "metadata": {},
     "output_type": "display_data"
    },
    {
     "name": "stdout",
     "output_type": "stream",
     "text": [
      "37 0.025550877850037068 0.025550877850037068 19209.801635742188\n",
      "37 0.024590134155005217 0.024590134155005217 19182.79071044922\n",
      "37 0.024440763925667852 0.024440763925667852 19642.132385253906\n",
      "37 0.024001342826522887 0.024001342826522887 19680.894592285156\n",
      "\n"
     ]
    },
    {
     "data": {
      "application/vnd.jupyter.widget-view+json": {
       "model_id": "2be6992fa62d48ba9d246a30ef4a7116",
       "version_major": 2,
       "version_minor": 0
      },
      "text/plain": [
       "HBox(children=(IntProgress(value=0, max=77), HTML(value='')))"
      ]
     },
     "metadata": {},
     "output_type": "display_data"
    },
    {
     "name": "stdout",
     "output_type": "stream",
     "text": [
      "38 0.023350688396021724 0.023350688396021724 19240.18130493164\n",
      "38 0.02326530613936484 0.02326530613936484 19237.080657958984\n",
      "38 0.022984602954238653 0.022984602954238653 19699.33624267578\n",
      "38 0.02329349226783961 0.02329349226783961 19739.887634277344\n",
      "38 0.023727201274596155 0.023727201274596155 19730.9765625\n",
      "\n"
     ]
    },
    {
     "data": {
      "application/vnd.jupyter.widget-view+json": {
       "model_id": "19a7ff3c6f2f47209ede63cf656225b3",
       "version_major": 2,
       "version_minor": 0
      },
      "text/plain": [
       "HBox(children=(IntProgress(value=0, max=77), HTML(value='')))"
      ]
     },
     "metadata": {},
     "output_type": "display_data"
    },
    {
     "name": "stdout",
     "output_type": "stream",
     "text": [
      "39 0.023475061228964478 0.023475061228964478 19271.374404907227\n",
      "39 0.023297893349081278 0.023297893349081278 19281.43684387207\n",
      "39 0.02331154007697478 0.02331154007697478 19766.441162109375\n",
      "39 0.023570593039039522 0.023570593039039522 19806.964416503906\n",
      "39 0.023517767956946045 0.023517767956946045 19814.222717285156\n",
      "\n"
     ]
    },
    {
     "data": {
      "application/vnd.jupyter.widget-view+json": {
       "model_id": "8a957948ff1647978d9002727a2e6f40",
       "version_major": 2,
       "version_minor": 0
      },
      "text/plain": [
       "HBox(children=(IntProgress(value=0, max=77), HTML(value='')))"
      ]
     },
     "metadata": {},
     "output_type": "display_data"
    },
    {
     "name": "stdout",
     "output_type": "stream",
     "text": [
      "40 0.023358465521596372 0.023358465521596372 19402.13394165039\n",
      "40 0.02284215809777379 0.02284215809777379 19400.08804321289\n",
      "40 0.021817475731950253 0.021817475731950253 19854.092407226562\n",
      "40 0.02173232357017696 0.02173232357017696 19853.565063476562\n",
      "40 0.0227012139512226 0.0227012139512226 19811.384521484375\n",
      "\n"
     ]
    },
    {
     "data": {
      "application/vnd.jupyter.widget-view+json": {
       "model_id": "f0d410b5126f442a9f68ff55cf4885ae",
       "version_major": 2,
       "version_minor": 0
      },
      "text/plain": [
       "HBox(children=(IntProgress(value=0, max=77), HTML(value='')))"
      ]
     },
     "metadata": {},
     "output_type": "display_data"
    },
    {
     "name": "stdout",
     "output_type": "stream",
     "text": [
      "41 0.023625662259291857 0.023625662259291857 19345.442108154297\n",
      "41 0.02402909443480894 0.02402909443480894 19345.125274658203\n",
      "41 0.023791381041519344 0.023791381041519344 19805.910766601562\n",
      "41 0.023297066625673324 0.023297066625673324 19772.90118408203\n",
      "41 0.023509222315624356 0.023509222315624356 19753.571166992188\n",
      "\n"
     ]
    },
    {
     "data": {
      "application/vnd.jupyter.widget-view+json": {
       "model_id": "43afd2dc6e3a494182dd454095b3189b",
       "version_major": 2,
       "version_minor": 0
      },
      "text/plain": [
       "HBox(children=(IntProgress(value=0, max=77), HTML(value='')))"
      ]
     },
     "metadata": {},
     "output_type": "display_data"
    },
    {
     "name": "stdout",
     "output_type": "stream",
     "text": [
      "42 0.023490686435252428 0.023490686435252428 19376.12664794922\n",
      "42 0.023071476898621768 0.023071476898621768 19324.382690429688\n",
      "42 0.02322803222341463 0.02322803222341463 19760.462158203125\n",
      "42 0.023156216193456203 0.023156216193456203 19858.40887451172\n",
      "\n"
     ]
    },
    {
     "data": {
      "application/vnd.jupyter.widget-view+json": {
       "model_id": "dfa68640f33242db90301469d3fa9347",
       "version_major": 2,
       "version_minor": 0
      },
      "text/plain": [
       "HBox(children=(IntProgress(value=0, max=77), HTML(value='')))"
      ]
     },
     "metadata": {},
     "output_type": "display_data"
    },
    {
     "name": "stdout",
     "output_type": "stream",
     "text": [
      "43 0.022814078256487846 0.022814078256487846 19444.683975219727\n",
      "43 0.022759400482755154 0.022759400482755154 19475.444717407227\n",
      "43 0.022871709428727627 0.022871709428727627 19968.361694335938\n",
      "43 0.024451868375763297 0.024451868375763297 19941.547302246094\n",
      "43 0.025237769121304154 0.025237769121304154 19901.792724609375\n",
      "\n"
     ]
    },
    {
     "data": {
      "application/vnd.jupyter.widget-view+json": {
       "model_id": "82652190890647b0b3dc2b59b7150ca0",
       "version_major": 2,
       "version_minor": 0
      },
      "text/plain": [
       "HBox(children=(IntProgress(value=0, max=77), HTML(value='')))"
      ]
     },
     "metadata": {},
     "output_type": "display_data"
    },
    {
     "name": "stdout",
     "output_type": "stream",
     "text": [
      "44 0.024153047590516508 0.024153047590516508 19490.516372680664\n",
      "44 0.023353342316113412 0.023353342316113412 19505.5987701416\n",
      "44 0.022482095228042454 0.022482095228042454 19962.614318847656\n",
      "44 0.02198002446675673 0.02198002446675673 19930.26904296875\n",
      "44 0.0218256757943891 0.0218256757943891 19929.447875976562\n",
      "\n"
     ]
    },
    {
     "data": {
      "application/vnd.jupyter.widget-view+json": {
       "model_id": "919d12f72d634c01a37eda88bbb196c1",
       "version_major": 2,
       "version_minor": 0
      },
      "text/plain": [
       "HBox(children=(IntProgress(value=0, max=77), HTML(value='')))"
      ]
     },
     "metadata": {},
     "output_type": "display_data"
    },
    {
     "name": "stdout",
     "output_type": "stream",
     "text": [
      "45 0.022514855430927128 0.022514855430927128 19545.81575012207\n",
      "45 0.023190566920675337 0.023190566920675337 19545.94874572754\n",
      "45 0.023366003239061683 0.023366003239061683 19976.781372070312\n",
      "45 0.023191121057607234 0.023191121057607234 20012.932678222656\n",
      "45 0.022724662791006267 0.022724662791006267 20026.468627929688\n",
      "\n"
     ]
    },
    {
     "data": {
      "application/vnd.jupyter.widget-view+json": {
       "model_id": "38931dfcb2a84a58a17d256b1736b1ef",
       "version_major": 2,
       "version_minor": 0
      },
      "text/plain": [
       "HBox(children=(IntProgress(value=0, max=77), HTML(value='')))"
      ]
     },
     "metadata": {},
     "output_type": "display_data"
    },
    {
     "name": "stdout",
     "output_type": "stream",
     "text": [
      "46 0.022861554578412324 0.022861554578412324 19591.177673339844\n",
      "46 0.024171517172362655 0.024171517172362655 19554.83416748047\n",
      "46 0.02540361654246226 0.02540361654246226 19994.808654785156\n",
      "46 0.024275662610307336 0.024275662610307336 20040.418884277344\n",
      "46 0.02289568242849782 0.02289568242849782 20011.353088378906\n",
      "\n"
     ]
    },
    {
     "data": {
      "application/vnd.jupyter.widget-view+json": {
       "model_id": "40d8b32f7a30491193fca71c4f1844d7",
       "version_major": 2,
       "version_minor": 0
      },
      "text/plain": [
       "HBox(children=(IntProgress(value=0, max=77), HTML(value='')))"
      ]
     },
     "metadata": {},
     "output_type": "display_data"
    },
    {
     "name": "stdout",
     "output_type": "stream",
     "text": [
      "47 0.022910669504199177 0.022910669504199177 19585.843215942383\n",
      "47 0.02285116584971547 0.02285116584971547 19634.59260559082\n",
      "47 0.022117596527095884 0.022117596527095884 19987.044799804688\n",
      "47 0.02144363522529602 0.02144363522529602 19926.450927734375\n",
      "47 0.021756382600869983 0.021756382600869983 19555.725540161133\n",
      "\n"
     ]
    },
    {
     "data": {
      "application/vnd.jupyter.widget-view+json": {
       "model_id": "25494666de854d7ea4e66961d57497fc",
       "version_major": 2,
       "version_minor": 0
      },
      "text/plain": [
       "HBox(children=(IntProgress(value=0, max=77), HTML(value='')))"
      ]
     },
     "metadata": {},
     "output_type": "display_data"
    },
    {
     "name": "stdout",
     "output_type": "stream",
     "text": [
      "48 0.02225397905567661 0.02225397905567661 19520.761428833008\n",
      "48 0.021566398674622178 0.021566398674622178 19906.68035888672\n",
      "48 0.020916585985105485 0.020916585985105485 19890.167114257812\n",
      "48 0.02168593357782811 0.02168593357782811 19872.12158203125\n",
      "\n"
     ]
    },
    {
     "data": {
      "application/vnd.jupyter.widget-view+json": {
       "model_id": "5eb80eebac7048339b3978ac90263255",
       "version_major": 2,
       "version_minor": 0
      },
      "text/plain": [
       "HBox(children=(IntProgress(value=0, max=77), HTML(value='')))"
      ]
     },
     "metadata": {},
     "output_type": "display_data"
    },
    {
     "name": "stdout",
     "output_type": "stream",
     "text": [
      "49 0.02258411591174081 0.02258411591174081 19526.43130493164\n",
      "49 0.022479494393337518 0.022479494393337518 19563.451751708984\n",
      "49 0.021652852301485837 0.021652852301485837 19937.647705078125\n",
      "49 0.021468985825777054 0.021468985825777054 19930.1630859375\n",
      "49 0.02224036696134135 0.02224036696134135 19942.38555908203\n",
      "\n"
     ]
    },
    {
     "data": {
      "application/vnd.jupyter.widget-view+json": {
       "model_id": "676ca3de36954bd1beb622a8e37ad6c5",
       "version_major": 2,
       "version_minor": 0
      },
      "text/plain": [
       "HBox(children=(IntProgress(value=0, max=77), HTML(value='')))"
      ]
     },
     "metadata": {},
     "output_type": "display_data"
    },
    {
     "name": "stdout",
     "output_type": "stream",
     "text": [
      "50 0.022899310977663845 0.022899310977663845 19480.71810913086\n",
      "50 0.02273678866913542 0.02273678866913542 19480.740631103516\n",
      "50 0.022510051087010652 0.022510051087010652 19938.819396972656\n",
      "50 0.022329286439344287 0.022329286439344287 19978.43896484375\n",
      "50 0.022039013216271996 0.022039013216271996 19992.011108398438\n",
      "\n"
     ]
    },
    {
     "data": {
      "application/vnd.jupyter.widget-view+json": {
       "model_id": "a62562ed24834280860e1d8081778c31",
       "version_major": 2,
       "version_minor": 0
      },
      "text/plain": [
       "HBox(children=(IntProgress(value=0, max=77), HTML(value='')))"
      ]
     },
     "metadata": {},
     "output_type": "display_data"
    },
    {
     "name": "stdout",
     "output_type": "stream",
     "text": [
      "51 0.022527791850734502 0.022527791850734502 19599.48208618164\n",
      "51 0.02220406651031226 0.02220406651031226 19672.728302001953\n",
      "51 0.02129110152600333 0.02129110152600333 20145.791137695312\n",
      "51 0.021036034915596247 0.021036034915596247 20157.398376464844\n",
      "51 0.0216176884714514 0.0216176884714514 20116.398315429688\n",
      "\n"
     ]
    },
    {
     "data": {
      "application/vnd.jupyter.widget-view+json": {
       "model_id": "93d2b53b29a3468d8ec34cff5e852bd9",
       "version_major": 2,
       "version_minor": 0
      },
      "text/plain": [
       "HBox(children=(IntProgress(value=0, max=77), HTML(value='')))"
      ]
     },
     "metadata": {},
     "output_type": "display_data"
    },
    {
     "name": "stdout",
     "output_type": "stream",
     "text": [
      "52 0.02262998471269384 0.02262998471269384 19689.431121826172\n",
      "52 0.0227611226728186 0.0227611226728186 19699.866485595703\n",
      "52 0.02175170776899904 0.02175170776899904 20132.113525390625\n",
      "52 0.020874039502814412 0.020874039502814412 20165.29327392578\n",
      "52 0.02085770113626495 0.02085770113626495 20152.614013671875\n",
      "\n"
     ]
    },
    {
     "data": {
      "application/vnd.jupyter.widget-view+json": {
       "model_id": "234455fff42f463eb46965f4bdf73fad",
       "version_major": 2,
       "version_minor": 0
      },
      "text/plain": [
       "HBox(children=(IntProgress(value=0, max=77), HTML(value='')))"
      ]
     },
     "metadata": {},
     "output_type": "display_data"
    },
    {
     "name": "stdout",
     "output_type": "stream",
     "text": [
      "53 0.021300080232322216 0.021300080232322216 19690.673706054688\n",
      "53 0.021688365435693413 0.021688365435693413 19666.49639892578\n",
      "53 0.021268689015414566 0.021268689015414566 20066.24200439453\n",
      "53 0.02076927130110562 0.02076927130110562 20083.05938720703\n",
      "\n"
     ]
    },
    {
     "data": {
      "application/vnd.jupyter.widget-view+json": {
       "model_id": "b6c21aefcc244955b2cc1a1d95dc9cd4",
       "version_major": 2,
       "version_minor": 0
      },
      "text/plain": [
       "HBox(children=(IntProgress(value=0, max=77), HTML(value='')))"
      ]
     },
     "metadata": {},
     "output_type": "display_data"
    },
    {
     "name": "stdout",
     "output_type": "stream",
     "text": [
      "54 0.020630957907997072 0.020630957907997072 19770.76629638672\n",
      "54 0.02047961321659386 0.02047961321659386 19806.306701660156\n",
      "54 0.020755547157023102 0.020755547157023102 20159.995178222656\n",
      "54 0.020521789090707898 0.020521789090707898 20188.587158203125\n",
      "54 0.02012297383043915 0.02012297383043915 20224.861755371094\n",
      "\n"
     ]
    },
    {
     "data": {
      "application/vnd.jupyter.widget-view+json": {
       "model_id": "5511888d8eaa4003970032e8d96fb9a7",
       "version_major": 2,
       "version_minor": 0
      },
      "text/plain": [
       "HBox(children=(IntProgress(value=0, max=77), HTML(value='')))"
      ]
     },
     "metadata": {},
     "output_type": "display_data"
    },
    {
     "name": "stdout",
     "output_type": "stream",
     "text": [
      "55 0.020239247125573456 0.020239247125573456 19765.796600341797\n",
      "55 0.020575018250383437 0.020575018250383437 19739.71304321289\n",
      "55 0.02078522217925638 0.02078522217925638 20208.028198242188\n",
      "55 0.020482791413087398 0.020482791413087398 20246.595275878906\n",
      "55 0.020274186332244426 0.020274186332244426 20188.72039794922\n",
      "\n"
     ]
    },
    {
     "data": {
      "application/vnd.jupyter.widget-view+json": {
       "model_id": "da21c59192114befb541b71cb2b25461",
       "version_major": 2,
       "version_minor": 0
      },
      "text/plain": [
       "HBox(children=(IntProgress(value=0, max=77), HTML(value='')))"
      ]
     },
     "metadata": {},
     "output_type": "display_data"
    },
    {
     "name": "stdout",
     "output_type": "stream",
     "text": [
      "56 0.020530219946522266 0.020530219946522266 19714.807678222656\n",
      "56 0.020883960649371147 0.020883960649371147 19753.340698242188\n",
      "56 0.021344477601815015 0.021344477601815015 20187.807373046875\n",
      "56 0.021780021430458874 0.021780021430458874 20121.044921875\n",
      "56 0.021753411798272282 0.021753411798272282 20108.500854492188\n",
      "\n"
     ]
    },
    {
     "data": {
      "application/vnd.jupyter.widget-view+json": {
       "model_id": "2f2998ecda30481387b44ae9dd1d7b98",
       "version_major": 2,
       "version_minor": 0
      },
      "text/plain": [
       "HBox(children=(IntProgress(value=0, max=77), HTML(value='')))"
      ]
     },
     "metadata": {},
     "output_type": "display_data"
    },
    {
     "name": "stdout",
     "output_type": "stream",
     "text": [
      "57 0.02127353142714128 0.02127353142714128 19723.790985107422\n",
      "57 0.020870723470579833 0.020870723470579833 19736.006378173828\n",
      "57 0.02014888048870489 0.02014888048870489 20171.592895507812\n",
      "57 0.019548112817574292 0.019548112817574292 20205.8046875\n",
      "57 0.020114840590395033 0.020114840590395033 20232.24462890625\n",
      "\n"
     ]
    },
    {
     "data": {
      "application/vnd.jupyter.widget-view+json": {
       "model_id": "ba9d3d5dba3b4474ada9c0d59412bc75",
       "version_major": 2,
       "version_minor": 0
      },
      "text/plain": [
       "HBox(children=(IntProgress(value=0, max=77), HTML(value='')))"
      ]
     },
     "metadata": {},
     "output_type": "display_data"
    },
    {
     "name": "stdout",
     "output_type": "stream",
     "text": [
      "58 0.020386975724250078 0.020386975724250078 19811.191131591797\n",
      "58 0.01990409812424332 0.01990409812424332 19783.10708618164\n",
      "58 0.020220817299559712 0.020220817299559712 20175.3779296875\n",
      "58 0.0203540597576648 0.0203540597576648 20215.88360595703\n",
      "\n"
     ]
    },
    {
     "data": {
      "application/vnd.jupyter.widget-view+json": {
       "model_id": "0649f01d318a446a8c092c59743da37e",
       "version_major": 2,
       "version_minor": 0
      },
      "text/plain": [
       "HBox(children=(IntProgress(value=0, max=77), HTML(value='')))"
      ]
     },
     "metadata": {},
     "output_type": "display_data"
    },
    {
     "name": "stdout",
     "output_type": "stream",
     "text": [
      "59 0.01996973919449374 0.01996973919449374 19839.80630493164\n",
      "59 0.020085717493202537 0.020085717493202537 19839.750213623047\n",
      "59 0.020458264101762325 0.020458264101762325 20254.159912109375\n",
      "59 0.020652678329497576 0.020652678329497576 20219.827880859375\n",
      "59 0.020498053112532943 0.020498053112532943 20224.44757080078\n",
      "\n"
     ]
    },
    {
     "data": {
      "application/vnd.jupyter.widget-view+json": {
       "model_id": "ac9046c7a72b4ef5bbbae6d4ff8e6194",
       "version_major": 2,
       "version_minor": 0
      },
      "text/plain": [
       "HBox(children=(IntProgress(value=0, max=77), HTML(value='')))"
      ]
     },
     "metadata": {},
     "output_type": "display_data"
    },
    {
     "name": "stdout",
     "output_type": "stream",
     "text": [
      "60 0.020103285554796457 0.020103285554796457 19858.04721069336\n",
      "60 0.02045873913448304 0.02045873913448304 19888.49691772461\n",
      "60 0.020450256241019815 0.020450256241019815 20297.309936523438\n",
      "60 0.020325378398410976 0.020325378398410976 20267.148193359375\n",
      "60 0.020611065323464572 0.020611065323464572 20252.736450195312\n",
      "\n"
     ]
    },
    {
     "data": {
      "application/vnd.jupyter.widget-view+json": {
       "model_id": "35b4cfb1cdca4b4d92f74dc25fa724ff",
       "version_major": 2,
       "version_minor": 0
      },
      "text/plain": [
       "HBox(children=(IntProgress(value=0, max=77), HTML(value='')))"
      ]
     },
     "metadata": {},
     "output_type": "display_data"
    },
    {
     "name": "stdout",
     "output_type": "stream",
     "text": [
      "61 0.01977507973788306 0.01977507973788306 19871.525451660156\n",
      "61 0.019512621918693185 0.019512621918693185 19891.878540039062\n",
      "61 0.019662200764287263 0.019662200764287263 20288.429809570312\n",
      "61 0.020131055149249732 0.020131055149249732 20279.36376953125\n",
      "61 0.026649113046005368 0.026649113046005368 20208.708129882812\n",
      "\n"
     ]
    },
    {
     "data": {
      "application/vnd.jupyter.widget-view+json": {
       "model_id": "05071b3d635545ce81fda88a71540d35",
       "version_major": 2,
       "version_minor": 0
      },
      "text/plain": [
       "HBox(children=(IntProgress(value=0, max=77), HTML(value='')))"
      ]
     },
     "metadata": {},
     "output_type": "display_data"
    },
    {
     "name": "stdout",
     "output_type": "stream",
     "text": [
      "62 0.03456169326091185 0.03456169326091185 19702.437591552734\n",
      "62 0.03193295537494123 0.03193295537494123 19694.871002197266\n",
      "62 0.025852549471892416 0.025852549471892416 20206.683227539062\n",
      "62 0.023002365429420024 0.023002365429420024 20295.085815429688\n",
      "62 0.021045268862508237 0.021045268862508237 20290.52716064453\n",
      "\n"
     ]
    },
    {
     "data": {
      "application/vnd.jupyter.widget-view+json": {
       "model_id": "6cf7e494ff2c4972be5b84369d251218",
       "version_major": 2,
       "version_minor": 0
      },
      "text/plain": [
       "HBox(children=(IntProgress(value=0, max=77), HTML(value='')))"
      ]
     },
     "metadata": {},
     "output_type": "display_data"
    },
    {
     "name": "stdout",
     "output_type": "stream",
     "text": [
      "63 0.02003127959324047 0.02003127959324047 19905.18913269043\n",
      "63 0.01933827204629779 0.01933827204629779 19916.285873413086\n",
      "63 0.018756538804154843 0.018756538804154843 20294.172424316406\n",
      "63 0.018625808763317764 0.018625808763317764 20254.08868408203\n",
      "63 0.018933866173028946 0.018933866173028946 19834.467254638672\n",
      "\n"
     ]
    },
    {
     "data": {
      "application/vnd.jupyter.widget-view+json": {
       "model_id": "9d0ee0a2bfd84f7e87e1d653d12f5e6b",
       "version_major": 2,
       "version_minor": 0
      },
      "text/plain": [
       "HBox(children=(IntProgress(value=0, max=77), HTML(value='')))"
      ]
     },
     "metadata": {},
     "output_type": "display_data"
    },
    {
     "name": "stdout",
     "output_type": "stream",
     "text": [
      "64 0.019025343819521368 0.019025343819521368 19873.558807373047\n",
      "64 0.018673465645406395 0.018673465645406395 20285.873168945312\n",
      "64 0.018880283168982714 0.018880283168982714 20316.821533203125\n",
      "64 0.01943548209965229 0.01943548209965229 20323.437438964844\n",
      "\n"
     ]
    },
    {
     "data": {
      "application/vnd.jupyter.widget-view+json": {
       "model_id": "3b13c8f4d5154a70865db590e35e998d",
       "version_major": 2,
       "version_minor": 0
      },
      "text/plain": [
       "HBox(children=(IntProgress(value=0, max=77), HTML(value='')))"
      ]
     },
     "metadata": {},
     "output_type": "display_data"
    },
    {
     "name": "stdout",
     "output_type": "stream",
     "text": [
      "65 0.019577880739234388 0.019577880739234388 19889.141571044922\n",
      "65 0.01947323454078287 0.01947323454078287 19979.316619873047\n",
      "65 0.019543842237908393 0.019543842237908393 20407.636291503906\n",
      "65 0.019482392526697367 0.019482392526697367 20411.990478515625\n",
      "65 0.01919657806865871 0.01919657806865871 20451.41357421875\n",
      "\n"
     ]
    },
    {
     "data": {
      "application/vnd.jupyter.widget-view+json": {
       "model_id": "65632e278f44454daad6a38195d16bc6",
       "version_major": 2,
       "version_minor": 0
      },
      "text/plain": [
       "HBox(children=(IntProgress(value=0, max=77), HTML(value='')))"
      ]
     },
     "metadata": {},
     "output_type": "display_data"
    },
    {
     "name": "stdout",
     "output_type": "stream",
     "text": [
      "66 0.019474484492093325 0.019474484492093325 20005.19468688965\n",
      "66 0.01992409088416025 0.01992409088416025 20042.324752807617\n",
      "66 0.019817958294879645 0.019817958294879645 20474.889038085938\n",
      "66 0.01972647465299815 0.01972647465299815 20479.825256347656\n",
      "66 0.02039790287381038 0.02039790287381038 20526.076110839844\n",
      "\n"
     ]
    },
    {
     "data": {
      "application/vnd.jupyter.widget-view+json": {
       "model_id": "bb6d976a13a64b0a821c13bf657c2087",
       "version_major": 2,
       "version_minor": 0
      },
      "text/plain": [
       "HBox(children=(IntProgress(value=0, max=77), HTML(value='')))"
      ]
     },
     "metadata": {},
     "output_type": "display_data"
    },
    {
     "name": "stdout",
     "output_type": "stream",
     "text": [
      "67 0.01998745181481354 0.01998745181481354 20059.696899414062\n",
      "67 0.01933470435324125 0.01933470435324125 20075.70458984375\n",
      "67 0.01887376225204207 0.01887376225204207 20512.44451904297\n",
      "67 0.01866633733152412 0.01866633733152412 20465.103576660156\n",
      "67 0.019207960460335016 0.019207960460335016 20459.046142578125\n",
      "\n"
     ]
    },
    {
     "data": {
      "application/vnd.jupyter.widget-view+json": {
       "model_id": "b893df6c58f74ef7b02cf90188849404",
       "version_major": 2,
       "version_minor": 0
      },
      "text/plain": [
       "HBox(children=(IntProgress(value=0, max=77), HTML(value='')))"
      ]
     },
     "metadata": {},
     "output_type": "display_data"
    },
    {
     "name": "stdout",
     "output_type": "stream",
     "text": [
      "68 0.01889079558895901 0.01889079558895901 20069.303649902344\n",
      "68 0.0185377414454706 0.0185377414454706 20109.492919921875\n",
      "68 0.018959031091071665 0.018959031091071665 20534.160095214844\n",
      "68 0.01888501876965165 0.01888501876965165 20545.927856445312\n",
      "68 0.018792648566886783 0.018792648566886783 20489.599731445312\n",
      "\n"
     ]
    },
    {
     "data": {
      "application/vnd.jupyter.widget-view+json": {
       "model_id": "872c05dd0b4a4ac2b6f33e2bc2d25cc2",
       "version_major": 2,
       "version_minor": 0
      },
      "text/plain": [
       "HBox(children=(IntProgress(value=0, max=77), HTML(value='')))"
      ]
     },
     "metadata": {},
     "output_type": "display_data"
    },
    {
     "name": "stdout",
     "output_type": "stream",
     "text": [
      "69 0.018744535860605538 0.018744535860605538 20067.316192626953\n",
      "69 0.01853313372703269 0.01853313372703269 20116.24234008789\n",
      "69 0.018756141362246126 0.018756141362246126 20469.324462890625\n",
      "69 0.019694879767484963 0.019694879767484963 20412.931274414062\n",
      "\n"
     ]
    },
    {
     "data": {
      "application/vnd.jupyter.widget-view+json": {
       "model_id": "b2eed80ef4284f83aea57258a3a3f84a",
       "version_major": 2,
       "version_minor": 0
      },
      "text/plain": [
       "HBox(children=(IntProgress(value=0, max=77), HTML(value='')))"
      ]
     },
     "metadata": {},
     "output_type": "display_data"
    },
    {
     "name": "stdout",
     "output_type": "stream",
     "text": [
      "70 0.020544546307064593 0.020544546307064593 20020.480255126953\n",
      "70 0.02078476909082383 0.02078476909082383 19994.827911376953\n",
      "70 0.02096778224222362 0.02096778224222362 20422.7138671875\n",
      "70 0.020214995893184096 0.020214995893184096 20468.867431640625\n",
      "70 0.019135353446472436 0.019135353446472436 20429.972106933594\n",
      "\n"
     ]
    },
    {
     "data": {
      "application/vnd.jupyter.widget-view+json": {
       "model_id": "ce14e122de874a4691a6f05c15ada955",
       "version_major": 2,
       "version_minor": 0
      },
      "text/plain": [
       "HBox(children=(IntProgress(value=0, max=77), HTML(value='')))"
      ]
     },
     "metadata": {},
     "output_type": "display_data"
    },
    {
     "name": "stdout",
     "output_type": "stream",
     "text": [
      "71 0.019118304189760238 0.019118304189760238 20012.61767578125\n",
      "71 0.01923699746839702 0.01923699746839702 20008.549865722656\n",
      "71 0.01859278103802353 0.01859278103802353 20389.062072753906\n",
      "71 0.018464008811861277 0.018464008811861277 20421.126953125\n",
      "71 0.018475392484106123 0.018475392484106123 20501.963989257812\n",
      "\n"
     ]
    },
    {
     "data": {
      "application/vnd.jupyter.widget-view+json": {
       "model_id": "57c2d1dd9b8941c0af6cd5d952ab0043",
       "version_major": 2,
       "version_minor": 0
      },
      "text/plain": [
       "HBox(children=(IntProgress(value=0, max=77), HTML(value='')))"
      ]
     },
     "metadata": {},
     "output_type": "display_data"
    },
    {
     "name": "stdout",
     "output_type": "stream",
     "text": [
      "72 0.018051105085760355 0.018051105085760355 20086.311920166016\n",
      "72 0.01806758888415061 0.01806758888415061 20057.185455322266\n",
      "72 0.018054908170597628 0.018054908170597628 20488.846069335938\n",
      "72 0.017552921926835552 0.017552921926835552 20473.790771484375\n",
      "72 0.017868314491352066 0.017868314491352066 20453.660400390625\n",
      "\n"
     ]
    },
    {
     "data": {
      "application/vnd.jupyter.widget-view+json": {
       "model_id": "d73e69d186d24ebe835a95e70ba07e5c",
       "version_major": 2,
       "version_minor": 0
      },
      "text/plain": [
       "HBox(children=(IntProgress(value=0, max=77), HTML(value='')))"
      ]
     },
     "metadata": {},
     "output_type": "display_data"
    },
    {
     "name": "stdout",
     "output_type": "stream",
     "text": [
      "73 0.01821670334902592 0.01821670334902592 20020.984619140625\n",
      "73 0.018188569141784683 0.018188569141784683 20060.827880859375\n",
      "73 0.019260414235759526 0.019260414235759526 20548.411010742188\n",
      "73 0.020049942075274885 0.020049942075274885 20535.247680664062\n",
      "73 0.01923682913184166 0.01923682913184166 20478.96337890625\n",
      "\n"
     ]
    },
    {
     "data": {
      "application/vnd.jupyter.widget-view+json": {
       "model_id": "9364c0ecc7c64f15af8496342bc6775d",
       "version_major": 2,
       "version_minor": 0
      },
      "text/plain": [
       "HBox(children=(IntProgress(value=0, max=77), HTML(value='')))"
      ]
     },
     "metadata": {},
     "output_type": "display_data"
    },
    {
     "name": "stdout",
     "output_type": "stream",
     "text": [
      "74 0.018742074084002525 0.018742074084002525 20045.875\n",
      "74 0.019376637530513108 0.019376637530513108 20173.408447265625\n",
      "74 0.01977708743652329 0.01977708743652329 20637.042846679688\n",
      "74 0.019173236330971122 0.019173236330971122 20516.751342773438\n",
      "\n"
     ]
    },
    {
     "data": {
      "application/vnd.jupyter.widget-view+json": {
       "model_id": "0391205e807a48768ac076a8e593257a",
       "version_major": 2,
       "version_minor": 0
      },
      "text/plain": [
       "HBox(children=(IntProgress(value=0, max=77), HTML(value='')))"
      ]
     },
     "metadata": {},
     "output_type": "display_data"
    },
    {
     "name": "stdout",
     "output_type": "stream",
     "text": [
      "75 0.018225370906293392 0.018225370906293392 20113.467727661133\n",
      "75 0.017882321495562792 0.017882321495562792 20152.954788208008\n",
      "75 0.017890291230287403 0.017890291230287403 20538.600463867188\n",
      "75 0.018666797725018114 0.018666797725018114 20527.099365234375\n",
      "75 0.019166553509421647 0.019166553509421647 20573.116455078125\n",
      "\n"
     ]
    },
    {
     "data": {
      "application/vnd.jupyter.widget-view+json": {
       "model_id": "98a57cc7219b4e76b4392e45b41b6cf2",
       "version_major": 2,
       "version_minor": 0
      },
      "text/plain": [
       "HBox(children=(IntProgress(value=0, max=77), HTML(value='')))"
      ]
     },
     "metadata": {},
     "output_type": "display_data"
    },
    {
     "name": "stdout",
     "output_type": "stream",
     "text": [
      "76 0.018651912221685052 0.018651912221685052 20188.67286682129\n",
      "76 0.01826332788914442 0.01826332788914442 20158.807083129883\n",
      "76 0.017952897207578644 0.017952897207578644 20537.00421142578\n",
      "76 0.01792106026550755 0.01792106026550755 20579.22198486328\n",
      "76 0.018138128536520526 0.018138128536520526 20571.507080078125\n",
      "\n"
     ]
    },
    {
     "data": {
      "application/vnd.jupyter.widget-view+json": {
       "model_id": "4dcdfe08259245c094adfa0c5f9f6002",
       "version_major": 2,
       "version_minor": 0
      },
      "text/plain": [
       "HBox(children=(IntProgress(value=0, max=77), HTML(value='')))"
      ]
     },
     "metadata": {},
     "output_type": "display_data"
    },
    {
     "name": "stdout",
     "output_type": "stream",
     "text": [
      "77 0.018119871558155864 0.018119871558155864 20151.11883544922\n",
      "77 0.018273914727615193 0.018273914727615193 20194.41473388672\n",
      "77 0.01806592071079649 0.01806592071079649 20631.578552246094\n",
      "77 0.017545694106956944 0.017545694106956944 20694.41046142578\n",
      "77 0.018323137453990057 0.018323137453990057 20693.397033691406\n",
      "\n"
     ]
    },
    {
     "data": {
      "application/vnd.jupyter.widget-view+json": {
       "model_id": "1a9f46074eec49a3a413c3c02be39be4",
       "version_major": 2,
       "version_minor": 0
      },
      "text/plain": [
       "HBox(children=(IntProgress(value=0, max=77), HTML(value='')))"
      ]
     },
     "metadata": {},
     "output_type": "display_data"
    },
    {
     "name": "stdout",
     "output_type": "stream",
     "text": [
      "78 0.01869327644817531 0.01869327644817531 20190.135330200195\n",
      "78 0.017917974619194865 0.017917974619194865 20168.35255432129\n",
      "78 0.017493200954049826 0.017493200954049826 20652.300415039062\n",
      "78 0.017057211720384657 0.017057211720384657 20614.208618164062\n",
      "78 0.016609503800282255 0.016609503800282255 20630.860595703125\n",
      "\n"
     ]
    },
    {
     "data": {
      "application/vnd.jupyter.widget-view+json": {
       "model_id": "1db62e3f89ba4dae8e19af93de234bbd",
       "version_major": 2,
       "version_minor": 0
      },
      "text/plain": [
       "HBox(children=(IntProgress(value=0, max=77), HTML(value='')))"
      ]
     },
     "metadata": {},
     "output_type": "display_data"
    },
    {
     "name": "stdout",
     "output_type": "stream",
     "text": [
      "79 0.01769105627317913 0.01769105627317913 20278.87615966797\n",
      "79 0.01816474716179073 0.01816474716179073 20231.808654785156\n",
      "79 0.01718827517470345 0.01718827517470345 20613.184204101562\n",
      "79 0.01677797600859776 0.01677797600859776 20555.52325439453\n",
      "79 0.01787048380356282 0.01787048380356282 20122.410278320312\n",
      "\n"
     ]
    },
    {
     "data": {
      "application/vnd.jupyter.widget-view+json": {
       "model_id": "c108013dbee745b992c34be8fafa0694",
       "version_major": 2,
       "version_minor": 0
      },
      "text/plain": [
       "HBox(children=(IntProgress(value=0, max=77), HTML(value='')))"
      ]
     },
     "metadata": {},
     "output_type": "display_data"
    },
    {
     "name": "stdout",
     "output_type": "stream",
     "text": [
      "80 0.019075942575000226 0.019075942575000226 20166.34014892578\n",
      "80 0.01973959873430431 0.01973959873430431 20572.28924560547\n",
      "80 0.022961927694268525 0.022961927694268525 20590.931701660156\n",
      "80 0.023821652866899967 0.023821652866899967 20656.082641601562\n",
      "\n"
     ]
    },
    {
     "data": {
      "application/vnd.jupyter.widget-view+json": {
       "model_id": "b1e612f1564449549d469f48839f96f0",
       "version_major": 2,
       "version_minor": 0
      },
      "text/plain": [
       "HBox(children=(IntProgress(value=0, max=77), HTML(value='')))"
      ]
     },
     "metadata": {},
     "output_type": "display_data"
    },
    {
     "name": "stdout",
     "output_type": "stream",
     "text": [
      "81 0.021137357514817268 0.021137357514817268 20230.518432617188\n",
      "81 0.01995277521200478 0.01995277521200478 20197.80303955078\n",
      "81 0.018700263579376042 0.018700263579376042 20661.41864013672\n",
      "81 0.017623952619032934 0.017623952619032934 20694.118103027344\n",
      "81 0.01835155111621134 0.01835155111621134 20759.871459960938\n",
      "\n"
     ]
    },
    {
     "data": {
      "application/vnd.jupyter.widget-view+json": {
       "model_id": "23cb7c1ae86b45f8917985b669b3e242",
       "version_major": 2,
       "version_minor": 0
      },
      "text/plain": [
       "HBox(children=(IntProgress(value=0, max=77), HTML(value='')))"
      ]
     },
     "metadata": {},
     "output_type": "display_data"
    },
    {
     "name": "stdout",
     "output_type": "stream",
     "text": [
      "82 0.02094960631802678 0.02094960631802678 20338.490509033203\n",
      "82 0.02248153882101178 0.02248153882101178 20281.40121459961\n",
      "82 0.02117661462398246 0.02117661462398246 20756.156494140625\n",
      "82 0.01950722828041762 0.01950722828041762 20754.16571044922\n",
      "82 0.017972572619328275 0.017972572619328275 20752.841552734375\n",
      "\n"
     ]
    },
    {
     "data": {
      "application/vnd.jupyter.widget-view+json": {
       "model_id": "acf47c5caacb48fe83fd330efbd3352e",
       "version_major": 2,
       "version_minor": 0
      },
      "text/plain": [
       "HBox(children=(IntProgress(value=0, max=77), HTML(value='')))"
      ]
     },
     "metadata": {},
     "output_type": "display_data"
    },
    {
     "name": "stdout",
     "output_type": "stream",
     "text": [
      "83 0.017259202722925693 0.017259202722925693 20427.29183959961\n",
      "83 0.017267721617827192 0.017267721617827192 20406.28598022461\n",
      "83 0.017097747011575848 0.017097747011575848 20734.37811279297\n",
      "83 0.016691990080289543 0.016691990080289543 20800.772338867188\n",
      "83 0.016758660116465762 0.016758660116465762 20843.923461914062\n",
      "\n"
     ]
    },
    {
     "data": {
      "application/vnd.jupyter.widget-view+json": {
       "model_id": "a1d1cd2c4158469ba609f9454e3cd87c",
       "version_major": 2,
       "version_minor": 0
      },
      "text/plain": [
       "HBox(children=(IntProgress(value=0, max=77), HTML(value='')))"
      ]
     },
     "metadata": {},
     "output_type": "display_data"
    },
    {
     "name": "stdout",
     "output_type": "stream",
     "text": [
      "84 0.0174596861761529 0.0174596861761529 20394.398971557617\n",
      "84 0.018244708771817386 0.018244708771817386 20377.26695251465\n",
      "84 0.019208274490665644 0.019208274490665644 20720.16455078125\n",
      "84 0.02116054849466309 0.02116054849466309 20730.04669189453\n",
      "84 0.02232922043185681 0.02232922043185681 20709.875244140625\n",
      "\n"
     ]
    },
    {
     "data": {
      "application/vnd.jupyter.widget-view+json": {
       "model_id": "37a0ff69bc454606b737a75aeaa06205",
       "version_major": 2,
       "version_minor": 0
      },
      "text/plain": [
       "HBox(children=(IntProgress(value=0, max=77), HTML(value='')))"
      ]
     },
     "metadata": {},
     "output_type": "display_data"
    },
    {
     "name": "stdout",
     "output_type": "stream",
     "text": [
      "85 0.0213538411189802 0.0213538411189802 20223.269332885742\n",
      "85 0.019950738875195384 0.019950738875195384 20239.92771911621\n",
      "85 0.018767942005069926 0.018767942005069926 20716.843811035156\n",
      "85 0.017950978042790666 0.017950978042790666 20687.52783203125\n",
      "\n"
     ]
    },
    {
     "data": {
      "application/vnd.jupyter.widget-view+json": {
       "model_id": "4f1e5a2590414e24965f54e32ee3809b",
       "version_major": 2,
       "version_minor": 0
      },
      "text/plain": [
       "HBox(children=(IntProgress(value=0, max=77), HTML(value='')))"
      ]
     },
     "metadata": {},
     "output_type": "display_data"
    },
    {
     "name": "stdout",
     "output_type": "stream",
     "text": [
      "86 0.018707027280470356 0.018707027280470356 20191.486846923828\n",
      "86 0.019176416390109807 0.019176416390109807 20225.51431274414\n",
      "86 0.017660024343058467 0.017660024343058467 20703.512817382812\n",
      "86 0.01701111951842904 0.01701111951842904 20723.741943359375\n",
      "86 0.01704784296452999 0.01704784296452999 20723.330627441406\n",
      "\n"
     ]
    },
    {
     "data": {
      "application/vnd.jupyter.widget-view+json": {
       "model_id": "ab97c3ffb6fe4480b824f5bfcbe5de04",
       "version_major": 2,
       "version_minor": 0
      },
      "text/plain": [
       "HBox(children=(IntProgress(value=0, max=77), HTML(value='')))"
      ]
     },
     "metadata": {},
     "output_type": "display_data"
    },
    {
     "name": "stdout",
     "output_type": "stream",
     "text": [
      "87 0.016316253459081054 0.016316253459081054 20364.29867553711\n",
      "87 0.01604655710980296 0.01604655710980296 20328.576629638672\n",
      "87 0.016448931099148467 0.016448931099148467 20714.814575195312\n",
      "87 0.016151592921232805 0.016151592921232805 20776.297607421875\n",
      "87 0.01654234924353659 0.01654234924353659 20804.22088623047\n",
      "\n"
     ]
    },
    {
     "data": {
      "application/vnd.jupyter.widget-view+json": {
       "model_id": "43aef60d31294818b96cf73e199e6b52",
       "version_major": 2,
       "version_minor": 0
      },
      "text/plain": [
       "HBox(children=(IntProgress(value=0, max=77), HTML(value='')))"
      ]
     },
     "metadata": {},
     "output_type": "display_data"
    },
    {
     "name": "stdout",
     "output_type": "stream",
     "text": [
      "88 0.01664874528069049 0.01664874528069049 20359.774841308594\n",
      "88 0.01699176646070555 0.01699176646070555 20330.23223876953\n",
      "88 0.018231117515824735 0.018231117515824735 20791.88751220703\n",
      "88 0.01798884489107877 0.01798884489107877 20760.082092285156\n",
      "88 0.016790391004178673 0.016790391004178673 20762.64971923828\n",
      "\n"
     ]
    },
    {
     "data": {
      "application/vnd.jupyter.widget-view+json": {
       "model_id": "5c9c7cba44fd4992888b5c6e2b92162f",
       "version_major": 2,
       "version_minor": 0
      },
      "text/plain": [
       "HBox(children=(IntProgress(value=0, max=77), HTML(value='')))"
      ]
     },
     "metadata": {},
     "output_type": "display_data"
    },
    {
     "name": "stdout",
     "output_type": "stream",
     "text": [
      "89 0.016479145677294582 0.016479145677294582 20368.03062438965\n",
      "89 0.016662415204336867 0.016662415204336867 20337.604232788086\n",
      "89 0.017957725911401212 0.017957725911401212 20967.94512939453\n",
      "89 0.019584459776524454 0.019584459776524454 21319.207153320312\n",
      "89 0.01836552837630734 0.01836552837630734 21373.03289794922\n",
      "\n"
     ]
    },
    {
     "data": {
      "application/vnd.jupyter.widget-view+json": {
       "model_id": "a787d5a25a1a44c286a9f3f92e2cc3fe",
       "version_major": 2,
       "version_minor": 0
      },
      "text/plain": [
       "HBox(children=(IntProgress(value=0, max=77), HTML(value='')))"
      ]
     },
     "metadata": {},
     "output_type": "display_data"
    },
    {
     "name": "stdout",
     "output_type": "stream",
     "text": [
      "90 0.017024431261233985 0.017024431261233985 20851.762603759766\n",
      "90 0.017198667163029313 0.017198667163029313 20862.359893798828\n",
      "90 0.017378967080730945 0.017378967080730945 21366.469970703125\n",
      "90 0.016923858609516174 0.016923858609516174 21437.467895507812\n",
      "\n"
     ]
    },
    {
     "data": {
      "application/vnd.jupyter.widget-view+json": {
       "model_id": "1c6407d1cc73407782122cea2f629bdc",
       "version_major": 2,
       "version_minor": 0
      },
      "text/plain": [
       "HBox(children=(IntProgress(value=0, max=77), HTML(value='')))"
      ]
     },
     "metadata": {},
     "output_type": "display_data"
    },
    {
     "name": "stdout",
     "output_type": "stream",
     "text": [
      "91 0.016422050743130967 0.016422050743130967 21005.592971801758\n",
      "91 0.016314474865794182 0.016314474865794182 21006.022171020508\n",
      "91 0.01647615380352363 0.01647615380352363 21430.048767089844\n",
      "91 0.015975003829225898 0.015975003829225898 21300.029663085938\n",
      "91 0.015683971461839974 0.015683971461839974 21204.388549804688\n",
      "\n"
     ]
    },
    {
     "data": {
      "application/vnd.jupyter.widget-view+json": {
       "model_id": "0c8696f7a45242fcb0e94b94015f461b",
       "version_major": 2,
       "version_minor": 0
      },
      "text/plain": [
       "HBox(children=(IntProgress(value=0, max=77), HTML(value='')))"
      ]
     },
     "metadata": {},
     "output_type": "display_data"
    },
    {
     "name": "stdout",
     "output_type": "stream",
     "text": [
      "92 0.016326958953868598 0.016326958953868598 20896.271881103516\n",
      "92 0.01670944259967655 0.01670944259967655 20936.840789794922\n",
      "92 0.01631103188265115 0.01631103188265115 21245.600708007812\n",
      "92 0.01583038328681141 0.01583038328681141 21281.132385253906\n",
      "92 0.01675845219870098 0.01675845219870098 21339.052978515625\n",
      "\n"
     ]
    },
    {
     "data": {
      "application/vnd.jupyter.widget-view+json": {
       "model_id": "994bd1f52d8f4244abbcf2ef9efd5bbc",
       "version_major": 2,
       "version_minor": 0
      },
      "text/plain": [
       "HBox(children=(IntProgress(value=0, max=77), HTML(value='')))"
      ]
     },
     "metadata": {},
     "output_type": "display_data"
    },
    {
     "name": "stdout",
     "output_type": "stream",
     "text": [
      "93 0.017161994706839323 0.017161994706839323 20836.566772460938\n",
      "93 0.01647173913079314 0.01647173913079314 20860.11505126953\n",
      "93 0.01607839053031057 0.01607839053031057 21266.09832763672\n",
      "93 0.015721460862550884 0.015721460862550884 21264.179809570312\n",
      "93 0.01643720141146332 0.01643720141146332 21290.058349609375\n",
      "\n"
     ]
    },
    {
     "data": {
      "application/vnd.jupyter.widget-view+json": {
       "model_id": "8500c1d36dc94ef990a921f530299f2d",
       "version_major": 2,
       "version_minor": 0
      },
      "text/plain": [
       "HBox(children=(IntProgress(value=0, max=77), HTML(value='')))"
      ]
     },
     "metadata": {},
     "output_type": "display_data"
    },
    {
     "name": "stdout",
     "output_type": "stream",
     "text": [
      "94 0.018109345255652443 0.018109345255652443 20847.121810913086\n",
      "94 0.018109350028680637 0.018109350028680637 20843.005966186523\n",
      "94 0.017436642840038985 0.017436642840038985 21263.349182128906\n",
      "94 0.01770895140361972 0.01770895140361972 21281.038024902344\n",
      "94 0.017879865830764174 0.017879865830764174 21302.771606445312\n",
      "\n"
     ]
    },
    {
     "data": {
      "application/vnd.jupyter.widget-view+json": {
       "model_id": "f6cd612e9d084887825fe7adb1a670e7",
       "version_major": 2,
       "version_minor": 0
      },
      "text/plain": [
       "HBox(children=(IntProgress(value=0, max=77), HTML(value='')))"
      ]
     },
     "metadata": {},
     "output_type": "display_data"
    },
    {
     "name": "stdout",
     "output_type": "stream",
     "text": [
      "95 0.018038121110294014 0.018038121110294014 20885.848541259766\n",
      "95 0.017833383259130642 0.017833383259130642 20797.640655517578\n",
      "95 0.016552024288102984 0.016552024288102984 21220.411743164062\n",
      "95 0.015986428916221485 0.015986428916221485 21310.137634277344\n",
      "95 0.01571071721264161 0.01571071721264161 20851.868606567383\n",
      "\n"
     ]
    },
    {
     "data": {
      "application/vnd.jupyter.widget-view+json": {
       "model_id": "f3f16c32a61346f397be87ff2f8b5822",
       "version_major": 2,
       "version_minor": 0
      },
      "text/plain": [
       "HBox(children=(IntProgress(value=0, max=77), HTML(value='')))"
      ]
     },
     "metadata": {},
     "output_type": "display_data"
    },
    {
     "name": "stdout",
     "output_type": "stream",
     "text": [
      "96 0.015433249733177945 0.015433249733177945 20834.891372680664\n",
      "96 0.016149229049915448 0.016149229049915448 21362.36767578125\n",
      "96 0.016564033372560516 0.016564033372560516 21370.809020996094\n",
      "96 0.01673825512989424 0.01673825512989424 21335.047485351562\n",
      "\n"
     ]
    },
    {
     "data": {
      "application/vnd.jupyter.widget-view+json": {
       "model_id": "610a16cf8e9f463ba6504316c4bd1455",
       "version_major": 2,
       "version_minor": 0
      },
      "text/plain": [
       "HBox(children=(IntProgress(value=0, max=77), HTML(value='')))"
      ]
     },
     "metadata": {},
     "output_type": "display_data"
    },
    {
     "name": "stdout",
     "output_type": "stream",
     "text": [
      "97 0.01730081523419358 0.01730081523419358 20871.40298461914\n",
      "97 0.017257799539947882 0.017257799539947882 20761.07778930664\n",
      "97 0.016208915767492726 0.016208915767492726 21190.178161621094\n",
      "97 0.016368064854759723 0.016368064854759723 21314.374938964844\n",
      "97 0.016364683193387464 0.016364683193387464 21371.637268066406\n",
      "\n"
     ]
    },
    {
     "data": {
      "application/vnd.jupyter.widget-view+json": {
       "model_id": "d4fae4df8a14434bbf2cd9286d863be3",
       "version_major": 2,
       "version_minor": 0
      },
      "text/plain": [
       "HBox(children=(IntProgress(value=0, max=77), HTML(value='')))"
      ]
     },
     "metadata": {},
     "output_type": "display_data"
    },
    {
     "name": "stdout",
     "output_type": "stream",
     "text": [
      "98 0.01538402060396038 0.01538402060396038 20939.273468017578\n",
      "98 0.015208914526738226 0.015208914526738226 20889.051788330078\n",
      "98 0.015427159087266773 0.015427159087266773 21289.267639160156\n",
      "98 0.015603776642819867 0.015603776642819867 21306.24444580078\n",
      "98 0.015503424539929256 0.015503424539929256 21367.348083496094\n",
      "\n"
     ]
    },
    {
     "data": {
      "application/vnd.jupyter.widget-view+json": {
       "model_id": "106ccd214fef4be2a4126a2e6323928c",
       "version_major": 2,
       "version_minor": 0
      },
      "text/plain": [
       "HBox(children=(IntProgress(value=0, max=77), HTML(value='')))"
      ]
     },
     "metadata": {},
     "output_type": "display_data"
    },
    {
     "name": "stdout",
     "output_type": "stream",
     "text": [
      "99 0.014857695670798421 0.014857695670798421 20988.330627441406\n",
      "99 0.01467740154475905 0.01467740154475905 20954.021728515625\n",
      "99 0.014730162889463827 0.014730162889463827 21347.454956054688\n",
      "99 0.015175552776781842 0.015175552776781842 21296.748962402344\n",
      "99 0.015608262299792841 0.015608262299792841 21264.98583984375\n",
      "\n",
      "\n"
     ]
    },
    {
     "data": {
      "application/vnd.jupyter.widget-view+json": {
       "model_id": "75a33571a0114d9e8602db137476d4e8",
       "version_major": 2,
       "version_minor": 0
      },
      "text/plain": [
       "HBox(children=(IntProgress(value=0), HTML(value='')))"
      ]
     },
     "metadata": {},
     "output_type": "display_data"
    },
    {
     "data": {
      "application/vnd.jupyter.widget-view+json": {
       "model_id": "71efda40ca054583aae3da6f9d39f83a",
       "version_major": 2,
       "version_minor": 0
      },
      "text/plain": [
       "HBox(children=(IntProgress(value=0, max=77), HTML(value='')))"
      ]
     },
     "metadata": {},
     "output_type": "display_data"
    },
    {
     "name": "stdout",
     "output_type": "stream",
     "text": [
      "0 0.016243312682490796 0.016243312682490796 21388.3271484375\n",
      "0 0.016353450570022687 0.016353450570022687 21369.35223388672\n",
      "0 0.016580530238570645 0.016580530238570645 21339.63916015625\n",
      "0 0.016406741429818794 0.016406741429818794 21348.070373535156\n",
      "\n"
     ]
    },
    {
     "data": {
      "application/vnd.jupyter.widget-view+json": {
       "model_id": "ea5ce33a6cf544ebb7a23f55810d3e86",
       "version_major": 2,
       "version_minor": 0
      },
      "text/plain": [
       "HBox(children=(IntProgress(value=0, max=77), HTML(value='')))"
      ]
     },
     "metadata": {},
     "output_type": "display_data"
    },
    {
     "name": "stdout",
     "output_type": "stream",
     "text": [
      "1 0.016058805398643017 0.016058805398643017 20892.188598632812\n",
      "1 0.01592669839737937 0.01592669839737937 20875.089599609375\n",
      "1 0.01571545607293956 0.01571545607293956 21293.06640625\n",
      "1 0.015913709910819307 0.015913709910819307 21300.63250732422\n",
      "1 0.016165677865501493 0.016165677865501493 21375.551391601562\n",
      "\n"
     ]
    },
    {
     "data": {
      "application/vnd.jupyter.widget-view+json": {
       "model_id": "621fdefcc5c14037bb2833957715caf3",
       "version_major": 2,
       "version_minor": 0
      },
      "text/plain": [
       "HBox(children=(IntProgress(value=0, max=77), HTML(value='')))"
      ]
     },
     "metadata": {},
     "output_type": "display_data"
    },
    {
     "name": "stdout",
     "output_type": "stream",
     "text": [
      "2 0.01702424295945093 0.01702424295945093 20951.089874267578\n",
      "2 0.01792867880431004 0.01792867880431004 20943.300506591797\n",
      "2 0.019016778387594968 0.019016778387594968 21382.4296875\n",
      "2 0.018663618713617325 0.018663618713617325 21370.26611328125\n",
      "2 0.015909348061541095 0.015909348061541095 21330.833435058594\n",
      "\n"
     ]
    },
    {
     "data": {
      "application/vnd.jupyter.widget-view+json": {
       "model_id": "408e40c653eb4de2bdf355c8e89129f7",
       "version_major": 2,
       "version_minor": 0
      },
      "text/plain": [
       "HBox(children=(IntProgress(value=0, max=77), HTML(value='')))"
      ]
     },
     "metadata": {},
     "output_type": "display_data"
    },
    {
     "name": "stdout",
     "output_type": "stream",
     "text": [
      "3 0.014974297810113057 0.014974297810113057 20951.94529724121\n",
      "3 0.015043826802866533 0.015043826802866533 21004.787643432617\n",
      "3 0.014751932641956955 0.014751932641956955 21353.543701171875\n",
      "3 0.014964200847316533 0.014964200847316533 21387.62225341797\n",
      "3 0.014788624772336334 0.014788624772336334 21456.429626464844\n",
      "\n"
     ]
    },
    {
     "data": {
      "application/vnd.jupyter.widget-view+json": {
       "model_id": "4104aa2f825a4bd3b1e2f3adfda9a09c",
       "version_major": 2,
       "version_minor": 0
      },
      "text/plain": [
       "HBox(children=(IntProgress(value=0, max=77), HTML(value='')))"
      ]
     },
     "metadata": {},
     "output_type": "display_data"
    },
    {
     "name": "stdout",
     "output_type": "stream",
     "text": [
      "4 0.014845620113192126 0.014845620113192126 20983.0830078125\n",
      "4 0.016208344226470217 0.016208344226470217 20943.18817138672\n",
      "4 0.01709366842987947 0.01709366842987947 21361.7529296875\n",
      "4 0.01773398503428325 0.01773398503428325 21310.76153564453\n",
      "4 0.018362386705121025 0.018362386705121025 21327.598083496094\n",
      "\n"
     ]
    },
    {
     "data": {
      "application/vnd.jupyter.widget-view+json": {
       "model_id": "6b3fc25ace3445fb84e536f3790ffeed",
       "version_major": 2,
       "version_minor": 0
      },
      "text/plain": [
       "HBox(children=(IntProgress(value=0, max=77), HTML(value='')))"
      ]
     },
     "metadata": {},
     "output_type": "display_data"
    },
    {
     "name": "stdout",
     "output_type": "stream",
     "text": [
      "5 0.01697095960844308 0.01697095960844308 20993.48582458496\n",
      "5 0.015005282242782414 0.015005282242782414 21055.628952026367\n",
      "5 0.014596671157050878 0.014596671157050878 21557.666137695312\n",
      "5 0.01457641099113971 0.01457641099113971 21578.51885986328\n",
      "\n"
     ]
    },
    {
     "data": {
      "application/vnd.jupyter.widget-view+json": {
       "model_id": "900a949877dc4fbd8b861276fa970a32",
       "version_major": 2,
       "version_minor": 0
      },
      "text/plain": [
       "HBox(children=(IntProgress(value=0, max=77), HTML(value='')))"
      ]
     },
     "metadata": {},
     "output_type": "display_data"
    },
    {
     "name": "stdout",
     "output_type": "stream",
     "text": [
      "6 0.01408289116807282 0.01408289116807282 21051.601455688477\n",
      "6 0.014273627632064745 0.014273627632064745 21046.844924926758\n",
      "6 0.014477210934273899 0.014477210934273899 21449.877075195312\n",
      "6 0.014248696767026559 0.014248696767026559 21425.21484375\n",
      "6 0.014637505286373198 0.014637505286373198 21534.694458007812\n",
      "\n"
     ]
    },
    {
     "data": {
      "application/vnd.jupyter.widget-view+json": {
       "model_id": "2d869fb2f42a44ccba8d688859b87412",
       "version_major": 2,
       "version_minor": 0
      },
      "text/plain": [
       "HBox(children=(IntProgress(value=0, max=77), HTML(value='')))"
      ]
     },
     "metadata": {},
     "output_type": "display_data"
    },
    {
     "name": "stdout",
     "output_type": "stream",
     "text": [
      "7 0.015460039518075064 0.015460039518075064 21134.54704284668\n",
      "7 0.016407327202614397 0.016407327202614397 21075.69596862793\n",
      "7 0.016618854133412242 0.016618854133412242 21435.521057128906\n",
      "7 0.016360784735297784 0.016360784735297784 21468.31329345703\n",
      "7 0.01607984068687074 0.01607984068687074 21572.394104003906\n",
      "\n"
     ]
    },
    {
     "data": {
      "application/vnd.jupyter.widget-view+json": {
       "model_id": "fad62cca7f6441b999113823ecf3f91b",
       "version_major": 2,
       "version_minor": 0
      },
      "text/plain": [
       "HBox(children=(IntProgress(value=0, max=77), HTML(value='')))"
      ]
     },
     "metadata": {},
     "output_type": "display_data"
    },
    {
     "name": "stdout",
     "output_type": "stream",
     "text": [
      "8 0.015696754911914468 0.015696754911914468 21183.87921142578\n",
      "8 0.015409514948260039 0.015409514948260039 21150.081909179688\n",
      "8 0.015004596178187057 0.015004596178187057 21564.37567138672\n",
      "8 0.014617441454902291 0.014617441454902291 21576.2607421875\n",
      "8 0.014640109933679923 0.014640109933679923 21550.345275878906\n",
      "\n"
     ]
    },
    {
     "data": {
      "application/vnd.jupyter.widget-view+json": {
       "model_id": "d7d8bcc73a8947b8beb264a2ee83a252",
       "version_major": 2,
       "version_minor": 0
      },
      "text/plain": [
       "HBox(children=(IntProgress(value=0, max=77), HTML(value='')))"
      ]
     },
     "metadata": {},
     "output_type": "display_data"
    },
    {
     "name": "stdout",
     "output_type": "stream",
     "text": [
      "9 0.014679837855510414 0.014679837855510414 21101.427764892578\n",
      "9 0.014484542771242559 0.014484542771242559 21112.068145751953\n",
      "9 0.014627721073338762 0.014627721073338762 21591.708251953125\n",
      "9 0.014894761814503 0.014894761814503 21598.16680908203\n",
      "9 0.014751258422620595 0.014751258422620595 21585.76416015625\n",
      "\n"
     ]
    },
    {
     "data": {
      "application/vnd.jupyter.widget-view+json": {
       "model_id": "c56a5d77ef094b61ba1f9323e76fed16",
       "version_major": 2,
       "version_minor": 0
      },
      "text/plain": [
       "HBox(children=(IntProgress(value=0, max=77), HTML(value='')))"
      ]
     },
     "metadata": {},
     "output_type": "display_data"
    },
    {
     "name": "stdout",
     "output_type": "stream",
     "text": [
      "10 0.015603935229592025 0.015603935229592025 21179.041564941406\n",
      "10 0.015954209549818188 0.015954209549818188 21185.01983642578\n",
      "10 0.015191270504146814 0.015191270504146814 21672.796875\n",
      "10 0.01479708170518279 0.01479708170518279 21744.12518310547\n",
      "\n"
     ]
    },
    {
     "data": {
      "application/vnd.jupyter.widget-view+json": {
       "model_id": "b5111eda7a024c34973cce449bc5f5f8",
       "version_major": 2,
       "version_minor": 0
      },
      "text/plain": [
       "HBox(children=(IntProgress(value=0, max=77), HTML(value='')))"
      ]
     },
     "metadata": {},
     "output_type": "display_data"
    },
    {
     "name": "stdout",
     "output_type": "stream",
     "text": [
      "11 0.014887422585161403 0.014887422585161403 21335.247985839844\n",
      "11 0.01570247541530989 0.01570247541530989 21273.426147460938\n",
      "11 0.01612104632658884 0.01612104632658884 21681.239501953125\n",
      "11 0.015467059012735263 0.015467059012735263 21679.55731201172\n",
      "11 0.015250218857545406 0.015250218857545406 21685.428161621094\n",
      "\n"
     ]
    },
    {
     "data": {
      "application/vnd.jupyter.widget-view+json": {
       "model_id": "c939a566876b4d3595cae7b552317454",
       "version_major": 2,
       "version_minor": 0
      },
      "text/plain": [
       "HBox(children=(IntProgress(value=0, max=77), HTML(value='')))"
      ]
     },
     "metadata": {},
     "output_type": "display_data"
    },
    {
     "name": "stdout",
     "output_type": "stream",
     "text": [
      "12 0.020998195628635585 0.020998195628635585 21314.454483032227\n",
      "12 0.024987451382912695 0.024987451382912695 21367.549026489258\n",
      "12 0.022122930211480707 0.022122930211480707 21822.180053710938\n",
      "12 0.021249606215860695 0.021249606215860695 21754.04376220703\n",
      "12 0.02090290730120614 0.02090290730120614 21743.402404785156\n",
      "\n"
     ]
    },
    {
     "data": {
      "application/vnd.jupyter.widget-view+json": {
       "model_id": "65ab38b6ef5a441f8dffee447a03f57a",
       "version_major": 2,
       "version_minor": 0
      },
      "text/plain": [
       "HBox(children=(IntProgress(value=0, max=77), HTML(value='')))"
      ]
     },
     "metadata": {},
     "output_type": "display_data"
    },
    {
     "name": "stdout",
     "output_type": "stream",
     "text": [
      "13 0.019632599723991007 0.019632599723991007 21337.330200195312\n",
      "13 0.018284569727256894 0.018284569727256894 21315.947204589844\n",
      "13 0.016387258685426787 0.016387258685426787 21801.373657226562\n",
      "13 0.01494612157694064 0.01494612157694064 21830.2431640625\n",
      "13 0.014291517582023516 0.014291517582023516 21794.549194335938\n",
      "\n"
     ]
    },
    {
     "data": {
      "application/vnd.jupyter.widget-view+json": {
       "model_id": "ccfda353b8684f63b7d097cdbcf3b989",
       "version_major": 2,
       "version_minor": 0
      },
      "text/plain": [
       "HBox(children=(IntProgress(value=0, max=77), HTML(value='')))"
      ]
     },
     "metadata": {},
     "output_type": "display_data"
    },
    {
     "name": "stdout",
     "output_type": "stream",
     "text": [
      "14 0.01449414185481146 0.01449414185481146 21349.094512939453\n",
      "14 0.014290773164248094 0.014290773164248094 21394.139617919922\n",
      "14 0.013833084987709299 0.013833084987709299 21857.64483642578\n",
      "14 0.01413901217165403 0.01413901217165403 21871.23907470703\n",
      "14 0.015456029359484091 0.015456029359484091 21929.92041015625\n",
      "\n"
     ]
    },
    {
     "data": {
      "application/vnd.jupyter.widget-view+json": {
       "model_id": "9dda0dfbd4194ff397e0214e22c69822",
       "version_major": 2,
       "version_minor": 0
      },
      "text/plain": [
       "HBox(children=(IntProgress(value=0, max=77), HTML(value='')))"
      ]
     },
     "metadata": {},
     "output_type": "display_data"
    },
    {
     "name": "stdout",
     "output_type": "stream",
     "text": [
      "15 0.016532353474758565 0.016532353474758565 21467.4169921875\n",
      "15 0.015811921388376504 0.015811921388376504 21407.603942871094\n",
      "15 0.015117380738956854 0.015117380738956854 21875.671264648438\n",
      "15 0.014947526506148279 0.014947526506148279 21817.62811279297\n",
      "15 0.014567016827641055 0.014567016827641055 21338.12631225586\n",
      "\n"
     ]
    },
    {
     "data": {
      "application/vnd.jupyter.widget-view+json": {
       "model_id": "5645bf0a1aef4dea8e4063182faaf12f",
       "version_major": 2,
       "version_minor": 0
      },
      "text/plain": [
       "HBox(children=(IntProgress(value=0, max=77), HTML(value='')))"
      ]
     },
     "metadata": {},
     "output_type": "display_data"
    },
    {
     "name": "stdout",
     "output_type": "stream",
     "text": [
      "16 0.01463887793943286 0.01463887793943286 21398.404327392578\n",
      "16 0.014220120676327497 0.014220120676327497 21834.75225830078\n",
      "16 0.013628108834382147 0.013628108834382147 21859.08416748047\n",
      "16 0.013971923937788233 0.013971923937788233 21823.26239013672\n",
      "\n"
     ]
    },
    {
     "data": {
      "application/vnd.jupyter.widget-view+json": {
       "model_id": "56dacda9b4c44a4aab9f69dea0905e8e",
       "version_major": 2,
       "version_minor": 0
      },
      "text/plain": [
       "HBox(children=(IntProgress(value=0, max=77), HTML(value='')))"
      ]
     },
     "metadata": {},
     "output_type": "display_data"
    },
    {
     "name": "stdout",
     "output_type": "stream",
     "text": [
      "17 0.014777386793866754 0.014777386793866754 21284.96925354004\n",
      "17 0.015125787205761299 0.015125787205761299 21233.807327270508\n",
      "17 0.014361316541908309 0.014361316541908309 21693.699768066406\n",
      "17 0.014147337002214044 0.014147337002214044 21758.920349121094\n",
      "17 0.014665440830867738 0.014665440830867738 21742.32391357422\n",
      "\n"
     ]
    },
    {
     "data": {
      "application/vnd.jupyter.widget-view+json": {
       "model_id": "da55dfbe34314afebebd58885ed106a5",
       "version_major": 2,
       "version_minor": 0
      },
      "text/plain": [
       "HBox(children=(IntProgress(value=0, max=77), HTML(value='')))"
      ]
     },
     "metadata": {},
     "output_type": "display_data"
    },
    {
     "name": "stdout",
     "output_type": "stream",
     "text": [
      "18 0.014675729180453345 0.014675729180453345 21325.816772460938\n",
      "18 0.014591244864277542 0.014591244864277542 21348.47137451172\n",
      "18 0.013883016625186428 0.013883016625186428 21835.95977783203\n",
      "18 0.01368930604076013 0.01368930604076013 21803.240783691406\n",
      "18 0.014945264323614538 0.014945264323614538 21720.36328125\n",
      "\n"
     ]
    },
    {
     "data": {
      "application/vnd.jupyter.widget-view+json": {
       "model_id": "ee1190caff144331be163c066f1d310f",
       "version_major": 2,
       "version_minor": 0
      },
      "text/plain": [
       "HBox(children=(IntProgress(value=0, max=77), HTML(value='')))"
      ]
     },
     "metadata": {},
     "output_type": "display_data"
    },
    {
     "name": "stdout",
     "output_type": "stream",
     "text": [
      "19 0.01523581356741488 0.01523581356741488 21295.51385498047\n",
      "19 0.014706355868838727 0.014706355868838727 21280.513305664062\n",
      "19 0.014506931562209502 0.014506931562209502 21756.427795410156\n",
      "19 0.013802171539282426 0.013802171539282426 21751.158325195312\n",
      "19 0.013281683903187513 0.013281683903187513 21745.93536376953\n",
      "\n"
     ]
    },
    {
     "data": {
      "application/vnd.jupyter.widget-view+json": {
       "model_id": "ea5fa8a5bce640ee8def8bd236a589fc",
       "version_major": 2,
       "version_minor": 0
      },
      "text/plain": [
       "HBox(children=(IntProgress(value=0, max=77), HTML(value='')))"
      ]
     },
     "metadata": {},
     "output_type": "display_data"
    },
    {
     "name": "stdout",
     "output_type": "stream",
     "text": [
      "20 0.013727627490879968 0.013727627490879968 21420.85238647461\n",
      "20 0.014569870283594355 0.014569870283594355 21463.806060791016\n",
      "20 0.014419001381611452 0.014419001381611452 21829.662109375\n",
      "20 0.01422306295717135 0.01422306295717135 21739.382080078125\n",
      "20 0.014155492564896122 0.014155492564896122 21772.446899414062\n",
      "\n"
     ]
    },
    {
     "data": {
      "application/vnd.jupyter.widget-view+json": {
       "model_id": "6104018f5c034a018c28ee9c97cadd24",
       "version_major": 2,
       "version_minor": 0
      },
      "text/plain": [
       "HBox(children=(IntProgress(value=0, max=77), HTML(value='')))"
      ]
     },
     "metadata": {},
     "output_type": "display_data"
    },
    {
     "name": "stdout",
     "output_type": "stream",
     "text": [
      "21 0.013719839247642085 0.013719839247642085 21393.633666992188\n",
      "21 0.013768613076535985 0.013768613076535985 21362.428649902344\n",
      "21 0.013747588527621701 0.013747588527621701 21779.390197753906\n",
      "21 0.01395965667325072 0.01395965667325072 21715.16717529297\n",
      "\n"
     ]
    },
    {
     "data": {
      "application/vnd.jupyter.widget-view+json": {
       "model_id": "5f78849d79ea4838825cd51431e1d2d9",
       "version_major": 2,
       "version_minor": 0
      },
      "text/plain": [
       "HBox(children=(IntProgress(value=0, max=77), HTML(value='')))"
      ]
     },
     "metadata": {},
     "output_type": "display_data"
    },
    {
     "name": "stdout",
     "output_type": "stream",
     "text": [
      "22 0.014593605970731005 0.014593605970731005 21237.789443969727\n",
      "22 0.014778445241972804 0.014778445241972804 21269.24104309082\n",
      "22 0.014960508153308183 0.014960508153308183 21721.18524169922\n",
      "22 0.01484538207296282 0.01484538207296282 21720.828125\n",
      "22 0.014573115855455399 0.014573115855455399 21755.294372558594\n",
      "\n"
     ]
    },
    {
     "data": {
      "application/vnd.jupyter.widget-view+json": {
       "model_id": "85b6fd23cee04ed5bdd13ed7c800d777",
       "version_major": 2,
       "version_minor": 0
      },
      "text/plain": [
       "HBox(children=(IntProgress(value=0, max=77), HTML(value='')))"
      ]
     },
     "metadata": {},
     "output_type": "display_data"
    },
    {
     "name": "stdout",
     "output_type": "stream",
     "text": [
      "23 0.014969722949899733 0.014969722949899733 21336.839126586914\n",
      "23 0.015404837584355846 0.015404837584355846 21379.436782836914\n",
      "23 0.01504471933003515 0.01504471933003515 21824.590942382812\n",
      "23 0.013739728019572794 0.013739728019572794 21819.92559814453\n",
      "23 0.012702699372312054 0.012702699372312054 21835.851318359375\n",
      "\n"
     ]
    },
    {
     "data": {
      "application/vnd.jupyter.widget-view+json": {
       "model_id": "117088e02e2f4418997f86dc7d842e8c",
       "version_major": 2,
       "version_minor": 0
      },
      "text/plain": [
       "HBox(children=(IntProgress(value=0, max=77), HTML(value='')))"
      ]
     },
     "metadata": {},
     "output_type": "display_data"
    },
    {
     "name": "stdout",
     "output_type": "stream",
     "text": [
      "24 0.013089627958834171 0.013089627958834171 21414.124908447266\n",
      "24 0.014078736072406173 0.014078736072406173 21442.704803466797\n",
      "24 0.014181305014062673 0.014181305014062673 21880.71905517578\n",
      "24 0.013881806837162003 0.013881806837162003 21757.95147705078\n",
      "24 0.013891104783397168 0.013891104783397168 21673.84033203125\n",
      "\n"
     ]
    },
    {
     "data": {
      "application/vnd.jupyter.widget-view+json": {
       "model_id": "707c846b5d1e4f9da5f728b2bb9858ea",
       "version_major": 2,
       "version_minor": 0
      },
      "text/plain": [
       "HBox(children=(IntProgress(value=0, max=77), HTML(value='')))"
      ]
     },
     "metadata": {},
     "output_type": "display_data"
    },
    {
     "name": "stdout",
     "output_type": "stream",
     "text": [
      "25 0.013554135948652402 0.013554135948652402 21317.638732910156\n",
      "25 0.013183808594476432 0.013183808594476432 21284.127197265625\n",
      "25 0.013548890507081524 0.013548890507081524 21741.000549316406\n",
      "25 0.01421442796709016 0.01421442796709016 21853.923767089844\n",
      "25 0.014568401995347813 0.014568401995347813 21855.25848388672\n",
      "\n"
     ]
    },
    {
     "data": {
      "application/vnd.jupyter.widget-view+json": {
       "model_id": "e40b79e0b9d24c59a3f108b85db74775",
       "version_major": 2,
       "version_minor": 0
      },
      "text/plain": [
       "HBox(children=(IntProgress(value=0, max=77), HTML(value='')))"
      ]
     },
     "metadata": {},
     "output_type": "display_data"
    },
    {
     "name": "stdout",
     "output_type": "stream",
     "text": [
      "26 0.013875133445253596 0.013875133445253596 21384.7491607666\n",
      "26 0.013476128166075796 0.013476128166075796 21398.40266418457\n",
      "26 0.013620676239952445 0.013620676239952445 21853.56787109375\n",
      "26 0.013652086112415418 0.013652086112415418 21862.0224609375\n",
      "\n"
     ]
    },
    {
     "data": {
      "application/vnd.jupyter.widget-view+json": {
       "model_id": "da572112c2404a42991a12bce8c0871a",
       "version_major": 2,
       "version_minor": 0
      },
      "text/plain": [
       "HBox(children=(IntProgress(value=0, max=77), HTML(value='')))"
      ]
     },
     "metadata": {},
     "output_type": "display_data"
    },
    {
     "name": "stdout",
     "output_type": "stream",
     "text": [
      "27 0.014189174253260717 0.014189174253260717 21407.485244750977\n",
      "27 0.015041885548271239 0.015041885548271239 21390.133071899414\n",
      "27 0.015029985312139615 0.015029985312139615 21894.075561523438\n",
      "27 0.014252038323320448 0.014252038323320448 21984.03387451172\n",
      "27 0.014070295554120094 0.014070295554120094 22059.525024414062\n",
      "\n"
     ]
    },
    {
     "data": {
      "application/vnd.jupyter.widget-view+json": {
       "model_id": "0164228e00024ad78d1af8c6423cfaf4",
       "version_major": 2,
       "version_minor": 0
      },
      "text/plain": [
       "HBox(children=(IntProgress(value=0, max=77), HTML(value='')))"
      ]
     },
     "metadata": {},
     "output_type": "display_data"
    },
    {
     "name": "stdout",
     "output_type": "stream",
     "text": [
      "28 0.014239023788832128 0.014239023788832128 21531.179885864258\n",
      "28 0.013673283829120919 0.013673283829120919 21530.446731567383\n",
      "28 0.013472680700942874 0.013472680700942874 22053.793579101562\n",
      "28 0.013868577661924064 0.013868577661924064 21965.64129638672\n",
      "28 0.013711975916521624 0.013711975916521624 21927.965454101562\n",
      "\n"
     ]
    },
    {
     "data": {
      "application/vnd.jupyter.widget-view+json": {
       "model_id": "2909fb985d7e475fb62fea319768317e",
       "version_major": 2,
       "version_minor": 0
      },
      "text/plain": [
       "HBox(children=(IntProgress(value=0, max=77), HTML(value='')))"
      ]
     },
     "metadata": {},
     "output_type": "display_data"
    },
    {
     "name": "stdout",
     "output_type": "stream",
     "text": [
      "29 0.013423156487988308 0.013423156487988308 21480.815856933594\n",
      "29 0.013217775616794825 0.013217775616794825 21527.949340820312\n",
      "29 0.012742996972519904 0.012742996972519904 21975.954345703125\n",
      "29 0.012546503363410011 0.012546503363410011 21901.290893554688\n",
      "29 0.013597086217487231 0.013597086217487231 21914.055053710938\n",
      "\n"
     ]
    },
    {
     "data": {
      "application/vnd.jupyter.widget-view+json": {
       "model_id": "ed64bf4b330843dcbfce03858d6cc563",
       "version_major": 2,
       "version_minor": 0
      },
      "text/plain": [
       "HBox(children=(IntProgress(value=0, max=77), HTML(value='')))"
      ]
     },
     "metadata": {},
     "output_type": "display_data"
    },
    {
     "name": "stdout",
     "output_type": "stream",
     "text": [
      "30 0.014633872837293893 0.014633872837293893 21521.878372192383\n",
      "30 0.01438641402637586 0.01438641402637586 21539.5069732666\n",
      "30 0.014276173955295235 0.014276173955295235 21935.897338867188\n",
      "30 0.014343163697049022 0.014343163697049022 21918.25323486328\n",
      "30 0.01393123617162928 0.01393123617162928 21892.33770751953\n",
      "\n"
     ]
    },
    {
     "data": {
      "application/vnd.jupyter.widget-view+json": {
       "model_id": "22e0c89c273941688de0e1aa11508299",
       "version_major": 2,
       "version_minor": 0
      },
      "text/plain": [
       "HBox(children=(IntProgress(value=0, max=77), HTML(value='')))"
      ]
     },
     "metadata": {},
     "output_type": "display_data"
    },
    {
     "name": "stdout",
     "output_type": "stream",
     "text": [
      "31 0.013555037585319951 0.013555037585319951 21456.7979888916\n",
      "31 0.013140279130311683 0.013140279130311683 21510.874954223633\n",
      "31 0.01323810758185573 0.01323810758185573 21936.693969726562\n",
      "31 0.013629110559122637 0.013629110559122637 21961.244995117188\n",
      "31 0.01383625081507489 0.01383625081507489 21535.00196838379\n",
      "\n"
     ]
    },
    {
     "data": {
      "application/vnd.jupyter.widget-view+json": {
       "model_id": "c89e6635f5a743deaa6f2602431d480d",
       "version_major": 2,
       "version_minor": 0
      },
      "text/plain": [
       "HBox(children=(IntProgress(value=0, max=77), HTML(value='')))"
      ]
     },
     "metadata": {},
     "output_type": "display_data"
    },
    {
     "name": "stdout",
     "output_type": "stream",
     "text": [
      "32 0.01325929129961878 0.01325929129961878 21579.9083404541\n",
      "32 0.012632916448637843 0.012632916448637843 22092.373168945312\n",
      "32 0.012747146334731951 0.012747146334731951 22146.08270263672\n",
      "32 0.012728055618936196 0.012728055618936196 22082.612243652344\n",
      "\n"
     ]
    },
    {
     "data": {
      "application/vnd.jupyter.widget-view+json": {
       "model_id": "3453040155234951971203ec18d9177c",
       "version_major": 2,
       "version_minor": 0
      },
      "text/plain": [
       "HBox(children=(IntProgress(value=0, max=77), HTML(value='')))"
      ]
     },
     "metadata": {},
     "output_type": "display_data"
    },
    {
     "name": "stdout",
     "output_type": "stream",
     "text": [
      "33 0.01353627399657853 0.01353627399657853 21534.51708984375\n",
      "33 0.013834426703397185 0.013834426703397185 21585.083740234375\n",
      "33 0.01283612207043916 0.01283612207043916 22125.241088867188\n",
      "33 0.012357653002254665 0.012357653002254665 22122.739013671875\n",
      "33 0.01229141853400506 0.01229141853400506 22028.46063232422\n",
      "\n"
     ]
    },
    {
     "data": {
      "application/vnd.jupyter.widget-view+json": {
       "model_id": "379cd41c69974ed19eabdaa1519976a0",
       "version_major": 2,
       "version_minor": 0
      },
      "text/plain": [
       "HBox(children=(IntProgress(value=0, max=77), HTML(value='')))"
      ]
     },
     "metadata": {},
     "output_type": "display_data"
    },
    {
     "name": "stdout",
     "output_type": "stream",
     "text": [
      "34 0.012832014181185514 0.012832014181185514 21625.85287475586\n",
      "34 0.012957917555468157 0.012957917555468157 21725.38754272461\n",
      "34 0.012536506575997919 0.012536506575997919 22149.949584960938\n",
      "34 0.01286667917156592 0.01286667917156592 22137.06182861328\n",
      "34 0.01347207886283286 0.01347207886283286 22178.309326171875\n",
      "\n"
     ]
    },
    {
     "data": {
      "application/vnd.jupyter.widget-view+json": {
       "model_id": "914f6213dfb24995a1e7a1ef23d472a3",
       "version_major": 2,
       "version_minor": 0
      },
      "text/plain": [
       "HBox(children=(IntProgress(value=0, max=77), HTML(value='')))"
      ]
     },
     "metadata": {},
     "output_type": "display_data"
    },
    {
     "name": "stdout",
     "output_type": "stream",
     "text": [
      "35 0.013399925519479439 0.013399925519479439 21714.866821289062\n",
      "35 0.014038770052138716 0.014038770052138716 21720.863647460938\n",
      "35 0.01467621501069516 0.01467621501069516 22181.08233642578\n",
      "35 0.01394259522203356 0.01394259522203356 22210.998413085938\n",
      "35 0.013189434714149684 0.013189434714149684 22245.80938720703\n",
      "\n"
     ]
    },
    {
     "data": {
      "application/vnd.jupyter.widget-view+json": {
       "model_id": "6e1b27cc3d364ab9bc1ffa023bb7f3c9",
       "version_major": 2,
       "version_minor": 0
      },
      "text/plain": [
       "HBox(children=(IntProgress(value=0, max=77), HTML(value='')))"
      ]
     },
     "metadata": {},
     "output_type": "display_data"
    },
    {
     "name": "stdout",
     "output_type": "stream",
     "text": [
      "36 0.014155219949316233 0.014155219949316233 21753.01025390625\n",
      "36 0.013954737834865227 0.013954737834865227 21729.040649414062\n",
      "36 0.01264113315846771 0.01264113315846771 22188.990844726562\n",
      "36 0.012751017755363137 0.012751017755363137 22154.43035888672\n",
      "36 0.013254953024443239 0.013254953024443239 22090.06475830078\n",
      "\n"
     ]
    },
    {
     "data": {
      "application/vnd.jupyter.widget-view+json": {
       "model_id": "6e33ede2814a4ba7854274639aa1770a",
       "version_major": 2,
       "version_minor": 0
      },
      "text/plain": [
       "HBox(children=(IntProgress(value=0, max=77), HTML(value='')))"
      ]
     },
     "metadata": {},
     "output_type": "display_data"
    },
    {
     "name": "stdout",
     "output_type": "stream",
     "text": [
      "37 0.0137211388500873 0.0137211388500873 21643.325653076172\n",
      "37 0.014200569392414764 0.014200569392414764 21679.18588256836\n",
      "37 0.016537953284569085 0.016537953284569085 22222.850830078125\n",
      "37 0.016743978048907593 0.016743978048907593 22241.398376464844\n",
      "\n"
     ]
    },
    {
     "data": {
      "application/vnd.jupyter.widget-view+json": {
       "model_id": "f4a48f23988b4b23bf8684b6c522b355",
       "version_major": 2,
       "version_minor": 0
      },
      "text/plain": [
       "HBox(children=(IntProgress(value=0, max=77), HTML(value='')))"
      ]
     },
     "metadata": {},
     "output_type": "display_data"
    },
    {
     "name": "stdout",
     "output_type": "stream",
     "text": [
      "38 0.01461484277388081 0.01461484277388081 21725.664581298828\n",
      "38 0.013595729047665372 0.013595729047665372 21693.400909423828\n",
      "38 0.013527638599043712 0.013527638599043712 22160.578186035156\n",
      "38 0.013609676418127492 0.013609676418127492 22189.277893066406\n",
      "38 0.012774612754583359 0.012774612754583359 22161.72344970703\n",
      "\n"
     ]
    },
    {
     "data": {
      "application/vnd.jupyter.widget-view+json": {
       "model_id": "6dba2a471e1f43d5b3b8c2c322b11a96",
       "version_major": 2,
       "version_minor": 0
      },
      "text/plain": [
       "HBox(children=(IntProgress(value=0, max=77), HTML(value='')))"
      ]
     },
     "metadata": {},
     "output_type": "display_data"
    },
    {
     "name": "stdout",
     "output_type": "stream",
     "text": [
      "39 0.012645204551517963 0.012645204551517963 21690.03382873535\n",
      "39 0.012994036602322012 0.012994036602322012 21634.26594543457\n",
      "39 0.012758648197632283 0.012758648197632283 22140.73162841797\n",
      "39 0.012415692704962566 0.012415692704962566 22259.96484375\n",
      "39 0.012434988340828568 0.012434988340828568 22313.49139404297\n",
      "\n"
     ]
    },
    {
     "data": {
      "application/vnd.jupyter.widget-view+json": {
       "model_id": "9c200a2356e643a4950c59e4ab9c0e93",
       "version_major": 2,
       "version_minor": 0
      },
      "text/plain": [
       "HBox(children=(IntProgress(value=0, max=77), HTML(value='')))"
      ]
     },
     "metadata": {},
     "output_type": "display_data"
    },
    {
     "name": "stdout",
     "output_type": "stream",
     "text": [
      "40 0.01270855576149188 0.01270855576149188 21880.48858642578\n",
      "40 0.012622278794879094 0.012622278794879094 21818.83544921875\n",
      "40 0.012664758047321811 0.012664758047321811 22205.44598388672\n",
      "40 0.012609565339516848 0.012609565339516848 22184.82391357422\n",
      "40 0.012005629134364426 0.012005629134364426 22205.82421875\n",
      "\n"
     ]
    },
    {
     "data": {
      "application/vnd.jupyter.widget-view+json": {
       "model_id": "2dcc1e1e2f86425eb0a02748cac070d7",
       "version_major": 2,
       "version_minor": 0
      },
      "text/plain": [
       "HBox(children=(IntProgress(value=0, max=77), HTML(value='')))"
      ]
     },
     "metadata": {},
     "output_type": "display_data"
    },
    {
     "name": "stdout",
     "output_type": "stream",
     "text": [
      "41 0.011447045457316563 0.011447045457316563 21784.98159790039\n",
      "41 0.01171615972998552 0.01171615972998552 21782.605194091797\n",
      "41 0.012393417418934405 0.012393417418934405 22224.678955078125\n",
      "41 0.012518866802565753 0.012518866802565753 22214.13592529297\n",
      "41 0.012511683627963066 0.012511683627963066 22206.132934570312\n",
      "\n"
     ]
    },
    {
     "data": {
      "application/vnd.jupyter.widget-view+json": {
       "model_id": "f99973418df34f4d8677e3a85fd3e4be",
       "version_major": 2,
       "version_minor": 0
      },
      "text/plain": [
       "HBox(children=(IntProgress(value=0, max=77), HTML(value='')))"
      ]
     },
     "metadata": {},
     "output_type": "display_data"
    },
    {
     "name": "stdout",
     "output_type": "stream",
     "text": [
      "42 0.01249073221697472 0.01249073221697472 21766.839813232422\n",
      "42 0.012555660039652139 0.012555660039652139 21727.923248291016\n",
      "42 0.012223568395711482 0.012223568395711482 22144.878051757812\n",
      "42 0.011783195135649294 0.011783195135649294 22201.215759277344\n",
      "\n"
     ]
    },
    {
     "data": {
      "application/vnd.jupyter.widget-view+json": {
       "model_id": "a2f79225f2604ad5b075b0536bc155e0",
       "version_major": 2,
       "version_minor": 0
      },
      "text/plain": [
       "HBox(children=(IntProgress(value=0, max=77), HTML(value='')))"
      ]
     },
     "metadata": {},
     "output_type": "display_data"
    },
    {
     "name": "stdout",
     "output_type": "stream",
     "text": [
      "43 0.011935327114770189 0.011935327114770189 21744.59051513672\n",
      "43 0.012229685962665826 0.012229685962665826 21676.016967773438\n",
      "43 0.012083592475391924 0.012083592475391924 22150.051330566406\n",
      "43 0.01193186643649824 0.01193186643649824 22234.694213867188\n",
      "43 0.012090451084077358 0.012090451084077358 22225.177978515625\n",
      "\n"
     ]
    },
    {
     "data": {
      "application/vnd.jupyter.widget-view+json": {
       "model_id": "2d2c9cad29e547599c93c0c3d30a2a39",
       "version_major": 2,
       "version_minor": 0
      },
      "text/plain": [
       "HBox(children=(IntProgress(value=0, max=77), HTML(value='')))"
      ]
     },
     "metadata": {},
     "output_type": "display_data"
    },
    {
     "name": "stdout",
     "output_type": "stream",
     "text": [
      "44 0.012379879917716607 0.012379879917716607 21753.766662597656\n",
      "44 0.012659215775784105 0.012659215775784105 21838.644592285156\n",
      "44 0.012461277859983966 0.012461277859983966 22279.815063476562\n",
      "44 0.011884984764037654 0.011884984764037654 22294.892456054688\n",
      "44 0.011794511927291751 0.011794511927291751 22346.965759277344\n",
      "\n"
     ]
    },
    {
     "data": {
      "application/vnd.jupyter.widget-view+json": {
       "model_id": "4700ad69132942d29048b2598a724e54",
       "version_major": 2,
       "version_minor": 0
      },
      "text/plain": [
       "HBox(children=(IntProgress(value=0, max=77), HTML(value='')))"
      ]
     },
     "metadata": {},
     "output_type": "display_data"
    },
    {
     "name": "stdout",
     "output_type": "stream",
     "text": [
      "45 0.012049227632815018 0.012049227632815018 21795.274978637695\n",
      "45 0.012713734031422064 0.012713734031422064 21741.18489074707\n",
      "45 0.01285067104618065 0.01285067104618065 22234.113647460938\n",
      "45 0.012406094174366444 0.012406094174366444 22321.529907226562\n",
      "45 0.01220086234388873 0.01220086234388873 22399.4951171875\n",
      "\n"
     ]
    },
    {
     "data": {
      "application/vnd.jupyter.widget-view+json": {
       "model_id": "c1fff4703ffc456d9638a6c17e7f18cc",
       "version_major": 2,
       "version_minor": 0
      },
      "text/plain": [
       "HBox(children=(IntProgress(value=0, max=77), HTML(value='')))"
      ]
     },
     "metadata": {},
     "output_type": "display_data"
    },
    {
     "name": "stdout",
     "output_type": "stream",
     "text": [
      "46 0.012000645190710202 0.012000645190710202 21900.00975036621\n",
      "46 0.012209360604174435 0.012209360604174435 21836.520614624023\n",
      "46 0.012146042747190222 0.012146042747190222 22219.433227539062\n",
      "46 0.01172210491495207 0.01172210491495207 22226.55322265625\n",
      "46 0.01226175541523844 0.01226175541523844 22318.389709472656\n",
      "\n"
     ]
    },
    {
     "data": {
      "application/vnd.jupyter.widget-view+json": {
       "model_id": "829f9e02db0d4cf1bb7c56c6fabbc3c2",
       "version_major": 2,
       "version_minor": 0
      },
      "text/plain": [
       "HBox(children=(IntProgress(value=0, max=77), HTML(value='')))"
      ]
     },
     "metadata": {},
     "output_type": "display_data"
    },
    {
     "name": "stdout",
     "output_type": "stream",
     "text": [
      "47 0.016253883339231834 0.016253883339231834 21872.630569458008\n",
      "47 0.01810158119769767 0.01810158119769767 21856.490188598633\n",
      "47 0.01566526709939353 0.01566526709939353 22302.78009033203\n",
      "47 0.014640601555583999 0.014640601555583999 22355.06524658203\n",
      "47 0.013578300160588697 0.013578300160588697 21977.162017822266\n",
      "\n"
     ]
    },
    {
     "data": {
      "application/vnd.jupyter.widget-view+json": {
       "model_id": "b10992b20b3a42b9a22f5077469fbb2c",
       "version_major": 2,
       "version_minor": 0
      },
      "text/plain": [
       "HBox(children=(IntProgress(value=0, max=77), HTML(value='')))"
      ]
     },
     "metadata": {},
     "output_type": "display_data"
    },
    {
     "name": "stdout",
     "output_type": "stream",
     "text": [
      "48 0.012041740701533854 0.012041740701533854 21964.719146728516\n",
      "48 0.011836748191853985 0.011836748191853985 22330.581665039062\n",
      "48 0.012107389309676364 0.012107389309676364 22351.952697753906\n",
      "48 0.012195593735668808 0.012195593735668808 22366.231079101562\n",
      "\n"
     ]
    },
    {
     "data": {
      "application/vnd.jupyter.widget-view+json": {
       "model_id": "f4d4fba97c1c425da79caa946afcf3f9",
       "version_major": 2,
       "version_minor": 0
      },
      "text/plain": [
       "HBox(children=(IntProgress(value=0, max=77), HTML(value='')))"
      ]
     },
     "metadata": {},
     "output_type": "display_data"
    },
    {
     "name": "stdout",
     "output_type": "stream",
     "text": [
      "49 0.012530255131423473 0.012530255131423473 21823.36212158203\n",
      "49 0.013075364520773292 0.013075364520773292 21769.965270996094\n",
      "49 0.012823558587115258 0.012823558587115258 22220.643981933594\n",
      "49 0.012545479170512408 0.012545479170512408 22269.952392578125\n",
      "49 0.012297078937990591 0.012297078937990591 22319.552001953125\n",
      "\n"
     ]
    },
    {
     "data": {
      "application/vnd.jupyter.widget-view+json": {
       "model_id": "af64136ad744446996528676cc72d6d1",
       "version_major": 2,
       "version_minor": 0
      },
      "text/plain": [
       "HBox(children=(IntProgress(value=0, max=77), HTML(value='')))"
      ]
     },
     "metadata": {},
     "output_type": "display_data"
    },
    {
     "name": "stdout",
     "output_type": "stream",
     "text": [
      "50 0.011748420365620404 0.011748420365620404 21894.678771972656\n",
      "50 0.01160433967015706 0.01160433967015706 21841.541870117188\n",
      "50 0.01136009069159627 0.01136009069159627 22275.219177246094\n",
      "50 0.011319016921333969 0.011319016921333969 22315.127868652344\n",
      "50 0.011960894102230668 0.011960894102230668 22339.009765625\n",
      "\n"
     ]
    },
    {
     "data": {
      "application/vnd.jupyter.widget-view+json": {
       "model_id": "3b78e9918cc044498f012947266b9855",
       "version_major": 2,
       "version_minor": 0
      },
      "text/plain": [
       "HBox(children=(IntProgress(value=0, max=77), HTML(value='')))"
      ]
     },
     "metadata": {},
     "output_type": "display_data"
    },
    {
     "name": "stdout",
     "output_type": "stream",
     "text": [
      "51 0.01259939296869561 0.01259939296869561 21882.94398498535\n",
      "51 0.011927461950108409 0.011927461950108409 21868.300064086914\n",
      "51 0.011513857258250937 0.011513857258250937 22270.385803222656\n",
      "51 0.011869904847117141 0.011869904847117141 22283.662109375\n",
      "51 0.012005515600321814 0.012005515600321814 22333.631286621094\n",
      "\n"
     ]
    },
    {
     "data": {
      "application/vnd.jupyter.widget-view+json": {
       "model_id": "cf2c8eb8a10d4365aae62d741222e730",
       "version_major": 2,
       "version_minor": 0
      },
      "text/plain": [
       "HBox(children=(IntProgress(value=0, max=77), HTML(value='')))"
      ]
     },
     "metadata": {},
     "output_type": "display_data"
    },
    {
     "name": "stdout",
     "output_type": "stream",
     "text": [
      "52 0.012700945691904053 0.012700945691904053 21820.751708984375\n",
      "52 0.013410534564172849 0.013410534564172849 21809.35284423828\n",
      "52 0.013468066754285246 0.013468066754285246 22251.659790039062\n",
      "52 0.012923166184918955 0.012923166184918955 22342.13311767578\n",
      "52 0.012909369281260297 0.012909369281260297 22400.964965820312\n",
      "\n"
     ]
    },
    {
     "data": {
      "application/vnd.jupyter.widget-view+json": {
       "model_id": "09c87e86c8fc49b7a0e38a0eda658225",
       "version_major": 2,
       "version_minor": 0
      },
      "text/plain": [
       "HBox(children=(IntProgress(value=0, max=77), HTML(value='')))"
      ]
     },
     "metadata": {},
     "output_type": "display_data"
    },
    {
     "name": "stdout",
     "output_type": "stream",
     "text": [
      "53 0.013143276359187439 0.013143276359187439 21884.476837158203\n",
      "53 0.012684244953561574 0.012684244953561574 21911.66812133789\n",
      "53 0.011966773075982928 0.011966773075982928 22288.88262939453\n",
      "53 0.01170547743095085 0.01170547743095085 22215.809814453125\n",
      "\n"
     ]
    },
    {
     "data": {
      "application/vnd.jupyter.widget-view+json": {
       "model_id": "31993f370ce64b6c853d727b14fb75c8",
       "version_major": 2,
       "version_minor": 0
      },
      "text/plain": [
       "HBox(children=(IntProgress(value=0, max=77), HTML(value='')))"
      ]
     },
     "metadata": {},
     "output_type": "display_data"
    },
    {
     "name": "stdout",
     "output_type": "stream",
     "text": [
      "54 0.012076858169166371 0.012076858169166371 21796.4737701416\n",
      "54 0.012417576159350574 0.012417576159350574 21832.97950744629\n",
      "54 0.011704402655595914 0.011704402655595914 22335.658813476562\n",
      "54 0.012369361997116357 0.012369361997116357 22387.872802734375\n",
      "54 0.01396124012535438 0.01396124012535438 22332.749267578125\n",
      "\n"
     ]
    },
    {
     "data": {
      "application/vnd.jupyter.widget-view+json": {
       "model_id": "e13d7abe4f06465e98c517ca0c9460c6",
       "version_major": 2,
       "version_minor": 0
      },
      "text/plain": [
       "HBox(children=(IntProgress(value=0, max=77), HTML(value='')))"
      ]
     },
     "metadata": {},
     "output_type": "display_data"
    },
    {
     "name": "stdout",
     "output_type": "stream",
     "text": [
      "55 0.013240267900982872 0.013240267900982872 21766.149353027344\n",
      "55 0.011953290493693203 0.011953290493693203 21787.43438720703\n",
      "55 0.01151445074356161 0.01151445074356161 22315.593872070312\n",
      "55 0.011491969606140628 0.011491969606140628 22218.981506347656\n",
      "55 0.011400289920857176 0.011400289920857176 22225.848205566406\n",
      "\n"
     ]
    },
    {
     "data": {
      "application/vnd.jupyter.widget-view+json": {
       "model_id": "6b3480d027a9411a8038257213d86762",
       "version_major": 2,
       "version_minor": 0
      },
      "text/plain": [
       "HBox(children=(IntProgress(value=0, max=77), HTML(value='')))"
      ]
     },
     "metadata": {},
     "output_type": "display_data"
    },
    {
     "name": "stdout",
     "output_type": "stream",
     "text": [
      "56 0.011372518696589395 0.011372518696589395 21880.38998413086\n",
      "56 0.011706646298989654 0.011706646298989654 21848.31088256836\n",
      "56 0.011823337379610166 0.011823337379610166 22374.235717773438\n",
      "56 0.01141004281817004 0.01141004281817004 22379.377868652344\n",
      "56 0.011382230062736198 0.011382230062736198 22300.067504882812\n",
      "\n"
     ]
    },
    {
     "data": {
      "application/vnd.jupyter.widget-view+json": {
       "model_id": "156a3dab0dd64abcba3077e7d53b1abf",
       "version_major": 2,
       "version_minor": 0
      },
      "text/plain": [
       "HBox(children=(IntProgress(value=0, max=77), HTML(value='')))"
      ]
     },
     "metadata": {},
     "output_type": "display_data"
    },
    {
     "name": "stdout",
     "output_type": "stream",
     "text": [
      "57 0.012318619847064838 0.012318619847064838 21879.535888671875\n",
      "57 0.012872913997853175 0.012872913997853175 21942.20440673828\n",
      "57 0.011766833893489093 0.011766833893489093 22359.963928222656\n",
      "57 0.011802160122897476 0.011802160122897476 22359.673461914062\n",
      "57 0.013722297211643308 0.013722297211643308 22411.799682617188\n",
      "\n"
     ]
    },
    {
     "data": {
      "application/vnd.jupyter.widget-view+json": {
       "model_id": "d71e826f00fe4e8aaaace9c1fd24ffbd",
       "version_major": 2,
       "version_minor": 0
      },
      "text/plain": [
       "HBox(children=(IntProgress(value=0, max=77), HTML(value='')))"
      ]
     },
     "metadata": {},
     "output_type": "display_data"
    },
    {
     "name": "stdout",
     "output_type": "stream",
     "text": [
      "58 0.013946974009741098 0.013946974009741098 21928.855224609375\n",
      "58 0.01335205210489221 0.01335205210489221 21911.8134765625\n",
      "58 0.014054461702471599 0.014054461702471599 22323.281616210938\n",
      "58 0.014113684563199058 0.014113684563199058 22322.621826171875\n",
      "\n"
     ]
    },
    {
     "data": {
      "application/vnd.jupyter.widget-view+json": {
       "model_id": "e9f033c8090e4dc18c3a0e71679b333a",
       "version_major": 2,
       "version_minor": 0
      },
      "text/plain": [
       "HBox(children=(IntProgress(value=0, max=77), HTML(value='')))"
      ]
     },
     "metadata": {},
     "output_type": "display_data"
    },
    {
     "name": "stdout",
     "output_type": "stream",
     "text": [
      "59 0.013480324589181691 0.013480324589181691 21923.233016967773\n",
      "59 0.013192433310905471 0.013192433310905471 21899.967880249023\n",
      "59 0.012965174217242748 0.012965174217242748 22341.586181640625\n",
      "59 0.012756120879203081 0.012756120879203081 22296.135803222656\n",
      "59 0.012705226894468069 0.012705226894468069 22166.231689453125\n",
      "\n"
     ]
    },
    {
     "data": {
      "application/vnd.jupyter.widget-view+json": {
       "model_id": "59cbaf6f549647699f2f04ce4bd3d06d",
       "version_major": 2,
       "version_minor": 0
      },
      "text/plain": [
       "HBox(children=(IntProgress(value=0, max=77), HTML(value='')))"
      ]
     },
     "metadata": {},
     "output_type": "display_data"
    },
    {
     "name": "stdout",
     "output_type": "stream",
     "text": [
      "60 0.012916824343847111 0.012916824343847111 21729.46421813965\n",
      "60 0.012542647134978324 0.012542647134978324 21784.62010192871\n",
      "60 0.012034342653350905 0.012034342653350905 22301.239013671875\n",
      "60 0.012017982895486057 0.012017982895486057 22380.1796875\n",
      "60 0.012028593657305464 0.012028593657305464 22353.06866455078\n",
      "\n"
     ]
    },
    {
     "data": {
      "application/vnd.jupyter.widget-view+json": {
       "model_id": "a73a09bc089846e5b1e3ac8071889d87",
       "version_major": 2,
       "version_minor": 0
      },
      "text/plain": [
       "HBox(children=(IntProgress(value=0, max=77), HTML(value='')))"
      ]
     },
     "metadata": {},
     "output_type": "display_data"
    },
    {
     "name": "stdout",
     "output_type": "stream",
     "text": [
      "61 0.012675972800934687 0.012675972800934687 21826.211990356445\n",
      "61 0.013053977134404704 0.013053977134404704 21863.684036254883\n",
      "61 0.014284979173680767 0.014284979173680767 22413.96856689453\n",
      "61 0.014508803462376818 0.014508803462376818 22408.039306640625\n",
      "61 0.012138557009166107 0.012138557009166107 22343.271728515625\n",
      "\n"
     ]
    },
    {
     "data": {
      "application/vnd.jupyter.widget-view+json": {
       "model_id": "bdf8be69b4094e4483640df1f3520c35",
       "version_major": 2,
       "version_minor": 0
      },
      "text/plain": [
       "HBox(children=(IntProgress(value=0, max=77), HTML(value='')))"
      ]
     },
     "metadata": {},
     "output_type": "display_data"
    },
    {
     "name": "stdout",
     "output_type": "stream",
     "text": [
      "62 0.01077590452041477 0.01077590452041477 21837.00082397461\n",
      "62 0.01063599030021578 0.01063599030021578 21871.18881225586\n",
      "62 0.010879345907596871 0.010879345907596871 22335.115234375\n",
      "62 0.010794896224979311 0.010794896224979311 22437.292846679688\n",
      "62 0.010345577436964959 0.010345577436964959 22477.963134765625\n",
      "\n"
     ]
    },
    {
     "data": {
      "application/vnd.jupyter.widget-view+json": {
       "model_id": "7a411afaed204c929f8cb929f912efb6",
       "version_major": 2,
       "version_minor": 0
      },
      "text/plain": [
       "HBox(children=(IntProgress(value=0, max=77), HTML(value='')))"
      ]
     },
     "metadata": {},
     "output_type": "display_data"
    },
    {
     "name": "stdout",
     "output_type": "stream",
     "text": [
      "63 0.010325620591174811 0.010325620591174811 21944.382415771484\n",
      "63 0.010517996619455516 0.010517996619455516 21948.976287841797\n",
      "63 0.011115417175460607 0.011115417175460607 22442.63885498047\n",
      "63 0.01211970648728311 0.01211970648728311 22429.62237548828\n",
      "63 0.011996326560620219 0.011996326560620219 21915.469650268555\n",
      "\n"
     ]
    },
    {
     "data": {
      "application/vnd.jupyter.widget-view+json": {
       "model_id": "e63db939c93e49119c41880fff1488d6",
       "version_major": 2,
       "version_minor": 0
      },
      "text/plain": [
       "HBox(children=(IntProgress(value=0, max=77), HTML(value='')))"
      ]
     },
     "metadata": {},
     "output_type": "display_data"
    },
    {
     "name": "stdout",
     "output_type": "stream",
     "text": [
      "64 0.011507975694257766 0.011507975694257766 21896.238327026367\n",
      "64 0.011267204710748047 0.011267204710748047 22363.98712158203\n",
      "64 0.01095529121812433 0.01095529121812433 22465.205505371094\n",
      "64 0.010881933238124475 0.010881933238124475 22492.851501464844\n",
      "\n"
     ]
    },
    {
     "data": {
      "application/vnd.jupyter.widget-view+json": {
       "model_id": "c361131795c348e49d8a59ef4b9d97e9",
       "version_major": 2,
       "version_minor": 0
      },
      "text/plain": [
       "HBox(children=(IntProgress(value=0, max=77), HTML(value='')))"
      ]
     },
     "metadata": {},
     "output_type": "display_data"
    },
    {
     "name": "stdout",
     "output_type": "stream",
     "text": [
      "65 0.01124457223340869 0.01124457223340869 21990.50213623047\n",
      "65 0.011419846880016848 0.011419846880016848 22065.45440673828\n",
      "65 0.010952963028103113 0.010952963028103113 22589.779296875\n",
      "65 0.010370271833380684 0.010370271833380684 22553.83074951172\n",
      "65 0.010321756097255275 0.010321756097255275 22547.75048828125\n",
      "\n"
     ]
    },
    {
     "data": {
      "application/vnd.jupyter.widget-view+json": {
       "model_id": "8f9bb5eee4f14e6c8d2eaa777fd64294",
       "version_major": 2,
       "version_minor": 0
      },
      "text/plain": [
       "HBox(children=(IntProgress(value=0, max=77), HTML(value='')))"
      ]
     },
     "metadata": {},
     "output_type": "display_data"
    },
    {
     "name": "stdout",
     "output_type": "stream",
     "text": [
      "66 0.010769511543912813 0.010769511543912813 22062.5107421875\n",
      "66 0.01074609110946767 0.01074609110946767 22079.077697753906\n",
      "66 0.011149315134389326 0.011149315134389326 22554.27374267578\n",
      "66 0.011770519748097286 0.011770519748097286 22539.477172851562\n",
      "66 0.012074377533281222 0.012074377533281222 22567.15283203125\n",
      "\n"
     ]
    },
    {
     "data": {
      "application/vnd.jupyter.widget-view+json": {
       "model_id": "7d878f84634a4a3b89ba0937e93ca767",
       "version_major": 2,
       "version_minor": 0
      },
      "text/plain": [
       "HBox(children=(IntProgress(value=0, max=77), HTML(value='')))"
      ]
     },
     "metadata": {},
     "output_type": "display_data"
    },
    {
     "name": "stdout",
     "output_type": "stream",
     "text": [
      "67 0.012131087511079386 0.012131087511079386 22044.214263916016\n",
      "67 0.011526258575031534 0.011526258575031534 22047.843963623047\n",
      "67 0.011230728239752352 0.011230728239752352 22492.256896972656\n",
      "67 0.011879478872288018 0.011879478872288018 22453.007385253906\n",
      "67 0.013656508701387793 0.013656508701387793 22492.422119140625\n",
      "\n"
     ]
    },
    {
     "data": {
      "application/vnd.jupyter.widget-view+json": {
       "model_id": "a736cb4b2dbb4f5e8c85cfcf4c817dcb",
       "version_major": 2,
       "version_minor": 0
      },
      "text/plain": [
       "HBox(children=(IntProgress(value=0, max=77), HTML(value='')))"
      ]
     },
     "metadata": {},
     "output_type": "display_data"
    },
    {
     "name": "stdout",
     "output_type": "stream",
     "text": [
      "68 0.014894553576596081 0.014894553576596081 22007.401336669922\n",
      "68 0.013357397619984113 0.013357397619984113 22022.47543334961\n",
      "68 0.012177933924249373 0.012177933924249373 22571.16815185547\n",
      "68 0.01164917353889905 0.01164917353889905 22585.303833007812\n",
      "68 0.010411653114715591 0.010411653114715591 22481.475219726562\n",
      "\n"
     ]
    },
    {
     "data": {
      "application/vnd.jupyter.widget-view+json": {
       "model_id": "a3b4e3b386684cdbac439ba033c4e966",
       "version_major": 2,
       "version_minor": 0
      },
      "text/plain": [
       "HBox(children=(IntProgress(value=0, max=77), HTML(value='')))"
      ]
     },
     "metadata": {},
     "output_type": "display_data"
    },
    {
     "name": "stdout",
     "output_type": "stream",
     "text": [
      "69 0.010899660846916959 0.010899660846916959 21998.209716796875\n",
      "69 0.011819694191217422 0.011819694191217422 22042.217407226562\n",
      "69 0.01172379482886754 0.01172379482886754 22460.24090576172\n",
      "69 0.011590684560360387 0.011590684560360387 22437.953186035156\n",
      "\n"
     ]
    },
    {
     "data": {
      "application/vnd.jupyter.widget-view+json": {
       "model_id": "8a07f475d2cb4a04a40b8a58c9f6da66",
       "version_major": 2,
       "version_minor": 0
      },
      "text/plain": [
       "HBox(children=(IntProgress(value=0, max=77), HTML(value='')))"
      ]
     },
     "metadata": {},
     "output_type": "display_data"
    },
    {
     "name": "stdout",
     "output_type": "stream",
     "text": [
      "70 0.012044493778375909 0.012044493778375909 22024.76498413086\n",
      "70 0.012704094842774794 0.012704094842774794 22093.684600830078\n",
      "70 0.012163594918092713 0.012163594918092713 22626.739013671875\n",
      "70 0.011110676103271544 0.011110676103271544 22761.00408935547\n",
      "70 0.011033818154828623 0.011033818154828623 22796.728149414062\n",
      "\n"
     ]
    },
    {
     "data": {
      "application/vnd.jupyter.widget-view+json": {
       "model_id": "7a2f934d99ca4a608418acc71626b7e7",
       "version_major": 2,
       "version_minor": 0
      },
      "text/plain": [
       "HBox(children=(IntProgress(value=0, max=77), HTML(value='')))"
      ]
     },
     "metadata": {},
     "output_type": "display_data"
    },
    {
     "name": "stdout",
     "output_type": "stream",
     "text": [
      "71 0.010978762264130637 0.010978762264130637 22302.629180908203\n",
      "71 0.011287955770967528 0.011287955770967528 22309.69857788086\n",
      "71 0.012583639501826838 0.012583639501826838 22751.98565673828\n",
      "71 0.012563968572067097 0.012563968572067097 22922.575927734375\n",
      "71 0.011475574836367741 0.011475574836367741 23044.878662109375\n",
      "\n"
     ]
    },
    {
     "data": {
      "application/vnd.jupyter.widget-view+json": {
       "model_id": "edafb3aa0a1948699c3a94dc3730ff6a",
       "version_major": 2,
       "version_minor": 0
      },
      "text/plain": [
       "HBox(children=(IntProgress(value=0, max=77), HTML(value='')))"
      ]
     },
     "metadata": {},
     "output_type": "display_data"
    },
    {
     "name": "stdout",
     "output_type": "stream",
     "text": [
      "72 0.010873390943743289 0.010873390943743289 22506.456588745117\n",
      "72 0.010654711513780057 0.010654711513780057 22455.03025817871\n",
      "72 0.01077110116602853 0.01077110116602853 22875.719604492188\n",
      "72 0.010745097417384386 0.010745097417384386 22938.6982421875\n",
      "72 0.011152051680255681 0.011152051680255681 22960.470764160156\n",
      "\n"
     ]
    },
    {
     "data": {
      "application/vnd.jupyter.widget-view+json": {
       "model_id": "eeed72cfb71547beab9104c1ace8e9ad",
       "version_major": 2,
       "version_minor": 0
      },
      "text/plain": [
       "HBox(children=(IntProgress(value=0, max=77), HTML(value='')))"
      ]
     },
     "metadata": {},
     "output_type": "display_data"
    },
    {
     "name": "stdout",
     "output_type": "stream",
     "text": [
      "73 0.01214095129398629 0.01214095129398629 22334.77587890625\n",
      "73 0.012993464042665437 0.012993464042665437 22313.831420898438\n",
      "73 0.012320924026425928 0.012320924026425928 22815.391967773438\n",
      "73 0.011601933743804693 0.011601933743804693 22783.584716796875\n",
      "73 0.01307019658270292 0.01307019658270292 22891.922729492188\n",
      "\n"
     ]
    },
    {
     "data": {
      "application/vnd.jupyter.widget-view+json": {
       "model_id": "cc8e4d03108a404eb962fe824502c34a",
       "version_major": 2,
       "version_minor": 0
      },
      "text/plain": [
       "HBox(children=(IntProgress(value=0, max=77), HTML(value='')))"
      ]
     },
     "metadata": {},
     "output_type": "display_data"
    },
    {
     "name": "stdout",
     "output_type": "stream",
     "text": [
      "74 0.013875595555873588 0.013875595555873588 22363.350189208984\n",
      "74 0.013269808667246252 0.013269808667246252 22184.041961669922\n",
      "74 0.012339158507529646 0.012339158507529646 22666.271850585938\n",
      "74 0.011487397772725672 0.011487397772725672 22791.992736816406\n",
      "\n"
     ]
    },
    {
     "data": {
      "application/vnd.jupyter.widget-view+json": {
       "model_id": "e3f2e144913d47be8af2df074642d642",
       "version_major": 2,
       "version_minor": 0
      },
      "text/plain": [
       "HBox(children=(IntProgress(value=0, max=77), HTML(value='')))"
      ]
     },
     "metadata": {},
     "output_type": "display_data"
    },
    {
     "name": "stdout",
     "output_type": "stream",
     "text": [
      "75 0.0110617229656782 0.0110617229656782 22414.977905273438\n",
      "75 0.010949675750453025 0.010949675750453025 22334.750244140625\n",
      "75 0.01124746783170849 0.01124746783170849 22710.538024902344\n",
      "75 0.010957774240523577 0.010957774240523577 22668.582458496094\n",
      "75 0.010431328089907765 0.010431328089907765 22717.502014160156\n",
      "\n"
     ]
    },
    {
     "data": {
      "application/vnd.jupyter.widget-view+json": {
       "model_id": "cc5aa5f7fd1a477e974643e950ff8147",
       "version_major": 2,
       "version_minor": 0
      },
      "text/plain": [
       "HBox(children=(IntProgress(value=0, max=77), HTML(value='')))"
      ]
     },
     "metadata": {},
     "output_type": "display_data"
    },
    {
     "name": "stdout",
     "output_type": "stream",
     "text": [
      "76 0.010185602499404922 0.010185602499404922 22428.923828125\n",
      "76 0.01078993856208399 0.01078993856208399 22417.454833984375\n",
      "76 0.010781023185700178 0.010781023185700178 22731.328857421875\n",
      "76 0.009711358812637627 0.009711358812637627 22683.55975341797\n",
      "76 0.00973210553638637 0.00973210553638637 22684.348205566406\n",
      "\n"
     ]
    },
    {
     "data": {
      "application/vnd.jupyter.widget-view+json": {
       "model_id": "9e8861fad1bf414997e43cbed3f78fd5",
       "version_major": 2,
       "version_minor": 0
      },
      "text/plain": [
       "HBox(children=(IntProgress(value=0, max=77), HTML(value='')))"
      ]
     },
     "metadata": {},
     "output_type": "display_data"
    },
    {
     "name": "stdout",
     "output_type": "stream",
     "text": [
      "77 0.010298486100509763 0.010298486100509763 22213.99041748047\n",
      "77 0.011352836852893233 0.011352836852893233 22207.15362548828\n",
      "77 0.012221230834256858 0.012221230834256858 22817.240234375\n",
      "77 0.012428458227077499 0.012428458227077499 22891.295532226562\n",
      "77 0.012294084473978728 0.012294084473978728 22759.815490722656\n",
      "\n"
     ]
    },
    {
     "data": {
      "application/vnd.jupyter.widget-view+json": {
       "model_id": "8ff42a7e387c41849ad59ffe52b1efae",
       "version_major": 2,
       "version_minor": 0
      },
      "text/plain": [
       "HBox(children=(IntProgress(value=0, max=77), HTML(value='')))"
      ]
     },
     "metadata": {},
     "output_type": "display_data"
    },
    {
     "name": "stdout",
     "output_type": "stream",
     "text": [
      "78 0.011749861267162487 0.011749861267162487 22240.00912475586\n",
      "78 0.011398856702726334 0.011398856702726334 22217.23110961914\n",
      "78 0.01069332892075181 0.01069332892075181 22683.45050048828\n",
      "78 0.010313299193512648 0.010313299193512648 22766.69891357422\n",
      "78 0.010313963051885366 0.010313963051885366 22830.434814453125\n",
      "\n"
     ]
    },
    {
     "data": {
      "application/vnd.jupyter.widget-view+json": {
       "model_id": "58307647149d46ed99907b5e5539cd96",
       "version_major": 2,
       "version_minor": 0
      },
      "text/plain": [
       "HBox(children=(IntProgress(value=0, max=77), HTML(value='')))"
      ]
     },
     "metadata": {},
     "output_type": "display_data"
    },
    {
     "name": "stdout",
     "output_type": "stream",
     "text": [
      "79 0.009875048970570788 0.009875048970570788 22300.293167114258\n",
      "79 0.010631908691721037 0.010631908691721037 22267.19026184082\n",
      "79 0.011399076785892248 0.011399076785892248 22767.42724609375\n",
      "79 0.012508312705904245 0.012508312705904245 22755.497314453125\n",
      "79 0.012030720623442903 0.012030720623442903 22359.384979248047\n",
      "\n"
     ]
    },
    {
     "data": {
      "application/vnd.jupyter.widget-view+json": {
       "model_id": "8dc5ccfe11ec40ffad120aa173ea44e7",
       "version_major": 2,
       "version_minor": 0
      },
      "text/plain": [
       "HBox(children=(IntProgress(value=0, max=77), HTML(value='')))"
      ]
     },
     "metadata": {},
     "output_type": "display_data"
    },
    {
     "name": "stdout",
     "output_type": "stream",
     "text": [
      "80 0.009753782418556511 0.009753782418556511 22416.507598876953\n",
      "80 0.009171032288577408 0.009171032288577408 22874.36083984375\n",
      "80 0.009776732564205304 0.009776732564205304 22832.239135742188\n",
      "80 0.010519873176235706 0.010519873176235706 22802.749755859375\n",
      "\n"
     ]
    },
    {
     "data": {
      "application/vnd.jupyter.widget-view+json": {
       "model_id": "370bf60f459448a5a304e71aaccf3a2c",
       "version_major": 2,
       "version_minor": 0
      },
      "text/plain": [
       "HBox(children=(IntProgress(value=0, max=77), HTML(value='')))"
      ]
     },
     "metadata": {},
     "output_type": "display_data"
    },
    {
     "name": "stdout",
     "output_type": "stream",
     "text": [
      "81 0.010430134716443717 0.010430134716443717 22312.64973449707\n",
      "81 0.010916202241787687 0.010916202241787687 22286.96253967285\n",
      "81 0.011549080518307164 0.011549080518307164 22734.967346191406\n",
      "81 0.011547773698111996 0.011547773698111996 22746.385498046875\n",
      "81 0.011824679124401882 0.011824679124401882 22834.308349609375\n",
      "\n"
     ]
    },
    {
     "data": {
      "application/vnd.jupyter.widget-view+json": {
       "model_id": "ce6bac9971d44ae98b2d8c824a4931be",
       "version_major": 2,
       "version_minor": 0
      },
      "text/plain": [
       "HBox(children=(IntProgress(value=0, max=77), HTML(value='')))"
      ]
     },
     "metadata": {},
     "output_type": "display_data"
    },
    {
     "name": "stdout",
     "output_type": "stream",
     "text": [
      "82 0.011499205109430477 0.011499205109430477 22472.90187072754\n",
      "82 0.01045675142086111 0.01045675142086111 22401.75422668457\n",
      "82 0.010313058126484975 0.010313058126484975 22844.26416015625\n",
      "82 0.010605345451040193 0.010605345451040193 22921.685913085938\n",
      "82 0.010370022529968992 0.010370022529968992 22924.887084960938\n",
      "\n"
     ]
    },
    {
     "data": {
      "application/vnd.jupyter.widget-view+json": {
       "model_id": "aefa5a458d6945ca9dd482a4c11bd59d",
       "version_major": 2,
       "version_minor": 0
      },
      "text/plain": [
       "HBox(children=(IntProgress(value=0, max=77), HTML(value='')))"
      ]
     },
     "metadata": {},
     "output_type": "display_data"
    },
    {
     "name": "stdout",
     "output_type": "stream",
     "text": [
      "83 0.009982613963074982 0.009982613963074982 22457.48764038086\n",
      "83 0.009943899072823115 0.009943899072823115 22364.009185791016\n",
      "83 0.010780839147628285 0.010780839147628285 22856.01153564453\n",
      "83 0.010926892515271902 0.010926892515271902 22927.571533203125\n",
      "83 0.010171182424528524 0.010171182424528524 22855.167053222656\n",
      "\n"
     ]
    },
    {
     "data": {
      "application/vnd.jupyter.widget-view+json": {
       "model_id": "2a31e1e5b4a74937a5ede187a6397ea9",
       "version_major": 2,
       "version_minor": 0
      },
      "text/plain": [
       "HBox(children=(IntProgress(value=0, max=77), HTML(value='')))"
      ]
     },
     "metadata": {},
     "output_type": "display_data"
    },
    {
     "name": "stdout",
     "output_type": "stream",
     "text": [
      "84 0.010137779550859705 0.010137779550859705 22317.211135864258\n",
      "84 0.010018538247095421 0.010018538247095421 22366.252334594727\n",
      "84 0.010321123583707958 0.010321123583707958 22966.008361816406\n",
      "84 0.011058457486797124 0.011058457486797124 22888.395141601562\n",
      "84 0.01118074741680175 0.01118074741680175 22816.82550048828\n",
      "\n"
     ]
    },
    {
     "data": {
      "application/vnd.jupyter.widget-view+json": {
       "model_id": "e5e1065d6788471bbeb4c2320c199eac",
       "version_major": 2,
       "version_minor": 0
      },
      "text/plain": [
       "HBox(children=(IntProgress(value=0, max=77), HTML(value='')))"
      ]
     },
     "metadata": {},
     "output_type": "display_data"
    },
    {
     "name": "stdout",
     "output_type": "stream",
     "text": [
      "85 0.010937831568298861 0.010937831568298861 22421.247314453125\n",
      "85 0.010709239257266745 0.010709239257266745 22400.29510498047\n",
      "85 0.01054441841552034 0.01054441841552034 22857.184631347656\n",
      "85 0.010653458797605708 0.010653458797605708 22916.44793701172\n",
      "\n"
     ]
    },
    {
     "data": {
      "application/vnd.jupyter.widget-view+json": {
       "model_id": "93508611b82342eb9abe1b85a1682a3c",
       "version_major": 2,
       "version_minor": 0
      },
      "text/plain": [
       "HBox(children=(IntProgress(value=0, max=77), HTML(value='')))"
      ]
     },
     "metadata": {},
     "output_type": "display_data"
    },
    {
     "name": "stdout",
     "output_type": "stream",
     "text": [
      "86 0.010401054343674332 0.010401054343674332 22452.268661499023\n",
      "86 0.009898856922518462 0.009898856922518462 22401.98307800293\n",
      "86 0.010973303200444207 0.010973303200444207 22869.488647460938\n",
      "86 0.014144086511805654 0.014144086511805654 22864.463012695312\n",
      "86 0.015676724549848586 0.015676724549848586 22849.88555908203\n",
      "\n"
     ]
    },
    {
     "data": {
      "application/vnd.jupyter.widget-view+json": {
       "model_id": "ce6177c62d734ce3a0673affbf45b9de",
       "version_major": 2,
       "version_minor": 0
      },
      "text/plain": [
       "HBox(children=(IntProgress(value=0, max=77), HTML(value='')))"
      ]
     },
     "metadata": {},
     "output_type": "display_data"
    },
    {
     "name": "stdout",
     "output_type": "stream",
     "text": [
      "87 0.015409985586302355 0.015409985586302355 22314.00035095215\n",
      "87 0.013507628376828507 0.013507628376828507 22314.283432006836\n",
      "87 0.011149362399009988 0.011149362399009988 22887.097717285156\n",
      "87 0.010726554493885487 0.010726554493885487 22901.99090576172\n",
      "87 0.010369699273724109 0.010369699273724109 22880.926818847656\n",
      "\n"
     ]
    },
    {
     "data": {
      "application/vnd.jupyter.widget-view+json": {
       "model_id": "7d361dba46484de8b78608aec85e6383",
       "version_major": 2,
       "version_minor": 0
      },
      "text/plain": [
       "HBox(children=(IntProgress(value=0, max=77), HTML(value='')))"
      ]
     },
     "metadata": {},
     "output_type": "display_data"
    },
    {
     "name": "stdout",
     "output_type": "stream",
     "text": [
      "88 0.010077454993734136 0.010077454993734136 22396.609481811523\n",
      "88 0.010814088978804648 0.010814088978804648 22332.522262573242\n",
      "88 0.011191381345270202 0.011191381345270202 22863.557556152344\n",
      "88 0.010542133706621826 0.010542133706621826 22929.814697265625\n",
      "88 0.010483403078978881 0.010483403078978881 22859.06915283203\n",
      "\n"
     ]
    },
    {
     "data": {
      "application/vnd.jupyter.widget-view+json": {
       "model_id": "012c14f280f741af8db4610df8d59ab8",
       "version_major": 2,
       "version_minor": 0
      },
      "text/plain": [
       "HBox(children=(IntProgress(value=0, max=77), HTML(value='')))"
      ]
     },
     "metadata": {},
     "output_type": "display_data"
    },
    {
     "name": "stdout",
     "output_type": "stream",
     "text": [
      "89 0.010576220520306379 0.010576220520306379 22425.28338623047\n",
      "89 0.010376210862887092 0.010376210862887092 22437.3720703125\n",
      "89 0.010095917285070755 0.010095917285070755 22899.857299804688\n",
      "89 0.009943034470779821 0.009943034470779821 22921.38153076172\n",
      "89 0.01000132629997097 0.01000132629997097 22849.938903808594\n",
      "\n"
     ]
    },
    {
     "data": {
      "application/vnd.jupyter.widget-view+json": {
       "model_id": "105f5215893942709fb5fc2a3b8729ff",
       "version_major": 2,
       "version_minor": 0
      },
      "text/plain": [
       "HBox(children=(IntProgress(value=0, max=77), HTML(value='')))"
      ]
     },
     "metadata": {},
     "output_type": "display_data"
    },
    {
     "name": "stdout",
     "output_type": "stream",
     "text": [
      "90 0.009943494107574224 0.009943494107574224 22408.069717407227\n",
      "90 0.009637427938287146 0.009637427938287146 22499.820999145508\n",
      "90 0.009745291274157353 0.009745291274157353 22910.552856445312\n",
      "90 0.00981049906113185 0.00981049906113185 22809.223510742188\n",
      "\n"
     ]
    },
    {
     "data": {
      "application/vnd.jupyter.widget-view+json": {
       "model_id": "a76be1ce07fd46439bc4a241e1e6701d",
       "version_major": 2,
       "version_minor": 0
      },
      "text/plain": [
       "HBox(children=(IntProgress(value=0, max=77), HTML(value='')))"
      ]
     },
     "metadata": {},
     "output_type": "display_data"
    },
    {
     "name": "stdout",
     "output_type": "stream",
     "text": [
      "91 0.00974789826432243 0.00974789826432243 22374.38265991211\n",
      "91 0.010148949251743034 0.010148949251743034 22406.559661865234\n",
      "91 0.010383063112385571 0.010383063112385571 22855.289611816406\n",
      "91 0.010356406593928114 0.010356406593928114 22815.703491210938\n",
      "91 0.010234709538053721 0.010234709538053721 22831.264038085938\n",
      "\n"
     ]
    },
    {
     "data": {
      "application/vnd.jupyter.widget-view+json": {
       "model_id": "5031e4529365419bb8b9f75e09ffb0f5",
       "version_major": 2,
       "version_minor": 0
      },
      "text/plain": [
       "HBox(children=(IntProgress(value=0, max=77), HTML(value='')))"
      ]
     },
     "metadata": {},
     "output_type": "display_data"
    },
    {
     "name": "stdout",
     "output_type": "stream",
     "text": [
      "92 0.009813624114030972 0.009813624114030972 22381.455017089844\n",
      "92 0.009829824120970443 0.009829824120970443 22302.36932373047\n",
      "92 0.010127968125743791 0.010127968125743791 22890.79864501953\n",
      "92 0.010292714112438262 0.010292714112438262 22961.039306640625\n",
      "92 0.010516004200326279 0.010516004200326279 22868.326293945312\n",
      "\n"
     ]
    },
    {
     "data": {
      "application/vnd.jupyter.widget-view+json": {
       "model_id": "233f242a4dba437da6b31eac2b5b77c7",
       "version_major": 2,
       "version_minor": 0
      },
      "text/plain": [
       "HBox(children=(IntProgress(value=0, max=77), HTML(value='')))"
      ]
     },
     "metadata": {},
     "output_type": "display_data"
    },
    {
     "name": "stdout",
     "output_type": "stream",
     "text": [
      "93 0.010254135326249525 0.010254135326249525 22470.219177246094\n",
      "93 0.010070401724078692 0.010070401724078692 22631.64520263672\n",
      "93 0.01067746827902738 0.01067746827902738 23152.922729492188\n",
      "93 0.010690086288377643 0.010690086288377643 23075.888671875\n",
      "93 0.009591320573235862 0.009591320573235862 23046.89581298828\n",
      "\n"
     ]
    },
    {
     "data": {
      "application/vnd.jupyter.widget-view+json": {
       "model_id": "5b054d31980b402e97a091bac74b44c7",
       "version_major": 2,
       "version_minor": 0
      },
      "text/plain": [
       "HBox(children=(IntProgress(value=0, max=77), HTML(value='')))"
      ]
     },
     "metadata": {},
     "output_type": "display_data"
    },
    {
     "name": "stdout",
     "output_type": "stream",
     "text": [
      "94 0.009018374592415057 0.009018374592415057 22550.295333862305\n",
      "94 0.008883405360393226 0.008883405360393226 22427.23796081543\n",
      "94 0.008852491853758693 0.008852491853758693 22952.185668945312\n",
      "94 0.009032389367348514 0.009032389367348514 23034.513244628906\n",
      "94 0.008884220704203472 0.008884220704203472 23026.03759765625\n",
      "\n"
     ]
    },
    {
     "data": {
      "application/vnd.jupyter.widget-view+json": {
       "model_id": "2e8cd506cd7a4989b153357ee92aae8d",
       "version_major": 2,
       "version_minor": 0
      },
      "text/plain": [
       "HBox(children=(IntProgress(value=0, max=77), HTML(value='')))"
      ]
     },
     "metadata": {},
     "output_type": "display_data"
    },
    {
     "name": "stdout",
     "output_type": "stream",
     "text": [
      "95 0.009084982695640065 0.009084982695640065 22609.85821533203\n",
      "95 0.009315035218605772 0.009315035218605772 22584.287963867188\n",
      "95 0.00920330939698033 0.00920330939698033 23041.27001953125\n",
      "95 0.00926892329880502 0.00926892329880502 23106.00701904297\n",
      "95 0.009902432168019004 0.009902432168019004 22670.67726135254\n",
      "\n"
     ]
    },
    {
     "data": {
      "application/vnd.jupyter.widget-view+json": {
       "model_id": "4988a42f379540a695f5a07e0b5aef1e",
       "version_major": 2,
       "version_minor": 0
      },
      "text/plain": [
       "HBox(children=(IntProgress(value=0, max=77), HTML(value='')))"
      ]
     },
     "metadata": {},
     "output_type": "display_data"
    },
    {
     "name": "stdout",
     "output_type": "stream",
     "text": [
      "96 0.010444142419146374 0.010444142419146374 22703.99592590332\n",
      "96 0.010521758609684184 0.010521758609684184 23217.3134765625\n",
      "96 0.009934966801665723 0.009934966801665723 23246.8681640625\n",
      "96 0.009782451423234306 0.009782451423234306 23151.23223876953\n",
      "\n"
     ]
    },
    {
     "data": {
      "application/vnd.jupyter.widget-view+json": {
       "model_id": "3279369218424b3090abf3f94c605137",
       "version_major": 2,
       "version_minor": 0
      },
      "text/plain": [
       "HBox(children=(IntProgress(value=0, max=77), HTML(value='')))"
      ]
     },
     "metadata": {},
     "output_type": "display_data"
    },
    {
     "name": "stdout",
     "output_type": "stream",
     "text": [
      "97 0.009849125330219977 0.009849125330219977 22581.23553466797\n",
      "97 0.009584860250470228 0.009584860250470228 22610.14483642578\n",
      "97 0.00992749999568332 0.00992749999568332 23118.811767578125\n",
      "97 0.01010588207282126 0.01010588207282126 23107.64031982422\n",
      "97 0.009887466265354306 0.009887466265354306 23154.89825439453\n",
      "\n"
     ]
    },
    {
     "data": {
      "application/vnd.jupyter.widget-view+json": {
       "model_id": "cde29c9e431d4537bfc8760ab8419b99",
       "version_major": 2,
       "version_minor": 0
      },
      "text/plain": [
       "HBox(children=(IntProgress(value=0, max=77), HTML(value='')))"
      ]
     },
     "metadata": {},
     "output_type": "display_data"
    },
    {
     "name": "stdout",
     "output_type": "stream",
     "text": [
      "98 0.009534616459859535 0.009534616459859535 22768.407669067383\n",
      "98 0.009666380297858268 0.009666380297858268 22718.892288208008\n",
      "98 0.010951786243822426 0.010951786243822426 23147.89794921875\n",
      "98 0.012675456033321097 0.012675456033321097 23136.78125\n",
      "98 0.014987253787694499 0.014987253787694499 23089.734985351562\n",
      "\n"
     ]
    },
    {
     "data": {
      "application/vnd.jupyter.widget-view+json": {
       "model_id": "ce51aef669bc45c191b087a7f0adb3af",
       "version_major": 2,
       "version_minor": 0
      },
      "text/plain": [
       "HBox(children=(IntProgress(value=0, max=77), HTML(value='')))"
      ]
     },
     "metadata": {},
     "output_type": "display_data"
    },
    {
     "name": "stdout",
     "output_type": "stream",
     "text": [
      "99 0.016173489042557776 0.016173489042557776 22669.01759338379\n",
      "99 0.014012153376825154 0.014012153376825154 22739.313247680664\n",
      "99 0.013207246665842831 0.013207246665842831 23201.572021484375\n",
      "99 0.012749610497849062 0.012749610497849062 23160.46319580078\n",
      "99 0.010679852886823937 0.010679852886823937 23058.788818359375\n",
      "\n",
      "\n"
     ]
    },
    {
     "data": {
      "application/vnd.jupyter.widget-view+json": {
       "model_id": "c9da090da7134921a052220c17284433",
       "version_major": 2,
       "version_minor": 0
      },
      "text/plain": [
       "HBox(children=(IntProgress(value=0), HTML(value='')))"
      ]
     },
     "metadata": {},
     "output_type": "display_data"
    },
    {
     "data": {
      "application/vnd.jupyter.widget-view+json": {
       "model_id": "fb7f9d68d40643cfbfda5f4787efa2b6",
       "version_major": 2,
       "version_minor": 0
      },
      "text/plain": [
       "HBox(children=(IntProgress(value=0, max=77), HTML(value='')))"
      ]
     },
     "metadata": {},
     "output_type": "display_data"
    },
    {
     "name": "stdout",
     "output_type": "stream",
     "text": [
      "0 0.01013790984870866 0.01013790984870866 23125.777465820312\n",
      "0 0.009822207037359476 0.009822207037359476 23109.004760742188\n",
      "0 0.009386780409840867 0.009386780409840867 23086.0341796875\n",
      "0 0.009533799762721173 0.009533799762721173 23054.643615722656\n",
      "\n"
     ]
    },
    {
     "data": {
      "application/vnd.jupyter.widget-view+json": {
       "model_id": "5d49c13181354e5db14417c3b836fb8d",
       "version_major": 2,
       "version_minor": 0
      },
      "text/plain": [
       "HBox(children=(IntProgress(value=0, max=77), HTML(value='')))"
      ]
     },
     "metadata": {},
     "output_type": "display_data"
    },
    {
     "name": "stdout",
     "output_type": "stream",
     "text": [
      "1 0.00971931176900398 0.00971931176900398 22558.991241455078\n",
      "1 0.009701224596938118 0.009701224596938118 22590.487091064453\n",
      "1 0.00937695222091861 0.00937695222091861 23118.60772705078\n",
      "1 0.009054337919224054 0.009054337919224054 23105.224975585938\n",
      "1 0.00916164179216139 0.00916164179216139 23126.80194091797\n",
      "\n"
     ]
    },
    {
     "data": {
      "application/vnd.jupyter.widget-view+json": {
       "model_id": "c0621c34202b43049dc94dcd6f50d202",
       "version_major": 2,
       "version_minor": 0
      },
      "text/plain": [
       "HBox(children=(IntProgress(value=0, max=77), HTML(value='')))"
      ]
     },
     "metadata": {},
     "output_type": "display_data"
    },
    {
     "name": "stdout",
     "output_type": "stream",
     "text": [
      "2 0.00922774788341485 0.00922774788341485 22716.157958984375\n",
      "2 0.009455084262299351 0.009455084262299351 22637.71014404297\n",
      "2 0.009370816216687672 0.009370816216687672 23148.788696289062\n",
      "2 0.009174962833640166 0.009174962833640166 23270.300170898438\n",
      "2 0.009112401719903573 0.009112401719903573 23331.93115234375\n",
      "\n"
     ]
    },
    {
     "data": {
      "application/vnd.jupyter.widget-view+json": {
       "model_id": "4d46e38a73c74375a39a8a4b50fe5970",
       "version_major": 2,
       "version_minor": 0
      },
      "text/plain": [
       "HBox(children=(IntProgress(value=0, max=77), HTML(value='')))"
      ]
     },
     "metadata": {},
     "output_type": "display_data"
    },
    {
     "name": "stdout",
     "output_type": "stream",
     "text": [
      "3 0.008921908083721064 0.008921908083721064 22780.662719726562\n",
      "3 0.00912688953394536 0.00912688953394536 22724.185302734375\n",
      "3 0.00969652431376744 0.00969652431376744 23304.550170898438\n",
      "3 0.009767518946318887 0.009767518946318887 23359.541076660156\n",
      "3 0.009492565266555175 0.009492565266555175 23291.137573242188\n",
      "\n"
     ]
    },
    {
     "data": {
      "application/vnd.jupyter.widget-view+json": {
       "model_id": "6ee50e35fefd439bb3aac9854bb43c6c",
       "version_major": 2,
       "version_minor": 0
      },
      "text/plain": [
       "HBox(children=(IntProgress(value=0, max=77), HTML(value='')))"
      ]
     },
     "metadata": {},
     "output_type": "display_data"
    },
    {
     "name": "stdout",
     "output_type": "stream",
     "text": [
      "4 0.009596946751116775 0.009596946751116775 22783.676971435547\n",
      "4 0.009815231838729233 0.009815231838729233 22792.31283569336\n",
      "4 0.009245307999663055 0.009245307999663055 23227.40155029297\n",
      "4 0.008775536130997352 0.008775536130997352 23254.15301513672\n",
      "4 0.009003190600196831 0.009003190600196831 23319.733764648438\n",
      "\n"
     ]
    },
    {
     "data": {
      "application/vnd.jupyter.widget-view+json": {
       "model_id": "60b101d8453d49ba9223a0496580c3ef",
       "version_major": 2,
       "version_minor": 0
      },
      "text/plain": [
       "HBox(children=(IntProgress(value=0, max=77), HTML(value='')))"
      ]
     },
     "metadata": {},
     "output_type": "display_data"
    },
    {
     "name": "stdout",
     "output_type": "stream",
     "text": [
      "5 0.009048940890352242 0.009048940890352242 22793.28387451172\n",
      "5 0.009005389976664446 0.009005389976664446 22789.555419921875\n",
      "5 0.009002223188872449 0.009002223188872449 23290.349853515625\n",
      "5 0.009192681376589462 0.009192681376589462 23347.388427734375\n",
      "\n"
     ]
    },
    {
     "data": {
      "application/vnd.jupyter.widget-view+json": {
       "model_id": "ac779c98ec504130b0537d57edf6e3a5",
       "version_major": 2,
       "version_minor": 0
      },
      "text/plain": [
       "HBox(children=(IntProgress(value=0, max=77), HTML(value='')))"
      ]
     },
     "metadata": {},
     "output_type": "display_data"
    },
    {
     "name": "stdout",
     "output_type": "stream",
     "text": [
      "6 0.00961852962791454 0.00961852962791454 23011.54818725586\n",
      "6 0.010155518946703523 0.010155518946703523 23014.34683227539\n",
      "6 0.010186313767917454 0.010186313767917454 23455.105041503906\n",
      "6 0.010243170312605798 0.010243170312605798 23427.32196044922\n",
      "6 0.010180864133872092 0.010180864133872092 23416.8798828125\n",
      "\n"
     ]
    },
    {
     "data": {
      "application/vnd.jupyter.widget-view+json": {
       "model_id": "4b989ccf49994662ac4b2f1fabb6d24c",
       "version_major": 2,
       "version_minor": 0
      },
      "text/plain": [
       "HBox(children=(IntProgress(value=0, max=77), HTML(value='')))"
      ]
     },
     "metadata": {},
     "output_type": "display_data"
    },
    {
     "name": "stdout",
     "output_type": "stream",
     "text": [
      "7 0.010446130821947008 0.010446130821947008 22931.133010864258\n",
      "7 0.010638577601639554 0.010638577601639554 22971.548294067383\n",
      "7 0.009562786275637336 0.009562786275637336 23398.146240234375\n",
      "7 0.008843349423841573 0.008843349423841573 23278.295776367188\n",
      "7 0.009109607068239711 0.009109607068239711 23348.805725097656\n",
      "\n"
     ]
    },
    {
     "data": {
      "application/vnd.jupyter.widget-view+json": {
       "model_id": "d70fcb700f3e45e0a41d8c37d19ab424",
       "version_major": 2,
       "version_minor": 0
      },
      "text/plain": [
       "HBox(children=(IntProgress(value=0, max=77), HTML(value='')))"
      ]
     },
     "metadata": {},
     "output_type": "display_data"
    },
    {
     "name": "stdout",
     "output_type": "stream",
     "text": [
      "8 0.009341693788883276 0.009341693788883276 22992.901000976562\n",
      "8 0.009286685555707663 0.009286685555707663 23017.1376953125\n",
      "8 0.009334928428870626 0.009334928428870626 23457.284545898438\n",
      "8 0.009187392774038017 0.009187392774038017 23423.848754882812\n",
      "8 0.009014193492475897 0.009014193492475897 23405.046813964844\n",
      "\n"
     ]
    },
    {
     "data": {
      "application/vnd.jupyter.widget-view+json": {
       "model_id": "f1b74133a73048a7b0d334c961e282be",
       "version_major": 2,
       "version_minor": 0
      },
      "text/plain": [
       "HBox(children=(IntProgress(value=0, max=77), HTML(value='')))"
      ]
     },
     "metadata": {},
     "output_type": "display_data"
    },
    {
     "name": "stdout",
     "output_type": "stream",
     "text": [
      "9 0.009168118791421875 0.009168118791421875 22936.45474243164\n",
      "9 0.009665029021562077 0.009665029021562077 22878.789825439453\n",
      "9 0.00937651190906763 0.00937651190906763 23300.24920654297\n",
      "9 0.008652711665490642 0.008652711665490642 23260.165771484375\n",
      "9 0.009031579887960106 0.009031579887960106 23295.374389648438\n",
      "\n"
     ]
    },
    {
     "data": {
      "application/vnd.jupyter.widget-view+json": {
       "model_id": "1e04b3be2a1e4165b98f503d88ddd9bf",
       "version_major": 2,
       "version_minor": 0
      },
      "text/plain": [
       "HBox(children=(IntProgress(value=0, max=77), HTML(value='')))"
      ]
     },
     "metadata": {},
     "output_type": "display_data"
    },
    {
     "name": "stdout",
     "output_type": "stream",
     "text": [
      "10 0.009315769901149906 0.009315769901149906 22904.31884765625\n",
      "10 0.009968953367206268 0.009968953367206268 22823.98828125\n",
      "10 0.010654560013790615 0.010654560013790615 23325.59033203125\n",
      "10 0.009968417856725864 0.009968417856725864 23458.269470214844\n",
      "\n"
     ]
    },
    {
     "data": {
      "application/vnd.jupyter.widget-view+json": {
       "model_id": "a8ec22143c144bef9212d142308a907d",
       "version_major": 2,
       "version_minor": 0
      },
      "text/plain": [
       "HBox(children=(IntProgress(value=0, max=77), HTML(value='')))"
      ]
     },
     "metadata": {},
     "output_type": "display_data"
    },
    {
     "name": "stdout",
     "output_type": "stream",
     "text": [
      "11 0.008704916253918782 0.008704916253918782 22959.270706176758\n",
      "11 0.008109565053018741 0.008109565053018741 22964.09230041504\n",
      "11 0.008684433123562485 0.008684433123562485 23439.52618408203\n",
      "11 0.009195369217195548 0.009195369217195548 23423.12225341797\n",
      "11 0.009455735416850075 0.009455735416850075 23436.40692138672\n",
      "\n"
     ]
    },
    {
     "data": {
      "application/vnd.jupyter.widget-view+json": {
       "model_id": "5d23a33ed6b34a688ab0ce2aa7c6e881",
       "version_major": 2,
       "version_minor": 0
      },
      "text/plain": [
       "HBox(children=(IntProgress(value=0, max=77), HTML(value='')))"
      ]
     },
     "metadata": {},
     "output_type": "display_data"
    },
    {
     "name": "stdout",
     "output_type": "stream",
     "text": [
      "12 0.0096200879488606 0.0096200879488606 22875.612915039062\n",
      "12 0.00950929566170089 0.00950929566170089 22889.65997314453\n",
      "12 0.009205550246406347 0.009205550246406347 23390.781616210938\n",
      "12 0.008689361289725639 0.008689361289725639 23405.322875976562\n",
      "12 0.008667858492117375 0.008667858492117375 23501.262451171875\n",
      "\n"
     ]
    },
    {
     "data": {
      "application/vnd.jupyter.widget-view+json": {
       "model_id": "d348a5b34d144fcebe92a32689dc9380",
       "version_major": 2,
       "version_minor": 0
      },
      "text/plain": [
       "HBox(children=(IntProgress(value=0, max=77), HTML(value='')))"
      ]
     },
     "metadata": {},
     "output_type": "display_data"
    },
    {
     "name": "stdout",
     "output_type": "stream",
     "text": [
      "13 0.009201760709402151 0.009201760709402151 23081.740264892578\n",
      "13 0.008878742693923414 0.008878742693923414 23035.791534423828\n",
      "13 0.008495663307257928 0.008495663307257928 23528.010864257812\n",
      "13 0.009106790355872363 0.009106790355872363 23476.280517578125\n",
      "13 0.009616209819796495 0.009616209819796495 23360.157592773438\n",
      "\n"
     ]
    },
    {
     "data": {
      "application/vnd.jupyter.widget-view+json": {
       "model_id": "e3cec9541ee446c8977c4f398f10fbf9",
       "version_major": 2,
       "version_minor": 0
      },
      "text/plain": [
       "HBox(children=(IntProgress(value=0, max=77), HTML(value='')))"
      ]
     },
     "metadata": {},
     "output_type": "display_data"
    },
    {
     "name": "stdout",
     "output_type": "stream",
     "text": [
      "14 0.009776589969987981 0.009776589969987981 22924.120483398438\n",
      "14 0.010007604418206029 0.010007604418206029 22927.195434570312\n",
      "14 0.010421052371384576 0.010421052371384576 23396.283081054688\n",
      "14 0.00992171443067491 0.00992171443067491 23422.89337158203\n",
      "14 0.009707920311484486 0.009707920311484486 23434.363037109375\n",
      "\n"
     ]
    },
    {
     "data": {
      "application/vnd.jupyter.widget-view+json": {
       "model_id": "67a8fff3715344bb90920998b4f42a1d",
       "version_major": 2,
       "version_minor": 0
      },
      "text/plain": [
       "HBox(children=(IntProgress(value=0, max=77), HTML(value='')))"
      ]
     },
     "metadata": {},
     "output_type": "display_data"
    },
    {
     "name": "stdout",
     "output_type": "stream",
     "text": [
      "15 0.00964690453838557 0.00964690453838557 22972.931060791016\n",
      "15 0.008871463549439795 0.008871463549439795 22916.91763305664\n",
      "15 0.008562460046960041 0.008562460046960041 23409.204040527344\n",
      "15 0.008614841281087138 0.008614841281087138 23438.456787109375\n",
      "15 0.009133587518590502 0.009133587518590502 22873.08367919922\n",
      "\n"
     ]
    },
    {
     "data": {
      "application/vnd.jupyter.widget-view+json": {
       "model_id": "7fd55686c65a4d2d9795119544a9ea8a",
       "version_major": 2,
       "version_minor": 0
      },
      "text/plain": [
       "HBox(children=(IntProgress(value=0, max=77), HTML(value='')))"
      ]
     },
     "metadata": {},
     "output_type": "display_data"
    },
    {
     "name": "stdout",
     "output_type": "stream",
     "text": [
      "16 0.009156076615909114 0.009156076615909114 22831.32830810547\n",
      "16 0.008723639344680123 0.008723639344680123 23370.55792236328\n",
      "16 0.009006434091133997 0.009006434091133997 23442.27001953125\n",
      "16 0.01404366284259595 0.01404366284259595 23467.064514160156\n",
      "\n"
     ]
    },
    {
     "data": {
      "application/vnd.jupyter.widget-view+json": {
       "model_id": "f794ebf41acd4b1bab337b2ce8adc2c4",
       "version_major": 2,
       "version_minor": 0
      },
      "text/plain": [
       "HBox(children=(IntProgress(value=0, max=77), HTML(value='')))"
      ]
     },
     "metadata": {},
     "output_type": "display_data"
    },
    {
     "name": "stdout",
     "output_type": "stream",
     "text": [
      "17 0.018422247550915927 0.018422247550915927 23005.58642578125\n",
      "17 0.016314870765199885 0.016314870765199885 22979.81915283203\n",
      "17 0.013028394605498761 0.013028394605498761 23351.868225097656\n",
      "17 0.011066369188483804 0.011066369188483804 23361.125122070312\n",
      "17 0.011177910171682015 0.011177910171682015 23400.87481689453\n",
      "\n"
     ]
    },
    {
     "data": {
      "application/vnd.jupyter.widget-view+json": {
       "model_id": "391afc0534a6429097f64e6d40e3d218",
       "version_major": 2,
       "version_minor": 0
      },
      "text/plain": [
       "HBox(children=(IntProgress(value=0, max=77), HTML(value='')))"
      ]
     },
     "metadata": {},
     "output_type": "display_data"
    },
    {
     "name": "stdout",
     "output_type": "stream",
     "text": [
      "18 0.012669112387811765 0.012669112387811765 22897.048416137695\n",
      "18 0.013012470735702664 0.013012470735702664 22898.92610168457\n",
      "18 0.013549855415476486 0.013549855415476486 23366.246154785156\n",
      "18 0.013395070534897968 0.013395070534897968 23372.766052246094\n",
      "18 0.011172346479725093 0.011172346479725093 23445.425903320312\n",
      "\n"
     ]
    },
    {
     "data": {
      "application/vnd.jupyter.widget-view+json": {
       "model_id": "bf80367265a34f57afbe4f8c16fae109",
       "version_major": 2,
       "version_minor": 0
      },
      "text/plain": [
       "HBox(children=(IntProgress(value=0, max=77), HTML(value='')))"
      ]
     },
     "metadata": {},
     "output_type": "display_data"
    },
    {
     "name": "stdout",
     "output_type": "stream",
     "text": [
      "19 0.010759392782347277 0.010759392782347277 23011.805267333984\n",
      "19 0.013282334140967578 0.013282334140967578 23051.783966064453\n",
      "19 0.012617777902050875 0.012617777902050875 23494.161254882812\n",
      "19 0.009309570261393674 0.009309570261393674 23498.65643310547\n",
      "19 0.008804311699350365 0.008804311699350365 23576.32196044922\n",
      "\n"
     ]
    },
    {
     "data": {
      "application/vnd.jupyter.widget-view+json": {
       "model_id": "ae957af7a82d4dc18ef145c9ef80be09",
       "version_major": 2,
       "version_minor": 0
      },
      "text/plain": [
       "HBox(children=(IntProgress(value=0, max=77), HTML(value='')))"
      ]
     },
     "metadata": {},
     "output_type": "display_data"
    },
    {
     "name": "stdout",
     "output_type": "stream",
     "text": [
      "20 0.00896068976726383 0.00896068976726383 23045.517211914062\n",
      "20 0.00856728048529476 0.00856728048529476 23001.96221923828\n",
      "20 0.009248150789062493 0.009248150789062493 23499.632873535156\n",
      "20 0.01291651901556179 0.01291651901556179 23531.760986328125\n",
      "20 0.014111233176663518 0.014111233176663518 23573.170349121094\n",
      "\n"
     ]
    },
    {
     "data": {
      "application/vnd.jupyter.widget-view+json": {
       "model_id": "4c91f5e88ced472389634d41075c4f15",
       "version_major": 2,
       "version_minor": 0
      },
      "text/plain": [
       "HBox(children=(IntProgress(value=0, max=77), HTML(value='')))"
      ]
     },
     "metadata": {},
     "output_type": "display_data"
    },
    {
     "name": "stdout",
     "output_type": "stream",
     "text": [
      "21 0.011352726156474091 0.011352726156474091 23116.728637695312\n",
      "21 0.009674022076069377 0.009674022076069377 23106.83526611328\n",
      "21 0.009152839178568684 0.009152839178568684 23596.60430908203\n",
      "21 0.008727502296096645 0.008727502296096645 23600.34832763672\n",
      "\n"
     ]
    },
    {
     "data": {
      "application/vnd.jupyter.widget-view+json": {
       "model_id": "7824773cffc94cb0813865d752dab40d",
       "version_major": 2,
       "version_minor": 0
      },
      "text/plain": [
       "HBox(children=(IntProgress(value=0, max=77), HTML(value='')))"
      ]
     },
     "metadata": {},
     "output_type": "display_data"
    },
    {
     "name": "stdout",
     "output_type": "stream",
     "text": [
      "22 0.00907150593411643 0.00907150593411643 23111.345733642578\n",
      "22 0.009783789981156588 0.009783789981156588 23133.588287353516\n",
      "22 0.008852578277583234 0.008852578277583234 23546.553833007812\n",
      "22 0.007997884444193915 0.007997884444193915 23481.027954101562\n",
      "22 0.008115211254335009 0.008115211254335009 23441.359008789062\n",
      "\n"
     ]
    },
    {
     "data": {
      "application/vnd.jupyter.widget-view+json": {
       "model_id": "b373b248986c454a9b66f6de9d881462",
       "version_major": 2,
       "version_minor": 0
      },
      "text/plain": [
       "HBox(children=(IntProgress(value=0, max=77), HTML(value='')))"
      ]
     },
     "metadata": {},
     "output_type": "display_data"
    },
    {
     "name": "stdout",
     "output_type": "stream",
     "text": [
      "23 0.00825681556307245 0.00825681556307245 22895.69223022461\n",
      "23 0.009141081216512248 0.009141081216512248 22959.644500732422\n",
      "23 0.009278255165554583 0.009278255165554583 23519.883361816406\n",
      "23 0.008528223508619703 0.008528223508619703 23564.90087890625\n",
      "23 0.008393890471779741 0.008393890471779741 23537.697631835938\n",
      "\n"
     ]
    },
    {
     "data": {
      "application/vnd.jupyter.widget-view+json": {
       "model_id": "02eccee9d8d742148b6c7f446c17bb37",
       "version_major": 2,
       "version_minor": 0
      },
      "text/plain": [
       "HBox(children=(IntProgress(value=0, max=77), HTML(value='')))"
      ]
     },
     "metadata": {},
     "output_type": "display_data"
    },
    {
     "name": "stdout",
     "output_type": "stream",
     "text": [
      "24 0.008649844879982993 0.008649844879982993 23069.364227294922\n",
      "24 0.008364899433217943 0.008364899433217943 23157.380645751953\n",
      "24 0.007640149618964642 0.007640149618964642 23613.904296875\n",
      "24 0.007803707441780716 0.007803707441780716 23545.85107421875\n",
      "24 0.00810712891689036 0.00810712891689036 23543.98455810547\n",
      "\n"
     ]
    },
    {
     "data": {
      "application/vnd.jupyter.widget-view+json": {
       "model_id": "e43d64a71db14e0d9579d7c46f7248c4",
       "version_major": 2,
       "version_minor": 0
      },
      "text/plain": [
       "HBox(children=(IntProgress(value=0, max=77), HTML(value='')))"
      ]
     },
     "metadata": {},
     "output_type": "display_data"
    },
    {
     "name": "stdout",
     "output_type": "stream",
     "text": [
      "25 0.007879137381678447 0.007879137381678447 23010.528900146484\n",
      "25 0.007919207550003193 0.007919207550003193 23009.572967529297\n",
      "25 0.007826034299796447 0.007826034299796447 23581.50323486328\n",
      "25 0.007829919835785404 0.007829919835785404 23586.20751953125\n",
      "25 0.008200079784728587 0.008200079784728587 23656.451049804688\n",
      "\n"
     ]
    },
    {
     "data": {
      "application/vnd.jupyter.widget-view+json": {
       "model_id": "5933715e3f204a768bd12964f3a70583",
       "version_major": 2,
       "version_minor": 0
      },
      "text/plain": [
       "HBox(children=(IntProgress(value=0, max=77), HTML(value='')))"
      ]
     },
     "metadata": {},
     "output_type": "display_data"
    },
    {
     "name": "stdout",
     "output_type": "stream",
     "text": [
      "26 0.008623292931588367 0.008623292931588367 23243.55322265625\n",
      "26 0.008670026436448097 0.008670026436448097 23134.587036132812\n",
      "26 0.008224242585129105 0.008224242585129105 23565.022033691406\n",
      "26 0.00801753465202637 0.00801753465202637 23563.135375976562\n",
      "\n"
     ]
    },
    {
     "data": {
      "application/vnd.jupyter.widget-view+json": {
       "model_id": "05f39f4c7e2442eaa5d602fff877dc64",
       "version_major": 2,
       "version_minor": 0
      },
      "text/plain": [
       "HBox(children=(IntProgress(value=0, max=77), HTML(value='')))"
      ]
     },
     "metadata": {},
     "output_type": "display_data"
    },
    {
     "name": "stdout",
     "output_type": "stream",
     "text": [
      "27 0.008645882597193122 0.008645882597193122 23090.428802490234\n",
      "27 0.009482980545726605 0.009482980545726605 23106.589752197266\n",
      "27 0.009482158493483439 0.009482158493483439 23503.412963867188\n",
      "27 0.008740770877921022 0.008740770877921022 23562.7880859375\n",
      "27 0.008116195662296377 0.008116195662296377 23564.5654296875\n",
      "\n"
     ]
    },
    {
     "data": {
      "application/vnd.jupyter.widget-view+json": {
       "model_id": "08e3473fc94f4289872777622040aa02",
       "version_major": 2,
       "version_minor": 0
      },
      "text/plain": [
       "HBox(children=(IntProgress(value=0, max=77), HTML(value='')))"
      ]
     },
     "metadata": {},
     "output_type": "display_data"
    },
    {
     "name": "stdout",
     "output_type": "stream",
     "text": [
      "28 0.008325653339852579 0.008325653339852579 22975.560485839844\n",
      "28 0.008506987011060119 0.008506987011060119 23018.797973632812\n",
      "28 0.008636064405436628 0.008636064405436628 23476.46063232422\n",
      "28 0.0085909547196934 0.0085909547196934 23475.192260742188\n",
      "28 0.008889225326129235 0.008889225326129235 23483.21337890625\n",
      "\n"
     ]
    },
    {
     "data": {
      "application/vnd.jupyter.widget-view+json": {
       "model_id": "7280c9948f154b6ea76895d080aa5819",
       "version_major": 2,
       "version_minor": 0
      },
      "text/plain": [
       "HBox(children=(IntProgress(value=0, max=77), HTML(value='')))"
      ]
     },
     "metadata": {},
     "output_type": "display_data"
    },
    {
     "name": "stdout",
     "output_type": "stream",
     "text": [
      "29 0.009111819585086778 0.009111819585086778 23013.903106689453\n",
      "29 0.008859642228344455 0.008859642228344455 23051.17495727539\n",
      "29 0.009599824625183828 0.009599824625183828 23545.933959960938\n",
      "29 0.011057099254685454 0.011057099254685454 23556.599487304688\n",
      "29 0.011243357235798612 0.011243357235798612 23526.83319091797\n",
      "\n"
     ]
    },
    {
     "data": {
      "application/vnd.jupyter.widget-view+json": {
       "model_id": "0debe8eb4d19402c84ac827e02f66072",
       "version_major": 2,
       "version_minor": 0
      },
      "text/plain": [
       "HBox(children=(IntProgress(value=0, max=77), HTML(value='')))"
      ]
     },
     "metadata": {},
     "output_type": "display_data"
    },
    {
     "name": "stdout",
     "output_type": "stream",
     "text": [
      "30 0.010271681792801246 0.010271681792801246 23050.641662597656\n",
      "30 0.010000296490034088 0.010000296490034088 23131.810485839844\n",
      "30 0.01487192598870024 0.01487192598870024 23620.308166503906\n",
      "30 0.01727701525669545 0.01727701525669545 23516.422729492188\n",
      "30 0.013609180750790983 0.013609180750790983 23480.820861816406\n",
      "\n"
     ]
    },
    {
     "data": {
      "application/vnd.jupyter.widget-view+json": {
       "model_id": "0f3a94a6a7d14b22be01343193422244",
       "version_major": 2,
       "version_minor": 0
      },
      "text/plain": [
       "HBox(children=(IntProgress(value=0, max=77), HTML(value='')))"
      ]
     },
     "metadata": {},
     "output_type": "display_data"
    },
    {
     "name": "stdout",
     "output_type": "stream",
     "text": [
      "31 0.011586337990593165 0.011586337990593165 23076.31591796875\n",
      "31 0.010017094478826039 0.010017094478826039 23161.8896484375\n",
      "31 0.0090481639635982 0.0090481639635982 23635.67462158203\n",
      "31 0.00843487263773568 0.00843487263773568 23692.68701171875\n",
      "31 0.00787599541945383 0.00787599541945383 23302.486419677734\n",
      "\n"
     ]
    },
    {
     "data": {
      "application/vnd.jupyter.widget-view+json": {
       "model_id": "704b5676981f4b94825ae0c9f9ef801c",
       "version_major": 2,
       "version_minor": 0
      },
      "text/plain": [
       "HBox(children=(IntProgress(value=0, max=77), HTML(value='')))"
      ]
     },
     "metadata": {},
     "output_type": "display_data"
    },
    {
     "name": "stdout",
     "output_type": "stream",
     "text": [
      "32 0.007689582023886032 0.007689582023886032 23322.94497680664\n",
      "32 0.007868250293540768 0.007868250293540768 23810.042846679688\n",
      "32 0.008816745277727023 0.008816745277727023 23837.048278808594\n",
      "32 0.010002244904171675 0.010002244904171675 23938.656005859375\n",
      "\n"
     ]
    },
    {
     "data": {
      "application/vnd.jupyter.widget-view+json": {
       "model_id": "579d71faf42a40e19d7b3a269824e42a",
       "version_major": 2,
       "version_minor": 0
      },
      "text/plain": [
       "HBox(children=(IntProgress(value=0, max=77), HTML(value='')))"
      ]
     },
     "metadata": {},
     "output_type": "display_data"
    },
    {
     "name": "stdout",
     "output_type": "stream",
     "text": [
      "33 0.010611061326926574 0.010611061326926574 23522.598754882812\n",
      "33 0.010473891146830283 0.010473891146830283 23416.821044921875\n",
      "33 0.009842122730333358 0.009842122730333358 23814.025024414062\n",
      "33 0.009242590793292038 0.009242590793292038 23833.990295410156\n",
      "33 0.009441324567887932 0.009441324567887932 23861.732788085938\n",
      "\n"
     ]
    },
    {
     "data": {
      "application/vnd.jupyter.widget-view+json": {
       "model_id": "aa60254abcf54125903b63cf59fffcfe",
       "version_major": 2,
       "version_minor": 0
      },
      "text/plain": [
       "HBox(children=(IntProgress(value=0, max=77), HTML(value='')))"
      ]
     },
     "metadata": {},
     "output_type": "display_data"
    },
    {
     "name": "stdout",
     "output_type": "stream",
     "text": [
      "34 0.009645856625866145 0.009645856625866145 23430.456420898438\n",
      "34 0.009360687210573815 0.009360687210573815 23378.646606445312\n",
      "34 0.009318418611655943 0.009318418611655943 23809.446166992188\n",
      "34 0.009285899650421925 0.009285899650421925 23816.50518798828\n",
      "34 0.009156492509646341 0.009156492509646341 23754.144653320312\n",
      "\n"
     ]
    },
    {
     "data": {
      "application/vnd.jupyter.widget-view+json": {
       "model_id": "e5789edd5d774052823d57cb3267117c",
       "version_major": 2,
       "version_minor": 0
      },
      "text/plain": [
       "HBox(children=(IntProgress(value=0, max=77), HTML(value='')))"
      ]
     },
     "metadata": {},
     "output_type": "display_data"
    },
    {
     "name": "stdout",
     "output_type": "stream",
     "text": [
      "35 0.008906904273317195 0.008906904273317195 23314.392822265625\n",
      "35 0.009113576321396977 0.009113576321396977 23406.95782470703\n",
      "35 0.009176100633339956 0.009176100633339956 23893.16278076172\n",
      "35 0.008823751544696279 0.008823751544696279 23896.584106445312\n",
      "35 0.008881695626769215 0.008881695626769215 23935.581909179688\n",
      "\n"
     ]
    },
    {
     "data": {
      "application/vnd.jupyter.widget-view+json": {
       "model_id": "33565ed46b5d4fd2914c8ad7e53c536a",
       "version_major": 2,
       "version_minor": 0
      },
      "text/plain": [
       "HBox(children=(IntProgress(value=0, max=77), HTML(value='')))"
      ]
     },
     "metadata": {},
     "output_type": "display_data"
    },
    {
     "name": "stdout",
     "output_type": "stream",
     "text": [
      "36 0.008656180274556391 0.008656180274556391 23463.9833984375\n",
      "36 0.008435765834292397 0.008435765834292397 23475.762084960938\n",
      "36 0.008447998217889108 0.008447998217889108 24049.42578125\n",
      "36 0.008581088608480059 0.008581088608480059 23990.093627929688\n",
      "36 0.009005187297589146 0.009005187297589146 24011.892822265625\n",
      "\n"
     ]
    },
    {
     "data": {
      "application/vnd.jupyter.widget-view+json": {
       "model_id": "08afea3c6109452f8ed520df939962cd",
       "version_major": 2,
       "version_minor": 0
      },
      "text/plain": [
       "HBox(children=(IntProgress(value=0, max=77), HTML(value='')))"
      ]
     },
     "metadata": {},
     "output_type": "display_data"
    },
    {
     "name": "stdout",
     "output_type": "stream",
     "text": [
      "37 0.008585347110056318 0.008585347110056318 23641.713836669922\n",
      "37 0.008186480787117034 0.008186480787117034 23554.466278076172\n",
      "37 0.011218923857086338 0.011218923857086338 24030.983337402344\n",
      "37 0.01304798795899842 0.01304798795899842 24049.580993652344\n",
      "\n"
     ]
    },
    {
     "data": {
      "application/vnd.jupyter.widget-view+json": {
       "model_id": "3dd5f0a1ba8a42009d3876f056c2ded8",
       "version_major": 2,
       "version_minor": 0
      },
      "text/plain": [
       "HBox(children=(IntProgress(value=0, max=77), HTML(value='')))"
      ]
     },
     "metadata": {},
     "output_type": "display_data"
    },
    {
     "name": "stdout",
     "output_type": "stream",
     "text": [
      "38 0.010374188583227806 0.010374188583227806 23560.807250976562\n",
      "38 0.008365614994545467 0.008365614994545467 23641.790588378906\n",
      "38 0.008140016347169876 0.008140016347169876 24152.695556640625\n",
      "38 0.007924483681563288 0.007924483681563288 24106.051818847656\n",
      "38 0.0073738518403843045 0.0073738518403843045 24061.690185546875\n",
      "\n"
     ]
    },
    {
     "data": {
      "application/vnd.jupyter.widget-view+json": {
       "model_id": "9986762d6d6d4c0f958d0fd23df754cd",
       "version_major": 2,
       "version_minor": 0
      },
      "text/plain": [
       "HBox(children=(IntProgress(value=0, max=77), HTML(value='')))"
      ]
     },
     "metadata": {},
     "output_type": "display_data"
    },
    {
     "name": "stdout",
     "output_type": "stream",
     "text": [
      "39 0.007712544436799362 0.007712544436799362 23559.92758178711\n",
      "39 0.008424367581028491 0.008424367581028491 23553.46499633789\n",
      "39 0.00839207714307122 0.00839207714307122 24112.450622558594\n",
      "39 0.008082782253040932 0.008082782253040932 24175.68359375\n",
      "39 0.0083365851896815 0.0083365851896815 24096.84600830078\n",
      "\n"
     ]
    },
    {
     "data": {
      "application/vnd.jupyter.widget-view+json": {
       "model_id": "b26c57894adc4aae9fe34b5db79c5a76",
       "version_major": 2,
       "version_minor": 0
      },
      "text/plain": [
       "HBox(children=(IntProgress(value=0, max=77), HTML(value='')))"
      ]
     },
     "metadata": {},
     "output_type": "display_data"
    },
    {
     "name": "stdout",
     "output_type": "stream",
     "text": [
      "40 0.008862304253852926 0.008862304253852926 23637.802764892578\n",
      "40 0.009119213165831752 0.009119213165831752 23711.130889892578\n",
      "40 0.009113952371990308 0.009113952371990308 24153.982482910156\n",
      "40 0.008317104016896337 0.008317104016896337 24163.470092773438\n",
      "40 0.007809808434103616 0.007809808434103616 24073.76629638672\n",
      "\n"
     ]
    },
    {
     "data": {
      "application/vnd.jupyter.widget-view+json": {
       "model_id": "b906fb0237b04d63b948f3ec88437139",
       "version_major": 2,
       "version_minor": 0
      },
      "text/plain": [
       "HBox(children=(IntProgress(value=0, max=77), HTML(value='')))"
      ]
     },
     "metadata": {},
     "output_type": "display_data"
    },
    {
     "name": "stdout",
     "output_type": "stream",
     "text": [
      "41 0.008146108157234266 0.008146108157234266 23544.288696289062\n",
      "41 0.008613800411694683 0.008613800411694683 23589.730834960938\n",
      "41 0.008636680839117616 0.008636680839117616 24085.268920898438\n",
      "41 0.008128598186885938 0.008128598186885938 24122.52276611328\n",
      "41 0.008367358837858774 0.008367358837858774 24224.53875732422\n",
      "\n"
     ]
    },
    {
     "data": {
      "application/vnd.jupyter.widget-view+json": {
       "model_id": "88f752b3424d4bbdbb00cf4ef121a965",
       "version_major": 2,
       "version_minor": 0
      },
      "text/plain": [
       "HBox(children=(IntProgress(value=0, max=77), HTML(value='')))"
      ]
     },
     "metadata": {},
     "output_type": "display_data"
    },
    {
     "name": "stdout",
     "output_type": "stream",
     "text": [
      "42 0.00890440188231878 0.00890440188231878 23764.240112304688\n",
      "42 0.00881871058663819 0.00881871058663819 23716.631713867188\n",
      "42 0.008585666597355157 0.008585666597355157 24203.37158203125\n",
      "42 0.00834188844601158 0.00834188844601158 24182.25457763672\n",
      "\n"
     ]
    },
    {
     "data": {
      "application/vnd.jupyter.widget-view+json": {
       "model_id": "18365ec5cb7347eca6bda5c09a2cb84e",
       "version_major": 2,
       "version_minor": 0
      },
      "text/plain": [
       "HBox(children=(IntProgress(value=0, max=77), HTML(value='')))"
      ]
     },
     "metadata": {},
     "output_type": "display_data"
    },
    {
     "name": "stdout",
     "output_type": "stream",
     "text": [
      "43 0.008094937686109915 0.008094937686109915 23654.394409179688\n",
      "43 0.00806105459923856 0.00806105459923856 23579.953491210938\n",
      "43 0.008170012719347142 0.008170012719347142 24117.991760253906\n",
      "43 0.008240504801506177 0.008240504801506177 24247.88555908203\n",
      "43 0.008330356271471828 0.008330356271471828 24128.41192626953\n",
      "\n"
     ]
    },
    {
     "data": {
      "application/vnd.jupyter.widget-view+json": {
       "model_id": "daafd5c9b4a54b5b8e717dcc57c9fcff",
       "version_major": 2,
       "version_minor": 0
      },
      "text/plain": [
       "HBox(children=(IntProgress(value=0, max=77), HTML(value='')))"
      ]
     },
     "metadata": {},
     "output_type": "display_data"
    },
    {
     "name": "stdout",
     "output_type": "stream",
     "text": [
      "44 0.008143294922774658 0.008143294922774658 23582.417022705078\n",
      "44 0.007959306822158396 0.007959306822158396 23714.326263427734\n",
      "44 0.007957555761095136 0.007957555761095136 24195.589111328125\n",
      "44 0.007890748311183415 0.007890748311183415 24160.666381835938\n",
      "44 0.00837640863028355 0.00837640863028355 24121.15753173828\n",
      "\n"
     ]
    },
    {
     "data": {
      "application/vnd.jupyter.widget-view+json": {
       "model_id": "43ad7d02de034f58b64e44e68f137a15",
       "version_major": 2,
       "version_minor": 0
      },
      "text/plain": [
       "HBox(children=(IntProgress(value=0, max=77), HTML(value='')))"
      ]
     },
     "metadata": {},
     "output_type": "display_data"
    },
    {
     "name": "stdout",
     "output_type": "stream",
     "text": [
      "45 0.008378728583920747 0.008378728583920747 23627.13833618164\n",
      "45 0.008838291731080972 0.008838291731080972 23528.102630615234\n",
      "45 0.0114348894712748 0.0114348894712748 23985.388793945312\n",
      "45 0.0123746335884789 0.0123746335884789 24084.446655273438\n",
      "45 0.011724737778422423 0.011724737778422423 24151.891357421875\n",
      "\n"
     ]
    },
    {
     "data": {
      "application/vnd.jupyter.widget-view+json": {
       "model_id": "1cd5db9f15494da9951ea57c8c5d74c9",
       "version_major": 2,
       "version_minor": 0
      },
      "text/plain": [
       "HBox(children=(IntProgress(value=0, max=77), HTML(value='')))"
      ]
     },
     "metadata": {},
     "output_type": "display_data"
    },
    {
     "name": "stdout",
     "output_type": "stream",
     "text": [
      "46 0.01183269708417356 0.01183269708417356 23695.60531616211\n",
      "46 0.011217105115065351 0.011217105115065351 23615.411163330078\n",
      "46 0.010523259246838279 0.010523259246838279 24063.241333007812\n",
      "46 0.010734222407336347 0.010734222407336347 24104.98895263672\n",
      "46 0.010723386571044102 0.010723386571044102 24072.94757080078\n",
      "\n"
     ]
    },
    {
     "data": {
      "application/vnd.jupyter.widget-view+json": {
       "model_id": "de390050178f427cbbf7fbd85a412bb4",
       "version_major": 2,
       "version_minor": 0
      },
      "text/plain": [
       "HBox(children=(IntProgress(value=0, max=77), HTML(value='')))"
      ]
     },
     "metadata": {},
     "output_type": "display_data"
    },
    {
     "name": "stdout",
     "output_type": "stream",
     "text": [
      "47 0.010523855831706896 0.010523855831706896 23517.377655029297\n",
      "47 0.010265189659548923 0.010265189659548923 23653.280670166016\n",
      "47 0.009651798056438565 0.009651798056438565 24243.25665283203\n",
      "47 0.009255497105186805 0.009255497105186805 24152.66046142578\n",
      "47 0.008976525321486406 0.008976525321486406 23607.869873046875\n",
      "\n"
     ]
    },
    {
     "data": {
      "application/vnd.jupyter.widget-view+json": {
       "model_id": "cdac850ccc6145bf868f658dafb86764",
       "version_major": 2,
       "version_minor": 0
      },
      "text/plain": [
       "HBox(children=(IntProgress(value=0, max=77), HTML(value='')))"
      ]
     },
     "metadata": {},
     "output_type": "display_data"
    },
    {
     "name": "stdout",
     "output_type": "stream",
     "text": [
      "48 0.008465141625492834 0.008465141625492834 23622.902709960938\n",
      "48 0.007807666654116474 0.007807666654116474 24139.93212890625\n",
      "48 0.007492286880733445 0.007492286880733445 24118.572509765625\n",
      "48 0.007412337246933021 0.007412337246933021 24156.98370361328\n",
      "\n"
     ]
    },
    {
     "data": {
      "application/vnd.jupyter.widget-view+json": {
       "model_id": "0ab1b84dbe4447749fbf4a2653c01cef",
       "version_major": 2,
       "version_minor": 0
      },
      "text/plain": [
       "HBox(children=(IntProgress(value=0, max=77), HTML(value='')))"
      ]
     },
     "metadata": {},
     "output_type": "display_data"
    },
    {
     "name": "stdout",
     "output_type": "stream",
     "text": [
      "49 0.007670810620766133 0.007670810620766133 23762.865295410156\n",
      "49 0.007756089777103625 0.007756089777103625 23806.3525390625\n",
      "49 0.00733882311033085 0.00733882311033085 24204.097045898438\n",
      "49 0.007429920733557083 0.007429920733557083 24093.28564453125\n",
      "49 0.007925227051600814 0.007925227051600814 24041.62957763672\n",
      "\n"
     ]
    },
    {
     "data": {
      "application/vnd.jupyter.widget-view+json": {
       "model_id": "460b6564a6df4da097fa88639be7ad56",
       "version_major": 2,
       "version_minor": 0
      },
      "text/plain": [
       "HBox(children=(IntProgress(value=0, max=77), HTML(value='')))"
      ]
     },
     "metadata": {},
     "output_type": "display_data"
    },
    {
     "name": "stdout",
     "output_type": "stream",
     "text": [
      "50 0.009115691238548607 0.009115691238548607 23635.411590576172\n",
      "50 0.008831912899040617 0.008831912899040617 23630.11489868164\n",
      "50 0.007740595217910595 0.007740595217910595 24132.65301513672\n",
      "50 0.007944550001411699 0.007944550001411699 24321.74981689453\n",
      "50 0.008059794650762342 0.008059794650762342 24219.077514648438\n",
      "\n"
     ]
    },
    {
     "data": {
      "application/vnd.jupyter.widget-view+json": {
       "model_id": "971a1a2864a743788e8b5feb79010c0e",
       "version_major": 2,
       "version_minor": 0
      },
      "text/plain": [
       "HBox(children=(IntProgress(value=0, max=77), HTML(value='')))"
      ]
     },
     "metadata": {},
     "output_type": "display_data"
    },
    {
     "name": "stdout",
     "output_type": "stream",
     "text": [
      "51 0.007991072721779346 0.007991072721779346 23593.606903076172\n",
      "51 0.007776662154356018 0.007776662154356018 23623.070220947266\n",
      "51 0.007474541445844807 0.007474541445844807 24105.791137695312\n",
      "51 0.007643892240594141 0.007643892240594141 24152.985717773438\n",
      "51 0.007946439800434746 0.007946439800434746 24123.04052734375\n",
      "\n"
     ]
    },
    {
     "data": {
      "application/vnd.jupyter.widget-view+json": {
       "model_id": "cab0635ed8aa4968ac3c688204b436ae",
       "version_major": 2,
       "version_minor": 0
      },
      "text/plain": [
       "HBox(children=(IntProgress(value=0, max=77), HTML(value='')))"
      ]
     },
     "metadata": {},
     "output_type": "display_data"
    },
    {
     "name": "stdout",
     "output_type": "stream",
     "text": [
      "52 0.008730930654564872 0.008730930654564872 23565.104568481445\n",
      "52 0.009288084533181973 0.009288084533181973 23654.998916625977\n",
      "52 0.008132638657116331 0.008132638657116331 24267.728515625\n",
      "52 0.008408821842749603 0.008408821842749603 24312.301330566406\n",
      "52 0.008928462149924599 0.008928462149924599 24261.826293945312\n",
      "\n"
     ]
    },
    {
     "data": {
      "application/vnd.jupyter.widget-view+json": {
       "model_id": "08981d5e0c174603b17e1c7a280f63b9",
       "version_major": 2,
       "version_minor": 0
      },
      "text/plain": [
       "HBox(children=(IntProgress(value=0, max=77), HTML(value='')))"
      ]
     },
     "metadata": {},
     "output_type": "display_data"
    },
    {
     "name": "stdout",
     "output_type": "stream",
     "text": [
      "53 0.007459766871761531 0.007459766871761531 23777.05694580078\n",
      "53 0.006789906139601953 0.006789906139601953 23780.09210205078\n",
      "53 0.007660527364350855 0.007660527364350855 24142.397338867188\n",
      "53 0.008976595068816096 0.008976595068816096 24126.77667236328\n",
      "\n"
     ]
    },
    {
     "data": {
      "application/vnd.jupyter.widget-view+json": {
       "model_id": "d802c25dc57f4dcca24d71ea0333a64a",
       "version_major": 2,
       "version_minor": 0
      },
      "text/plain": [
       "HBox(children=(IntProgress(value=0, max=77), HTML(value='')))"
      ]
     },
     "metadata": {},
     "output_type": "display_data"
    },
    {
     "name": "stdout",
     "output_type": "stream",
     "text": [
      "54 0.008571458965889178 0.008571458965889178 23677.960021972656\n",
      "54 0.007214466226287186 0.007214466226287186 23659.656799316406\n",
      "54 0.007406909120618366 0.007406909120618366 24182.348876953125\n",
      "54 0.009533737596939318 0.009533737596939318 24267.30517578125\n",
      "54 0.009034046059241518 0.009034046059241518 24376.269592285156\n",
      "\n"
     ]
    },
    {
     "data": {
      "application/vnd.jupyter.widget-view+json": {
       "model_id": "e0a096cefc5048909b40a55278a8eb3c",
       "version_major": 2,
       "version_minor": 0
      },
      "text/plain": [
       "HBox(children=(IntProgress(value=0, max=77), HTML(value='')))"
      ]
     },
     "metadata": {},
     "output_type": "display_data"
    },
    {
     "name": "stdout",
     "output_type": "stream",
     "text": [
      "55 0.0071408546064049006 0.0071408546064049006 23772.793395996094\n",
      "55 0.009500251500867307 0.009500251500867307 23843.91387939453\n",
      "55 0.017465020835516043 0.017465020835516043 24497.100158691406\n",
      "55 0.02172968751983717 0.02172968751983717 24409.35595703125\n",
      "55 0.01885170445893891 0.01885170445893891 24355.17803955078\n",
      "\n"
     ]
    },
    {
     "data": {
      "application/vnd.jupyter.widget-view+json": {
       "model_id": "1ffc25b21f134b9eb45ab91d8175e73e",
       "version_major": 2,
       "version_minor": 0
      },
      "text/plain": [
       "HBox(children=(IntProgress(value=0, max=77), HTML(value='')))"
      ]
     },
     "metadata": {},
     "output_type": "display_data"
    },
    {
     "name": "stdout",
     "output_type": "stream",
     "text": [
      "56 0.0149002228572499 0.0149002228572499 23773.99151611328\n",
      "56 0.011740162241039798 0.011740162241039798 23715.250244140625\n",
      "56 0.010557262387010269 0.010557262387010269 24244.51348876953\n",
      "56 0.009241366919013672 0.009241366919013672 24284.14520263672\n",
      "56 0.008638614861411043 0.008638614861411043 24327.406616210938\n",
      "\n"
     ]
    },
    {
     "data": {
      "application/vnd.jupyter.widget-view+json": {
       "model_id": "b72e72a469264c669324bf7b4b977030",
       "version_major": 2,
       "version_minor": 0
      },
      "text/plain": [
       "HBox(children=(IntProgress(value=0, max=77), HTML(value='')))"
      ]
     },
     "metadata": {},
     "output_type": "display_data"
    },
    {
     "name": "stdout",
     "output_type": "stream",
     "text": [
      "57 0.009163026392343454 0.009163026392343454 23859.240509033203\n",
      "57 0.009075294889044017 0.009075294889044017 23841.834442138672\n",
      "57 0.008101503946818411 0.008101503946818411 24321.901000976562\n",
      "57 0.007615237380377948 0.007615237380377948 24349.42120361328\n",
      "57 0.00759230756375473 0.00759230756375473 24354.825622558594\n",
      "\n"
     ]
    },
    {
     "data": {
      "application/vnd.jupyter.widget-view+json": {
       "model_id": "6e4ecdd3530d42b3ba067054e3d38475",
       "version_major": 2,
       "version_minor": 0
      },
      "text/plain": [
       "HBox(children=(IntProgress(value=0, max=77), HTML(value='')))"
      ]
     },
     "metadata": {},
     "output_type": "display_data"
    },
    {
     "name": "stdout",
     "output_type": "stream",
     "text": [
      "58 0.007564333820482716 0.007564333820482716 23800.287841796875\n",
      "58 0.0076386290602386 0.0076386290602386 23785.864868164062\n",
      "58 0.00782015077129472 0.00782015077129472 24285.343627929688\n",
      "58 0.008110538736218587 0.008110538736218587 24378.022094726562\n",
      "\n"
     ]
    },
    {
     "data": {
      "application/vnd.jupyter.widget-view+json": {
       "model_id": "aacd575ac9144d61a4d03e7a6683f975",
       "version_major": 2,
       "version_minor": 0
      },
      "text/plain": [
       "HBox(children=(IntProgress(value=0, max=77), HTML(value='')))"
      ]
     },
     "metadata": {},
     "output_type": "display_data"
    },
    {
     "name": "stdout",
     "output_type": "stream",
     "text": [
      "59 0.007976732144015841 0.007976732144015841 23980.648315429688\n",
      "59 0.007388769547105767 0.007388769547105767 23987.568298339844\n",
      "59 0.007219944076496176 0.007219944076496176 24391.508728027344\n",
      "59 0.007366679550614208 0.007366679550614208 24367.474243164062\n",
      "59 0.007499331928556785 0.007499331928556785 24384.656616210938\n",
      "\n"
     ]
    },
    {
     "data": {
      "application/vnd.jupyter.widget-view+json": {
       "model_id": "6e050b854e824aa49115dcf7bff80d37",
       "version_major": 2,
       "version_minor": 0
      },
      "text/plain": [
       "HBox(children=(IntProgress(value=0, max=77), HTML(value='')))"
      ]
     },
     "metadata": {},
     "output_type": "display_data"
    },
    {
     "name": "stdout",
     "output_type": "stream",
     "text": [
      "60 0.007582582024042495 0.007582582024042495 23852.17950439453\n"
     ]
    },
    {
     "ename": "KeyboardInterrupt",
     "evalue": "",
     "output_type": "error",
     "traceback": [
      "\u001b[0;31m---------------------------------------------------------------------------\u001b[0m",
      "\u001b[0;31mKeyboardInterrupt\u001b[0m                         Traceback (most recent call last)",
      "\u001b[0;32m<ipython-input-263-f64fcec17b8f>\u001b[0m in \u001b[0;36m<module>\u001b[0;34m\u001b[0m\n\u001b[1;32m     21\u001b[0m             \u001b[0mbatch\u001b[0m \u001b[0;34m=\u001b[0m \u001b[0;34m[\u001b[0m\u001b[0;34m[\u001b[0m\u001b[0mv2i\u001b[0m\u001b[0;34m[\u001b[0m\u001b[0mt\u001b[0m\u001b[0;34m]\u001b[0m \u001b[0;32mfor\u001b[0m \u001b[0mt\u001b[0m \u001b[0;32min\u001b[0m \u001b[0mc\u001b[0m\u001b[0;34m]\u001b[0m \u001b[0;32mfor\u001b[0m \u001b[0mc\u001b[0m \u001b[0;32min\u001b[0m \u001b[0mbatch\u001b[0m\u001b[0;34m]\u001b[0m\u001b[0;34m\u001b[0m\u001b[0;34m\u001b[0m\u001b[0m\n\u001b[1;32m     22\u001b[0m             \u001b[0minput_sequence\u001b[0m \u001b[0;34m=\u001b[0m\u001b[0mtorch\u001b[0m\u001b[0;34m.\u001b[0m\u001b[0mtensor\u001b[0m\u001b[0;34m(\u001b[0m\u001b[0mbatch\u001b[0m\u001b[0;34m)\u001b[0m\u001b[0;34m.\u001b[0m\u001b[0mto\u001b[0m\u001b[0;34m(\u001b[0m\u001b[0mdevice\u001b[0m\u001b[0;34m)\u001b[0m\u001b[0;34m\u001b[0m\u001b[0;34m\u001b[0m\u001b[0m\n\u001b[0;32m---> 23\u001b[0;31m             \u001b[0mloss\u001b[0m\u001b[0;34m,\u001b[0m \u001b[0mKL_div\u001b[0m\u001b[0;34m,\u001b[0m \u001b[0mdec_logit\u001b[0m \u001b[0;34m=\u001b[0m \u001b[0mrnn_vae\u001b[0m\u001b[0;34m(\u001b[0m\u001b[0minput_sequence\u001b[0m\u001b[0;34m,\u001b[0m\u001b[0mv2i\u001b[0m\u001b[0;34m[\u001b[0m\u001b[0;34m'{'\u001b[0m\u001b[0;34m]\u001b[0m\u001b[0;34m)\u001b[0m\u001b[0;34m\u001b[0m\u001b[0;34m\u001b[0m\u001b[0m\n\u001b[0m\u001b[1;32m     24\u001b[0m             \u001b[0mloss_KL_div\u001b[0m \u001b[0;34m=\u001b[0m \u001b[0mloss\u001b[0m \u001b[0;34m+\u001b[0m \u001b[0mKL_div\u001b[0m\u001b[0;34m*\u001b[0m\u001b[0;34m(\u001b[0m\u001b[0;36m1.0\u001b[0m\u001b[0;34m-\u001b[0m\u001b[0mannealing\u001b[0m\u001b[0;34m)\u001b[0m\u001b[0;34m\u001b[0m\u001b[0;34m\u001b[0m\u001b[0m\n\u001b[1;32m     25\u001b[0m             \u001b[0mlosses\u001b[0m\u001b[0;34m.\u001b[0m\u001b[0mappend\u001b[0m\u001b[0;34m(\u001b[0m\u001b[0;34m(\u001b[0m\u001b[0mloss_KL_div\u001b[0m\u001b[0;34m.\u001b[0m\u001b[0mitem\u001b[0m\u001b[0;34m(\u001b[0m\u001b[0;34m)\u001b[0m\u001b[0;34m,\u001b[0m\u001b[0mloss\u001b[0m\u001b[0;34m.\u001b[0m\u001b[0mitem\u001b[0m\u001b[0;34m(\u001b[0m\u001b[0;34m)\u001b[0m\u001b[0;34m,\u001b[0m\u001b[0mKL_div\u001b[0m\u001b[0;34m.\u001b[0m\u001b[0mitem\u001b[0m\u001b[0;34m(\u001b[0m\u001b[0;34m)\u001b[0m\u001b[0;34m)\u001b[0m\u001b[0;34m)\u001b[0m\u001b[0;34m\u001b[0m\u001b[0;34m\u001b[0m\u001b[0m\n",
      "\u001b[0;32m~/anaconda3/envs/new_torch/lib/python3.7/site-packages/torch/nn/modules/module.py\u001b[0m in \u001b[0;36m__call__\u001b[0;34m(self, *input, **kwargs)\u001b[0m\n\u001b[1;32m    489\u001b[0m             \u001b[0mresult\u001b[0m \u001b[0;34m=\u001b[0m \u001b[0mself\u001b[0m\u001b[0;34m.\u001b[0m\u001b[0m_slow_forward\u001b[0m\u001b[0;34m(\u001b[0m\u001b[0;34m*\u001b[0m\u001b[0minput\u001b[0m\u001b[0;34m,\u001b[0m \u001b[0;34m**\u001b[0m\u001b[0mkwargs\u001b[0m\u001b[0;34m)\u001b[0m\u001b[0;34m\u001b[0m\u001b[0;34m\u001b[0m\u001b[0m\n\u001b[1;32m    490\u001b[0m         \u001b[0;32melse\u001b[0m\u001b[0;34m:\u001b[0m\u001b[0;34m\u001b[0m\u001b[0;34m\u001b[0m\u001b[0m\n\u001b[0;32m--> 491\u001b[0;31m             \u001b[0mresult\u001b[0m \u001b[0;34m=\u001b[0m \u001b[0mself\u001b[0m\u001b[0;34m.\u001b[0m\u001b[0mforward\u001b[0m\u001b[0;34m(\u001b[0m\u001b[0;34m*\u001b[0m\u001b[0minput\u001b[0m\u001b[0;34m,\u001b[0m \u001b[0;34m**\u001b[0m\u001b[0mkwargs\u001b[0m\u001b[0;34m)\u001b[0m\u001b[0;34m\u001b[0m\u001b[0;34m\u001b[0m\u001b[0m\n\u001b[0m\u001b[1;32m    492\u001b[0m         \u001b[0;32mfor\u001b[0m \u001b[0mhook\u001b[0m \u001b[0;32min\u001b[0m \u001b[0mself\u001b[0m\u001b[0;34m.\u001b[0m\u001b[0m_forward_hooks\u001b[0m\u001b[0;34m.\u001b[0m\u001b[0mvalues\u001b[0m\u001b[0;34m(\u001b[0m\u001b[0;34m)\u001b[0m\u001b[0;34m:\u001b[0m\u001b[0;34m\u001b[0m\u001b[0;34m\u001b[0m\u001b[0m\n\u001b[1;32m    493\u001b[0m             \u001b[0mhook_result\u001b[0m \u001b[0;34m=\u001b[0m \u001b[0mhook\u001b[0m\u001b[0;34m(\u001b[0m\u001b[0mself\u001b[0m\u001b[0;34m,\u001b[0m \u001b[0minput\u001b[0m\u001b[0;34m,\u001b[0m \u001b[0mresult\u001b[0m\u001b[0;34m)\u001b[0m\u001b[0;34m\u001b[0m\u001b[0;34m\u001b[0m\u001b[0m\n",
      "\u001b[0;32m<ipython-input-239-3af0fd4cd1e0>\u001b[0m in \u001b[0;36mforward\u001b[0;34m(self, input_sequence, start_tok)\u001b[0m\n\u001b[1;32m     29\u001b[0m         \u001b[0mdevice\u001b[0m \u001b[0;34m=\u001b[0m \u001b[0minput_sequence\u001b[0m\u001b[0;34m.\u001b[0m\u001b[0mdevice\u001b[0m\u001b[0;34m\u001b[0m\u001b[0;34m\u001b[0m\u001b[0m\n\u001b[1;32m     30\u001b[0m         \u001b[0membedded\u001b[0m \u001b[0;34m=\u001b[0m \u001b[0mself\u001b[0m\u001b[0;34m.\u001b[0m\u001b[0membed\u001b[0m\u001b[0;34m(\u001b[0m\u001b[0minput_sequence\u001b[0m\u001b[0;34m)\u001b[0m\u001b[0;34m\u001b[0m\u001b[0;34m\u001b[0m\u001b[0m\n\u001b[0;32m---> 31\u001b[0;31m         \u001b[0mout\u001b[0m \u001b[0;34m,\u001b[0m \u001b[0m_\u001b[0m\u001b[0;34m=\u001b[0m \u001b[0mself\u001b[0m\u001b[0;34m.\u001b[0m\u001b[0mencoder\u001b[0m\u001b[0;34m(\u001b[0m\u001b[0membedded\u001b[0m\u001b[0;34m)\u001b[0m\u001b[0;34m\u001b[0m\u001b[0;34m\u001b[0m\u001b[0m\n\u001b[0m\u001b[1;32m     32\u001b[0m \u001b[0;34m\u001b[0m\u001b[0m\n\u001b[1;32m     33\u001b[0m         \u001b[0mf_enc\u001b[0m \u001b[0;34m=\u001b[0m \u001b[0mout\u001b[0m\u001b[0;34m[\u001b[0m\u001b[0;34m:\u001b[0m\u001b[0;34m,\u001b[0m\u001b[0;36m0\u001b[0m\u001b[0;34m,\u001b[0m\u001b[0;34m:\u001b[0m\u001b[0mout\u001b[0m\u001b[0;34m.\u001b[0m\u001b[0msize\u001b[0m\u001b[0;34m(\u001b[0m\u001b[0;34m)\u001b[0m\u001b[0;34m[\u001b[0m\u001b[0;34m-\u001b[0m\u001b[0;36m1\u001b[0m\u001b[0;34m]\u001b[0m\u001b[0;34m//\u001b[0m\u001b[0;36m2\u001b[0m\u001b[0;34m]\u001b[0m\u001b[0;34m\u001b[0m\u001b[0;34m\u001b[0m\u001b[0m\n",
      "\u001b[0;32m~/anaconda3/envs/new_torch/lib/python3.7/site-packages/torch/nn/modules/module.py\u001b[0m in \u001b[0;36m__call__\u001b[0;34m(self, *input, **kwargs)\u001b[0m\n\u001b[1;32m    489\u001b[0m             \u001b[0mresult\u001b[0m \u001b[0;34m=\u001b[0m \u001b[0mself\u001b[0m\u001b[0;34m.\u001b[0m\u001b[0m_slow_forward\u001b[0m\u001b[0;34m(\u001b[0m\u001b[0;34m*\u001b[0m\u001b[0minput\u001b[0m\u001b[0;34m,\u001b[0m \u001b[0;34m**\u001b[0m\u001b[0mkwargs\u001b[0m\u001b[0;34m)\u001b[0m\u001b[0;34m\u001b[0m\u001b[0;34m\u001b[0m\u001b[0m\n\u001b[1;32m    490\u001b[0m         \u001b[0;32melse\u001b[0m\u001b[0;34m:\u001b[0m\u001b[0;34m\u001b[0m\u001b[0;34m\u001b[0m\u001b[0m\n\u001b[0;32m--> 491\u001b[0;31m             \u001b[0mresult\u001b[0m \u001b[0;34m=\u001b[0m \u001b[0mself\u001b[0m\u001b[0;34m.\u001b[0m\u001b[0mforward\u001b[0m\u001b[0;34m(\u001b[0m\u001b[0;34m*\u001b[0m\u001b[0minput\u001b[0m\u001b[0;34m,\u001b[0m \u001b[0;34m**\u001b[0m\u001b[0mkwargs\u001b[0m\u001b[0;34m)\u001b[0m\u001b[0;34m\u001b[0m\u001b[0;34m\u001b[0m\u001b[0m\n\u001b[0m\u001b[1;32m    492\u001b[0m         \u001b[0;32mfor\u001b[0m \u001b[0mhook\u001b[0m \u001b[0;32min\u001b[0m \u001b[0mself\u001b[0m\u001b[0;34m.\u001b[0m\u001b[0m_forward_hooks\u001b[0m\u001b[0;34m.\u001b[0m\u001b[0mvalues\u001b[0m\u001b[0;34m(\u001b[0m\u001b[0;34m)\u001b[0m\u001b[0;34m:\u001b[0m\u001b[0;34m\u001b[0m\u001b[0;34m\u001b[0m\u001b[0m\n\u001b[1;32m    493\u001b[0m             \u001b[0mhook_result\u001b[0m \u001b[0;34m=\u001b[0m \u001b[0mhook\u001b[0m\u001b[0;34m(\u001b[0m\u001b[0mself\u001b[0m\u001b[0;34m,\u001b[0m \u001b[0minput\u001b[0m\u001b[0;34m,\u001b[0m \u001b[0mresult\u001b[0m\u001b[0;34m)\u001b[0m\u001b[0;34m\u001b[0m\u001b[0;34m\u001b[0m\u001b[0m\n",
      "\u001b[0;32m~/anaconda3/envs/new_torch/lib/python3.7/site-packages/torch/nn/modules/rnn.py\u001b[0m in \u001b[0;36mforward\u001b[0;34m(self, input, hx)\u001b[0m\n\u001b[1;32m    555\u001b[0m             \u001b[0;32mreturn\u001b[0m \u001b[0mself\u001b[0m\u001b[0;34m.\u001b[0m\u001b[0mforward_packed\u001b[0m\u001b[0;34m(\u001b[0m\u001b[0minput\u001b[0m\u001b[0;34m,\u001b[0m \u001b[0mhx\u001b[0m\u001b[0;34m)\u001b[0m\u001b[0;34m\u001b[0m\u001b[0;34m\u001b[0m\u001b[0m\n\u001b[1;32m    556\u001b[0m         \u001b[0;32melse\u001b[0m\u001b[0;34m:\u001b[0m\u001b[0;34m\u001b[0m\u001b[0;34m\u001b[0m\u001b[0m\n\u001b[0;32m--> 557\u001b[0;31m             \u001b[0;32mreturn\u001b[0m \u001b[0mself\u001b[0m\u001b[0;34m.\u001b[0m\u001b[0mforward_tensor\u001b[0m\u001b[0;34m(\u001b[0m\u001b[0minput\u001b[0m\u001b[0;34m,\u001b[0m \u001b[0mhx\u001b[0m\u001b[0;34m)\u001b[0m\u001b[0;34m\u001b[0m\u001b[0;34m\u001b[0m\u001b[0m\n\u001b[0m\u001b[1;32m    558\u001b[0m \u001b[0;34m\u001b[0m\u001b[0m\n\u001b[1;32m    559\u001b[0m \u001b[0;34m\u001b[0m\u001b[0m\n",
      "\u001b[0;32m~/anaconda3/envs/new_torch/lib/python3.7/site-packages/torch/nn/modules/rnn.py\u001b[0m in \u001b[0;36mforward_tensor\u001b[0;34m(self, input, hx)\u001b[0m\n\u001b[1;32m    535\u001b[0m         \u001b[0munsorted_indices\u001b[0m \u001b[0;34m=\u001b[0m \u001b[0;32mNone\u001b[0m\u001b[0;34m\u001b[0m\u001b[0;34m\u001b[0m\u001b[0m\n\u001b[1;32m    536\u001b[0m \u001b[0;34m\u001b[0m\u001b[0m\n\u001b[0;32m--> 537\u001b[0;31m         \u001b[0moutput\u001b[0m\u001b[0;34m,\u001b[0m \u001b[0mhidden\u001b[0m \u001b[0;34m=\u001b[0m \u001b[0mself\u001b[0m\u001b[0;34m.\u001b[0m\u001b[0mforward_impl\u001b[0m\u001b[0;34m(\u001b[0m\u001b[0minput\u001b[0m\u001b[0;34m,\u001b[0m \u001b[0mhx\u001b[0m\u001b[0;34m,\u001b[0m \u001b[0mbatch_sizes\u001b[0m\u001b[0;34m,\u001b[0m \u001b[0mmax_batch_size\u001b[0m\u001b[0;34m,\u001b[0m \u001b[0msorted_indices\u001b[0m\u001b[0;34m)\u001b[0m\u001b[0;34m\u001b[0m\u001b[0;34m\u001b[0m\u001b[0m\n\u001b[0m\u001b[1;32m    538\u001b[0m \u001b[0;34m\u001b[0m\u001b[0m\n\u001b[1;32m    539\u001b[0m         \u001b[0;32mreturn\u001b[0m \u001b[0moutput\u001b[0m\u001b[0;34m,\u001b[0m \u001b[0mself\u001b[0m\u001b[0;34m.\u001b[0m\u001b[0mpermute_hidden\u001b[0m\u001b[0;34m(\u001b[0m\u001b[0mhidden\u001b[0m\u001b[0;34m,\u001b[0m \u001b[0munsorted_indices\u001b[0m\u001b[0;34m)\u001b[0m\u001b[0;34m\u001b[0m\u001b[0;34m\u001b[0m\u001b[0m\n",
      "\u001b[0;32m~/anaconda3/envs/new_torch/lib/python3.7/site-packages/torch/nn/modules/rnn.py\u001b[0m in \u001b[0;36mforward_impl\u001b[0;34m(self, input, hx, batch_sizes, max_batch_size, sorted_indices)\u001b[0m\n\u001b[1;32m    518\u001b[0m         \u001b[0;32mif\u001b[0m \u001b[0mbatch_sizes\u001b[0m \u001b[0;32mis\u001b[0m \u001b[0;32mNone\u001b[0m\u001b[0;34m:\u001b[0m\u001b[0;34m\u001b[0m\u001b[0;34m\u001b[0m\u001b[0m\n\u001b[1;32m    519\u001b[0m             result = _VF.lstm(input, hx, self.get_flat_weights(), self.bias, self.num_layers,\n\u001b[0;32m--> 520\u001b[0;31m                               self.dropout, self.training, self.bidirectional, self.batch_first)\n\u001b[0m\u001b[1;32m    521\u001b[0m         \u001b[0;32melse\u001b[0m\u001b[0;34m:\u001b[0m\u001b[0;34m\u001b[0m\u001b[0;34m\u001b[0m\u001b[0m\n\u001b[1;32m    522\u001b[0m             result = _VF.lstm(input, batch_sizes, hx, self.get_flat_weights(), self.bias,\n",
      "\u001b[0;31mKeyboardInterrupt\u001b[0m: "
     ]
    }
   ],
   "source": [
    "from tqdm import tqdm_notebook\n",
    "import random\n",
    "import numpy as np\n",
    "device = 'cuda'\n",
    "epochs = 100\n",
    "batch_size = 32\n",
    "show_every = 16\n",
    "rnn_vae.to(device)\n",
    "warmup = 98\n",
    "for _ in range(10):\n",
    "    losses = []\n",
    "    \n",
    "    annealing_rate = 1\n",
    "    annealing = annealing_rate\n",
    "    for epoch in tqdm_notebook(range(epochs)):\n",
    "        random.shuffle(chunks)\n",
    "        for batch in tqdm_notebook(range(0,len(chunks),batch_size)):\n",
    "            rnn_vae.train()\n",
    "            rnn_vae.zero_grad()\n",
    "            batch = chunks[batch:batch+batch_size]\n",
    "            batch = [[v2i[t] for t in c] for c in batch]\n",
    "            input_sequence =torch.tensor(batch).to(device)\n",
    "            loss, KL_div, dec_logit = rnn_vae(input_sequence,v2i['{'])\n",
    "            loss_KL_div = loss + KL_div*(1.0-annealing)\n",
    "            losses.append((loss_KL_div.item(),loss.item(),KL_div.item()))\n",
    "            loss_KL_div.backward()\n",
    "            torch.nn.utils.clip_grad_norm_(rnn_vae.parameters(), 1)\n",
    "            optimizer.step()\n",
    "            if len(losses) % show_every == 0:\n",
    "                losses_ = np.array(losses)\n",
    "                print(epoch,np.mean(losses_[-show_every*2:,0]),\n",
    "                      np.mean(losses_[-show_every*2:,1]),\n",
    "                      np.mean(losses_[-show_every*2:,2]))\n",
    "                \n",
    "        if epoch >= warmup:\n",
    "            annealing *= annealing_rate"
   ]
  },
  {
   "cell_type": "code",
   "execution_count": 266,
   "metadata": {},
   "outputs": [
    {
     "name": "stdout",
     "output_type": "stream",
     "text": [
      "[15.6856197  16.08251897 16.39017353 15.55805208 16.9875865  15.12934466\n",
      " 16.26177156 16.18846285 16.60630578 15.49253858 16.42261915 17.57366859\n",
      " 15.50084398 16.58568913 15.47446743 14.82117793 14.90068846 15.74464795\n",
      " 15.84105402 15.47875916 15.69369439 16.81253864 15.3741402  16.61268112\n",
      " 14.97086222 14.71170027 15.75621819 15.38820898 16.89626328 14.76126389\n",
      " 15.3680995  15.93959753]\n",
      "[16.00975214 16.08251897 16.39017353 15.73464356 16.99148258 15.33457346\n",
      " 16.26177156 16.18846285 16.60630578 16.14044306 16.42261915 17.57366859\n",
      " 15.50084398 16.58568913 15.94358279 14.9287245  14.90068846 16.73871683\n",
      " 15.8413534  15.99081571 15.69369439 16.8788575  15.3741402  16.61268112\n",
      " 15.97219607 15.8162407  16.26489526 15.38820898 16.89626328 14.81177598\n",
      " 15.3680995  16.11560906]\n",
      "[16.00975214 16.08356291 16.3902896  16.67416088 16.99148258 15.63870339\n",
      " 16.86594318 16.18846285 16.88381394 16.87784178 16.42261915 17.57366859\n",
      " 16.20335845 16.58568913 15.94358279 14.9287245  14.90068846 16.73871683\n",
      " 15.89607488 16.02401273 15.69369439 16.88188577 15.39423795 16.61268112\n",
      " 15.97247548 16.5956223  16.26489526 15.38820898 16.89626328 15.01540078\n",
      " 15.3680995  16.11560906]\n",
      "[16.00975214 16.08356291 16.3902896  16.67416088 16.99148258 15.92069046\n",
      " 16.86594318 16.18846285 16.88381394 16.87784178 16.42261915 17.57366859\n",
      " 16.20335845 16.58568913 15.94358279 14.9287245  14.92000205 16.73871683\n",
      " 15.89607488 16.77471366 16.35916492 16.99329167 15.82261561 16.61268112\n",
      " 15.97247548 16.5956223  16.39393385 15.38820898 16.89626328 15.01540078\n",
      " 15.3680995  16.11560906]\n",
      "[16.00975214 16.24329439 16.3902896  16.67416088 16.99148258 16.2643388\n",
      " 16.86594318 16.18846285 16.88381394 16.87784178 16.57307134 17.57366859\n",
      " 16.20335845 16.58568913 15.94358279 14.9287245  14.92000205 16.73871683\n",
      " 15.91563396 16.9736439  16.35916492 16.99329167 15.82261561 16.61268112\n",
      " 16.27514052 16.5956223  16.39393385 15.38820898 16.89626328 15.01540078\n",
      " 15.75836643 16.39406415]\n",
      "[16.11591585 16.24329439 16.3902896  16.67416088 16.99148258 16.2643388\n",
      " 16.86594318 16.18846285 16.88381394 17.1168316  16.57307134 17.57366859\n",
      " 16.20335845 16.58568913 15.94358279 15.05410631 15.05548545 16.73871683\n",
      " 15.91563396 16.9736439  16.35916492 16.99329167 15.82261561 16.61999409\n",
      " 16.27514052 16.5956223  16.39393385 15.38820898 16.89626328 15.01540078\n",
      " 15.75836643 16.39406415]\n",
      "[16.11591585 16.24329439 16.3902896  16.67416088 16.99148258 16.2643388\n",
      " 16.86594318 16.19373203 16.88381394 17.1168316  16.57307134 17.57366859\n",
      " 16.20335845 16.58568913 15.94358279 15.05410631 15.05548545 16.73871683\n",
      " 16.11833073 16.9736439  16.35916492 17.7082089  15.82261561 16.61999409\n",
      " 16.27514052 16.5956223  16.39393385 15.38820898 16.89626328 15.01540078\n",
      " 15.75836643 16.39406415]\n",
      "[16.61321986 16.30821446 16.3902896  16.67416088 16.99148258 16.2643388\n",
      " 16.92193182 16.19373203 17.55739938 17.1168316  16.57307134 17.57366859\n",
      " 16.88429858 16.58568913 15.94358279 15.05955092 15.05548545 16.93178426\n",
      " 16.11833073 16.9736439  16.35916492 17.7082089  15.82261561 16.61999409\n",
      " 16.27514052 16.5956223  16.39393385 15.39092865 16.89626328 15.14406363\n",
      " 15.75836643 16.39406415]\n",
      "[16.61321986 16.30821446 16.3902896  16.67416088 16.99148258 16.2643388\n",
      " 16.92193182 16.19373203 17.55739938 17.1168316  16.71693829 17.57366859\n",
      " 16.88429858 16.58568913 15.94358279 15.30728646 15.9965967  16.93178426\n",
      " 16.11833073 16.9736439  16.35916492 17.7082089  15.82261561 16.61999409\n",
      " 16.3569493  16.5956223  16.39393385 15.49527813 16.89626328 15.14406363\n",
      " 15.75836643 16.78546087]\n",
      "[16.61321986 16.30821446 16.3902896  16.67416088 16.99148258 16.2643388\n",
      " 16.92193182 16.19373203 17.55739938 17.1168316  16.71693829 17.57366859\n",
      " 16.88429858 16.58568913 15.94358279 15.30728646 15.9965967  16.93178426\n",
      " 16.11833073 16.9736439  16.35916492 17.7082089  15.82261561 16.61999409\n",
      " 16.3569493  16.5956223  16.39393385 15.49527813 16.98767864 15.14406363\n",
      " 15.77621748 16.78546087]\n"
     ]
    }
   ],
   "source": [
    "import torch.nn.functional as F\n",
    "def top_k_top_p_filtering(logits, top_k=0, top_p=0.0, filter_value=-float('Inf')):\n",
    "    \"\"\" Filter a distribution of logits using top-k and/or nucleus (top-p) filtering\n",
    "        Args:\n",
    "            logits: logits distribution shape (batch size x vocabulary size)\n",
    "            top_k > 0: keep only top k tokens with highest probability (top-k filtering).\n",
    "            top_p > 0.0: keep the top tokens with cumulative probability >= top_p (nucleus filtering).\n",
    "                Nucleus filtering is described in Holtzman et al. (http://arxiv.org/abs/1904.09751)\n",
    "        From: https://gist.github.com/thomwolf/1a5a29f6962089e871b94cbd09daf317\n",
    "    \"\"\"\n",
    "    top_k = min(top_k, logits.size(-1))  # Safety check\n",
    "    if top_k > 0:\n",
    "        # Remove all tokens with a probability less than the last token of the top-k\n",
    "        indices_to_remove = logits < torch.topk(logits, top_k)[0][..., -1, None]\n",
    "        logits[indices_to_remove] = filter_value\n",
    "\n",
    "    if top_p > 0.0:\n",
    "        sorted_logits, sorted_indices = torch.sort(logits, descending=True)\n",
    "        cumulative_probs = torch.cumsum(F.softmax(sorted_logits, dim=-1), dim=-1)\n",
    "\n",
    "        # Remove tokens with cumulative probability above the threshold\n",
    "        sorted_indices_to_remove = cumulative_probs > top_p\n",
    "        # Shift the indices to the right to keep also the first token above the threshold\n",
    "        sorted_indices_to_remove[..., 1:] = sorted_indices_to_remove[..., :-1].clone()\n",
    "        sorted_indices_to_remove[..., 0] = 0\n",
    "        # scatter sorted tensors to original indexing\n",
    "        indices_to_remove = sorted_indices_to_remove.scatter(dim=1, index=sorted_indices, src=sorted_indices_to_remove)\n",
    "        \n",
    "        logits[indices_to_remove] = filter_value\n",
    "    return logits\n",
    "\n",
    "def autoencode(self,input_sequence,start_tok,temp):\n",
    "        \n",
    "    batch_size, seq_length = input_sequence.size(0), input_sequence.size(1)\n",
    "    device = input_sequence.device\n",
    "    embedded = self.embed(input_sequence)\n",
    "    out , _= self.encoder(embedded)\n",
    "\n",
    "    f_enc = out[:,0,:out.size()[-1]//2]\n",
    "    r_enc = out[:,-1,out.size()[-1]//2:]\n",
    "    enc = torch.cat((f_enc,r_enc),dim=-1)\n",
    "    mu,logvar = self.to_mu(enc), self.to_logvar(enc)\n",
    "\n",
    "    std = torch.exp(0.5 * logvar)\n",
    "    z = torch.randn([batch_size,self.latent_dim],device=device)\n",
    "    z = z * std + mu        \n",
    "    dec_h = self.latent_to_h(z)\n",
    "    dec_h = dec_h.view(batch_size,-1, self.dec_size).permute(1,0,2).contiguous()\n",
    "    dec_c = self.latent_to_c(z)\n",
    "    dec_c = dec_c.view(batch_size,-1, self.dec_size).permute(1,0,2).contiguous()\n",
    "\n",
    "    dec_inp = self.embed(torch.ones(batch_size,1,dtype=torch.long,device=device)*start_tok)\n",
    "    tokens = []    \n",
    "    scores = []\n",
    "    for _ in range(seq_length):\n",
    "        dec_out, _ =self.decoder(dec_inp,(dec_h,dec_c))\n",
    "        dec_logit = self.hidden_to_vocab(dec_out[:,-1,:]).view(batch_size,-1)\n",
    "        dec_logit = top_k_top_p_filtering(dec_logit,top_k=5)\n",
    "        next_token = torch.multinomial(F.softmax(dec_logit/temp, dim=-1), num_samples=1)\n",
    "        \n",
    "        tokens.append(next_token.detach())\n",
    "        chosen_scores = []\n",
    "        for ii,tok in enumerate(tokens[-1]):\n",
    "            chosen_scores.append(dec_logit[ii,tok].item())\n",
    "        scores.append(chosen_scores)\n",
    "        dec_inp =torch.cat((dec_inp,self.embed(next_token)\n",
    "            ),dim=1)\n",
    "        \n",
    "\n",
    "    return tokens,scores\n",
    "def prettify(level):\n",
    "    levelstr = ''\n",
    "    level = level.split('}')[0].split(';')\n",
    "    level = [c for c in level if len(c) == len(level[0])]\n",
    "    width = len(level)\n",
    "    height = len(level[0]) \n",
    "    for y in range(height):\n",
    "        for x in range(width):\n",
    "\n",
    "            levelstr += level[x][y]\n",
    "        levelstr += '\\n'\n",
    "    return levelstr\n",
    "import numpy as np\n",
    "samples = 10\n",
    "best_scores = np.ones(input_sequence.size()[0])*-np.inf\n",
    "best_samples = [None]*input_sequence.size()[0]\n",
    "for _ in range(samples):\n",
    "    with torch.no_grad():\n",
    "        rnn_vae.eval()\n",
    "        encoded, scores = autoencode(rnn_vae,input_sequence,v2i['{'],1.2)\n",
    "    scores = np.array(scores)\n",
    "    scores = np.mean(scores,axis=0)\n",
    "    for ii,(sc,be) in enumerate(zip(scores,best_scores)):\n",
    "        if sc > be:\n",
    "            best_scores[ii] = sc\n",
    "            generation = []\n",
    "            for batch in encoded:\n",
    "                token = batch[ii].item()\n",
    "                generation.append(token)\n",
    "            best_samples[ii] = prettify(''.join([i2v[t] for t in generation]))\n",
    "    print(best_scores)"
   ]
  },
  {
   "cell_type": "code",
   "execution_count": 267,
   "metadata": {
    "scrolled": true
   },
   "outputs": [
    {
     "name": "stdout",
     "output_type": "stream",
     "text": [
      "original\n",
      "--------------------------------\n",
      "--------------------------------\n",
      "--------------------------------\n",
      "--------------------------------\n",
      "---oo---------------------------\n",
      "--------------------------------\n",
      "--------------------------------\n",
      "--------------------------------\n",
      "x-------------------------------\n",
      "-x------------------------------\n",
      "--x-----xxxx--------------------\n",
      "---x---xx<>-x------------------x\n",
      "-E-Exxxx-[]-Exxxxxxxxxxxxxxxxxxx\n",
      "XXXXXXXXXXXXXXXXXXXXXXXXXXXXXXXX\n",
      "\n",
      "generated\n",
      "--------------------------------\n",
      "--------------------------------\n",
      "--------------------------------\n",
      "--------------------------------\n",
      "--------------------------------\n",
      "---Q----------------------------\n",
      "--------------------------------\n",
      "--------------------------------\n",
      "x-------------------oo----------\n",
      "-x-?---------------o--o---------\n",
      "--x-----------------------------\n",
      "---x-----xxx--------------------\n",
      "----xxxxxx--xxxxxxxxxxxxxxxxxxxx\n",
      "XXXXXXXXXX--XXXXXXXXXXXXXXXXXXXX\n",
      "\n",
      "original\n",
      "--------------------------------\n",
      "--------------------------------\n",
      "--------------------------------\n",
      "--------------------------------\n",
      "--------------------------------\n",
      "--------------------------------\n",
      "------xxx-----------------------\n",
      "-----xxX-x----------------------\n",
      "----xxXX--xo------o----o--------\n",
      "---xxXXX---x------------------xx\n",
      "--xxXXXX----x----------------xx-\n",
      "-xxXXXXX-----x--xxxxxxxxxx--xxX-\n",
      "xxXXXXXX------xxx----x----xxx-X-\n",
      "XXXXXXXXXXXXXXXXX---XX---XXXXXXX\n",
      "\n",
      "generated\n",
      "--------------------------------\n",
      "--------------------------------\n",
      "--------------------------------\n",
      "--------------------------------\n",
      "--------------------------------\n",
      "------------SS------------------\n",
      "--------------------------------\n",
      "--------------------o-----------\n",
      "----------xxxxxx----------------\n",
      "-------xxxxXXXX-xSSS------------\n",
      "----xxxxXXXXX----x--------------\n",
      "-xxxxXXXXXX-------x-------------\n",
      "xxXXXXXXX----------xxxxxxxxxxxxx\n",
      "XXXXXXX------XX--XXXXXXXXXXXXXXX\n",
      "\n",
      "original\n",
      "--------------------------------\n",
      "--------------------------------\n",
      "--------------------------------\n",
      "--------------------------------\n",
      "--------------------------------\n",
      "SSSSSSSS------------SS---SS-----\n",
      "--------------------------------\n",
      "--------------------------------\n",
      "-----xxxx---------SS------------\n",
      "----xx--xxx-xxx---------SSS---xx\n",
      "---xx------xx--xxx-----------xxX\n",
      "--xx-------<>--<>-x-xxxxx---xxXX\n",
      "xxx--------[]--[]--xx----xxxxXXX\n",
      "XXX------XXXXXXXXXXXX-X-XXXXXXXX\n",
      "\n",
      "generated\n",
      "--------------------------------\n",
      "--------------------------------\n",
      "--------------------------------\n",
      "--------------------------------\n",
      "--------------------------------\n",
      "SSSQ--------------?-----------SS\n",
      "--------------------------------\n",
      "--------------------------------\n",
      "--------------------------------\n",
      "---S-----SS----Q--Q--Q-----S----\n",
      "--------------------------------\n",
      "--------------------------------\n",
      "xxxxxxxxxxxxxxxxxxxxxxxxxxxxxxxx\n",
      "XXXXXXXXXXXXXXXXXXXXXXXXXXXXXXXX\n",
      "\n",
      "original\n",
      "--------------------------------\n",
      "--------------------------------\n",
      "--------------------------------\n",
      "--------------------------------\n",
      "-xxxxxxxxxx---------------------\n",
      "-xSSSSSSSS-x--------------------\n",
      "-x----------x-------------------\n",
      "-x-----------x------------------\n",
      "xx------------x-----------------\n",
      "xX----S----X---x----------------\n",
      "-X------E--X----x--E------------\n",
      "-X---------X-----xxxxxxxxxxx----\n",
      "-X---------X------x----x----xxxx\n",
      "XXXXXXXXXXXXXXXXX-X-XX-X-XX-XXXX\n",
      "\n",
      "generated\n",
      "--------------------------------\n",
      "--------------------------------\n",
      "--------------------------------\n",
      "--------------------------------\n",
      "-------xxxxxx-------------------\n",
      "------xx?SSS-x------------------\n",
      "------x-------x-----------------\n",
      "-xxxxxx-------Ex----------------\n",
      "xx---xE------<>-x---------------\n",
      "x----<>---E--[]--x--------------\n",
      "-----[]--<>--[]---x-------------\n",
      "-----[]--[]--[]----x-xxxxx------\n",
      "--E--[]--[]--[]-----xx----xxxxxx\n",
      "XXXXXXXXXXXXXXXXXXXXXX---XXXXXXX\n",
      "\n",
      "original\n",
      "--------------------------------\n",
      "--------------------------------\n",
      "--------------------------------\n",
      "--------------------------------\n",
      "----------------------------xxxx\n",
      "-------------------------E-xxXXX\n",
      "--------------------------xxXXXX\n",
      "xxx----xxxxx-------------xxXXXXX\n",
      "---x-xxx----x----------xxxXXXXXX\n",
      "----xx<>-----xx-------xx<>XXXXXX\n",
      "---E<>[]----<>-x-----xx-[]XXXXXX\n",
      "--<>[][]----[]--x---xx-X[]XXXXXX\n",
      "--[][][]----[]---xxxx-XX[]XXXXXX\n",
      "XXXXXXXXXXXXXXXXXXXXXXXXXXXXXXXX\n",
      "\n",
      "generated\n",
      "--------------------------------\n",
      "--------------------------------\n",
      "--------------------------------\n",
      "--------------------------------\n",
      "----xxxxxx----------------------\n",
      "---xx?SSS-x---------------------\n",
      "---x-------x--------------------\n",
      "xxxx-------Ex-------------------\n",
      "--xE------<>-x------------------\n",
      "--<>---E--[]--x-----------------\n",
      "--[]--<>--[]---x----------------\n",
      "--[]--[]--[]----x-xxxxx-------Ex\n",
      "--[]--[]--[]-----xx----xxxxxxxxx\n",
      "XXXXXXXXXXXXXXXXXXX---XXXXXXXXXX\n",
      "\n",
      "original\n",
      "--------------------------------\n",
      "--------------------------------\n",
      "--------------------------------\n",
      "--------------------------------\n",
      "--------------------------------\n",
      "--------------------------------\n",
      "--------------------------------\n",
      "--------------------------------\n",
      "--------------------------------\n",
      "----------------------xxxx------\n",
      "x--------------------xx<>-x-----\n",
      "-x------------------xx-[]--x----\n",
      "-Exxxxxxxxxxxxxxxxxxx--[]---xxxx\n",
      "XXXXXXXXXXXXXXXXXXXXXXXXXXXXXXXX\n",
      "\n",
      "generated\n",
      "--------------------------------\n",
      "--------------------------------\n",
      "---S----------------------------\n",
      "--------------------------------\n",
      "--------------------------------\n",
      "----QQQQQQQ---------------------\n",
      "--------------------------------\n",
      "--------------------------------\n",
      "--------------------------------\n",
      "----QQQQQQQ---------------------\n",
      "x-------------------------------\n",
      "-x------------------------------\n",
      "-Exxxxxxxxxxxxxxxxxxxxxxxxxxxxxx\n",
      "XXXXXXXXXXXXXXXXXXXXXXXXXXXXXXXX\n",
      "\n",
      "original\n",
      "--------------------------------\n",
      "--------------------------------\n",
      "--------------------------------\n",
      "--------------------------------\n",
      "--------------------------------\n",
      "--------------------------------\n",
      "--------------------------------\n",
      "---------------------B----------\n",
      "---------------------b----------\n",
      "-------------------SSXSS-------x\n",
      "---B-----E---B----------------xx\n",
      "---b---------b-----------B---xx-\n",
      "xxxxxxxxxxxxxxxxxxxxxxxxxxxxxx--\n",
      "XXXXXXXXXXXXXXXXXXXXXXXXXXXXXX--\n",
      "\n",
      "generated\n",
      "--------------------------------\n",
      "--------------------------------\n",
      "--------------------------------\n",
      "--------------------------------\n",
      "--------------------------------\n",
      "--------------------------------\n",
      "--------------------------------\n",
      "--------------------------------\n",
      "--------------------------------\n",
      "--------------------------------\n",
      "---B-----E--E-------------------\n",
      "---b----------------------------\n",
      "xxxxxxxxxxxxxxxxxxxxxxxxxxxxxxxx\n",
      "XXXXXXXXXXXXXXXXXXXXXXXXXXXXXXXX\n",
      "\n",
      "original\n",
      "--------------------------------\n",
      "--------------------------------\n",
      "--------------------------------\n",
      "--------------------------------\n",
      "--------------------------------\n",
      "--------------------------------\n",
      "--------------------------------\n",
      "-----xxx------------------------\n",
      "---xxx--xx----------------------\n",
      "--xxXX--X-x----------SSQS-------\n",
      "-xxXXX--XX-x---xxxx------------x\n",
      "xxXXXX--XXX-x-xx<>-x----------xx\n",
      "xXXXXX--XXXX-xx-[]--xxxxxxxxxxx-\n",
      "XXXXXX--XXXXXXXXXXXXXXXXXXXXXXXX\n",
      "\n",
      "generated\n",
      "--------------------------------\n",
      "--------------------------------\n",
      "--E-----------------------------\n",
      "--------------------------------\n",
      "----------------E---------------\n",
      "---------------SQS--SQS---------\n",
      "-----xxxx-----------------------\n",
      "----xxXX-x----------------------\n",
      "---xxXXX--x---------------------\n",
      "--xxXXXX---x---SQS--S?S--------S\n",
      "-xxXXXXX----x---------------E--E\n",
      "xxXXXXXX-----x------------------\n",
      "xXXXXXXX-----Exxxxxxxxxxxxxxxxxx\n",
      "XXXXXXX--XXXXXXXXXXXXXXXXXXXXXXX\n",
      "\n",
      "original\n",
      "--------------------------------\n",
      "--------------------------------\n",
      "--------------------------------\n",
      "--------------------------------\n",
      "--------------------------------\n",
      "--------------------------------\n",
      "--------------------------------\n",
      "--------------------------------\n",
      "--------------------------------\n",
      "-----------------xxx------------\n",
      "----------------xxX-x-----------\n",
      "--xxxxx-xxx----xx-X--x----------\n",
      "xxx----xx--xxxxx--X---xxxxxxxxxx\n",
      "XXX---XXX--XXXXXXXX--XXXXXXXXXXX\n",
      "\n",
      "generated\n",
      "--------------------------------\n",
      "--------------------------------\n",
      "--------------------------------\n",
      "--------------------------------\n",
      "--------------------------------\n",
      "----QQQQ------------------------\n",
      "--------------------------------\n",
      "--------------------------------\n",
      "--------------------------------\n",
      "--QQ?SSQQQ----------------------\n",
      "------------------xxxx----------\n",
      "----xxx----------xx<>-x---------\n",
      "xxxxx--xxxxxxxxxxx-[]-Exxxxxxxxx\n",
      "XXXXX--XXXXXXXXXXXXXXXXXXXXXXXXX\n",
      "\n",
      "original\n",
      "--------------------------------\n",
      "--------------------------------\n",
      "--------------------------------\n",
      "--------------------------------\n",
      "--------------------------------\n",
      "---S----------------------------\n",
      "--------------------------------\n",
      "--------------------------------\n",
      "--------------------xxxxx-------\n",
      "--xxxx------------xxx----x------\n",
      "-xx<>-x----------xx<>-----xx----\n",
      "xx-[]--x------B-xx-[]----<>-x---\n",
      "x--[]---xxxxxxxxx--[]-E--[]--xxx\n",
      "XXXXXXXXXXXXXXXXXXXXXXXXXXXXXXXX\n",
      "\n",
      "generated\n",
      "--------------------------------\n",
      "--------------------------------\n",
      "--------------------------------\n",
      "--------------------------------\n",
      "--------------------------------\n",
      "--------------------------------\n",
      "--------------------------------\n",
      "-----xxxxx----xxxxx----xxxxx----\n",
      "---xxx----x-xxx----x-xxx----x---\n",
      "--xx<>-----xx<>-----xx<>-----xx-\n",
      "-xx-[]----E<>[]----E<>[]----<>-x\n",
      "xx--[]---<>[][]---<>[][]----[]--\n",
      "x---[]---[][][]---[][][]----[]--\n",
      "XXXXXXXXXXXXXXXXXXXXXXXXXXXXXXXX\n",
      "\n",
      "original\n",
      "--------------------------------\n",
      "--------------------------------\n",
      "--------------------------------\n",
      "--------------------------------\n",
      "E-------------------------------\n",
      "SSSSSS---SSSQ--------------?----\n",
      "--------------------------------\n",
      "--------------------------------\n",
      "--------------------------------\n",
      "------------S-----SS----Q--Q--Q-\n",
      "--------------------------------\n",
      "---xxxxx------------------------\n",
      "xxxx----xxxxxxxxxxxxxxxxxxxxxxxx\n",
      "XXXX---XXXXXXXXXXXXXXXXXXXXXXXXX\n",
      "\n",
      "generated\n",
      "--------------------------------\n",
      "--------------------------------\n",
      "SSSSSSSSSSSSSSSSSSSSSSSSSSSSSSSS\n",
      "-------SS--SSSSSS--SSSS------SSS\n",
      "-------SS--SSSSSS--SSSS--E---SSS\n",
      "S----SS--------SS---S----SS-----\n",
      "-----SS--------SS---S----SS-----\n",
      "-----SS--------SS---S----SS-----\n",
      "-----SS----ooooSS---So??-SS---E-\n",
      "-----SSSS--SSSSSS---SSS--SS--SSS\n",
      "-------SS-------------------EE--\n",
      "-------SS-----------------------\n",
      "xxxxxxxxxxxxxxxxxxxxxxxxxxxxxxxx\n",
      "XXXXXXXXXXXXXXXXXXXXXXXXXXXXXXXX\n",
      "\n",
      "original\n",
      "--------------------------------\n",
      "xxxxxxxxxxxxxxxxxxxxxxxxxxxxxxxx\n",
      "SSSSSSSSSSSSSSSSSSSSSSSSSSSSSSSS\n",
      "--------------------------------\n",
      "--------------------------------\n",
      "------E-------------------------\n",
      "-----<>-------------------------\n",
      "-----[]-------------------------\n",
      "-----[]-------S-----------------\n",
      "E--SS[]SS---E----E--------------\n",
      ">----[]----<>---<>-------------X\n",
      "]----[]----[]---[]------------XX\n",
      "]-E--[]----[]---[]--------E-E-XX\n",
      "XXXXXXXXXXXXXXXXXXXXXXXXXXXXXXXX\n",
      "\n",
      "generated\n",
      "--------------------------------\n",
      "xxxxxxxxxxxxxxxxxxxxxxxxxxxxxxxx\n",
      "SSSSSSSSSSSSSSxSSSSSSSSSSSSSSSSS\n",
      "--------------Q-----------------\n",
      "--------------------------------\n",
      "------E-----------E-----------E-\n",
      "-----<>----------<>----------<>-\n",
      "-----[]----------[]----------[]-\n",
      "-----[]----------[]----------[]-\n",
      "E--SS[]SS---E---S[]SS---E--SS[]S\n",
      ">----[]----<>----[]----<>----[]-\n",
      "]----[]----[]----[]----[]----[]-\n",
      "]-E--[]----[]--E-[]----[]-E--[]-\n",
      "XXXXXXXXXXXXXXXXXXXXXXXXXXXXXXXX\n",
      "\n",
      "original\n",
      "--------------------------------\n",
      "--------------------------------\n",
      "--------------------------------\n",
      "--------------------------------\n",
      "--------------------------------\n",
      "--------------------------------\n",
      "--------------------------------\n",
      "--------------------------------\n",
      "--------------------------------\n",
      "----xxx-------------------------\n",
      "---xxX-x------------------------\n",
      "B-xx-X--x-----------------------\n",
      "xxx--X---xxxxxxxxxxxxxxxxxxxxxxx\n",
      "XXX--XXXXXXXXXXXXXXXXXXXXXXXXXXX\n",
      "\n",
      "generated\n",
      "--------------------------------\n",
      "--------------------------------\n",
      "--------------------------------\n",
      "--------------------------------\n",
      "---------------E----------------\n",
      "-------------SSSSSSSS---SSSQ----\n",
      "--------------------------------\n",
      "------------E-------------------\n",
      "--o-----------------------------\n",
      "---o------S?S--------------S----\n",
      "--------------------------------\n",
      "B-----------------xxxxx---------\n",
      "xxxxxxxxxxxxxxxxxxx----xxxxxxxxx\n",
      "XXXXXXXXXXXXXXXXXXX---XXXXXXXXXX\n",
      "\n",
      "original\n",
      "--------------------------------\n",
      "--------------------------------\n",
      "--------------------------------\n",
      "--------------------------------\n",
      "xxxx----------------------------\n",
      "SSS-x---------------------------\n",
      "-----x--------------------------\n",
      "-----Ex-------------------------\n",
      "----<>-x------------------------\n",
      "-E--[]--x------------------xxx--\n",
      "<>--[]---x----------------xxX-x-\n",
      "[]--[]----x-xxxxx-------Exx-X--x\n",
      "[]--[]-----xx----xxxxxxxxx--X---\n",
      "XXXXXXXXXXXXX---XXXXXXXXXX--XXXX\n",
      "\n",
      "generated\n",
      "--------------------------------\n",
      "------xx------------------------\n",
      "-----xx-x-----------------------\n",
      "----xx---x----xxxxx-------------\n",
      "xxxxx-----xxxxx----x------------\n",
      "SSSSS-----SSSSS-----xxxx--------\n",
      "---------------------x--x-------\n",
      "--------------------<>---x------\n",
      "--------------------[]----xo----\n",
      "--------------ES----[]-----x----\n",
      "-E------E----<>---E-[]------x---\n",
      "<>-----<>----[]--<>-[]-------x--\n",
      "[]-----[]----[]--[]-[]--------xx\n",
      "XXXXXXXXXXXXXXXXXXXXXXXXXXXXXXXX\n",
      "\n",
      "original\n",
      "--------------------------------\n",
      "--------------------------------\n",
      "--------------------------------\n",
      "--------------------------------\n",
      "--------xxxxxxxxxx--------------\n",
      "--------xSSSSSSSS-x-------------\n",
      "--------x----------x------------\n",
      "--------x-----------x-----------\n",
      "-------xx------------x----------\n",
      "------xxX----S----X---x---------\n",
      "-----xx-X------E--X----x--E-----\n",
      "----xx--X---------X-----xxxxxxxx\n",
      "xxxxxE--X---------X------x----x-\n",
      "XXXXXXXXXXXXXXXXXXXXXXXX-X-XX-X-\n",
      "\n",
      "generated\n",
      "--------------------------------\n",
      "--------------------------------\n",
      "--------------------------------\n",
      "--------------------------------\n",
      "---------------------xxxxxxxxxx-\n",
      "---------------------xSSSSSSSS-x\n",
      "---------------------x----------\n",
      "---------------------x----------\n",
      "--------------------xx----------\n",
      "-------xxxx--------xxX----S----X\n",
      "------xx<>-x------xx-X------E--X\n",
      "-----xx-[]--x----xx--X---------X\n",
      "xxxxxx--[]---xxxxxE--X---------X\n",
      "XXXXXXXXXXXXXXXXXXXXXXXXXXXXXXXX\n",
      "\n",
      "original\n",
      "--------------------------------\n",
      "--------------------------------\n",
      "--------------------------------\n",
      "--------------------------------\n",
      "------oooo----------E------xxx--\n",
      "------XXXX----------xxxxxxxx--xo\n",
      "-------------------xx-XXXXXX---x\n",
      "------------------xx------------\n",
      "x--------------xxxx-------------\n",
      "-xxxxxx-------xxXXX-------------\n",
      "-XXXX?-x-----xx-----------------\n",
      "--------xxxxxx------------------\n",
      "---------x--x-------------------\n",
      "-----XXXXX-XXXXX----------------\n",
      "\n",
      "generated\n",
      "-------------------------------\n",
      "-------------------------------\n",
      "-------------------------------\n",
      "---------xxx-------------------\n",
      "-xxxxxxxxx--x---------oooo-----\n",
      "-x-XXXXXXX---x--------XXXX-----\n",
      "------------oox----------------\n",
      "---------------x---------------\n",
      "x---------------x--------------\n",
      "-----------------xxxx---------x\n",
      "-----------------XXXx?-------xx\n",
      "---------------------x---xxxxx-\n",
      "----------------------xxxx--x--\n",
      "-X----------XXXX-----XXXXX-XXXX\n",
      "\n",
      "original\n",
      "--------------------------------\n",
      "--------------------------------\n",
      "----------oo-------xxx----------\n",
      "------------xxxxxxxx--x---------\n",
      "ooo--------xxXXXXXXX---x--------\n",
      "XXXX------xx------------x-------\n",
      "---------xx------------oox------\n",
      "----xxxxxx----------------x-----\n",
      "xxxxx---XXXXX--------------x----\n",
      "XXXXX-----------------------xxxx\n",
      "----------------------------XXXX\n",
      "------o-------------------------\n",
      "-----XXX------------------------\n",
      "-----------------------XXXX-----\n",
      "\n",
      "generated\n",
      "--------------------------------\n",
      "--------------------------------\n",
      "--------------------------------\n",
      "--------------------------------\n",
      "ooX-----------------------------\n",
      "XX-XX--------------------------Q\n",
      "------------------oooo----------\n",
      "xx------------------------------\n",
      "X-x-----------xxxx--------------\n",
      "---x---------xx<>-x----------QQ?\n",
      "----x-------xx-[]--x------------\n",
      "-----x-----xx--[]---x----------x\n",
      "------xxxxxx---[]----xxxxxxxxxxx\n",
      "-----XXXXXXXXXXXXXXXXXXXXXXXXXXX\n",
      "\n",
      "original\n",
      "--------------------------------\n",
      "--------------------------------\n",
      "---------------------------xxxx-\n",
      "--------------------------xx---x\n",
      "-------------------------xx-----\n",
      "S--SQS------------------xx------\n",
      "----------------------xxx-------\n",
      "----------------o-----xXX-------\n",
      "-----------------E----xXX-------\n",
      "S--S?S--------SSSSS--xxXX-------\n",
      "-----------E--E-----xxXXX-------\n",
      "------------------Exx-XXX-------\n",
      "xxxxxxxxxxxxxxxxxxxx--XXX------X\n",
      "XXXXXXXXXXXXXXXXXXXXXXXXX---XXXX\n",
      "\n",
      "generated\n",
      "--------------------------------\n",
      "--------------------------------\n",
      "--------------------------------\n",
      "--------------------------------\n",
      "--------------------------------\n",
      "SQ------------------------------\n",
      "--------------------------------\n",
      "--------------------------------\n",
      "---------------------------E----\n",
      "SQQQ----------------------<>----\n",
      "--------------------------------\n",
      "-------------xxxxx--------------\n",
      "xxxxxxxxxxxxxx----xxxxxxxxxxxxxx\n",
      "XXXXXXXXXXXXXX----XXXXXXXXXXXXXX\n",
      "\n",
      "original\n",
      "--------------------------------\n",
      "--------------------------------\n",
      "--------------------------------\n",
      "--------------------------------\n",
      "--------------------------------\n",
      "-----------------------SSSSS---?\n",
      "--------------------------------\n",
      "--------------------------------\n",
      "--------------------------------\n",
      "------------xxx-----S---E-------\n",
      "-----------xxX-x-------------E--\n",
      "xx-------Exx-X--x---------------\n",
      "--xxxxxxxxx--X---xxxxxxxxxxxxxxx\n",
      "-XXXXXXXXXX--XXXXXXXXXXXXXXXXXXX\n",
      "\n",
      "generated\n",
      "--------------------------------\n",
      "--------------------------------\n",
      "--------------------------------\n",
      "--------------------------------\n",
      "--------------------------------\n",
      "---------------------SSSSS---?--\n",
      "--------------------------------\n",
      "--------------------------------\n",
      "--------------------------------\n",
      "----------xxx-----S---E---------\n",
      "---------xxX-x-------------E---x\n",
      "xx----B-xx-X--x---------------xx\n",
      "--xxxxxxx--X---xxxxxxxxxxxxxxxx-\n",
      "-XXXXXXXX--XXXXXXXXXXXXXXXXXXXXX\n",
      "\n",
      "original\n",
      "----------xxxxxx----------------\n",
      "xxxxxxxxxxx-XXX-xxxxxxxxxxxxxxxx\n",
      "SSSSSSSSSSS-----SSSSSSSSSSSSSSSS\n",
      "----------------SSSSSSSSSSSSSSSS\n",
      "----------------SSSSSSSSSSSSSSSS\n",
      "----------------SSSSSSSSSSSSSSSS\n",
      "----------------S---------------\n",
      "----------------S---------------\n",
      "-----------------?oooooooooo----\n",
      "-----------------??SSSSSSSSS----\n",
      "----------XX-------------------X\n",
      "---------XXXXXX---------------XX\n",
      "--------XXXX------------EE---XXX\n",
      "--XXXXXXXXX-----XXXXXXXXXXXXXXXX\n",
      "\n",
      "generated\n",
      "--------------------------------\n",
      "xxxxxxxxxxxxxxxxxxxxxxxxxxxxxxxx\n",
      "SSSSSSSSSSSSSSSSSSSSSSSSSSSSSSSS\n",
      "--------------------------------\n",
      "--------------------------------\n",
      "----E---------------------------\n",
      "---<>---------------------------\n",
      "---[]---------------------------\n",
      "---[]-------S-------------------\n",
      "-SS[]SS---E----E---------------E\n",
      "---[]----<>---<>--------------<>\n",
      "---[]----[]---[]--------------[]\n",
      "---[]----[]---[]--------E-E-E-[]\n",
      "--XXXXXXXXXXXXXXXXXXXXXXXXXXXXXX\n",
      "\n",
      "original\n",
      "--------------------------------\n",
      "--------------------------------\n",
      "--------------------------------\n",
      "--------------------------------\n",
      "--------------------------------\n",
      "--------------------------------\n",
      "--------------------------------\n",
      "--------------------------------\n",
      "---------------------------xxxx-\n",
      "--------------------------xx<>-x\n",
      "-------------------------xx-[]--\n",
      "------------------------xx--[]--\n",
      "----xxxxxxxxxxxxxxxxxxxxxE--[]--\n",
      "XXXXXXXXXXXXXXXXXXXXXXXXXXXXXXXX\n",
      "\n",
      "generated\n",
      "--------------------------------\n",
      "--------------------------------\n",
      "--------------------------------\n",
      "--------------------------------\n",
      "--------------------------------\n",
      "-----------Q-Q------------------\n",
      "--------------------------------\n",
      "--------------------------------\n",
      "--------------------------------\n",
      "-----------Q-Q------------------\n",
      "--------------------------------\n",
      "------------------------xxxxx---\n",
      "---xxxxxxxxxxxxxxxxxxxxxx----xxx\n",
      "XXXXXXXXXXXXXXXXXXXXXXXXX----XXX\n",
      "\n",
      "original\n",
      "--------------------------------\n",
      "--------------------------------\n",
      "--------------------------------\n",
      "--------------------------------\n",
      "--------------------------------\n",
      "--------------------------------\n",
      "--------------------------------\n",
      "--------------------------------\n",
      "--------------------------------\n",
      "--------------------------------\n",
      "--------------------------------\n",
      "--------------------------------\n",
      "-xxxxxxxxxxxxxxxxxxxxxxxxxxxxxxx\n",
      "XXXXXXXXXXXXXXXXXXXXXXXXXXXXXXXX\n",
      "\n",
      "generated\n",
      "--------------------------------\n",
      "--------------------------------\n",
      "--------------------------------\n",
      "--------------------------------\n",
      "--------------------------------\n",
      "-------------------Q------------\n",
      "--------------------------------\n",
      "--------------------------------\n",
      "--------------------------------\n",
      "-------------------Q------------\n",
      "--------------------------------\n",
      "------------------------------B-\n",
      "-xxxxxxxxxxxxxxxxxxxxxxxxxxxxxxx\n",
      "XXXXXXXXXXXXXXXXXXXXXXXXXXXXXXXX\n",
      "\n",
      "original\n",
      "--------------------------------\n",
      "--------------------------------\n",
      "--------------------------------\n",
      "--------------------------------\n",
      "--------------------------------\n",
      "--------------------------------\n",
      "--------------------------------\n",
      "-------------------------------<\n",
      "---------------------xxxxxx----[\n",
      "--------------------xxXSSS-x---X\n",
      "-------------------xx-X-----x---\n",
      "------------------xx--X------x--\n",
      "xxxxxxxxxxxxxxxxxxxE-EX-------xx\n",
      "XXXXXXXXXXXXXXXXXXXXXXXXXXX---XX\n",
      "\n",
      "generated\n",
      "--------------------------------\n",
      "--------------------------------\n",
      "--------------------------------\n",
      "--------------------------------\n",
      "--------------------------------\n",
      "--------------Q-Q-----------S---\n",
      "--------------------------------\n",
      "--------------------------------\n",
      "--------------------------------\n",
      "--------------Q-Q---------------\n",
      "--------------------------------\n",
      "---------------------------xxxxx\n",
      "xxxxxxxxxxxxxxxxxxxxxxxxxxxx----\n",
      "XXXXXXXXXXXXXXXXXXXXXXXXXXXX----\n",
      "\n",
      "original\n",
      "--------------------------------\n",
      "--------------------------------\n",
      "SSSSSSSSSSSSSSSSSSSS------------\n",
      "--------------------------------\n",
      "----------------------XXX-------\n",
      "--------------------------------\n",
      "--------------------------------\n",
      "--------------------------------\n",
      "-----------------xxxxx-----SSSSS\n",
      "---xxxx---------xxXXX-xxxx------\n",
      "--xxSS-x-------xxEXXX-XXX-x-----\n",
      "xxx-SS--x-----xxXXXXX------x----\n",
      "-x--SS---xxxxxxXXXXXX-------xxxx\n",
      "XX--XX--XXXXXXXXXXXX-------XXXXX\n",
      "\n",
      "generated\n",
      "--------------------------------\n",
      "--------------------------------\n",
      "SSSSSSSSSSSSSSSSSSSSSSSSSSSSSSSS\n",
      "------SSSSSSSSSSSSSSSSSSSSSSSSSS\n",
      "------SSSSSSSSSSSSSSSSSSSSSSSSSS\n",
      "------SSSSSSSSSSSSSSSSSSSSSSSSSS\n",
      "--------------------------------\n",
      "-------------xxx----------------\n",
      "------xxxxxxxx?-xxxxxxxxxxxxxxxx\n",
      "-----xx-SSSSSS??SSSSSSSSSSSSSSSS\n",
      "----xx--SSSSS---SSSSSSSSSSSSSSSS\n",
      "xxxxx---SSSSS---SSSSSSSSSSSSSSSS\n",
      "x--x---------oooSSSSSSSSSSSSSSSS\n",
      "X--X---XXXXXXXXXXXXXXXXXXXXXXXXX\n",
      "\n",
      "original\n",
      "--------------------------------\n",
      "----------------xxxxxxxxxxxxxxxx\n",
      "SSSSSSS--------xxSSSSSSSSSSSSSSS\n",
      "--------------xx----------------\n",
      "---------XXX-xx-----------------\n",
      "QQ------xxxx-xSSS------------E--\n",
      "-------xx---xx--------------<>--\n",
      "-xxx--xx-----xS-------------[]--\n",
      "xx--xxx------S-S------------[]--\n",
      "QQ--QQQ---------S------E--SS[]SS\n",
      "----------------------<>----[]--\n",
      "----------------------[]----[]--\n",
      "----------------------[]-E--[]--\n",
      "XXXXXXX------XXXXXXXXXXXXXXXXXXX\n",
      "\n",
      "generated\n",
      "--------------------------------\n",
      "--------xxxxxxxxxxxxxxxxxxxxxxxx\n",
      "SSSS---xxSSSSSSSSSSSSSSSSSSSSSSS\n",
      "------xx------------------------\n",
      "-?---xx-------------------------\n",
      "S??-xx--------------------------\n",
      "---xxXXX------------------------\n",
      "--xx----------------------------\n",
      "xxx---------------------E-------\n",
      "SSSS----------------E--<>-------\n",
      "-------------E-----<>--[]-------\n",
      "------------<>-----[]--[]-------\n",
      "------------[]---E-[]--[]-------\n",
      "XXXX------XXXXXXXXXXXXXXX--XXXXX\n",
      "\n",
      "original\n",
      "--------------------------------\n",
      "--------------------------------\n",
      "--------------------------------\n",
      "--------------------------------\n",
      "--------------------------------\n",
      "-----------------------------Q-Q\n",
      "--------------------------------\n",
      "--------------------------------\n",
      "-------oo-----------------------\n",
      "------o--o-------------------Q-Q\n",
      "--------------------------------\n",
      "--------------------------------\n",
      "xxxxxxxxxxxxxxxxxxxxxxxxxxxxxxxx\n",
      "XXXXXXXXXXXXXXXXXXXXXXXXXXXXXXXX\n",
      "\n",
      "generated\n",
      "--------------------------------\n",
      "--------------------------------\n",
      "--------------------------------\n",
      "--------------------------------\n",
      "--------------------------------\n",
      "--------------------------------\n",
      "--------------------------------\n",
      "--------------------------------\n",
      "------oo------------------------\n",
      "-----o--o------------E--S-------\n",
      "--------------------<>---------E\n",
      "------------------------------<>\n",
      "xxxxxxxxxxxxxxxxxxxxxxxxxxxxxxxx\n",
      "XXXXXXXXXXXXXXXXXXXXXXXXXXXXXXXX\n",
      "\n",
      "original\n",
      "--------------------------------\n",
      "--------------------------------\n",
      "-----------------xxxx-----------\n",
      "----------------xx---x----------\n",
      "---------------xx-----x----xxxxx\n",
      "--------------xx-------x--xxXXX-\n",
      "------------xxx---------xxxXXXX-\n",
      "------o-----xXX----------xEXXXX-\n",
      "-------E----xXX----------XXXXXX-\n",
      "----SSSSS--xxXX---------XXXXXXX-\n",
      "-E--E-----xxXXX-------EXXXXXXXX-\n",
      "--------Exx-XXX-------XXXXXXXXX-\n",
      "xxxxxxxxxx--XXX------XXXXXXXXXX-\n",
      "XXXXXXXXXXXXXXX---XXXXXXXXXXXXXX\n",
      "\n",
      "generated\n",
      "--------------------------------\n",
      "--------------------------------\n",
      "--------------------------------\n",
      "--------------------------------\n",
      "--------------------------------\n",
      "-------------------------------S\n",
      "--------------------------------\n",
      "-----------------o--------------\n",
      "-E----------------------E-------\n",
      "-ES-------xxxxx-SSE----<>------S\n",
      "---------xx-<>-x-->-------------\n",
      "----B---xx--[]--x---------------\n",
      "xxxxxxxxx---[]---xxxxxxxxxxxxxxx\n",
      "XXXXXXXXX--XXXXXXXXXXXXXXXXXXXXX\n",
      "\n",
      "original\n",
      "--------------------------------\n",
      "--------------------------------\n",
      "---------------ooo--------------\n",
      "---------------XXXX-------------\n",
      "--------xxxx--------------------\n",
      "-XXoo--xxXX-x-------------------\n",
      "------xx-----x------------------\n",
      "xxxxxxx-------x-----------------\n",
      "x----x---------x----XXXX------oo\n",
      "X----XX-----XX--xxxxxx----------\n",
      "---------------XXXXXX-x---------\n",
      "-----------------------x-------x\n",
      "------------------------xxxxxxxx\n",
      "-----------------------XXXXXXXXX\n",
      "\n",
      "generated\n",
      "-------------------------------\n",
      "-------------------------------\n",
      "-o-------xxx-------------------\n",
      "--xxxxxxxx--x------------------\n",
      "-xxXXXXXXX---x---------oooo----\n",
      "-x------------x--------XXXX----\n",
      "-------------oox---------------\n",
      "x---------------x--------------\n",
      "xXX--------------x-------------\n",
      "X-----------------xxxx---------\n",
      "------------------XXXx?-------x\n",
      "----------------------x---xxxxx\n",
      "-----------------------xxxx--x-\n",
      "-------------XXXX-----XXXXX-XXX\n",
      "\n",
      "original\n"
     ]
    },
    {
     "name": "stdout",
     "output_type": "stream",
     "text": [
      "--------------------------xxxxxx\n",
      "xxxxxxxxxxxxxxxxxxxxxxxxxxx-XXX-\n",
      "SSSSSSSSSSSSSSSSSSSSSSSSSSS-----\n",
      "--------------------------------\n",
      "--------------------------------\n",
      "--------------------------------\n",
      "--------------------------------\n",
      "--------------------------------\n",
      "---------------E----------------\n",
      "-----------E--<>----------------\n",
      "----E-----<>--[]----------XX----\n",
      "---<>-----[]--[]---------XXXXXX-\n",
      "---[]---E-[]--[]--------XXXX----\n",
      "-XXXXXXXXXXXXXXX--XXXXXXXXX-----\n",
      "\n",
      "generated\n",
      "--------------------------------\n",
      "xxxxxxxxxxxxxxxxxxxxxxxxxxxxxxxx\n",
      "SSSSSSSSSSSSSSSSSSSSSSSSSSSSSSSS\n",
      "--------------------------------\n",
      "--------------------------------\n",
      "---E----------------------------\n",
      "--<>----------------------------\n",
      "--[]----------------------------\n",
      "--[]-------S--------------------\n",
      "-S[]SS---E----E----------------<\n",
      "--[]----<>---<>-------------XX-[\n",
      "--[]----[]---[]------------XXX-[\n",
      "E-[]----[]---[]--------E-E-XXX-[\n",
      "XXXXXXXXXXXXXXXXXXXXXXXXXXXXX--X\n",
      "\n",
      "original\n",
      "--------------------------------\n",
      "--------------------------------\n",
      "--------------------------------\n",
      "---------o----------------------\n",
      "--------XXX---------------------\n",
      "------------o------o-o----XXX---\n",
      "-o---o------XXXX----------------\n",
      "XXX-XXX-----------xxxxxx--xxx---\n",
      "-----------------xxXXXX-xxx--xxx\n",
      "-------------xx-xx------XXX-XXX-\n",
      "------------xx-xx---------------\n",
      "-----------xx--XXXX-------------\n",
      "xxxxxxxxxxxx--------------------\n",
      "XXXXXXXXXXXX--------------------\n",
      "\n",
      "generated\n",
      "--------------------------------\n",
      "--------------------------------\n",
      "--------------------------------\n",
      "---------o----------------------\n",
      "--------XXX-----------------E---\n",
      "------------o------o-o------xxxx\n",
      "-o---o------XXXX-----------xx-XX\n",
      "XXX-XXX-----------xxxxxx--xx----\n",
      "-----------------xxXXXX-xxx-----\n",
      "-------------xx-xx------XXX-----\n",
      "------------xx-xx---------------\n",
      "-----------xx--XXXX-------------\n",
      "xxxxxxxxxxxx--------------------\n",
      "XXXXXXXXXXXX--------------------\n",
      "\n",
      "original\n",
      "--------------------------------\n",
      "--------------------------------\n",
      "--------------------------------\n",
      "---------------------------xxx--\n",
      "-------------------------xxx--x-\n",
      "----oo------------------xxXX---x\n",
      "------------XX---------xx-XX----\n",
      "---xxx----------------xxXXXX----\n",
      "xxxx--xxxxx----------xx-XXXX----\n",
      "XXXX--XXXX-x--------xxXXXXXX----\n",
      "------------x------xx-XXXXXX----\n",
      "-------------x----xx--XXXXXX----\n",
      "--------------xxxxx---XXXXXX----\n",
      "-------------XXXXXXXXXXXXXXXXXXX\n",
      "\n",
      "generated\n",
      "--------------------------------\n",
      "--------------------------------\n",
      "--------------------------------\n",
      "--------------------------------\n",
      "--------------------------------\n",
      "--------------------------------\n",
      "--------------------------------\n",
      "--------------------------------\n",
      "xxxxx-------------oo------------\n",
      "XXXX-x-----------xxxx-----------\n",
      "------x---------xx---x---------x\n",
      "-------x-------xx-----x-------xx\n",
      "--------xxxxxxxx-------xxxxxxxx-\n",
      "------XXXXXXXXXX------XXXXXXXXXX\n",
      "\n",
      "original\n",
      "--------------------------------\n",
      "--------------------------------\n",
      "--------------------------------\n",
      "--------------------------------\n",
      "--------------------------------\n",
      "-E--S---SSSSSSSSS------------SS-\n",
      "<>------------------------------\n",
      "[]------------------------------\n",
      "[]------------xxxx---------SS---\n",
      "XXS----------xx--xxx-xxx--------\n",
      "---xxxx-----xx------xx--xxx-----\n",
      "--xx<>-x---xx-------<>--<>-x-xxx\n",
      "xxx-[]--xxxx--------[]--[]--xx--\n",
      "XXXXXXXXXXXX------XXXXXXXXXXXX-X\n",
      "\n",
      "generated\n",
      "--------------------------------\n",
      "--------------------------------\n",
      "--------------------------------\n",
      "--------------------------------\n",
      "--------------------------------\n",
      "-E------------------------------\n",
      "<>------------------------------\n",
      "[]------xxxxx----xxxxx----xxxxx-\n",
      "[]----xxx----x-xxx----x-xxx----x\n",
      "XXX--xx<>-----xx<>-----xx<>-----\n",
      "----xx-[]----E<>[]----E<>[]----<\n",
      "---xx--[]---<>[][]---<>[][]----[\n",
      "xxxx---[]---[][][]---[][][]----[\n",
      "XXXXXXXXXXXXXXXXXXXXXXXXXXXXXXXX\n",
      "\n"
     ]
    }
   ],
   "source": [
    "for b,g in enumerate(best_samples):\n",
    "    print('original')\n",
    "    print(prettify(''.join([i2v[t.item()] for t in input_sequence[b,:]])))\n",
    "    print('generated')\n",
    "    print(g)"
   ]
  },
  {
   "cell_type": "code",
   "execution_count": 268,
   "metadata": {},
   "outputs": [
    {
     "name": "stdout",
     "output_type": "stream",
     "text": [
      "/home/bizon/Research/SequenceBasedLevelGeneration\r\n"
     ]
    }
   ],
   "source": [
    "!pwd"
   ]
  },
  {
   "cell_type": "code",
   "execution_count": null,
   "metadata": {},
   "outputs": [],
   "source": []
  }
 ],
 "metadata": {
  "kernelspec": {
   "display_name": "Python 3",
   "language": "python",
   "name": "python3"
  },
  "language_info": {
   "codemirror_mode": {
    "name": "ipython",
    "version": 3
   },
   "file_extension": ".py",
   "mimetype": "text/x-python",
   "name": "python",
   "nbconvert_exporter": "python",
   "pygments_lexer": "ipython3",
   "version": "3.7.4"
  }
 },
 "nbformat": 4,
 "nbformat_minor": 2
}
